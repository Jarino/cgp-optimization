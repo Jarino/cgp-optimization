{
 "cells": [
  {
   "cell_type": "markdown",
   "metadata": {},
   "source": [
    "# Effects of not applying tabu moves"
   ]
  },
  {
   "cell_type": "code",
   "execution_count": 1,
   "metadata": {},
   "outputs": [],
   "source": [
    "import random\n",
    "\n",
    "import numpy as np\n",
    "from sklearn.metrics import mean_squared_error\n",
    "import matplotlib.pyplot as plt\n",
    "import seaborn as sns\n",
    "\n",
    "import tengp\n",
    "from gpbenchmarks import get_data\n",
    "\n",
    "def pdivide(x, y):\n",
    "    return np.divide(x, y, out=np.copy(x), where=x!=0)\n",
    "\n",
    "def plog(x):\n",
    "    return np.log(x, out=np.copy(x), where=x>0)\n",
    "\n",
    "\n",
    "\n",
    "funset = tengp.FunctionSet()\n",
    "funset.add(np.add, 2)\n",
    "funset.add(np.subtract, 2)\n",
    "funset.add(np.multiply, 2)\n",
    "funset.add(pdivide, 2)\n",
    "funset.add(plog, 1)\n",
    "funset.add(np.sin, 1)\n",
    "funset.add(np.cos, 1)\n",
    "\n",
    "params1d = tengp.Parameters(2, 1, 1, 100, funset)\n",
    "params2d = tengp.Parameters(3, 1, 1, 100, funset)\n",
    "\n",
    "#functions = [f'nguyenf{i}' for i in range(1,9)]\n",
    "functions = [('nguyenf4', params1d, [20, -1, 1]), ('nguyenf7', params1d, [20, 0, 2]), ('nguyenf10', params2d, [100, -1, 1])]\n",
    "\n",
    "TRIALS = 50"
   ]
  },
  {
   "cell_type": "code",
   "execution_count": 2,
   "metadata": {},
   "outputs": [],
   "source": [
    "MUTATIONS = tengp.mutations.MUTATIONS\n",
    "\n",
    "@tengp.utils.handle_invalid_decorator\n",
    "def tabu_es(X, y, cost_function, params,\n",
    "            target_fitness=0,\n",
    "            population_size=5,\n",
    "            evaluations=5000,\n",
    "            random_state=None,\n",
    "            mutation='point',\n",
    "            mutation_probability=0.25,\n",
    "            memory_size=10,\n",
    "            verbose=False):\n",
    "\n",
    "    if mutation not in MUTATIONS:\n",
    "        raise UnknownMutationException(\"Provided type of mutation is not implemented.\")\n",
    "\n",
    "    move = MUTATIONS[mutation]\n",
    "    if mutation == 'probabilistic':\n",
    "        move = partial(move, probability=mutation_probability)\n",
    "\n",
    "    if random_state:\n",
    "        random.seed(random_state)\n",
    "\n",
    "    # initialize memory\n",
    "    memory = []\n",
    "    memory_hits = 0\n",
    "\n",
    "    # initial generation\n",
    "    ib = tengp.individual.IndividualBuilder(params)\n",
    "\n",
    "    population = [ib.create() for _ in range(population_size)]\n",
    "\n",
    "    n_evals = 0\n",
    "    \n",
    "    stats = {\n",
    "        'memory_hits': 0,\n",
    "        'better_after': 0,\n",
    "        'worse_after': 0\n",
    "    }\n",
    "\n",
    "    generation = 0\n",
    "\n",
    "    for individual in population:\n",
    "        output = individual.transform(X)\n",
    "        individual.fitness = cost_function(y, output)\n",
    "        n_evals += 1\n",
    "\n",
    "    while n_evals < evaluations:\n",
    "        generation += 1\n",
    "\n",
    "        parent = min(population, key=lambda x: x.fitness)\n",
    "\n",
    "        if parent.fitness <= target_fitness:\n",
    "            return population\n",
    "\n",
    "        population = []\n",
    "\n",
    "\n",
    "        for _ in range(population_size -1):\n",
    "            _move = move(parent)\n",
    "\n",
    "            while _move in memory:\n",
    "                stats['memory_hits'] += 1\n",
    "                _move = move(parent)\n",
    "                output = parent.apply(_move).transform(X)\n",
    "                fitness = cost_function(y, output)\n",
    "                if fitness < parent.fitness:\n",
    "                    stats['better_after'] += 1\n",
    "                elif fitness > parent.fitness:\n",
    "                    stats['worse_after'] += 1\n",
    "                \n",
    "\n",
    "            individual = parent.apply(_move)\n",
    "\n",
    "            if individual == parent:\n",
    "                continue\n",
    "\n",
    "            if len(memory) > memory_size:\n",
    "                del memory[0]\n",
    "\n",
    "            memory.append(_move)\n",
    "\n",
    "            population.append(parent.apply(_move))\n",
    "\n",
    "\n",
    "        for individual in population:\n",
    "            if individual == parent:\n",
    "                individual.fitness = parent.fitness\n",
    "                continue\n",
    "            output = individual.transform(X)\n",
    "            individual.fitness = cost_function(y, output)\n",
    "            n_evals += 1\n",
    "\n",
    "        population += [parent]\n",
    "\n",
    "        if verbose and generation % 100 == 0:\n",
    "            print(f'Gen: {generation}, population: {sorted([x.fitness for x in population])}')\n",
    "\n",
    "    population.sort(key=lambda x: x.fitness)\n",
    "    return population, stats\n"
   ]
  },
  {
   "cell_type": "code",
   "execution_count": 11,
   "metadata": {},
   "outputs": [
    {
     "name": "stdout",
     "output_type": "stream",
     "text": [
      "0,"
     ]
    },
    {
     "name": "stderr",
     "output_type": "stream",
     "text": [
      "/home/jarino/anaconda3/lib/python3.6/site-packages/ipykernel_launcher.py:12: RuntimeWarning: divide by zero encountered in true_divide\n",
      "  if sys.path[0] == '':\n",
      "/mnt/c/Users/jarinov-notas/dev/tengp/tengp/individual.py:116: RuntimeWarning: invalid value encountered in multiply\n",
      "  current_node.value = current_node.fun(*values)\n",
      "/home/jarino/anaconda3/lib/python3.6/site-packages/numpy/core/_methods.py:32: RuntimeWarning: invalid value encountered in reduce\n",
      "  return umr_sum(a, axis, dtype, out, keepdims)\n",
      "/mnt/c/Users/jarinov-notas/dev/tengp/tengp/individual.py:116: RuntimeWarning: invalid value encountered in sin\n",
      "  current_node.value = current_node.fun(*values)\n",
      "/mnt/c/Users/jarinov-notas/dev/tengp/tengp/individual.py:116: RuntimeWarning: invalid value encountered in cos\n",
      "  current_node.value = current_node.fun(*values)\n",
      "/home/jarino/anaconda3/lib/python3.6/site-packages/ipykernel_launcher.py:15: RuntimeWarning: invalid value encountered in greater\n",
      "  from ipykernel import kernelapp as app\n"
     ]
    },
    {
     "name": "stdout",
     "output_type": "stream",
     "text": [
      "1,2,"
     ]
    },
    {
     "name": "stderr",
     "output_type": "stream",
     "text": [
      "/mnt/c/Users/jarinov-notas/dev/tengp/tengp/individual.py:116: RuntimeWarning: invalid value encountered in add\n",
      "  current_node.value = current_node.fun(*values)\n"
     ]
    },
    {
     "name": "stdout",
     "output_type": "stream",
     "text": [
      "3,4,5,"
     ]
    },
    {
     "name": "stderr",
     "output_type": "stream",
     "text": [
      "/mnt/c/Users/jarinov-notas/dev/tengp/tengp/individual.py:116: RuntimeWarning: invalid value encountered in subtract\n",
      "  current_node.value = current_node.fun(*values)\n",
      "/home/jarino/anaconda3/lib/python3.6/site-packages/ipykernel_launcher.py:12: RuntimeWarning: invalid value encountered in true_divide\n",
      "  if sys.path[0] == '':\n"
     ]
    },
    {
     "name": "stdout",
     "output_type": "stream",
     "text": [
      "6,7,8,9,10,11,12,13,14,15,16,17,18,19,20,21,22,23,24,25,26,27,28,29,30,31,32,33,34,35,36,37,38,39,40,41,42,43,44,45,46,47,48,49,0,1,2,3,4,5,6,7,8,9,10,11,12,13,14,15,16,17,18,19,20,21,22,23,24,25,26,27,28,29,30,31,32,33,34,35,36,37,38,39,40,41,42,43,44,45,46,47,48,49,0,1,2,3,4,5,6,7,8,9,10,11,"
     ]
    },
    {
     "ename": "ValueError",
     "evalue": "too many values to unpack (expected 2)",
     "output_type": "error",
     "traceback": [
      "\u001b[0;31m---------------------------------------------------------------------------\u001b[0m",
      "\u001b[0;31mValueError\u001b[0m                                Traceback (most recent call last)",
      "\u001b[0;32m<timed exec>\u001b[0m in \u001b[0;36m<module>\u001b[0;34m()\u001b[0m\n",
      "\u001b[0;31mValueError\u001b[0m: too many values to unpack (expected 2)"
     ]
    }
   ],
   "source": [
    "%%time\n",
    "\n",
    "random.seed(0)\n",
    "\n",
    "ts_results = []\n",
    "\n",
    "for function in functions:\n",
    "    trial_results = []\n",
    "    for trial in range(TRIALS):\n",
    "        print(trial, end=',')\n",
    "        X, y = get_data(function[0], *function[2])\n",
    "        X = np.c_[np.ones(len(X)), X]\n",
    "        population, stats = tabu_es(X, y, mean_squared_error, function[1], mutation='single', memory_size=1000)\n",
    "        trial_results.append((population[0].fitness, stats['memory_hits'], stats['better_after'], stats['worse_after']))\n",
    "    ts_results.append(trial_results)\n",
    "    "
   ]
  },
  {
   "cell_type": "code",
   "execution_count": 10,
   "metadata": {},
   "outputs": [
    {
     "data": {
      "text/plain": [
       "[[(0.0056868445327356975, 103, 0, 99),\n",
       "  (0.004448076656628229, 177, 1, 166),\n",
       "  (0.04096606444930617, 113, 0, 105),\n",
       "  (0.023387360592215283, 179, 1, 152),\n",
       "  (0.011116881371513409, 208, 0, 171),\n",
       "  (0.011915601050722901, 188, 0, 169),\n",
       "  (0.03420129797931197, 150, 1, 132),\n",
       "  (0.005871946376804391, 93, 0, 93),\n",
       "  (0.0061395392318011255, 161, 0, 138),\n",
       "  (0.19658755854075075, 242, 0, 216),\n",
       "  (0.3315787877962767, 188, 0, 163),\n",
       "  (0.039592778881985244, 166, 2, 146),\n",
       "  (0.058459978795153446, 248, 2, 212),\n",
       "  (0.04065778191104184, 127, 1, 109),\n",
       "  (0.39543164993065977, 187, 0, 157),\n",
       "  (0.012366140005544434, 174, 0, 152),\n",
       "  (0.1280160306535343, 118, 1, 105),\n",
       "  (0.044916596730138966, 181, 0, 151),\n",
       "  (0.03567587642600943, 195, 1, 167),\n",
       "  (0.016812285044496028, 116, 0, 116),\n",
       "  (0.017364028339030654, 125, 0, 79),\n",
       "  (0.18253351158857745, 148, 1, 129),\n",
       "  (0.014923487129204905, 268, 0, 221),\n",
       "  (0.08833750389838071, 125, 0, 104),\n",
       "  (0.11430282142271841, 187, 1, 170),\n",
       "  (0.046582615616139356, 154, 1, 140),\n",
       "  (0.008599185519128315, 156, 0, 142),\n",
       "  (0.0434308583573742, 153, 0, 142),\n",
       "  (0.10107465353449634, 178, 2, 163),\n",
       "  (0.005871946376804353, 173, 0, 172),\n",
       "  (0.005871946376804371, 173, 1, 166),\n",
       "  (0.004152006931452132, 197, 0, 169),\n",
       "  (0.29653174680808936, 223, 1, 189),\n",
       "  (5.338918547084466e-32, 126, 0, 124),\n",
       "  (0.008986302998878551, 146, 0, 129),\n",
       "  (0.02538713006146869, 276, 3, 249),\n",
       "  (0.006150343902513301, 225, 0, 212),\n",
       "  (0.005871946376804385, 111, 0, 107),\n",
       "  (0.007622820802969848, 173, 0, 154),\n",
       "  (0.20711474261344534, 199, 0, 166),\n",
       "  (0.09253583603923687, 134, 3, 122),\n",
       "  (0.04096606444930617, 119, 0, 117),\n",
       "  (0.009732305851346311, 297, 1, 231),\n",
       "  (0.05302544433394355, 103, 0, 91),\n",
       "  (0.0074637569776270455, 113, 1, 94),\n",
       "  (0.008981464029549724, 166, 0, 158),\n",
       "  (0.0029700683768218786, 181, 0, 174),\n",
       "  (0.12912349292630976, 82, 0, 81),\n",
       "  (0.015168543560015874, 221, 0, 200),\n",
       "  (0.019765591670938595, 182, 0, 152)]]"
      ]
     },
     "execution_count": 10,
     "metadata": {},
     "output_type": "execute_result"
    }
   ],
   "source": [
    "ts_results"
   ]
  },
  {
   "cell_type": "code",
   "execution_count": 8,
   "metadata": {},
   "outputs": [
    {
     "data": {
      "text/plain": [
       "{'better_after': 0, 'memory_hits': 182, 'worse_after': 152}"
      ]
     },
     "execution_count": 8,
     "metadata": {},
     "output_type": "execute_result"
    }
   ],
   "source": [
    "stats"
   ]
  },
  {
   "cell_type": "code",
   "execution_count": null,
   "metadata": {},
   "outputs": [],
   "source": []
  }
 ],
 "metadata": {
  "kernelspec": {
   "display_name": "Python 3",
   "language": "python",
   "name": "python3"
  },
  "language_info": {
   "codemirror_mode": {
    "name": "ipython",
    "version": 3
   },
   "file_extension": ".py",
   "mimetype": "text/x-python",
   "name": "python",
   "nbconvert_exporter": "python",
   "pygments_lexer": "ipython3",
   "version": "3.6.4"
  }
 },
 "nbformat": 4,
 "nbformat_minor": 2
}
