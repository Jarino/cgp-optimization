{
 "cells": [
  {
   "cell_type": "code",
   "execution_count": 1,
   "metadata": {},
   "outputs": [],
   "source": [
    "import random\n",
    "\n",
    "import numpy as np\n",
    "from sklearn.metrics import mean_squared_error\n",
    "import matplotlib.pyplot as plt\n",
    "import seaborn as sns\n",
    "\n",
    "import tengp\n",
    "from gpbenchmarks import get_data\n",
    "\n",
    "\n",
    "def pdivide(x, y):\n",
    "    return np.divide(x, y, out=np.copy(x), where=x!=0)\n",
    "\n",
    "def plog(x, y):\n",
    "    return np.log(x, out=np.copy(x), where=x>0)\n",
    "\n",
    "def psin(x, y):\n",
    "    return np.sin(x)\n",
    "\n",
    "def pcos(x, y):\n",
    "    return np.cos(x)\n",
    "\n",
    "def pow2(x, y):\n",
    "    return x**2\n",
    "\n",
    "def pow3(x, y):\n",
    "    return x**3\n",
    "\n",
    "def ptan(x, y):\n",
    "    return np.tan(x)\n",
    "\n",
    "def ptanh(x, y):\n",
    "    return np.tanh(x)\n",
    "\n",
    "def psqrt(x, y):\n",
    "    return  np.sqrt(x)\n",
    "\n",
    "def pexp(x, y):\n",
    "    return np.exp(x)\n",
    "\n",
    "\n",
    "funset = tengp.FunctionSet()\n",
    "funset.add(np.add, 2)\n",
    "funset.add(np.subtract, 2)\n",
    "funset.add(np.multiply, 2)\n",
    "funset.add(pdivide, 2)\n",
    "funset.add(plog, 2)\n",
    "funset.add(psin, 2)\n",
    "funset.add(pcos, 2)\n",
    "\n",
    "#     function set: +, -, *, /, sin, cos, tan, tanh, sqrt, exp, log, **2, **3\n",
    "ext_funset = tengp.FunctionSet()\n",
    "ext_funset.add(np.add, 2)\n",
    "ext_funset.add(np.subtract, 2)\n",
    "ext_funset.add(np.multiply, 2)\n",
    "ext_funset.add(pdivide, 2)\n",
    "ext_funset.add(psin, 2)\n",
    "ext_funset.add(pcos, 2)\n",
    "ext_funset.add(ptan, 2)\n",
    "ext_funset.add(ptanh, 2)\n",
    "ext_funset.add(psqrt, 2)\n",
    "ext_funset.add(pexp, 2)\n",
    "ext_funset.add(plog, 2)\n",
    "ext_funset.add(pow2, 2)\n",
    "ext_funset.add(pow3, 2)\n",
    "\n",
    "def sfn(c):\n",
    "    return (np.sin(2 * np.pi * (c - 1/4)) + 1)/2\n",
    "\n",
    "params1d = tengp.Parameters(2, 1, 1, 40, funset, real_valued=True, smoothing_fn=sfn)\n",
    "params2d = tengp.Parameters(3, 1, 1, 40, funset, real_valued=True, smoothing_fn=sfn)\n",
    "params5d = tengp.Parameters(6, 1, 1, 40, ext_funset, real_valued=True, smoothing_fn=sfn)\n",
    "\n",
    "functions = [('nguyenf4', params1d, [20, -1, 1]), ('nguyenf7', params1d, [20, 0, 2]), ('nguyenf10', params2d, [100, -1, 1]), ('korns12', params5d, [10000, -50, 50])]"
   ]
  },
  {
   "cell_type": "code",
   "execution_count": 2,
   "metadata": {},
   "outputs": [],
   "source": [
    "trials = 10"
   ]
  },
  {
   "cell_type": "code",
   "execution_count": 3,
   "metadata": {},
   "outputs": [],
   "source": [
    "# def cost_function(params, bounds, y, X, G):\n",
    "#     clipped = []\n",
    "#     for gene, bound in zip(G, bounds):\n",
    "#         if gene < 0:\n",
    "#             clipped.append(0)\n",
    "#         elif gene > bound:\n",
    "#             clipped.append(bound)\n",
    "#         else:\n",
    "#             clipped.append(gene)\n",
    "\n",
    "#     individual = tengp.individual.NPIndividual(clipped, bounds, params)\n",
    "#     pred = individual.transform(X)\n",
    "\n",
    "#     try:\n",
    "#         out = mean_squared_error(pred, y)\n",
    "#     except ValueError:\n",
    "#         out = np.inf\n",
    "#     return (out, )\n",
    "def scale_a(x, a, b):\n",
    "    return a + (b - a) * x / 10\n",
    "\n",
    "def scale_b(x, a, b):\n",
    "    return a + (b - a) * (x/10)**2\n",
    "\n",
    "def scale_c(x, a, b):\n",
    "    return a *(b/a)**(x/10)\n",
    "\n",
    "import math\n",
    "\n",
    "def bound(x, a, b):\n",
    "    return a + (b - a) * ( 1 - np.cos(np.pi * x/10))/2\n",
    "\n",
    "def cost_function(params, bounds, y, X, rv_genes):\n",
    "    bounded = bound(np.array(rv_genes), 0, 10)\n",
    "    scaled = [scale_b(x, 0, b) for x, b in zip(bounded, bounds)]\n",
    "    \n",
    "    individual = tengp.individual.NPIndividual(scaled, bounds, params)\n",
    "    pred = individual.transform(X)\n",
    "    \n",
    "    try:\n",
    "        out = mean_squared_error(pred, y)\n",
    "    except ValueError:\n",
    "        out = np.inf\n",
    "    return (out, )"
   ]
  },
  {
   "cell_type": "code",
   "execution_count": 4,
   "metadata": {},
   "outputs": [],
   "source": [
    "from deap import creator, base, tools, cma, algorithms"
   ]
  },
  {
   "cell_type": "code",
   "execution_count": 17,
   "metadata": {
    "scrolled": true
   },
   "outputs": [
    {
     "name": "stdout",
     "output_type": "stream",
     "text": [
      "nguyenf4\n",
      "0,"
     ]
    },
    {
     "name": "stderr",
     "output_type": "stream",
     "text": [
      "/home/jarino/anaconda3/lib/python3.6/site-packages/deap/creator.py:141: RuntimeWarning: A class named 'FitnessMin' has already been created and it will be overwritten. Consider deleting previous creation of that class or rename it.\n",
      "  RuntimeWarning)\n",
      "/home/jarino/anaconda3/lib/python3.6/site-packages/deap/creator.py:141: RuntimeWarning: A class named 'Individual' has already been created and it will be overwritten. Consider deleting previous creation of that class or rename it.\n",
      "  RuntimeWarning)\n",
      "/home/jarino/anaconda3/lib/python3.6/site-packages/ipykernel_launcher.py:13: RuntimeWarning: divide by zero encountered in true_divide\n",
      "  del sys.path[0]\n",
      "/mnt/c/Users/jarinov-notas/dev/tengp/tengp/individual.py:150: RuntimeWarning: invalid value encountered in subtract\n",
      "  upper_function = sfn(a)*(fun_upper(*upper_inputs))# + sfn(1-a)*fun_upper(*lower_inputs)\n",
      "/home/jarino/anaconda3/lib/python3.6/site-packages/numpy/core/_methods.py:32: RuntimeWarning: invalid value encountered in reduce\n",
      "  return umr_sum(a, axis, dtype, out, keepdims)\n",
      "/home/jarino/anaconda3/lib/python3.6/site-packages/ipykernel_launcher.py:19: RuntimeWarning: invalid value encountered in sin\n"
     ]
    },
    {
     "name": "stdout",
     "output_type": "stream",
     "text": [
      "1,"
     ]
    },
    {
     "name": "stderr",
     "output_type": "stream",
     "text": [
      "/mnt/c/Users/jarinov-notas/dev/tengp/tengp/individual.py:118: RuntimeWarning: invalid value encountered in add\n",
      "  value = (1-coeff)*self.nodes[lower].value + coeff*self.nodes[upper].value\n"
     ]
    },
    {
     "name": "stdout",
     "output_type": "stream",
     "text": [
      "2,3,4,"
     ]
    },
    {
     "name": "stderr",
     "output_type": "stream",
     "text": [
      "/home/jarino/anaconda3/lib/python3.6/site-packages/ipykernel_launcher.py:16: RuntimeWarning: invalid value encountered in greater\n",
      "  app.launch_new_instance()\n"
     ]
    },
    {
     "name": "stdout",
     "output_type": "stream",
     "text": [
      "5,6,7,8,9,\n",
      "nguyenf7\n",
      "0,"
     ]
    },
    {
     "name": "stderr",
     "output_type": "stream",
     "text": [
      "/home/jarino/anaconda3/lib/python3.6/site-packages/ipykernel_launcher.py:22: RuntimeWarning: invalid value encountered in cos\n",
      "/home/jarino/anaconda3/lib/python3.6/site-packages/ipykernel_launcher.py:13: RuntimeWarning: invalid value encountered in true_divide\n",
      "  del sys.path[0]\n",
      "/mnt/c/Users/jarinov-notas/dev/tengp/tengp/individual.py:148: RuntimeWarning: invalid value encountered in subtract\n",
      "  lower_function = sfn(1-a)*(fun_lower(*lower_inputs))# + sfn(a)*fun_lower(*upper_inputs)\n",
      "/mnt/c/Users/jarinov-notas/dev/tengp/tengp/individual.py:152: RuntimeWarning: invalid value encountered in add\n",
      "  current_node.value = lower_function + upper_function\n",
      "/mnt/c/Users/jarinov-notas/dev/tengp/tengp/individual.py:148: RuntimeWarning: invalid value encountered in multiply\n",
      "  lower_function = sfn(1-a)*(fun_lower(*lower_inputs))# + sfn(a)*fun_lower(*upper_inputs)\n"
     ]
    },
    {
     "name": "stdout",
     "output_type": "stream",
     "text": [
      "1,2,"
     ]
    },
    {
     "name": "stderr",
     "output_type": "stream",
     "text": [
      "/mnt/c/Users/jarinov-notas/dev/tengp/tengp/individual.py:146: RuntimeWarning: invalid value encountered in multiply\n",
      "  upper_inputs = [ sfn(b)  * self.nodes[b_upper].value, sfn(c) * self.nodes[c_upper].value]\n"
     ]
    },
    {
     "name": "stdout",
     "output_type": "stream",
     "text": [
      "3,4,5,6,7,8,9,\n",
      "nguyenf10\n",
      "0,1,2,3,4,5,6,7,8,9,\n",
      "korns12\n",
      "0,"
     ]
    },
    {
     "name": "stderr",
     "output_type": "stream",
     "text": [
      "/home/jarino/anaconda3/lib/python3.6/site-packages/ipykernel_launcher.py:37: RuntimeWarning: invalid value encountered in sqrt\n",
      "/home/jarino/anaconda3/lib/python3.6/site-packages/ipykernel_launcher.py:40: RuntimeWarning: overflow encountered in exp\n"
     ]
    },
    {
     "name": "stdout",
     "output_type": "stream",
     "text": [
      "1,2,3,4,"
     ]
    },
    {
     "name": "stderr",
     "output_type": "stream",
     "text": [
      "/home/jarino/anaconda3/lib/python3.6/site-packages/ipykernel_launcher.py:31: RuntimeWarning: invalid value encountered in tan\n"
     ]
    },
    {
     "name": "stdout",
     "output_type": "stream",
     "text": [
      "5,6,7,8,"
     ]
    },
    {
     "name": "stderr",
     "output_type": "stream",
     "text": [
      "/home/jarino/anaconda3/lib/python3.6/site-packages/ipykernel_launcher.py:25: RuntimeWarning: overflow encountered in square\n",
      "/home/jarino/anaconda3/lib/python3.6/site-packages/ipykernel_launcher.py:28: RuntimeWarning: overflow encountered in power\n",
      "/home/jarino/anaconda3/lib/python3.6/site-packages/sklearn/metrics/regression.py:239: RuntimeWarning: overflow encountered in square\n",
      "  output_errors = np.average((y_true - y_pred) ** 2, axis=0,\n"
     ]
    },
    {
     "name": "stdout",
     "output_type": "stream",
     "text": [
      "9,\n",
      "CPU times: user 6min 2s, sys: 7.17 s, total: 6min 9s\n",
      "Wall time: 3min 23s\n"
     ]
    }
   ],
   "source": [
    "%%time\n",
    "\n",
    "rv_results = []\n",
    "\n",
    "for function in functions:\n",
    "    print(function[0])\n",
    "    trial_results = []\n",
    "    for trial in range(trials):\n",
    "        print(trial, end=',')\n",
    "        params = function[1]\n",
    "        X, y = get_data(function[0], *function[2])\n",
    "        X = np.c_[np.ones(len(X)), X]\n",
    "        bounds = tengp.individual.IndividualBuilder(params).create().bounds[:]\n",
    "\n",
    "        creator.create('FitnessMin', base.Fitness, weights=(-1.0,))\n",
    "        creator.create('Individual', list, fitness=creator.FitnessMin)\n",
    "\n",
    "        toolbox = base.Toolbox()\n",
    "        toolbox.register('evaluate', cost_function, params, bounds, y, X)\n",
    "\n",
    "        strategy = cma.Strategy(centroid=[np.random.uniform(0, 10) for b in bounds], sigma=2)\n",
    "\n",
    "        toolbox.register(\"generate\", strategy.generate, creator.Individual)\n",
    "        toolbox.register(\"update\", strategy.update)\n",
    "\n",
    "        hof = tools.HallOfFame(1)\n",
    "        \n",
    "        res = algorithms.eaGenerateUpdate(toolbox, ngen=250, halloffame=hof, verbose=False)\n",
    "        \n",
    "        \n",
    "        val = toolbox.evaluate(hof[0])\n",
    "        #print(val, hof[0])\n",
    "        \n",
    "        trial_results.append(val)\n",
    "    rv_results.append(trial_results)\n",
    "    print()"
   ]
  },
  {
   "cell_type": "code",
   "execution_count": 18,
   "metadata": {},
   "outputs": [],
   "source": [
    "def plot_results(outs):\n",
    "    costs = np.array(outs)\n",
    "    print('mean:', np.mean(costs))\n",
    "    print('median:', np.median(costs))\n",
    "    print('variance:',np.var(costs))\n",
    "    print('min:', np.min(costs))\n",
    "    sns.distplot(costs);"
   ]
  },
  {
   "cell_type": "code",
   "execution_count": 19,
   "metadata": {},
   "outputs": [
    {
     "name": "stdout",
     "output_type": "stream",
     "text": [
      "Nguyen4\n",
      "mean: 1.1978210619220573\n",
      "median: 1.169961069887724\n",
      "variance: 0.015397642564063141\n",
      "min: 1.0390856810516722\n"
     ]
    },
    {
     "data": {
      "image/png": "[encoded data removed]",
      "text/plain": [
       "<matplotlib.figure.Figure at 0x7fe5da31f7b8>"
      ]
     },
     "metadata": {},
     "output_type": "display_data"
    }
   ],
   "source": [
    "print('Nguyen4')\n",
    "plot_results([x[0] for x in rv_results[0]])"
   ]
  },
  {
   "cell_type": "code",
   "execution_count": 20,
   "metadata": {},
   "outputs": [
    {
     "name": "stdout",
     "output_type": "stream",
     "text": [
      "Nguyen7\n",
      "mean: 0.014394632596843404\n",
      "median: 0.0063864819895868615\n",
      "variance: 0.0003604339548894591\n",
      "min: 0.001864754467851605\n"
     ]
    },
    {
     "data": {
      "image/png": "[encoded data removed]",
      "text/plain": [
       "<matplotlib.figure.Figure at 0x7fe5da2e8128>"
      ]
     },
     "metadata": {},
     "output_type": "display_data"
    }
   ],
   "source": [
    "print('Nguyen7')\n",
    "plot_results([x[0] for x in rv_results[1]])"
   ]
  },
  {
   "cell_type": "code",
   "execution_count": 21,
   "metadata": {},
   "outputs": [
    {
     "name": "stdout",
     "output_type": "stream",
     "text": [
      "Nguyen10\n",
      "mean: 0.03904517507712922\n",
      "median: 0.03775657825148597\n",
      "variance: 6.108470116802196e-05\n",
      "min: 0.027637226127340975\n"
     ]
    },
    {
     "data": {
      "image/png": "[encoded data removed]",
      "text/plain": [
       "<matplotlib.figure.Figure at 0x7fe5da680080>"
      ]
     },
     "metadata": {},
     "output_type": "display_data"
    }
   ],
   "source": [
    "print('Nguyen10')\n",
    "plot_results([x[0] for x in rv_results[2]])"
   ]
  },
  {
   "cell_type": "code",
   "execution_count": 22,
   "metadata": {},
   "outputs": [
    {
     "name": "stdout",
     "output_type": "stream",
     "text": [
      "Korns12\n",
      "mean: 2.1261776847640923\n",
      "median: 2.321134298274283\n",
      "variance: 0.10408162552646552\n",
      "min: 1.3838449165625466\n"
     ]
    },
    {
     "data": {
      "image/png": "[encoded data removed]",
      "text/plain": [
       "<matplotlib.figure.Figure at 0x7fe5e395a400>"
      ]
     },
     "metadata": {},
     "output_type": "display_data"
    }
   ],
   "source": [
    "print('Korns12')\n",
    "plot_results([x[0] for x in rv_results[3]])"
   ]
  },
  {
   "cell_type": "code",
   "execution_count": null,
   "metadata": {},
   "outputs": [],
   "source": []
  },
  {
   "cell_type": "code",
   "execution_count": null,
   "metadata": {},
   "outputs": [],
   "source": []
  }
 ],
 "metadata": {
  "kernelspec": {
   "display_name": "Python 3",
   "language": "python",
   "name": "python3"
  },
  "language_info": {
   "codemirror_mode": {
    "name": "ipython",
    "version": 3
   },
   "file_extension": ".py",
   "mimetype": "text/x-python",
   "name": "python",
   "nbconvert_exporter": "python",
   "pygments_lexer": "ipython3",
   "version": "3.6.4"
  }
 },
 "nbformat": 4,
 "nbformat_minor": 2
}
