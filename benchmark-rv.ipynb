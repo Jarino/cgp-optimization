{
 "cells": [
  {
   "cell_type": "code",
   "execution_count": 11,
   "metadata": {},
   "outputs": [],
   "source": [
    "import random\n",
    "\n",
    "import numpy as np\n",
    "from sklearn.metrics import mean_squared_error\n",
    "import matplotlib.pyplot as plt\n",
    "import seaborn as sns\n",
    "\n",
    "import tengp\n",
    "from gpbenchmarks import get_data\n",
    "\n",
    "\n",
    "def pdivide(x, y):\n",
    "    return np.divide(x, y, out=np.copy(x), where=x!=0)\n",
    "\n",
    "def plog(x, y):\n",
    "    return np.log(x, out=np.copy(x), where=x>0)\n",
    "\n",
    "def psin(x, y):\n",
    "    return np.sin(x)\n",
    "\n",
    "def pcos(x, y):\n",
    "    return np.cos(x)\n",
    "\n",
    "def pow2(x, y):\n",
    "    return x**2\n",
    "\n",
    "def pow3(x, y):\n",
    "    return x**3\n",
    "\n",
    "def ptan(x, y):\n",
    "    return np.tan(x)\n",
    "\n",
    "def ptanh(x, y):\n",
    "    return np.tanh(x)\n",
    "\n",
    "def psqrt(x, y):\n",
    "    return  np.sqrt(x)\n",
    "\n",
    "def pexp(x, y):\n",
    "    return np.exp(x)\n",
    "\n",
    "\n",
    "funset = tengp.FunctionSet()\n",
    "funset.add(np.add, 2)\n",
    "funset.add(np.subtract, 2)\n",
    "funset.add(np.multiply, 2)\n",
    "funset.add(pdivide, 2)\n",
    "funset.add(plog, 2)\n",
    "funset.add(psin, 2)\n",
    "funset.add(pcos, 2)\n",
    "\n",
    "#     function set: +, -, *, /, sin, cos, tan, tanh, sqrt, exp, log, **2, **3\n",
    "ext_funset = tengp.FunctionSet()\n",
    "ext_funset.add(np.add, 2)\n",
    "ext_funset.add(np.subtract, 2)\n",
    "ext_funset.add(np.multiply, 2)\n",
    "ext_funset.add(pdivide, 2)\n",
    "ext_funset.add(psin, 2)\n",
    "ext_funset.add(pcos, 2)\n",
    "ext_funset.add(ptan, 2)\n",
    "ext_funset.add(ptanh, 2)\n",
    "ext_funset.add(psqrt, 2)\n",
    "ext_funset.add(pexp, 2)\n",
    "ext_funset.add(plog, 2)\n",
    "ext_funset.add(pow2, 2)\n",
    "ext_funset.add(pow3, 2)\n",
    "\n",
    "def sfn(c):\n",
    "    return (np.sin(2 * np.pi * (c - 1/4)) + 1)/2\n",
    "\n",
    "params1d = tengp.Parameters(2, 1, 1, 50, funset, real_valued=True, smoothing_fn=sfn)\n",
    "params2d = tengp.Parameters(3, 1, 1, 50, funset, real_valued=True, smoothing_fn=sfn)\n",
    "params5d = tengp.Parameters(6, 1, 1, 50, ext_funset, real_valued=True, smoothing_fn=sfn)\n",
    "\n",
    "functions = [('nguyenf4', params1d, [20, -1, 1]), ('nguyenf7', params1d, [20, 0, 2]), ('nguyenf10', params2d, [100, -1, 1]), ('korns12', params5d, [10000, -50, 50])]"
   ]
  },
  {
   "cell_type": "code",
   "execution_count": 12,
   "metadata": {},
   "outputs": [],
   "source": [
    "trials = 10"
   ]
  },
  {
   "cell_type": "code",
   "execution_count": 156,
   "metadata": {},
   "outputs": [],
   "source": [
    "# def cost_function(params, bounds, y, X, G):\n",
    "#     clipped = []\n",
    "#     for gene, bound in zip(G, bounds):\n",
    "#         if gene < 0:\n",
    "#             clipped.append(0)\n",
    "#         elif gene > bound:\n",
    "#             clipped.append(bound)\n",
    "#         else:\n",
    "#             clipped.append(gene)\n",
    "\n",
    "#     individual = tengp.individual.NPIndividual(clipped, bounds, params)\n",
    "#     pred = individual.transform(X)\n",
    "\n",
    "#     try:\n",
    "#         out = mean_squared_error(pred, y)\n",
    "#     except ValueError:\n",
    "#         out = np.inf\n",
    "#     return (out, )\n",
    "def scale_a(x, a, b):\n",
    "    return a + (b - a) * x / 10\n",
    "\n",
    "def scale_b(x, a, b):\n",
    "    return a + (b - a) * (x/10)**2\n",
    "\n",
    "def scale_c(x, a, b):\n",
    "    return a *(b/a)**(x/10)\n",
    "\n",
    "import math\n",
    "\n",
    "def bound(x, a, b):\n",
    "    return a + (b - a) * ( 1 - np.cos(np.pi * x/10))/2\n",
    "\n",
    "def cost_function(params, bounds, y, X, rv_genes):\n",
    "    bounded = bound(np.array(rv_genes), 0, 10)\n",
    "    scaled = [scale_b(x, max([0, b-10]), b) for x, b in zip(bounded, bounds)]\n",
    "    \n",
    "    individual = tengp.individual.NPIndividual(scaled, bounds, params)\n",
    "    pred = individual.transform(X)\n",
    "    \n",
    "    try:\n",
    "        out = mean_squared_error(pred, y)\n",
    "    except ValueError:\n",
    "        out = np.inf\n",
    "    return (out, )"
   ]
  },
  {
   "cell_type": "code",
   "execution_count": 157,
   "metadata": {},
   "outputs": [],
   "source": [
    "from deap import creator, base, tools, cma, algorithms\n",
    "from collections import namedtuple\n",
    "from array import array"
   ]
  },
  {
   "cell_type": "code",
   "execution_count": 158,
   "metadata": {
    "scrolled": true
   },
   "outputs": [
    {
     "name": "stdout",
     "output_type": "stream",
     "text": [
      "nguyenf4\n",
      "0,"
     ]
    },
    {
     "name": "stderr",
     "output_type": "stream",
     "text": [
      "/home/jarino/anaconda3/lib/python3.6/site-packages/deap/creator.py:141: RuntimeWarning: A class named 'FitnessMin' has already been created and it will be overwritten. Consider deleting previous creation of that class or rename it.\n",
      "  RuntimeWarning)\n",
      "/home/jarino/anaconda3/lib/python3.6/site-packages/deap/creator.py:141: RuntimeWarning: A class named 'Individual' has already been created and it will be overwritten. Consider deleting previous creation of that class or rename it.\n",
      "  RuntimeWarning)\n"
     ]
    },
    {
     "ename": "KeyboardInterrupt",
     "evalue": "",
     "output_type": "error",
     "traceback": [
      "\u001b[0;31m---------------------------------------------------------------------------\u001b[0m",
      "\u001b[0;31mKeyboardInterrupt\u001b[0m                         Traceback (most recent call last)",
      "\u001b[0;32m<timed exec>\u001b[0m in \u001b[0;36m<module>\u001b[0;34m()\u001b[0m\n",
      "\u001b[0;32m~/anaconda3/lib/python3.6/site-packages/deap/algorithms.py\u001b[0m in \u001b[0;36meaGenerateUpdate\u001b[0;34m(toolbox, ngen, halloffame, stats, verbose)\u001b[0m\n\u001b[1;32m    485\u001b[0m         \u001b[0;31m# Evaluate the individuals\u001b[0m\u001b[0;34m\u001b[0m\u001b[0;34m\u001b[0m\u001b[0m\n\u001b[1;32m    486\u001b[0m         \u001b[0mfitnesses\u001b[0m \u001b[0;34m=\u001b[0m \u001b[0mtoolbox\u001b[0m\u001b[0;34m.\u001b[0m\u001b[0mmap\u001b[0m\u001b[0;34m(\u001b[0m\u001b[0mtoolbox\u001b[0m\u001b[0;34m.\u001b[0m\u001b[0mevaluate\u001b[0m\u001b[0;34m,\u001b[0m \u001b[0mpopulation\u001b[0m\u001b[0;34m)\u001b[0m\u001b[0;34m\u001b[0m\u001b[0m\n\u001b[0;32m--> 487\u001b[0;31m         \u001b[0;32mfor\u001b[0m \u001b[0mind\u001b[0m\u001b[0;34m,\u001b[0m \u001b[0mfit\u001b[0m \u001b[0;32min\u001b[0m \u001b[0mzip\u001b[0m\u001b[0;34m(\u001b[0m\u001b[0mpopulation\u001b[0m\u001b[0;34m,\u001b[0m \u001b[0mfitnesses\u001b[0m\u001b[0;34m)\u001b[0m\u001b[0;34m:\u001b[0m\u001b[0;34m\u001b[0m\u001b[0m\n\u001b[0m\u001b[1;32m    488\u001b[0m             \u001b[0mind\u001b[0m\u001b[0;34m.\u001b[0m\u001b[0mfitness\u001b[0m\u001b[0;34m.\u001b[0m\u001b[0mvalues\u001b[0m \u001b[0;34m=\u001b[0m \u001b[0mfit\u001b[0m\u001b[0;34m\u001b[0m\u001b[0m\n\u001b[1;32m    489\u001b[0m \u001b[0;34m\u001b[0m\u001b[0m\n",
      "\u001b[0;32m<ipython-input-156-e4850ff8a6c2>\u001b[0m in \u001b[0;36mcost_function\u001b[0;34m(params, bounds, y, X, rv_genes)\u001b[0m\n\u001b[1;32m     35\u001b[0m     \u001b[0mscaled\u001b[0m \u001b[0;34m=\u001b[0m \u001b[0;34m[\u001b[0m\u001b[0mscale_b\u001b[0m\u001b[0;34m(\u001b[0m\u001b[0mx\u001b[0m\u001b[0;34m,\u001b[0m \u001b[0mmax\u001b[0m\u001b[0;34m(\u001b[0m\u001b[0;34m[\u001b[0m\u001b[0;36m0\u001b[0m\u001b[0;34m,\u001b[0m \u001b[0mb\u001b[0m\u001b[0;34m-\u001b[0m\u001b[0;36m10\u001b[0m\u001b[0;34m]\u001b[0m\u001b[0;34m)\u001b[0m\u001b[0;34m,\u001b[0m \u001b[0mb\u001b[0m\u001b[0;34m)\u001b[0m \u001b[0;32mfor\u001b[0m \u001b[0mx\u001b[0m\u001b[0;34m,\u001b[0m \u001b[0mb\u001b[0m \u001b[0;32min\u001b[0m \u001b[0mzip\u001b[0m\u001b[0;34m(\u001b[0m\u001b[0mbounded\u001b[0m\u001b[0;34m,\u001b[0m \u001b[0mbounds\u001b[0m\u001b[0;34m)\u001b[0m\u001b[0;34m]\u001b[0m\u001b[0;34m\u001b[0m\u001b[0m\n\u001b[1;32m     36\u001b[0m \u001b[0;34m\u001b[0m\u001b[0m\n\u001b[0;32m---> 37\u001b[0;31m     \u001b[0mindividual\u001b[0m \u001b[0;34m=\u001b[0m \u001b[0mtengp\u001b[0m\u001b[0;34m.\u001b[0m\u001b[0mindividual\u001b[0m\u001b[0;34m.\u001b[0m\u001b[0mNPIndividual\u001b[0m\u001b[0;34m(\u001b[0m\u001b[0mscaled\u001b[0m\u001b[0;34m,\u001b[0m \u001b[0mbounds\u001b[0m\u001b[0;34m,\u001b[0m \u001b[0mparams\u001b[0m\u001b[0;34m)\u001b[0m\u001b[0;34m\u001b[0m\u001b[0m\n\u001b[0m\u001b[1;32m     38\u001b[0m     \u001b[0mpred\u001b[0m \u001b[0;34m=\u001b[0m \u001b[0mindividual\u001b[0m\u001b[0;34m.\u001b[0m\u001b[0mtransform\u001b[0m\u001b[0;34m(\u001b[0m\u001b[0mX\u001b[0m\u001b[0;34m)\u001b[0m\u001b[0;34m\u001b[0m\u001b[0m\n\u001b[1;32m     39\u001b[0m \u001b[0;34m\u001b[0m\u001b[0m\n",
      "\u001b[0;32m/mnt/c/Users/jarinov-notas/dev/tengp/tengp/individual.py\u001b[0m in \u001b[0;36m__init__\u001b[0;34m(self, genes, bounds, params)\u001b[0m\n\u001b[1;32m    106\u001b[0m     \u001b[0;32mdef\u001b[0m \u001b[0m__init__\u001b[0m\u001b[0;34m(\u001b[0m\u001b[0mself\u001b[0m\u001b[0;34m,\u001b[0m \u001b[0mgenes\u001b[0m\u001b[0;34m,\u001b[0m \u001b[0mbounds\u001b[0m\u001b[0;34m,\u001b[0m \u001b[0mparams\u001b[0m\u001b[0;34m)\u001b[0m\u001b[0;34m:\u001b[0m\u001b[0;34m\u001b[0m\u001b[0m\n\u001b[1;32m    107\u001b[0m         \u001b[0mself\u001b[0m\u001b[0;34m.\u001b[0m\u001b[0mnodes\u001b[0m \u001b[0;34m=\u001b[0m \u001b[0mmap_to_np_phenotype\u001b[0m\u001b[0;34m(\u001b[0m\u001b[0mgenes\u001b[0m\u001b[0;34m,\u001b[0m \u001b[0mparams\u001b[0m\u001b[0;34m,\u001b[0m \u001b[0mparams\u001b[0m\u001b[0;34m.\u001b[0m\u001b[0mreal_valued\u001b[0m\u001b[0;34m)\u001b[0m\u001b[0;34m\u001b[0m\u001b[0m\n\u001b[0;32m--> 108\u001b[0;31m         \u001b[0mIndividual\u001b[0m\u001b[0;34m.\u001b[0m\u001b[0m__init__\u001b[0m\u001b[0;34m(\u001b[0m\u001b[0mself\u001b[0m\u001b[0;34m,\u001b[0m \u001b[0mgenes\u001b[0m\u001b[0;34m,\u001b[0m \u001b[0mbounds\u001b[0m\u001b[0;34m,\u001b[0m \u001b[0mparams\u001b[0m\u001b[0;34m)\u001b[0m\u001b[0;34m\u001b[0m\u001b[0m\n\u001b[0m\u001b[1;32m    109\u001b[0m \u001b[0;34m\u001b[0m\u001b[0m\n\u001b[1;32m    110\u001b[0m     \u001b[0;32mdef\u001b[0m \u001b[0mtransform\u001b[0m\u001b[0;34m(\u001b[0m\u001b[0mself\u001b[0m\u001b[0;34m,\u001b[0m \u001b[0mX\u001b[0m\u001b[0;34m)\u001b[0m\u001b[0;34m:\u001b[0m\u001b[0;34m\u001b[0m\u001b[0m\n",
      "\u001b[0;32m/mnt/c/Users/jarinov-notas/dev/tengp/tengp/individual.py\u001b[0m in \u001b[0;36m__init__\u001b[0;34m(self, genes, bounds, params)\u001b[0m\n\u001b[1;32m     16\u001b[0m         \u001b[0mself\u001b[0m\u001b[0;34m.\u001b[0m\u001b[0mgenes\u001b[0m \u001b[0;34m=\u001b[0m \u001b[0mgenes\u001b[0m\u001b[0;34m\u001b[0m\u001b[0m\n\u001b[1;32m     17\u001b[0m         \u001b[0mself\u001b[0m\u001b[0;34m.\u001b[0m\u001b[0mbounds\u001b[0m \u001b[0;34m=\u001b[0m \u001b[0mbounds\u001b[0m\u001b[0;34m\u001b[0m\u001b[0m\n\u001b[0;32m---> 18\u001b[0;31m         \u001b[0mself\u001b[0m\u001b[0;34m.\u001b[0m\u001b[0mpaths\u001b[0m \u001b[0;34m=\u001b[0m \u001b[0mactive_paths\u001b[0m\u001b[0;34m(\u001b[0m\u001b[0mself\u001b[0m\u001b[0;34m.\u001b[0m\u001b[0mnodes\u001b[0m\u001b[0;34m,\u001b[0m \u001b[0mparams\u001b[0m\u001b[0;34m.\u001b[0m\u001b[0mreal_valued\u001b[0m\u001b[0;34m)\u001b[0m\u001b[0;34m\u001b[0m\u001b[0m\n\u001b[0m\u001b[1;32m     19\u001b[0m         \u001b[0mself\u001b[0m\u001b[0;34m.\u001b[0m\u001b[0mactive_nodes\u001b[0m \u001b[0;34m=\u001b[0m \u001b[0mset\u001b[0m\u001b[0;34m(\u001b[0m\u001b[0mreduce\u001b[0m\u001b[0;34m(\u001b[0m\u001b[0mjoin_lists\u001b[0m\u001b[0;34m,\u001b[0m \u001b[0mself\u001b[0m\u001b[0;34m.\u001b[0m\u001b[0mpaths\u001b[0m\u001b[0;34m)\u001b[0m\u001b[0;34m)\u001b[0m\u001b[0;34m\u001b[0m\u001b[0m\n\u001b[1;32m     20\u001b[0m         \u001b[0mself\u001b[0m\u001b[0;34m.\u001b[0m\u001b[0mparams\u001b[0m \u001b[0;34m=\u001b[0m \u001b[0mparams\u001b[0m\u001b[0;34m\u001b[0m\u001b[0m\n",
      "\u001b[0;32m/mnt/c/Users/jarinov-notas/dev/tengp/tengp/utils.py\u001b[0m in \u001b[0;36mactive_paths\u001b[0;34m(nodes, real_valued)\u001b[0m\n\u001b[1;32m     73\u001b[0m             \u001b[0mpath\u001b[0m \u001b[0;34m=\u001b[0m \u001b[0;34m[\u001b[0m\u001b[0;34m]\u001b[0m\u001b[0;34m\u001b[0m\u001b[0m\n\u001b[1;32m     74\u001b[0m \u001b[0;34m\u001b[0m\u001b[0m\n\u001b[0;32m---> 75\u001b[0;31m         \u001b[0mpath\u001b[0m\u001b[0;34m.\u001b[0m\u001b[0mappend\u001b[0m\u001b[0;34m(\u001b[0m\u001b[0mindex\u001b[0m\u001b[0;34m)\u001b[0m\u001b[0;34m\u001b[0m\u001b[0m\n\u001b[0m\u001b[1;32m     76\u001b[0m \u001b[0;34m\u001b[0m\u001b[0m\n\u001b[1;32m     77\u001b[0m         \u001b[0;32mif\u001b[0m \u001b[0;32mnot\u001b[0m \u001b[0mcurrent_node\u001b[0m\u001b[0;34m.\u001b[0m\u001b[0mis_output\u001b[0m \u001b[0;32mand\u001b[0m \u001b[0;32mnot\u001b[0m \u001b[0mcurrent_node\u001b[0m\u001b[0;34m.\u001b[0m\u001b[0mis_input\u001b[0m\u001b[0;34m:\u001b[0m\u001b[0;34m\u001b[0m\u001b[0m\n",
      "\u001b[0;31mKeyboardInterrupt\u001b[0m: "
     ]
    }
   ],
   "source": [
    "%%time\n",
    "\n",
    "rv_results = []\n",
    "\n",
    "for function in functions:\n",
    "    np.random.seed(42)\n",
    "    print(function[0])\n",
    "    trial_results = []\n",
    "    for trial in range(trials):\n",
    "        print(trial, end=',')\n",
    "        params = function[1]\n",
    "        X, y = get_data(function[0], *function[2])\n",
    "        X = np.c_[np.ones(len(X)), X]\n",
    "        bounds = tengp.individual.IndividualBuilder(params).create().bounds[:]\n",
    "\n",
    "        creator.create('FitnessMin', base.Fitness, weights=(-1.0,))\n",
    "        creator.create('Individual', array, typecode='f', fitness=creator.FitnessMin)\n",
    "\n",
    "        toolbox = base.Toolbox()\n",
    "        toolbox.register('evaluate', cost_function, params, bounds, y, X)\n",
    "        \n",
    "#         parent = creator.Individual([np.random.uniform(0, 10) for b in bounds])\n",
    "#         parent.fitness.values = toolbox.evaluate(parent)\n",
    "        \n",
    "        #strategy = cma.StrategyOnePlusLambda(parent=parent, sigma=2, lambda_=4)\n",
    "        strategy = cma.Strategy(centroid=[np.random.uniform(0, 10) for b in bounds], sigma=2)\n",
    "\n",
    "        toolbox.register(\"generate\", strategy.generate, creator.Individual)\n",
    "        toolbox.register(\"update\", strategy.update)\n",
    "\n",
    "        hof = tools.HallOfFame(1)\n",
    "        \n",
    "        res = algorithms.eaGenerateUpdate(toolbox, ngen=250, halloffame=hof, verbose=False)\n",
    "        \n",
    "        \n",
    "        val = toolbox.evaluate(hof[0])\n",
    "        print(val)\n",
    "        \n",
    "        trial_results.append(val)\n",
    "    rv_results.append(trial_results)\n",
    "    print()"
   ]
  },
  {
   "cell_type": "code",
   "execution_count": 145,
   "metadata": {},
   "outputs": [],
   "source": [
    "t = toolbox.generate()[0]"
   ]
  },
  {
   "cell_type": "code",
   "execution_count": 151,
   "metadata": {},
   "outputs": [],
   "source": [
    "bounded = bound(np.array(t), 0, 10)"
   ]
  },
  {
   "cell_type": "code",
   "execution_count": 153,
   "metadata": {},
   "outputs": [],
   "source": [
    "bb = np.array([scale_b(x, 0, b) for x, b in zip(bounded, bounds)])"
   ]
  },
  {
   "cell_type": "code",
   "execution_count": 154,
   "metadata": {},
   "outputs": [
    {
     "data": {
      "text/plain": [
       "array([[3.88333441e+00, 1.20000000e+01],\n",
       "       [1.16617321e+00, 5.00000000e+00],\n",
       "       [3.98757486e+00, 5.00000000e+00],\n",
       "       [1.06450890e+01, 1.20000000e+01],\n",
       "       [1.34305089e-01, 6.00000000e+00],\n",
       "       [5.34195333e-03, 6.00000000e+00],\n",
       "       [3.70557270e-05, 1.20000000e+01],\n",
       "       [6.33911147e+00, 7.00000000e+00],\n",
       "       [9.15412125e-01, 7.00000000e+00],\n",
       "       [1.18912813e+01, 1.20000000e+01],\n",
       "       [4.40450869e+00, 8.00000000e+00],\n",
       "       [8.35710133e-02, 8.00000000e+00],\n",
       "       [6.24693057e+00, 1.20000000e+01],\n",
       "       [3.50033512e-03, 9.00000000e+00],\n",
       "       [8.89245122e+00, 9.00000000e+00],\n",
       "       [2.52025919e+00, 1.20000000e+01],\n",
       "       [2.23389056e+00, 1.00000000e+01],\n",
       "       [3.66357320e+00, 1.00000000e+01],\n",
       "       [3.10983653e-03, 1.20000000e+01],\n",
       "       [2.88537740e-01, 1.10000000e+01],\n",
       "       [1.66246706e+00, 1.10000000e+01],\n",
       "       [1.46144906e+00, 1.20000000e+01],\n",
       "       [5.92374341e-01, 1.20000000e+01],\n",
       "       [4.79843324e+00, 1.20000000e+01],\n",
       "       [4.00679093e-01, 1.20000000e+01],\n",
       "       [1.21134457e+01, 1.30000000e+01],\n",
       "       [3.59988526e+00, 1.30000000e+01],\n",
       "       [6.14171050e+00, 1.20000000e+01],\n",
       "       [3.53060134e-04, 1.40000000e+01],\n",
       "       [3.30974269e+00, 1.40000000e+01],\n",
       "       [2.77471437e+00, 1.20000000e+01],\n",
       "       [1.64061456e-02, 1.50000000e+01],\n",
       "       [1.42812865e+01, 1.50000000e+01],\n",
       "       [1.15056711e+00, 1.20000000e+01],\n",
       "       [8.22724588e+00, 1.60000000e+01],\n",
       "       [1.13298583e+01, 1.60000000e+01],\n",
       "       [1.36995041e+00, 1.20000000e+01],\n",
       "       [6.13301450e+00, 1.70000000e+01],\n",
       "       [5.39947465e-09, 1.70000000e+01],\n",
       "       [4.40706633e+00, 1.20000000e+01],\n",
       "       [1.75944668e+01, 1.80000000e+01],\n",
       "       [9.97690137e-01, 1.80000000e+01],\n",
       "       [1.13945807e+00, 1.20000000e+01],\n",
       "       [1.56152367e+01, 1.90000000e+01],\n",
       "       [5.19893216e-01, 1.90000000e+01],\n",
       "       [5.69685994e+00, 1.20000000e+01],\n",
       "       [1.62600110e+00, 2.00000000e+01],\n",
       "       [1.85623789e+01, 2.00000000e+01],\n",
       "       [8.87971683e+00, 1.20000000e+01],\n",
       "       [9.20777119e+00, 2.10000000e+01],\n",
       "       [8.06026878e-02, 2.10000000e+01],\n",
       "       [5.60243197e+00, 1.20000000e+01],\n",
       "       [2.19426842e+01, 2.20000000e+01],\n",
       "       [6.33674046e-02, 2.20000000e+01],\n",
       "       [1.19228858e+01, 1.20000000e+01],\n",
       "       [1.93118800e+01, 2.30000000e+01],\n",
       "       [6.46131388e-01, 2.30000000e+01],\n",
       "       [1.24996751e+00, 1.20000000e+01],\n",
       "       [2.62077428e-01, 2.40000000e+01],\n",
       "       [1.18612717e-01, 2.40000000e+01],\n",
       "       [1.19697883e+01, 1.20000000e+01],\n",
       "       [7.21156657e+00, 2.50000000e+01],\n",
       "       [2.17147936e-01, 2.50000000e+01],\n",
       "       [1.08189918e+01, 1.20000000e+01],\n",
       "       [7.99487741e-02, 2.60000000e+01],\n",
       "       [8.81431580e+00, 2.60000000e+01],\n",
       "       [8.70391683e-04, 1.20000000e+01],\n",
       "       [1.45716776e+01, 2.70000000e+01],\n",
       "       [2.20754968e-02, 2.70000000e+01],\n",
       "       [3.92243353e+00, 1.20000000e+01],\n",
       "       [2.36326211e+01, 2.80000000e+01],\n",
       "       [6.95142928e-01, 2.80000000e+01],\n",
       "       [1.09207740e+01, 1.20000000e+01],\n",
       "       [1.66876265e+01, 2.90000000e+01],\n",
       "       [2.70345839e+01, 2.90000000e+01],\n",
       "       [5.03076882e+00, 1.20000000e+01],\n",
       "       [2.85302271e+01, 3.00000000e+01],\n",
       "       [2.98565999e+01, 3.00000000e+01],\n",
       "       [2.67375024e+00, 1.20000000e+01],\n",
       "       [2.92163085e+01, 3.10000000e+01],\n",
       "       [1.58979453e+01, 3.10000000e+01],\n",
       "       [8.16494463e-01, 1.20000000e+01],\n",
       "       [3.13839630e+01, 3.20000000e+01],\n",
       "       [4.50421241e-04, 3.20000000e+01],\n",
       "       [5.36905936e+00, 1.20000000e+01],\n",
       "       [3.22243890e+01, 3.30000000e+01],\n",
       "       [2.95809907e+01, 3.30000000e+01],\n",
       "       [9.28769118e+00, 1.20000000e+01],\n",
       "       [9.94177600e+00, 3.40000000e+01],\n",
       "       [9.18249834e-01, 3.40000000e+01],\n",
       "       [1.09187172e+01, 1.20000000e+01],\n",
       "       [4.73705595e+00, 3.50000000e+01],\n",
       "       [2.10987329e+01, 3.50000000e+01],\n",
       "       [1.72238885e+00, 1.20000000e+01],\n",
       "       [2.38888514e+01, 3.60000000e+01],\n",
       "       [1.24094041e-04, 3.60000000e+01],\n",
       "       [1.04894425e+01, 1.20000000e+01],\n",
       "       [3.69039858e+01, 3.70000000e+01],\n",
       "       [2.05759150e+00, 3.70000000e+01],\n",
       "       [3.23725778e+00, 1.20000000e+01],\n",
       "       [3.33330887e+01, 3.80000000e+01],\n",
       "       [2.70576996e-01, 3.80000000e+01],\n",
       "       [1.94148034e+00, 1.20000000e+01],\n",
       "       [3.67431551e+01, 3.90000000e+01],\n",
       "       [9.17961652e+00, 3.90000000e+01],\n",
       "       [9.26988736e+00, 1.20000000e+01],\n",
       "       [4.75878281e+00, 4.00000000e+01],\n",
       "       [3.85073026e+01, 4.00000000e+01],\n",
       "       [4.99989883e+00, 1.20000000e+01],\n",
       "       [4.76217941e+00, 4.10000000e+01],\n",
       "       [4.35115603e-02, 4.10000000e+01],\n",
       "       [1.35455409e+00, 1.20000000e+01],\n",
       "       [4.01802338e+00, 4.20000000e+01],\n",
       "       [3.40228641e-01, 4.20000000e+01],\n",
       "       [5.95928303e+00, 1.20000000e+01],\n",
       "       [2.06938982e-06, 4.30000000e+01],\n",
       "       [2.22174123e+00, 4.30000000e+01],\n",
       "       [1.09936112e+01, 1.20000000e+01],\n",
       "       [3.12921587e-01, 4.40000000e+01],\n",
       "       [3.82224571e+01, 4.40000000e+01],\n",
       "       [1.19918074e+01, 1.20000000e+01],\n",
       "       [2.44367976e+01, 4.50000000e+01],\n",
       "       [4.41006219e+01, 4.50000000e+01],\n",
       "       [4.90492891e+00, 1.20000000e+01],\n",
       "       [5.46026271e-02, 4.60000000e+01],\n",
       "       [3.51213339e+01, 4.60000000e+01],\n",
       "       [7.51131389e-01, 1.20000000e+01],\n",
       "       [4.68147783e+01, 4.70000000e+01],\n",
       "       [2.33654727e+01, 4.70000000e+01],\n",
       "       [1.06969911e+01, 1.20000000e+01],\n",
       "       [2.62287852e+01, 4.80000000e+01],\n",
       "       [4.45072949e+01, 4.80000000e+01],\n",
       "       [3.78484550e+00, 1.20000000e+01],\n",
       "       [7.74556245e+00, 4.90000000e+01],\n",
       "       [1.77847589e+01, 4.90000000e+01],\n",
       "       [4.46169265e+00, 1.20000000e+01],\n",
       "       [1.99647582e+00, 5.00000000e+01],\n",
       "       [1.53239226e-03, 5.00000000e+01],\n",
       "       [2.97949929e+00, 1.20000000e+01],\n",
       "       [1.23137630e+00, 5.10000000e+01],\n",
       "       [2.47125897e+01, 5.10000000e+01],\n",
       "       [4.64298318e-04, 1.20000000e+01],\n",
       "       [2.07325712e-08, 5.20000000e+01],\n",
       "       [4.91778982e+00, 5.20000000e+01],\n",
       "       [1.17379146e+01, 1.20000000e+01],\n",
       "       [3.27636106e+00, 5.30000000e+01],\n",
       "       [1.37753671e-02, 5.30000000e+01],\n",
       "       [2.10189277e+00, 1.20000000e+01],\n",
       "       [1.70492578e+01, 5.40000000e+01],\n",
       "       [5.39940366e+01, 5.40000000e+01],\n",
       "       [9.51143671e-03, 5.50000000e+01]])"
      ]
     },
     "execution_count": 154,
     "metadata": {},
     "output_type": "execute_result"
    }
   ],
   "source": [
    "np.c_[bb,bounds]"
   ]
  },
  {
   "cell_type": "code",
   "execution_count": 100,
   "metadata": {},
   "outputs": [],
   "source": [
    "c = toolbox.update(i)"
   ]
  },
  {
   "cell_type": "code",
   "execution_count": 101,
   "metadata": {},
   "outputs": [],
   "source": [
    "c"
   ]
  },
  {
   "cell_type": "code",
   "execution_count": 65,
   "metadata": {},
   "outputs": [],
   "source": [
    "def plot_results(outs):\n",
    "    costs = np.array(outs)\n",
    "    print('mean:', np.mean(costs))\n",
    "    print('median:', np.median(costs))\n",
    "    print('variance:',np.var(costs))\n",
    "    print('min:', np.min(costs))\n",
    "    sns.distplot(costs);"
   ]
  },
  {
   "cell_type": "code",
   "execution_count": 66,
   "metadata": {},
   "outputs": [
    {
     "name": "stdout",
     "output_type": "stream",
     "text": [
      "Nguyen4\n",
      "mean: 0.5285101406977919\n",
      "median: 0.4183817170678142\n",
      "variance: 0.09326328253328724\n",
      "min: 0.20161383681627815\n"
     ]
    },
    {
     "data": {
      "image/png": "[encoded data removed]",
      "text/plain": [
       "<matplotlib.figure.Figure at 0x7fd6f1603fd0>"
      ]
     },
     "metadata": {},
     "output_type": "display_data"
    }
   ],
   "source": [
    "print('Nguyen4')\n",
    "plot_results([x[0] for x in rv_results[0]])"
   ]
  },
  {
   "cell_type": "code",
   "execution_count": 67,
   "metadata": {},
   "outputs": [
    {
     "name": "stdout",
     "output_type": "stream",
     "text": [
      "Nguyen7\n",
      "mean: 0.028908218592275586\n",
      "median: 0.00451780748056445\n",
      "variance: 0.0033634480612051384\n",
      "min: 0.0010923017384734887\n"
     ]
    },
    {
     "data": {
      "image/png": "[encoded data removed]",
      "text/plain": [
       "<matplotlib.figure.Figure at 0x7fd6f177be48>"
      ]
     },
     "metadata": {},
     "output_type": "display_data"
    }
   ],
   "source": [
    "print('Nguyen7')\n",
    "plot_results([x[0] for x in rv_results[1]])"
   ]
  },
  {
   "cell_type": "code",
   "execution_count": 68,
   "metadata": {},
   "outputs": [
    {
     "name": "stdout",
     "output_type": "stream",
     "text": [
      "Nguyen10\n",
      "mean: 0.0550873073246657\n",
      "median: 0.05664908275304502\n",
      "variance: 2.846582129606875e-05\n",
      "min: 0.03911951824957429\n"
     ]
    },
    {
     "data": {
      "image/png": "[encoded data removed]",
      "text/plain": [
       "<matplotlib.figure.Figure at 0x7fd6f168c898>"
      ]
     },
     "metadata": {},
     "output_type": "display_data"
    }
   ],
   "source": [
    "print('Nguyen10')\n",
    "plot_results([x[0] for x in rv_results[2]])"
   ]
  },
  {
   "cell_type": "code",
   "execution_count": 69,
   "metadata": {},
   "outputs": [
    {
     "name": "stdout",
     "output_type": "stream",
     "text": [
      "Korns12\n",
      "mean: 2.321134298288013\n",
      "median: 2.3211342982748384\n",
      "variance: 1.1175062628219103e-21\n",
      "min: 2.3211342982742846\n"
     ]
    },
    {
     "data": {
      "image/png": "[encoded data removed]",
      "text/plain": [
       "<matplotlib.figure.Figure at 0x7fd6f1db74e0>"
      ]
     },
     "metadata": {},
     "output_type": "display_data"
    }
   ],
   "source": [
    "print('Korns12')\n",
    "plot_results([x[0] for x in rv_results[3]])"
   ]
  },
  {
   "cell_type": "code",
   "execution_count": null,
   "metadata": {},
   "outputs": [],
   "source": []
  },
  {
   "cell_type": "code",
   "execution_count": null,
   "metadata": {},
   "outputs": [],
   "source": []
  }
 ],
 "metadata": {
  "kernelspec": {
   "display_name": "Python 3",
   "language": "python",
   "name": "python3"
  },
  "language_info": {
   "codemirror_mode": {
    "name": "ipython",
    "version": 3
   },
   "file_extension": ".py",
   "mimetype": "text/x-python",
   "name": "python",
   "nbconvert_exporter": "python",
   "pygments_lexer": "ipython3",
   "version": "3.6.4"
  }
 },
 "nbformat": 4,
 "nbformat_minor": 2
}
