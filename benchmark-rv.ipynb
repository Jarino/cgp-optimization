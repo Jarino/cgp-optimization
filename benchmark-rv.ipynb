{
 "cells": [
  {
   "cell_type": "code",
   "execution_count": 1,
   "metadata": {},
   "outputs": [],
   "source": [
    "import random\n",
    "\n",
    "import numpy as np\n",
    "from sklearn.metrics import mean_squared_error\n",
    "import matplotlib.pyplot as plt\n",
    "import seaborn as sns\n",
    "\n",
    "import tengp\n",
    "from gpbenchmarks import get_data\n",
    "\n",
    "\n",
    "def pdivide(x, y):\n",
    "    return np.divide(x, y, out=np.copy(x), where=x!=0)\n",
    "\n",
    "def plog(x, y):\n",
    "    return np.log(x, out=np.copy(x), where=x>0)\n",
    "\n",
    "def psin(x, y):\n",
    "    return np.sin(x)\n",
    "\n",
    "def pcos(x, y):\n",
    "    return np.cos(x)\n",
    "\n",
    "def pow2(x, y):\n",
    "    return x**2\n",
    "\n",
    "def pow3(x, y):\n",
    "    return x**3\n",
    "\n",
    "def ptan(x, y):\n",
    "    return np.tan(x)\n",
    "\n",
    "def ptanh(x, y):\n",
    "    return np.tanh(x)\n",
    "\n",
    "def psqrt(x, y):\n",
    "    return  np.sqrt(x)\n",
    "\n",
    "def pexp(x, y):\n",
    "    return np.exp(x)\n",
    "\n",
    "\n",
    "funset = tengp.FunctionSet()\n",
    "funset.add(np.add, 2)\n",
    "funset.add(np.subtract, 2)\n",
    "funset.add(np.multiply, 2)\n",
    "funset.add(pdivide, 2)\n",
    "funset.add(plog, 2)\n",
    "funset.add(psin, 2)\n",
    "funset.add(pcos, 2)\n",
    "\n",
    "#     function set: +, -, *, /, sin, cos, tan, tanh, sqrt, exp, log, **2, **3\n",
    "ext_funset = tengp.FunctionSet()\n",
    "ext_funset.add(np.add, 2)\n",
    "ext_funset.add(np.subtract, 2)\n",
    "ext_funset.add(np.multiply, 2)\n",
    "ext_funset.add(pdivide, 2)\n",
    "ext_funset.add(psin, 2)\n",
    "ext_funset.add(pcos, 2)\n",
    "ext_funset.add(ptan, 2)\n",
    "ext_funset.add(ptanh, 2)\n",
    "ext_funset.add(psqrt, 2)\n",
    "ext_funset.add(pexp, 2)\n",
    "ext_funset.add(plog, 2)\n",
    "ext_funset.add(pow2, 2)\n",
    "ext_funset.add(pow3, 2)\n",
    "\n",
    "params1d = tengp.Parameters(2, 1, 1, 100, funset, real_valued=True)\n",
    "params2d = tengp.Parameters(3, 1, 1, 100, funset, real_valued=True)\n",
    "params5d = tengp.Parameters(6, 1, 1, 100, ext_funset, real_valued=True)\n",
    "\n",
    "functions = [('nguyenf4', params1d, [20, -1, 1]), ('nguyenf7', params1d, [20, 0, 2]), ('nguyenf10', params2d, [100, -1, 1]), ('korns12', params5d, [10000, -50, 50])]"
   ]
  },
  {
   "cell_type": "code",
   "execution_count": 2,
   "metadata": {},
   "outputs": [],
   "source": [
    "trials = 100"
   ]
  },
  {
   "cell_type": "code",
   "execution_count": 3,
   "metadata": {},
   "outputs": [],
   "source": [
    "def cost_function(params, bounds, y, X, G):\n",
    "    clipped = []\n",
    "    for gene, bound in zip(G, bounds):\n",
    "        if gene < 0:\n",
    "            clipped.append(0)\n",
    "        elif gene > bound:\n",
    "            clipped.append(bound)\n",
    "        else:\n",
    "            clipped.append(gene)\n",
    "\n",
    "    individual = tengp.individual.NPIndividual(clipped, bounds, params)\n",
    "    pred = individual.transform(X)\n",
    "\n",
    "    try:\n",
    "        out = mean_squared_error(pred, y)\n",
    "    except ValueError:\n",
    "        out = np.inf\n",
    "    return (out, )"
   ]
  },
  {
   "cell_type": "code",
   "execution_count": 4,
   "metadata": {},
   "outputs": [],
   "source": [
    "from deap import creator, base, tools, cma, algorithms"
   ]
  },
  {
   "cell_type": "code",
   "execution_count": 5,
   "metadata": {},
   "outputs": [
    {
     "name": "stdout",
     "output_type": "stream",
     "text": [
      "nguyenf4\n",
      "0,"
     ]
    },
    {
     "name": "stderr",
     "output_type": "stream",
     "text": [
      "/home/jarino/anaconda3/lib/python3.6/site-packages/ipykernel_launcher.py:13: RuntimeWarning: divide by zero encountered in true_divide\n",
      "  del sys.path[0]\n",
      "/home/jarino/anaconda3/lib/python3.6/site-packages/ipykernel_launcher.py:19: RuntimeWarning: invalid value encountered in sin\n",
      "/home/jarino/anaconda3/lib/python3.6/site-packages/ipykernel_launcher.py:22: RuntimeWarning: invalid value encountered in cos\n",
      "/mnt/c/Users/jarinov-notas/dev/tengp/tengp/individual.py:146: RuntimeWarning: invalid value encountered in multiply\n",
      "  upper_function = a*( fun_upper((1-c) * self.nodes[c_lower].value, c * self.nodes[c_upper].value))\n",
      "/home/jarino/anaconda3/lib/python3.6/site-packages/ipykernel_launcher.py:13: RuntimeWarning: invalid value encountered in true_divide\n",
      "  del sys.path[0]\n",
      "/home/jarino/anaconda3/lib/python3.6/site-packages/ipykernel_launcher.py:16: RuntimeWarning: invalid value encountered in greater\n",
      "  app.launch_new_instance()\n",
      "/mnt/c/Users/jarinov-notas/dev/tengp/tengp/individual.py:148: RuntimeWarning: invalid value encountered in add\n",
      "  current_node.value = lower_function + upper_function\n",
      "/mnt/c/Users/jarinov-notas/dev/tengp/tengp/individual.py:144: RuntimeWarning: invalid value encountered in subtract\n",
      "  lower_function = (1-a)*( fun_lower((1-b) * self.nodes[b_lower].value, b*self.nodes[b_upper].value))\n",
      "/mnt/c/Users/jarinov-notas/dev/tengp/tengp/individual.py:144: RuntimeWarning: invalid value encountered in multiply\n",
      "  lower_function = (1-a)*( fun_lower((1-b) * self.nodes[b_lower].value, b*self.nodes[b_upper].value))\n",
      "/mnt/c/Users/jarinov-notas/dev/tengp/tengp/individual.py:118: RuntimeWarning: invalid value encountered in add\n",
      "  value = (1-coeff)*self.nodes[lower].value + coeff*self.nodes[upper].value\n",
      "/mnt/c/Users/jarinov-notas/dev/tengp/tengp/individual.py:146: RuntimeWarning: invalid value encountered in add\n",
      "  upper_function = a*( fun_upper((1-c) * self.nodes[c_lower].value, c * self.nodes[c_upper].value))\n",
      "/mnt/c/Users/jarinov-notas/dev/tengp/tengp/individual.py:146: RuntimeWarning: invalid value encountered in subtract\n",
      "  upper_function = a*( fun_upper((1-c) * self.nodes[c_lower].value, c * self.nodes[c_upper].value))\n",
      "/mnt/c/Users/jarinov-notas/dev/tengp/tengp/individual.py:144: RuntimeWarning: invalid value encountered in add\n",
      "  lower_function = (1-a)*( fun_lower((1-b) * self.nodes[b_lower].value, b*self.nodes[b_upper].value))\n",
      "/home/jarino/anaconda3/lib/python3.6/site-packages/numpy/core/_methods.py:32: RuntimeWarning: invalid value encountered in reduce\n",
      "  return umr_sum(a, axis, dtype, out, keepdims)\n"
     ]
    },
    {
     "name": "stdout",
     "output_type": "stream",
     "text": [
      "1,"
     ]
    },
    {
     "name": "stderr",
     "output_type": "stream",
     "text": [
      "/home/jarino/anaconda3/lib/python3.6/site-packages/deap/creator.py:141: RuntimeWarning: A class named 'FitnessMin' has already been created and it will be overwritten. Consider deleting previous creation of that class or rename it.\n",
      "  RuntimeWarning)\n",
      "/home/jarino/anaconda3/lib/python3.6/site-packages/deap/creator.py:141: RuntimeWarning: A class named 'Individual' has already been created and it will be overwritten. Consider deleting previous creation of that class or rename it.\n",
      "  RuntimeWarning)\n"
     ]
    },
    {
     "name": "stdout",
     "output_type": "stream",
     "text": [
      "2,3,4,5,6,7,8,9,10,11,12,13,14,15,16,17,18,19,20,21,22,23,24,25,26,27,28,29,30,31,32,33,34,35,36,37,38,39,40,41,42,43,44,45,46,47,48,49,50,51,52,53,54,55,56,57,58,59,60,61,62,63,64,65,66,67,68,69,70,71,72,73,74,75,76,77,78,79,80,81,82,83,84,85,86,87,88,89,90,91,92,93,94,95,96,97,98,99,\n",
      "nguyenf7\n",
      "0,1,2,3,4,5,6,7,8,9,10,11,12,13,14,15,16,17,18,19,20,21,22,23,24,25,26,27,28,29,30,31,32,33,34,35,36,37,38,39,40,41,42,43,44,45,46,47,48,49,50,51,52,53,54,55,56,57,58,59,60,61,62,63,64,65,66,67,68,69,70,71,72,73,74,75,76,77,78,79,80,81,82,83,84,85,86,87,88,89,90,91,92,93,94,95,96,97,98,99,\n",
      "nguyenf10\n",
      "0,1,2,3,4,5,6,7,8,9,10,11,12,13,14,15,16,17,18,19,20,21,22,23,24,25,26,27,28,29,30,31,32,33,34,35,36,37,38,39,40,41,42,43,44,45,46,47,48,49,50,51,52,53,54,55,56,57,58,59,60,61,62,63,64,65,66,67,68,69,70,71,72,73,74,75,76,77,78,79,80,81,82,83,84,85,86,87,88,89,90,91,92,93,94,95,96,97,98,99,\n",
      "korns12\n",
      "0,"
     ]
    },
    {
     "name": "stderr",
     "output_type": "stream",
     "text": [
      "/home/jarino/anaconda3/lib/python3.6/site-packages/ipykernel_launcher.py:37: RuntimeWarning: invalid value encountered in sqrt\n",
      "/home/jarino/anaconda3/lib/python3.6/site-packages/ipykernel_launcher.py:31: RuntimeWarning: invalid value encountered in tan\n",
      "/home/jarino/anaconda3/lib/python3.6/site-packages/sklearn/metrics/regression.py:239: RuntimeWarning: overflow encountered in square\n",
      "  output_errors = np.average((y_true - y_pred) ** 2, axis=0,\n"
     ]
    },
    {
     "name": "stdout",
     "output_type": "stream",
     "text": [
      "1,"
     ]
    },
    {
     "name": "stderr",
     "output_type": "stream",
     "text": [
      "/home/jarino/anaconda3/lib/python3.6/site-packages/ipykernel_launcher.py:40: RuntimeWarning: overflow encountered in exp\n",
      "/home/jarino/anaconda3/lib/python3.6/site-packages/ipykernel_launcher.py:28: RuntimeWarning: overflow encountered in power\n",
      "/home/jarino/anaconda3/lib/python3.6/site-packages/numpy/core/_methods.py:32: RuntimeWarning: overflow encountered in reduce\n",
      "  return umr_sum(a, axis, dtype, out, keepdims)\n",
      "/home/jarino/anaconda3/lib/python3.6/site-packages/ipykernel_launcher.py:25: RuntimeWarning: overflow encountered in square\n"
     ]
    },
    {
     "name": "stdout",
     "output_type": "stream",
     "text": [
      "2,3,4,"
     ]
    },
    {
     "name": "stderr",
     "output_type": "stream",
     "text": [
      "/mnt/c/Users/jarinov-notas/dev/tengp/tengp/individual.py:146: RuntimeWarning: overflow encountered in multiply\n",
      "  upper_function = a*( fun_upper((1-c) * self.nodes[c_lower].value, c * self.nodes[c_upper].value))\n"
     ]
    },
    {
     "name": "stdout",
     "output_type": "stream",
     "text": [
      "5,6,"
     ]
    },
    {
     "name": "stderr",
     "output_type": "stream",
     "text": [
      "/home/jarino/anaconda3/lib/python3.6/site-packages/ipykernel_launcher.py:13: RuntimeWarning: overflow encountered in true_divide\n",
      "  del sys.path[0]\n"
     ]
    },
    {
     "name": "stdout",
     "output_type": "stream",
     "text": [
      "7,8,9,"
     ]
    },
    {
     "name": "stderr",
     "output_type": "stream",
     "text": [
      "/mnt/c/Users/jarinov-notas/dev/tengp/tengp/individual.py:118: RuntimeWarning: overflow encountered in multiply\n",
      "  value = (1-coeff)*self.nodes[lower].value + coeff*self.nodes[upper].value\n",
      "/mnt/c/Users/jarinov-notas/dev/tengp/tengp/individual.py:144: RuntimeWarning: overflow encountered in multiply\n",
      "  lower_function = (1-a)*( fun_lower((1-b) * self.nodes[b_lower].value, b*self.nodes[b_upper].value))\n",
      "/home/jarino/anaconda3/lib/python3.6/site-packages/numpy/core/_methods.py:70: RuntimeWarning: overflow encountered in reduce\n",
      "  ret = umr_sum(arr, axis, dtype, out, keepdims)\n"
     ]
    },
    {
     "name": "stdout",
     "output_type": "stream",
     "text": [
      "10,11,12,13,14,15,16,17,18,19,20,21,22,23,24,25,26,27,28,29,30,31,32,33,34,35,36,37,38,39,40,41,42,43,44,45,46,47,48,49,50,51,52,53,54,55,56,57,58,59,60,61,62,63,64,65,66,67,68,69,70,71,72,73,74,75,76,77,78,79,80,81,82,83,84,85,86,87,88,89,90,91,92,93,94,95,96,97,98,99,\n",
      "CPU times: user 9h 35min 21s, sys: 8min 27s, total: 9h 43min 48s\n",
      "Wall time: 6h 14min 52s\n"
     ]
    }
   ],
   "source": [
    "%%time\n",
    "\n",
    "rv_results = []\n",
    "\n",
    "for function in functions:\n",
    "    print(function[0])\n",
    "    trial_results = []\n",
    "    for trial in range(trials):\n",
    "        print(trial, end=',')\n",
    "        params = function[1]\n",
    "        X, y = get_data(function[0], *function[2])\n",
    "        X = np.c_[np.ones(len(X)), X]\n",
    "        bounds = tengp.individual.IndividualBuilder(params).create().bounds[:]\n",
    "\n",
    "        creator.create('FitnessMin', base.Fitness, weights=(-1.0,))\n",
    "        creator.create('Individual', list, fitness=creator.FitnessMin)\n",
    "\n",
    "        toolbox = base.Toolbox()\n",
    "        toolbox.register('evaluate', cost_function, params, bounds, y, X)\n",
    "\n",
    "        strategy = cma.Strategy(centroid=[np.random.uniform(0, b) for b in bounds], sigma=2)\n",
    "\n",
    "        toolbox.register(\"generate\", strategy.generate, creator.Individual)\n",
    "        toolbox.register(\"update\", strategy.update)\n",
    "\n",
    "        hof = tools.HallOfFame(1)\n",
    "\n",
    "        res = algorithms.eaGenerateUpdate(toolbox, ngen=250, halloffame=hof, verbose=False)\n",
    "        \n",
    "        trial_results.append(toolbox.evaluate(hof[0]))\n",
    "    rv_results.append(trial_results)\n",
    "    print()"
   ]
  },
  {
   "cell_type": "code",
   "execution_count": 17,
   "metadata": {},
   "outputs": [
    {
     "data": {
      "text/plain": [
       "0.09258046610910982"
      ]
     },
     "execution_count": 17,
     "metadata": {},
     "output_type": "execute_result"
    }
   ],
   "source": [
    "np.mean(rv_results[1])"
   ]
  },
  {
   "cell_type": "code",
   "execution_count": null,
   "metadata": {},
   "outputs": [],
   "source": []
  }
 ],
 "metadata": {
  "kernelspec": {
   "display_name": "Python 3",
   "language": "python",
   "name": "python3"
  },
  "language_info": {
   "codemirror_mode": {
    "name": "ipython",
    "version": 3
   },
   "file_extension": ".py",
   "mimetype": "text/x-python",
   "name": "python",
   "nbconvert_exporter": "python",
   "pygments_lexer": "ipython3",
   "version": "3.6.4"
  }
 },
 "nbformat": 4,
 "nbformat_minor": 2
}
