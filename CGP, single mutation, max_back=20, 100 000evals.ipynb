{
 "cells": [
  {
   "cell_type": "markdown",
   "metadata": {},
   "source": [
    "- simple evolution strategy, 100 000 evaluations, single mutation\n",
    "- max_back=20"
   ]
  },
  {
   "cell_type": "code",
   "execution_count": 30,
   "metadata": {},
   "outputs": [],
   "source": [
    "import random\n",
    "\n",
    "import numpy as np\n",
    "from sklearn.metrics import mean_squared_error\n",
    "import matplotlib.pyplot as plt\n",
    "import seaborn as sns\n",
    "\n",
    "import tengp\n",
    "import symreg\n",
    "from gpbenchmarks import get_data\n",
    "\n",
    "from experiment_settings import nguyen7_funset, pagie_funset, keijzer_funset, korns12_funset, vlad_funset\n",
    "\n",
    "def plot_results(name, outs):\n",
    "    print(name)\n",
    "    costs = np.array(outs)\n",
    "    print('min:', np.min(costs))\n",
    "    print('mean:', np.mean(costs))\n",
    "    print('median:', np.median(costs))\n",
    "    print('variance:',np.var(costs))\n",
    "    plt.figure()\n",
    "    plt.title(name)\n",
    "    sns.distplot(costs, kde=False);\n",
    "    \n",
    "\n",
    "def run_experiment(data_item, cost_function):\n",
    "    results = []\n",
    "    logs = []\n",
    "    \n",
    "    name, (x_train, y_train, x_test, y_test), params = data_item\n",
    "    x_train = np.c_[x_train, np.ones(len(x_train))]\n",
    "    print(name)\n",
    "    \n",
    "    bounds = tengp.individual.IndividualBuilder(params).create().bounds[:]\n",
    "    \n",
    "    random.seed(42)\n",
    "    \n",
    "    for i in range(3):\n",
    "        print(i, end=',')\n",
    "        log = []\n",
    "        \n",
    "        res = tengp.simple_es(x_train, y_train, cost_function, params, evaluations=100000, mutation='single', log=log)\n",
    "        \n",
    "        results.append(res[0].fitness)\n",
    "        logs.append(log)\n",
    "    \n",
    "    return results, logs"
   ]
  },
  {
   "cell_type": "code",
   "execution_count": 31,
   "metadata": {},
   "outputs": [],
   "source": [
    "import pickle"
   ]
  },
  {
   "cell_type": "code",
   "execution_count": 32,
   "metadata": {},
   "outputs": [],
   "source": [
    "kw_params = {'real_valued': False, 'max_back': 20}\n",
    "\n",
    "params_nguyen4 = tengp.Parameters(2, 1, 1, 50, nguyen7_funset, **kw_params)\n",
    "params_nguyen7 = tengp.Parameters(2, 1, 1, 50, nguyen7_funset, **kw_params)\n",
    "params_nguyen10 = tengp.Parameters(3, 1, 1, 50, nguyen7_funset, **kw_params)\n",
    "params_pagie1  = tengp.Parameters(3, 1, 1, 50, pagie_funset, **kw_params)\n",
    "params_keijzer6 = tengp.Parameters(2, 1, 1, 50, keijzer_funset, **kw_params)\n",
    "params_korns = tengp.Parameters(6, 1, 1, 50, korns12_funset, **kw_params)\n",
    "params_vlad = tengp.Parameters(5, 1, 1, 50, vlad_funset, **kw_params)\n",
    "\n",
    "all_params = [params_nguyen7, params_pagie1, params_keijzer6, params_korns, params_vlad]"
   ]
  },
  {
   "cell_type": "code",
   "execution_count": 33,
   "metadata": {},
   "outputs": [],
   "source": [
    "data = [\n",
    "    ('nguyen4', symreg.get_benchmark_poly(random, 6), params_nguyen4),\n",
    "    ('nguyen7', symreg.get_benchmark_nguyen7(random, None), params_nguyen7),\n",
    "    ('nguyen10', symreg.get_benchmark_nguyen10(random, None), params_nguyen10),\n",
    "    ('pagie1', symreg.get_benchmark_pagie1(random, None), params_pagie1),\n",
    "    ('keijzer6', symreg.get_benchmark_keijzer(random, 6), params_keijzer6),\n",
    "    ('korns12', symreg.get_benchmark_korns(random, 12), params_korns),\n",
    "    ('vladislasleva4', symreg.get_benchmark_vladislasleva4(random, None), params_vlad)\n",
    "]"
   ]
  },
  {
   "cell_type": "code",
   "execution_count": 34,
   "metadata": {},
   "outputs": [],
   "source": [
    "OUTPUT_FOLDER = 'results/baseline_100_000_demo/'"
   ]
  },
  {
   "cell_type": "markdown",
   "metadata": {},
   "source": [
    "# Nguyen 4"
   ]
  },
  {
   "cell_type": "code",
   "execution_count": 35,
   "metadata": {
    "scrolled": true
   },
   "outputs": [
    {
     "name": "stdout",
     "output_type": "stream",
     "text": [
      "nguyen4\n",
      "0,"
     ]
    },
    {
     "name": "stderr",
     "output_type": "stream",
     "text": [
      "/mnt/c/Users/jarinov-notas/dev/cgp-optimization-experiment/experiment_settings.py:8: RuntimeWarning: divide by zero encountered in true_divide\n",
      "  return np.divide(x, y, out=np.copy(x), where=x!=0)\n",
      "/mnt/c/Users/jarinov-notas/dev/cgp-optimization-experiment/experiment_settings.py:14: RuntimeWarning: invalid value encountered in sin\n",
      "  return np.sin(x)\n",
      "/mnt/c/Users/jarinov-notas/dev/cgp-optimization-experiment/experiment_settings.py:17: RuntimeWarning: invalid value encountered in cos\n",
      "  return np.cos(x)\n",
      "/mnt/c/Users/jarinov-notas/dev/tengp/tengp/individual.py:160: RuntimeWarning: invalid value encountered in add\n",
      "  current_node.value = current_node.fun(*values)\n",
      "/mnt/c/Users/jarinov-notas/dev/cgp-optimization-experiment/experiment_settings.py:11: RuntimeWarning: invalid value encountered in greater\n",
      "  return np.log(x, out=np.copy(x), where=x>0)\n",
      "/mnt/c/Users/jarinov-notas/dev/cgp-optimization-experiment/experiment_settings.py:8: RuntimeWarning: invalid value encountered in true_divide\n",
      "  return np.divide(x, y, out=np.copy(x), where=x!=0)\n",
      "/home/jarino/anaconda3/lib/python3.6/site-packages/numpy/core/_methods.py:32: RuntimeWarning: invalid value encountered in reduce\n",
      "  return umr_sum(a, axis, dtype, out, keepdims)\n",
      "/mnt/c/Users/jarinov-notas/dev/tengp/tengp/individual.py:160: RuntimeWarning: invalid value encountered in multiply\n",
      "  current_node.value = current_node.fun(*values)\n",
      "/mnt/c/Users/jarinov-notas/dev/tengp/tengp/individual.py:160: RuntimeWarning: invalid value encountered in subtract\n",
      "  current_node.value = current_node.fun(*values)\n"
     ]
    },
    {
     "name": "stdout",
     "output_type": "stream",
     "text": [
      "1,2,CPU times: user 3min 5s, sys: 125 ms, total: 3min 5s\n",
      "Wall time: 3min 10s\n"
     ]
    }
   ],
   "source": [
    "%%time\n",
    "\n",
    "ng4_res, ng4_log = run_experiment(data[0], mean_squared_error)"
   ]
  },
  {
   "cell_type": "code",
   "execution_count": 36,
   "metadata": {},
   "outputs": [],
   "source": [
    "import pickle\n",
    "\n",
    "pickle.dump(ng4_res, open(f'{OUTPUT_FOLDER}ng4_res_100_000evals', 'wb'))\n",
    "pickle.dump(ng4_log, open(f'{OUTPUT_FOLDER}ng4_log_100_000evals', 'wb'))"
   ]
  },
  {
   "cell_type": "markdown",
   "metadata": {},
   "source": [
    "# Nguyen 7\n"
   ]
  },
  {
   "cell_type": "code",
   "execution_count": 37,
   "metadata": {
    "scrolled": false
   },
   "outputs": [
    {
     "name": "stdout",
     "output_type": "stream",
     "text": [
      "nguyen7\n",
      "0,"
     ]
    },
    {
     "name": "stderr",
     "output_type": "stream",
     "text": [
      "/mnt/c/Users/jarinov-notas/dev/cgp-optimization-experiment/experiment_settings.py:8: RuntimeWarning: divide by zero encountered in true_divide\n",
      "  return np.divide(x, y, out=np.copy(x), where=x!=0)\n",
      "/mnt/c/Users/jarinov-notas/dev/cgp-optimization-experiment/experiment_settings.py:14: RuntimeWarning: invalid value encountered in sin\n",
      "  return np.sin(x)\n",
      "/mnt/c/Users/jarinov-notas/dev/cgp-optimization-experiment/experiment_settings.py:17: RuntimeWarning: invalid value encountered in cos\n",
      "  return np.cos(x)\n",
      "/mnt/c/Users/jarinov-notas/dev/cgp-optimization-experiment/experiment_settings.py:11: RuntimeWarning: invalid value encountered in greater\n",
      "  return np.log(x, out=np.copy(x), where=x>0)\n",
      "/mnt/c/Users/jarinov-notas/dev/tengp/tengp/individual.py:160: RuntimeWarning: invalid value encountered in subtract\n",
      "  current_node.value = current_node.fun(*values)\n",
      "/mnt/c/Users/jarinov-notas/dev/cgp-optimization-experiment/experiment_settings.py:8: RuntimeWarning: invalid value encountered in true_divide\n",
      "  return np.divide(x, y, out=np.copy(x), where=x!=0)\n",
      "/mnt/c/Users/jarinov-notas/dev/tengp/tengp/individual.py:160: RuntimeWarning: invalid value encountered in multiply\n",
      "  current_node.value = current_node.fun(*values)\n",
      "/home/jarino/anaconda3/lib/python3.6/site-packages/numpy/core/_methods.py:32: RuntimeWarning: invalid value encountered in reduce\n",
      "  return umr_sum(a, axis, dtype, out, keepdims)\n"
     ]
    },
    {
     "name": "stdout",
     "output_type": "stream",
     "text": [
      "1,2,"
     ]
    },
    {
     "name": "stderr",
     "output_type": "stream",
     "text": [
      "/mnt/c/Users/jarinov-notas/dev/tengp/tengp/individual.py:160: RuntimeWarning: invalid value encountered in add\n",
      "  current_node.value = current_node.fun(*values)\n"
     ]
    },
    {
     "name": "stdout",
     "output_type": "stream",
     "text": [
      "CPU times: user 2min 58s, sys: 93.8 ms, total: 2min 58s\n",
      "Wall time: 3min 1s\n"
     ]
    }
   ],
   "source": [
    "%%time\n",
    "\n",
    "ng7_res, ng7_log = run_experiment(data[1], mean_squared_error)"
   ]
  },
  {
   "cell_type": "code",
   "execution_count": 38,
   "metadata": {},
   "outputs": [],
   "source": [
    "pickle.dump(ng7_res, open(f'{OUTPUT_FOLDER}ng7_res_100_000evals', 'wb'))\n",
    "pickle.dump(ng7_log, open(f'{OUTPUT_FOLDER}ng7_log_100_000evals', 'wb'))"
   ]
  },
  {
   "cell_type": "markdown",
   "metadata": {},
   "source": [
    "# Nguyen 10"
   ]
  },
  {
   "cell_type": "code",
   "execution_count": 39,
   "metadata": {},
   "outputs": [
    {
     "name": "stdout",
     "output_type": "stream",
     "text": [
      "nguyen10\n",
      "0,"
     ]
    },
    {
     "name": "stderr",
     "output_type": "stream",
     "text": [
      "/mnt/c/Users/jarinov-notas/dev/cgp-optimization-experiment/experiment_settings.py:8: RuntimeWarning: divide by zero encountered in true_divide\n",
      "  return np.divide(x, y, out=np.copy(x), where=x!=0)\n",
      "/mnt/c/Users/jarinov-notas/dev/tengp/tengp/individual.py:160: RuntimeWarning: invalid value encountered in subtract\n",
      "  current_node.value = current_node.fun(*values)\n",
      "/mnt/c/Users/jarinov-notas/dev/cgp-optimization-experiment/experiment_settings.py:17: RuntimeWarning: invalid value encountered in cos\n",
      "  return np.cos(x)\n",
      "/mnt/c/Users/jarinov-notas/dev/cgp-optimization-experiment/experiment_settings.py:14: RuntimeWarning: invalid value encountered in sin\n",
      "  return np.sin(x)\n",
      "/home/jarino/anaconda3/lib/python3.6/site-packages/numpy/core/_methods.py:32: RuntimeWarning: invalid value encountered in reduce\n",
      "  return umr_sum(a, axis, dtype, out, keepdims)\n"
     ]
    },
    {
     "name": "stdout",
     "output_type": "stream",
     "text": [
      "1,"
     ]
    },
    {
     "name": "stderr",
     "output_type": "stream",
     "text": [
      "/mnt/c/Users/jarinov-notas/dev/cgp-optimization-experiment/experiment_settings.py:11: RuntimeWarning: invalid value encountered in greater\n",
      "  return np.log(x, out=np.copy(x), where=x>0)\n",
      "/mnt/c/Users/jarinov-notas/dev/tengp/tengp/individual.py:160: RuntimeWarning: invalid value encountered in multiply\n",
      "  current_node.value = current_node.fun(*values)\n",
      "/mnt/c/Users/jarinov-notas/dev/cgp-optimization-experiment/experiment_settings.py:8: RuntimeWarning: invalid value encountered in true_divide\n",
      "  return np.divide(x, y, out=np.copy(x), where=x!=0)\n",
      "/mnt/c/Users/jarinov-notas/dev/tengp/tengp/individual.py:160: RuntimeWarning: invalid value encountered in add\n",
      "  current_node.value = current_node.fun(*values)\n"
     ]
    },
    {
     "name": "stdout",
     "output_type": "stream",
     "text": [
      "2,CPU times: user 1min 10s, sys: 125 ms, total: 1min 10s\n",
      "Wall time: 1min 12s\n"
     ]
    }
   ],
   "source": [
    "%%time\n",
    "\n",
    "ng10_res, ng10_log = run_experiment(data[2], mean_squared_error)"
   ]
  },
  {
   "cell_type": "code",
   "execution_count": 40,
   "metadata": {},
   "outputs": [],
   "source": [
    "pickle.dump(ng10_res, open(f'{OUTPUT_FOLDER}ng10_res_100_000evals', 'wb'))\n",
    "pickle.dump(ng10_log, open(f'{OUTPUT_FOLDER}ng10_log_100_000evals', 'wb'))"
   ]
  },
  {
   "cell_type": "markdown",
   "metadata": {},
   "source": [
    "# Pagie"
   ]
  },
  {
   "cell_type": "code",
   "execution_count": 41,
   "metadata": {
    "scrolled": true
   },
   "outputs": [
    {
     "name": "stdout",
     "output_type": "stream",
     "text": [
      "pagie1\n",
      "0,"
     ]
    },
    {
     "name": "stderr",
     "output_type": "stream",
     "text": [
      "/mnt/c/Users/jarinov-notas/dev/tengp/tengp/individual.py:160: RuntimeWarning: invalid value encountered in power\n",
      "  current_node.value = current_node.fun(*values)\n",
      "/mnt/c/Users/jarinov-notas/dev/cgp-optimization-experiment/experiment_settings.py:11: RuntimeWarning: invalid value encountered in greater\n",
      "  return np.log(x, out=np.copy(x), where=x>0)\n",
      "/mnt/c/Users/jarinov-notas/dev/cgp-optimization-experiment/experiment_settings.py:35: RuntimeWarning: invalid value encountered in sqrt\n",
      "  return  np.sqrt(x)\n",
      "/mnt/c/Users/jarinov-notas/dev/tengp/tengp/individual.py:160: RuntimeWarning: overflow encountered in power\n",
      "  current_node.value = current_node.fun(*values)\n",
      "/mnt/c/Users/jarinov-notas/dev/cgp-optimization-experiment/experiment_settings.py:8: RuntimeWarning: divide by zero encountered in true_divide\n",
      "  return np.divide(x, y, out=np.copy(x), where=x!=0)\n",
      "/mnt/c/Users/jarinov-notas/dev/cgp-optimization-experiment/experiment_settings.py:8: RuntimeWarning: invalid value encountered in true_divide\n",
      "  return np.divide(x, y, out=np.copy(x), where=x!=0)\n",
      "/mnt/c/Users/jarinov-notas/dev/tengp/tengp/individual.py:160: RuntimeWarning: divide by zero encountered in power\n",
      "  current_node.value = current_node.fun(*values)\n",
      "/mnt/c/Users/jarinov-notas/dev/cgp-optimization-experiment/experiment_settings.py:41: RuntimeWarning: divide by zero encountered in reciprocal\n",
      "  return x**(-1)\n",
      "/home/jarino/anaconda3/lib/python3.6/site-packages/numpy/core/_methods.py:32: RuntimeWarning: invalid value encountered in reduce\n",
      "  return umr_sum(a, axis, dtype, out, keepdims)\n",
      "/mnt/c/Users/jarinov-notas/dev/tengp/tengp/individual.py:160: RuntimeWarning: invalid value encountered in multiply\n",
      "  current_node.value = current_node.fun(*values)\n",
      "/mnt/c/Users/jarinov-notas/dev/tengp/tengp/individual.py:160: RuntimeWarning: invalid value encountered in subtract\n",
      "  current_node.value = current_node.fun(*values)\n",
      "/mnt/c/Users/jarinov-notas/dev/tengp/tengp/individual.py:160: RuntimeWarning: invalid value encountered in add\n",
      "  current_node.value = current_node.fun(*values)\n",
      "/mnt/c/Users/jarinov-notas/dev/cgp-optimization-experiment/experiment_settings.py:8: RuntimeWarning: overflow encountered in true_divide\n",
      "  return np.divide(x, y, out=np.copy(x), where=x!=0)\n",
      "/mnt/c/Users/jarinov-notas/dev/cgp-optimization-experiment/experiment_settings.py:41: RuntimeWarning: overflow encountered in reciprocal\n",
      "  return x**(-1)\n",
      "/home/jarino/anaconda3/lib/python3.6/site-packages/sklearn/metrics/regression.py:239: RuntimeWarning: overflow encountered in square\n",
      "  output_errors = np.average((y_true - y_pred) ** 2, axis=0,\n",
      "/mnt/c/Users/jarinov-notas/dev/tengp/tengp/individual.py:160: RuntimeWarning: overflow encountered in multiply\n",
      "  current_node.value = current_node.fun(*values)\n"
     ]
    },
    {
     "name": "stdout",
     "output_type": "stream",
     "text": [
      "1,"
     ]
    },
    {
     "name": "stderr",
     "output_type": "stream",
     "text": [
      "/home/jarino/anaconda3/lib/python3.6/site-packages/numpy/core/_methods.py:32: RuntimeWarning: overflow encountered in reduce\n",
      "  return umr_sum(a, axis, dtype, out, keepdims)\n",
      "/home/jarino/anaconda3/lib/python3.6/site-packages/numpy/core/_methods.py:70: RuntimeWarning: overflow encountered in reduce\n",
      "  ret = umr_sum(arr, axis, dtype, out, keepdims)\n"
     ]
    },
    {
     "name": "stdout",
     "output_type": "stream",
     "text": [
      "2,CPU times: user 4min 18s, sys: 203 ms, total: 4min 18s\n",
      "Wall time: 4min 24s\n"
     ]
    }
   ],
   "source": [
    "%%time\n",
    "\n",
    "pag1_res, pag1_log = run_experiment(data[3], mean_squared_error)"
   ]
  },
  {
   "cell_type": "code",
   "execution_count": 42,
   "metadata": {},
   "outputs": [],
   "source": [
    "pickle.dump(pag1_res, open(f'{OUTPUT_FOLDER}pag1_res_100_000evals', 'wb'))\n",
    "pickle.dump(pag1_log, open(f'{OUTPUT_FOLDER}pag1_log_100_000evals', 'wb'))"
   ]
  },
  {
   "cell_type": "markdown",
   "metadata": {},
   "source": [
    "# Keijzer 6"
   ]
  },
  {
   "cell_type": "code",
   "execution_count": 43,
   "metadata": {},
   "outputs": [
    {
     "name": "stdout",
     "output_type": "stream",
     "text": [
      "keijzer6\n",
      "0,"
     ]
    },
    {
     "name": "stderr",
     "output_type": "stream",
     "text": [
      "/mnt/c/Users/jarinov-notas/dev/cgp-optimization-experiment/experiment_settings.py:41: RuntimeWarning: divide by zero encountered in reciprocal\n",
      "  return x**(-1)\n",
      "/mnt/c/Users/jarinov-notas/dev/tengp/tengp/individual.py:160: RuntimeWarning: invalid value encountered in multiply\n",
      "  current_node.value = current_node.fun(*values)\n",
      "/mnt/c/Users/jarinov-notas/dev/cgp-optimization-experiment/experiment_settings.py:35: RuntimeWarning: invalid value encountered in sqrt\n",
      "  return  np.sqrt(x)\n",
      "/mnt/c/Users/jarinov-notas/dev/cgp-optimization-experiment/experiment_settings.py:11: RuntimeWarning: invalid value encountered in greater\n",
      "  return np.log(x, out=np.copy(x), where=x>0)\n",
      "/mnt/c/Users/jarinov-notas/dev/cgp-optimization-experiment/experiment_settings.py:17: RuntimeWarning: invalid value encountered in cos\n",
      "  return np.cos(x)\n",
      "/mnt/c/Users/jarinov-notas/dev/cgp-optimization-experiment/experiment_settings.py:14: RuntimeWarning: invalid value encountered in sin\n",
      "  return np.sin(x)\n",
      "/home/jarino/anaconda3/lib/python3.6/site-packages/numpy/core/_methods.py:32: RuntimeWarning: invalid value encountered in reduce\n",
      "  return umr_sum(a, axis, dtype, out, keepdims)\n"
     ]
    },
    {
     "name": "stdout",
     "output_type": "stream",
     "text": [
      "1,2,CPU times: user 3min, sys: 188 ms, total: 3min\n",
      "Wall time: 3min 4s\n"
     ]
    }
   ],
   "source": [
    "%%time\n",
    "\n",
    "kei6_res, kei6_log = run_experiment(data[4], mean_squared_error)\n",
    "\n",
    "pickle.dump(kei6_res, open(f'{OUTPUT_FOLDER}kei6_res_100_000evals', 'wb'))\n",
    "pickle.dump(kei6_log, open(f'{OUTPUT_FOLDER}kei6_log_100_000evals', 'wb'))"
   ]
  },
  {
   "cell_type": "markdown",
   "metadata": {},
   "source": [
    "# Korns 12"
   ]
  },
  {
   "cell_type": "code",
   "execution_count": 44,
   "metadata": {},
   "outputs": [
    {
     "name": "stdout",
     "output_type": "stream",
     "text": [
      "korns12\n",
      "0,"
     ]
    },
    {
     "name": "stderr",
     "output_type": "stream",
     "text": [
      "/mnt/c/Users/jarinov-notas/dev/cgp-optimization-experiment/experiment_settings.py:35: RuntimeWarning: invalid value encountered in sqrt\n",
      "  return  np.sqrt(x)\n",
      "/mnt/c/Users/jarinov-notas/dev/cgp-optimization-experiment/experiment_settings.py:38: RuntimeWarning: overflow encountered in exp\n",
      "  return np.exp(x)\n",
      "/mnt/c/Users/jarinov-notas/dev/cgp-optimization-experiment/experiment_settings.py:23: RuntimeWarning: overflow encountered in square\n",
      "  return x**2\n",
      "/mnt/c/Users/jarinov-notas/dev/cgp-optimization-experiment/experiment_settings.py:29: RuntimeWarning: invalid value encountered in tan\n",
      "  return np.tan(x)\n",
      "/mnt/c/Users/jarinov-notas/dev/cgp-optimization-experiment/experiment_settings.py:8: RuntimeWarning: divide by zero encountered in true_divide\n",
      "  return np.divide(x, y, out=np.copy(x), where=x!=0)\n",
      "/mnt/c/Users/jarinov-notas/dev/cgp-optimization-experiment/experiment_settings.py:14: RuntimeWarning: invalid value encountered in sin\n",
      "  return np.sin(x)\n",
      "/mnt/c/Users/jarinov-notas/dev/cgp-optimization-experiment/experiment_settings.py:17: RuntimeWarning: invalid value encountered in cos\n",
      "  return np.cos(x)\n",
      "/mnt/c/Users/jarinov-notas/dev/cgp-optimization-experiment/experiment_settings.py:11: RuntimeWarning: invalid value encountered in greater\n",
      "  return np.log(x, out=np.copy(x), where=x>0)\n",
      "/mnt/c/Users/jarinov-notas/dev/tengp/tengp/individual.py:160: RuntimeWarning: invalid value encountered in multiply\n",
      "  current_node.value = current_node.fun(*values)\n",
      "/mnt/c/Users/jarinov-notas/dev/tengp/tengp/individual.py:160: RuntimeWarning: overflow encountered in multiply\n",
      "  current_node.value = current_node.fun(*values)\n",
      "/mnt/c/Users/jarinov-notas/dev/cgp-optimization-experiment/experiment_settings.py:26: RuntimeWarning: overflow encountered in power\n",
      "  return x**3\n",
      "/mnt/c/Users/jarinov-notas/dev/cgp-optimization-experiment/experiment_settings.py:8: RuntimeWarning: overflow encountered in true_divide\n",
      "  return np.divide(x, y, out=np.copy(x), where=x!=0)\n",
      "/mnt/c/Users/jarinov-notas/dev/cgp-optimization-experiment/experiment_settings.py:8: RuntimeWarning: invalid value encountered in true_divide\n",
      "  return np.divide(x, y, out=np.copy(x), where=x!=0)\n",
      "/home/jarino/anaconda3/lib/python3.6/site-packages/sklearn/metrics/regression.py:239: RuntimeWarning: overflow encountered in square\n",
      "  output_errors = np.average((y_true - y_pred) ** 2, axis=0,\n",
      "/mnt/c/Users/jarinov-notas/dev/tengp/tengp/individual.py:160: RuntimeWarning: invalid value encountered in add\n",
      "  current_node.value = current_node.fun(*values)\n",
      "/home/jarino/anaconda3/lib/python3.6/site-packages/numpy/core/_methods.py:32: RuntimeWarning: invalid value encountered in reduce\n",
      "  return umr_sum(a, axis, dtype, out, keepdims)\n",
      "/mnt/c/Users/jarinov-notas/dev/tengp/tengp/individual.py:160: RuntimeWarning: invalid value encountered in subtract\n",
      "  current_node.value = current_node.fun(*values)\n",
      "/mnt/c/Users/jarinov-notas/dev/tengp/tengp/individual.py:160: RuntimeWarning: overflow encountered in add\n",
      "  current_node.value = current_node.fun(*values)\n"
     ]
    },
    {
     "name": "stdout",
     "output_type": "stream",
     "text": [
      "1,2,CPU times: user 33min 30s, sys: 672 ms, total: 33min 30s\n",
      "Wall time: 33min 54s\n"
     ]
    }
   ],
   "source": [
    "%%time\n",
    "\n",
    "korns12_res, korns12_log = run_experiment(data[5], mean_squared_error)\n",
    "\n",
    "pickle.dump(korns12_res, open(f'{OUTPUT_FOLDER}korns12_res_100_000evals', 'wb'))\n",
    "pickle.dump(korns12_log, open(f'{OUTPUT_FOLDER}korns12_log_100_000evals', 'wb'))"
   ]
  },
  {
   "cell_type": "markdown",
   "metadata": {},
   "source": [
    "# Vladislasleva 4"
   ]
  },
  {
   "cell_type": "code",
   "execution_count": 45,
   "metadata": {},
   "outputs": [
    {
     "name": "stdout",
     "output_type": "stream",
     "text": [
      "vladislasleva4\n",
      "0,"
     ]
    },
    {
     "name": "stderr",
     "output_type": "stream",
     "text": [
      "/mnt/c/Users/jarinov-notas/dev/cgp-optimization-experiment/experiment_settings.py:35: RuntimeWarning: invalid value encountered in sqrt\n",
      "  return  np.sqrt(x)\n",
      "/mnt/c/Users/jarinov-notas/dev/tengp/tengp/individual.py:160: RuntimeWarning: invalid value encountered in power\n",
      "  current_node.value = current_node.fun(*values)\n",
      "/mnt/c/Users/jarinov-notas/dev/tengp/tengp/individual.py:160: RuntimeWarning: overflow encountered in power\n",
      "  current_node.value = current_node.fun(*values)\n",
      "/mnt/c/Users/jarinov-notas/dev/cgp-optimization-experiment/experiment_settings.py:8: RuntimeWarning: divide by zero encountered in true_divide\n",
      "  return np.divide(x, y, out=np.copy(x), where=x!=0)\n",
      "/mnt/c/Users/jarinov-notas/dev/cgp-optimization-experiment/experiment_settings.py:14: RuntimeWarning: invalid value encountered in sin\n",
      "  return np.sin(x)\n",
      "/mnt/c/Users/jarinov-notas/dev/cgp-optimization-experiment/experiment_settings.py:41: RuntimeWarning: divide by zero encountered in reciprocal\n",
      "  return x**(-1)\n",
      "/mnt/c/Users/jarinov-notas/dev/cgp-optimization-experiment/experiment_settings.py:17: RuntimeWarning: invalid value encountered in cos\n",
      "  return np.cos(x)\n",
      "/mnt/c/Users/jarinov-notas/dev/tengp/tengp/individual.py:160: RuntimeWarning: overflow encountered in multiply\n",
      "  current_node.value = current_node.fun(*values)\n",
      "/mnt/c/Users/jarinov-notas/dev/tengp/tengp/individual.py:160: RuntimeWarning: divide by zero encountered in power\n",
      "  current_node.value = current_node.fun(*values)\n",
      "/mnt/c/Users/jarinov-notas/dev/cgp-optimization-experiment/experiment_settings.py:38: RuntimeWarning: overflow encountered in exp\n",
      "  return np.exp(x)\n",
      "/home/jarino/anaconda3/lib/python3.6/site-packages/sklearn/metrics/regression.py:239: RuntimeWarning: overflow encountered in square\n",
      "  output_errors = np.average((y_true - y_pred) ** 2, axis=0,\n",
      "/mnt/c/Users/jarinov-notas/dev/tengp/tengp/individual.py:160: RuntimeWarning: invalid value encountered in subtract\n",
      "  current_node.value = current_node.fun(*values)\n",
      "/mnt/c/Users/jarinov-notas/dev/cgp-optimization-experiment/experiment_settings.py:8: RuntimeWarning: overflow encountered in true_divide\n",
      "  return np.divide(x, y, out=np.copy(x), where=x!=0)\n",
      "/mnt/c/Users/jarinov-notas/dev/cgp-optimization-experiment/experiment_settings.py:11: RuntimeWarning: invalid value encountered in greater\n",
      "  return np.log(x, out=np.copy(x), where=x>0)\n",
      "/mnt/c/Users/jarinov-notas/dev/cgp-optimization-experiment/experiment_settings.py:8: RuntimeWarning: invalid value encountered in true_divide\n",
      "  return np.divide(x, y, out=np.copy(x), where=x!=0)\n",
      "/mnt/c/Users/jarinov-notas/dev/tengp/tengp/individual.py:160: RuntimeWarning: invalid value encountered in multiply\n",
      "  current_node.value = current_node.fun(*values)\n",
      "/mnt/c/Users/jarinov-notas/dev/cgp-optimization-experiment/experiment_settings.py:41: RuntimeWarning: overflow encountered in reciprocal\n",
      "  return x**(-1)\n",
      "/home/jarino/anaconda3/lib/python3.6/site-packages/numpy/core/_methods.py:32: RuntimeWarning: invalid value encountered in reduce\n",
      "  return umr_sum(a, axis, dtype, out, keepdims)\n"
     ]
    },
    {
     "name": "stdout",
     "output_type": "stream",
     "text": [
      "1,"
     ]
    },
    {
     "name": "stderr",
     "output_type": "stream",
     "text": [
      "/mnt/c/Users/jarinov-notas/dev/tengp/tengp/individual.py:160: RuntimeWarning: invalid value encountered in add\n",
      "  current_node.value = current_node.fun(*values)\n"
     ]
    },
    {
     "name": "stdout",
     "output_type": "stream",
     "text": [
      "2,CPU times: user 5min 58s, sys: 219 ms, total: 5min 58s\n",
      "Wall time: 6min 3s\n"
     ]
    }
   ],
   "source": [
    "%%time\n",
    "\n",
    "vlad4_res, vlad4_log = run_experiment(data[6], mean_squared_error)\n",
    "\n",
    "pickle.dump(vlad4_res, open(f'{OUTPUT_FOLDER}vlad4_res_100_000evals', 'wb'))\n",
    "pickle.dump(vlad4_log, open(f'{OUTPUT_FOLDER}vlad4_log_100_000evals', 'wb'))"
   ]
  },
  {
   "cell_type": "code",
   "execution_count": null,
   "metadata": {},
   "outputs": [],
   "source": []
  }
 ],
 "metadata": {
  "kernelspec": {
   "display_name": "Python 3",
   "language": "python",
   "name": "python3"
  },
  "language_info": {
   "codemirror_mode": {
    "name": "ipython",
    "version": 3
   },
   "file_extension": ".py",
   "mimetype": "text/x-python",
   "name": "python",
   "nbconvert_exporter": "python",
   "pygments_lexer": "ipython3",
   "version": "3.6.4"
  }
 },
 "nbformat": 4,
 "nbformat_minor": 2
}
