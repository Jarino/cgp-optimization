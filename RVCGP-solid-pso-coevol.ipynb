{
 "cells": [
  {
   "cell_type": "code",
   "execution_count": 1,
   "metadata": {},
   "outputs": [],
   "source": [
    "from Solid.ParticleSwarm import ParticleSwarm\n",
    "from sklearn.metrics import mean_squared_error\n",
    "from tengp.individual import IndividualBuilder, NPIndividual\n",
    "from tengp import Parameters, FunctionSet\n",
    "import numpy as np\n",
    "\n",
    "np.warnings.filterwarnings('ignore')"
   ]
  },
  {
   "cell_type": "code",
   "execution_count": 68,
   "metadata": {},
   "outputs": [],
   "source": [
    "def fitness(individual, x, y):\n",
    "    output = individual.transform(x)\n",
    "    try:\n",
    "        return mean_squared_error(output, y)\n",
    "    except ValueError:\n",
    "        return 10e10\n",
    "\n",
    "class Algorithm(ParticleSwarm):\n",
    "    \"\"\"\n",
    "    Optimize the CCGP individual\n",
    "    \"\"\"\n",
    "    def custom_init(self,\n",
    "                    params,\n",
    "                    bounds,\n",
    "                    x_train,\n",
    "                    y_train,\n",
    "                    fitness_fn,\n",
    "                    predictors, trainers):\n",
    "        self.cache = {}\n",
    "        self.params = params\n",
    "        self.bounds = bounds\n",
    "        self.x_train_full = x_train\n",
    "        self.y_train_full = y_train\n",
    "        self.fitness_fn = fitness_fn\n",
    "        self.predictors = predictors\n",
    "        self.trainers = trainers\n",
    "        self.predictors.evaluate_fitness(self.trainers)\n",
    "        self.x_train_pred, self.y_train_pred = self.predictors.best_predictors_data()\n",
    "        \n",
    "    \n",
    "    def _objective(self, member):\n",
    "        \"\"\"\n",
    "        Calculate the fitness (the less, the better)\n",
    "        \"\"\"\n",
    "        member = np.clip(member, self.lower_bound, self.upper_bound)\n",
    "        \n",
    "        key = hash(member.tostring())\n",
    "        \n",
    "        if key in self.cache:\n",
    "            return self.cache[key]\n",
    "     \n",
    "        individual = NPIndividual(member.tolist(), self.bounds, self.params)\n",
    "        \n",
    "        fitness = self.fitness_fn(individual, self.x_train_pred, self.y_train_pred)\n",
    "        \n",
    "        self.cache[key] = fitness\n",
    "        \n",
    "        return fitness\n",
    "\n",
    "    def _generation_callback(self):\n",
    "        # add new trainer\n",
    "        if self.cur_steps % 50 == 0:\n",
    "            #import pdb; pdb.set_trace()\n",
    "            genes = np.clip(self.global_best[0], self.bounds[0], self.bounds[1]).tolist()\n",
    "            individual = NPIndividual(genes, self.bounds, self.params)\n",
    "            individual.fitness = self.fitness_fn(individual, self.x_train_full, self.y_train_full)\n",
    "        \n",
    "        # update random population\n",
    "        if self.cur_steps % 50 == 0:\n",
    "            ts.update_random_population()\n",
    "            \n",
    "        # evolution step of predictors\n",
    "        if self.cur_steps % 50 == 0:\n",
    "            self.predictors.predictors_evolution_step(self.trainers)\n",
    "            self.x_train_pred, self.y_train_pred = self.predictors.best_predictors_data()\n",
    "            \n",
    "            \n",
    "        #print(self.cur_steps)"
   ]
  },
  {
   "cell_type": "code",
   "execution_count": 69,
   "metadata": {},
   "outputs": [],
   "source": [
    "from trainers import TrainersSet\n",
    "\n",
    "ts = TrainersSet(ib, 8, fitness, x_train, y_train)"
   ]
  },
  {
   "cell_type": "code",
   "execution_count": 70,
   "metadata": {},
   "outputs": [],
   "source": [
    "import ga\n",
    "\n",
    "predictors = ga.GaPredictors(x_train, y_train, 4, 24)"
   ]
  },
  {
   "cell_type": "code",
   "execution_count": 71,
   "metadata": {},
   "outputs": [],
   "source": [
    "# define CCGP system\n",
    "from experiment_settings import nguyen7_funset\n",
    "import symreg\n",
    "import random\n",
    "\n",
    "params = Parameters(2, 1, 1, 50, nguyen7_funset, real_valued=True, max_back=20)\n",
    "\n",
    "ib = IndividualBuilder(params)\n",
    "initial_individual = ib.create()\n",
    "bounds = initial_individual.bounds\n",
    "individual_size = len(initial_individual.genes)"
   ]
  },
  {
   "cell_type": "code",
   "execution_count": 72,
   "metadata": {},
   "outputs": [],
   "source": [
    "x_train, y_train, _, _ = symreg.get_benchmark_nguyen7(random, None)\n",
    "x_train = np.c_[np.ones(len(x_train)), x_train]"
   ]
  },
  {
   "cell_type": "code",
   "execution_count": 73,
   "metadata": {},
   "outputs": [],
   "source": [
    "algo = Algorithm(swarm_size=50,\n",
    "                member_size=individual_size,\n",
    "                lower_bound=bounds[0],\n",
    "                upper_bound=bounds[1],\n",
    "                c1=1,\n",
    "                c2=1,\n",
    "                c3=1,\n",
    "                max_steps=2000)\n",
    "\n",
    "algo.custom_init(params, bounds, x_train, y_train, fitness, predictors, ts)"
   ]
  },
  {
   "cell_type": "code",
   "execution_count": 74,
   "metadata": {},
   "outputs": [
    {
     "name": "stdout",
     "output_type": "stream",
     "text": [
      "TERMINATING - REACHED MAXIMUM STEPS\n",
      "CPU times: user 5min 35s, sys: 8min 8s, total: 13min 44s\n",
      "Wall time: 3min 44s\n"
     ]
    }
   ],
   "source": [
    "%%time\n",
    "\n",
    "champion_x, champion_f = algo.run(verbose=False)"
   ]
  },
  {
   "cell_type": "code",
   "execution_count": 75,
   "metadata": {},
   "outputs": [
    {
     "name": "stdout",
     "output_type": "stream",
     "text": [
      "predicted fitness 0.00033810095699820223\n",
      "exact fitness 1.6720174010314826\n"
     ]
    }
   ],
   "source": [
    "champion_i = NPIndividual(np.clip(champion_x, bounds[0], bounds[1]).tolist(), bounds, params)\n",
    "exact_fitness = fitness(champion_i, x_train, y_train)\n",
    "print('predicted fitness', champion_f)\n",
    "print('exact fitness', exact_fitness)"
   ]
  },
  {
   "cell_type": "code",
   "execution_count": null,
   "metadata": {},
   "outputs": [],
   "source": []
  }
 ],
 "metadata": {
  "kernelspec": {
   "display_name": "Python [conda env:tengp]",
   "language": "python",
   "name": "conda-env-tengp-py"
  },
  "language_info": {
   "codemirror_mode": {
    "name": "ipython",
    "version": 3
   },
   "file_extension": ".py",
   "mimetype": "text/x-python",
   "name": "python",
   "nbconvert_exporter": "python",
   "pygments_lexer": "ipython3",
   "version": "3.7.2"
  }
 },
 "nbformat": 4,
 "nbformat_minor": 2
}
