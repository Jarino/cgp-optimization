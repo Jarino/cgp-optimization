{
 "cells": [
  {
   "cell_type": "code",
   "execution_count": 3,
   "metadata": {},
   "outputs": [],
   "source": [
    "import random\n",
    "\n",
    "import numpy as np\n",
    "from sklearn.metrics import mean_squared_error\n",
    "import matplotlib.pyplot as plt\n",
    "import seaborn as sns\n",
    "\n",
    "import tengp\n",
    "from gpbenchmarks import get_data\n"
   ]
  },
  {
   "cell_type": "code",
   "execution_count": 30,
   "metadata": {},
   "outputs": [],
   "source": [
    "@tengp.utils.handle_invalid_decorator\n",
    "def tabu_es(X, y, cost_function, params,\n",
    "            target_fitness=0,\n",
    "            population_size=5,\n",
    "            evaluations=5000,\n",
    "            random_state=None,\n",
    "            mutation='point',\n",
    "            mutation_probability=0.25,\n",
    "            memory_size=10,\n",
    "            verbose=False):\n",
    "\n",
    "    if mutation not in tengp.mutations.MUTATIONS:\n",
    "        raise UnknownMutationException(\"Provided type of mutation is not implemented.\")\n",
    "\n",
    "    move = tengp.mutations.MUTATIONS[mutation]\n",
    "    if mutation == 'probabilistic':\n",
    "        move = partial(move, probability=mutation_probability)\n",
    "\n",
    "    if random_state:\n",
    "        random.seed(random_state)\n",
    "\n",
    "    # initialize memory\n",
    "    memory = []\n",
    "    \n",
    "    # initialize stats object\n",
    "    stats = {'moves': 0, 'memory_hits': 0, 'better_after': 0, 'worse_after': 0}\n",
    "\n",
    "    # initial generation\n",
    "    ib = tengp.individual.IndividualBuilder(params)\n",
    "\n",
    "    population = [ib.create() for _ in range(population_size)]\n",
    "\n",
    "    n_evals = 0\n",
    "    \n",
    "    generation = 0\n",
    "\n",
    "    for individual in population:\n",
    "        output = individual.transform(X)\n",
    "        individual.fitness = cost_function(y, output)\n",
    "        n_evals += 1\n",
    "\n",
    "    while n_evals < evaluations:\n",
    "        generation += 1\n",
    "\n",
    "        parent = min(population, key=lambda x: x.fitness)\n",
    "\n",
    "        if parent.fitness <= target_fitness:\n",
    "            return population\n",
    "\n",
    "        population = []\n",
    "\n",
    "\n",
    "        for _ in range(population_size -1):\n",
    "            _move = move(parent)\n",
    "            stats['moves'] += 1\n",
    "            individual = parent.apply(_move)\n",
    "\n",
    "            while _move in memory:\n",
    "                stats['memory_hits'] += 1\n",
    "                output = individual.transform(X)\n",
    "                fitness = cost_function(output, y)\n",
    "                if fitness > parent.fitness:\n",
    "                    stats['worse_after'] +=1 \n",
    "                elif fitness < parent.fitness:\n",
    "                    stats['better_after'] += 1\n",
    "                    break\n",
    "                elif fitness == parent.fitness:\n",
    "                    break\n",
    "                _move = move(parent)\n",
    "                individual = parent.apply(_move)\n",
    "                n_evals += 1\n",
    "                stats['moves'] += 1\n",
    "\n",
    "            if len(memory) > memory_size:\n",
    "                del memory[0]\n",
    "\n",
    "            memory.append(_move)\n",
    "\n",
    "            population.append(individual)\n",
    "\n",
    "\n",
    "        for individual in population:\n",
    "            if individual == parent:\n",
    "                individual.fitness = parent.fitness\n",
    "                continue\n",
    "            output = individual.transform(X)\n",
    "            individual.fitness = cost_function(y, output)\n",
    "            n_evals += 1\n",
    "\n",
    "        population += [parent]\n",
    "\n",
    "        if verbose and generation % 100 == 0:\n",
    "            print(f'Gen: {generation}, population: {sorted([x.fitness for x in population])}')\n",
    "\n",
    "    population.sort(key=lambda x: x.fitness)\n",
    "    return population, stats\n"
   ]
  },
  {
   "cell_type": "code",
   "execution_count": 33,
   "metadata": {},
   "outputs": [],
   "source": [
    "def pdivide(x, y):\n",
    "    return np.divide(x, y, out=np.copy(x), where=x!=0)\n",
    "\n",
    "def plog(x):\n",
    "    return np.log(x, out=np.copy(x), where=x>0)\n",
    "\n",
    "def pow2(x):\n",
    "    return x**2\n",
    "\n",
    "def pow3(x):\n",
    "    return x**3\n",
    "\n",
    "\n",
    "funset = tengp.FunctionSet()\n",
    "funset.add(np.add, 2)\n",
    "funset.add(np.subtract, 2)\n",
    "funset.add(np.multiply, 2)\n",
    "funset.add(pdivide, 2)\n",
    "funset.add(plog, 1)\n",
    "funset.add(np.sin, 1)\n",
    "funset.add(np.cos, 1)\n",
    "\n",
    "#     function set: +, -, *, /, sin, cos, tan, tanh, sqrt, exp, log, **2, **3\n",
    "ext_funset = tengp.FunctionSet()\n",
    "ext_funset.add(np.add, 2)\n",
    "ext_funset.add(np.subtract, 2)\n",
    "ext_funset.add(np.multiply, 2)\n",
    "ext_funset.add(pdivide, 2)\n",
    "ext_funset.add(np.sin, 1)\n",
    "ext_funset.add(np.cos, 1)\n",
    "ext_funset.add(np.tan, 1)\n",
    "ext_funset.add(np.tanh, 1)\n",
    "ext_funset.add(np.sqrt, 1)\n",
    "ext_funset.add(np.exp, 1)\n",
    "ext_funset.add(plog, 1)\n",
    "ext_funset.add(pow2, 1)\n",
    "ext_funset.add(pow3, 1)\n",
    "\n",
    "params1d = tengp.Parameters(2, 1, 1, 100, funset)\n",
    "params2d = tengp.Parameters(3, 1, 1, 100, funset)\n",
    "params5d = tengp.Parameters(6, 1, 1, 100, ext_funset)\n",
    "\n",
    "functions = [('nguyenf4', params1d, [20, -1, 1]), ('nguyenf7', params1d, [20, 0, 2]), ('nguyenf10', params2d, [100, -1, 1]), ('korns12', params5d, [10000, -50, 50])]\n",
    "\n",
    "TRIALS = 100"
   ]
  },
  {
   "cell_type": "code",
   "execution_count": 34,
   "metadata": {},
   "outputs": [
    {
     "name": "stdout",
     "output_type": "stream",
     "text": [
      "0,"
     ]
    },
    {
     "name": "stderr",
     "output_type": "stream",
     "text": [
      "/home/jarino/anaconda3/lib/python3.6/site-packages/ipykernel_launcher.py:2: RuntimeWarning: divide by zero encountered in true_divide\n",
      "  \n",
      "/mnt/c/Users/jarinov-notas/dev/tengp/tengp/individual.py:116: RuntimeWarning: invalid value encountered in multiply\n",
      "  current_node.value = current_node.fun(*values)\n",
      "/home/jarino/anaconda3/lib/python3.6/site-packages/numpy/core/_methods.py:32: RuntimeWarning: invalid value encountered in reduce\n",
      "  return umr_sum(a, axis, dtype, out, keepdims)\n",
      "/mnt/c/Users/jarinov-notas/dev/tengp/tengp/individual.py:116: RuntimeWarning: invalid value encountered in sin\n",
      "  current_node.value = current_node.fun(*values)\n",
      "/mnt/c/Users/jarinov-notas/dev/tengp/tengp/individual.py:116: RuntimeWarning: invalid value encountered in cos\n",
      "  current_node.value = current_node.fun(*values)\n",
      "/home/jarino/anaconda3/lib/python3.6/site-packages/ipykernel_launcher.py:5: RuntimeWarning: invalid value encountered in greater\n",
      "  \"\"\"\n"
     ]
    },
    {
     "name": "stdout",
     "output_type": "stream",
     "text": [
      "1,"
     ]
    },
    {
     "name": "stderr",
     "output_type": "stream",
     "text": [
      "/home/jarino/anaconda3/lib/python3.6/site-packages/ipykernel_launcher.py:2: RuntimeWarning: invalid value encountered in true_divide\n",
      "  \n"
     ]
    },
    {
     "name": "stdout",
     "output_type": "stream",
     "text": [
      "2,3,"
     ]
    },
    {
     "name": "stderr",
     "output_type": "stream",
     "text": [
      "/mnt/c/Users/jarinov-notas/dev/tengp/tengp/individual.py:116: RuntimeWarning: invalid value encountered in subtract\n",
      "  current_node.value = current_node.fun(*values)\n"
     ]
    },
    {
     "name": "stdout",
     "output_type": "stream",
     "text": [
      "4,5,6,"
     ]
    },
    {
     "name": "stderr",
     "output_type": "stream",
     "text": [
      "/mnt/c/Users/jarinov-notas/dev/tengp/tengp/individual.py:116: RuntimeWarning: invalid value encountered in add\n",
      "  current_node.value = current_node.fun(*values)\n"
     ]
    },
    {
     "name": "stdout",
     "output_type": "stream",
     "text": [
      "7,8,9,10,11,12,13,14,15,16,17,18,19,20,21,22,23,24,25,26,27,28,29,30,31,32,33,34,35,36,37,38,39,40,41,42,43,44,45,46,47,48,49,50,51,52,53,54,55,56,57,58,59,60,61,62,63,64,65,66,67,68,69,70,71,72,73,74,75,76,77,78,79,80,81,82,83,84,85,86,87,88,89,90,91,92,93,94,95,96,97,98,99,CPU times: user 6min 58s, sys: 391 ms, total: 6min 59s\n",
      "Wall time: 7min 1s\n"
     ]
    }
   ],
   "source": [
    "%%time\n",
    "\n",
    "random.seed(0)\n",
    "\n",
    "results = []\n",
    "\n",
    "for function in functions[:1]:\n",
    "    trial_results = []\n",
    "    for trial in range(TRIALS):\n",
    "        print(trial, end=',')\n",
    "        X, y = get_data(function[0], *function[2])\n",
    "        X = np.c_[np.ones(len(X)), X]\n",
    "        population, stats = tabu_es(X, y, mean_squared_error, function[1], mutation='single', memory_size=1000)\n",
    "        trial_results.append((population[0].fitness, stats['moves'], stats['memory_hits'], stats['better_after'], stats['worse_after']))\n",
    "    results.append(trial_results)\n",
    "    "
   ]
  },
  {
   "cell_type": "code",
   "execution_count": 45,
   "metadata": {},
   "outputs": [],
   "source": [
    "scores = [x[0] for y in results for x in y]\n",
    "moves = [x[1] for y in results for x in y]\n",
    "hits = [x[2] for y in results for x in y]\n",
    "worse = [x[4] for y in results for x in y]"
   ]
  },
  {
   "cell_type": "code",
   "execution_count": 42,
   "metadata": {},
   "outputs": [
    {
     "data": {
      "text/plain": [
       "1.3789658401812608e-32"
      ]
     },
     "execution_count": 42,
     "metadata": {},
     "output_type": "execute_result"
    }
   ],
   "source": [
    "np.min(scores)"
   ]
  },
  {
   "cell_type": "code",
   "execution_count": 43,
   "metadata": {},
   "outputs": [
    {
     "data": {
      "text/plain": [
       "0.07354103095024606"
      ]
     },
     "execution_count": 43,
     "metadata": {},
     "output_type": "execute_result"
    }
   ],
   "source": [
    "np.mean(scores)"
   ]
  },
  {
   "cell_type": "code",
   "execution_count": 44,
   "metadata": {},
   "outputs": [
    {
     "data": {
      "text/plain": [
       "0.02232148956290639"
      ]
     },
     "execution_count": 44,
     "metadata": {},
     "output_type": "execute_result"
    }
   ],
   "source": [
    "np.median(scores)"
   ]
  },
  {
   "cell_type": "code",
   "execution_count": 47,
   "metadata": {},
   "outputs": [
    {
     "data": {
      "text/plain": [
       "4997.24"
      ]
     },
     "execution_count": 47,
     "metadata": {},
     "output_type": "execute_result"
    }
   ],
   "source": [
    "np.mean(moves)"
   ]
  },
  {
   "cell_type": "code",
   "execution_count": 49,
   "metadata": {},
   "outputs": [
    {
     "data": {
      "text/plain": [
       "618.39"
      ]
     },
     "execution_count": 49,
     "metadata": {},
     "output_type": "execute_result"
    }
   ],
   "source": [
    "np.mean(hits)"
   ]
  },
  {
   "cell_type": "code",
   "execution_count": 50,
   "metadata": {},
   "outputs": [
    {
     "data": {
      "text/plain": [
       "545.08"
      ]
     },
     "execution_count": 50,
     "metadata": {},
     "output_type": "execute_result"
    }
   ],
   "source": [
    "np.mean(worse)"
   ]
  },
  {
   "cell_type": "code",
   "execution_count": 51,
   "metadata": {},
   "outputs": [
    {
     "data": {
      "text/plain": [
       "1.1344940192265354"
      ]
     },
     "execution_count": 51,
     "metadata": {},
     "output_type": "execute_result"
    }
   ],
   "source": [
    "np.mean(hits)/np.mean(worse)"
   ]
  },
  {
   "cell_type": "code",
   "execution_count": null,
   "metadata": {},
   "outputs": [],
   "source": []
  }
 ],
 "metadata": {
  "kernelspec": {
   "display_name": "Python 3",
   "language": "python",
   "name": "python3"
  },
  "language_info": {
   "codemirror_mode": {
    "name": "ipython",
    "version": 3
   },
   "file_extension": ".py",
   "mimetype": "text/x-python",
   "name": "python",
   "nbconvert_exporter": "python",
   "pygments_lexer": "ipython3",
   "version": "3.6.4"
  }
 },
 "nbformat": 4,
 "nbformat_minor": 2
}
