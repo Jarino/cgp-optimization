{
 "cells": [
  {
   "cell_type": "markdown",
   "metadata": {},
   "source": [
    "# Evaluation of tabu search implementation"
   ]
  },
  {
   "cell_type": "code",
   "execution_count": 1,
   "metadata": {},
   "outputs": [],
   "source": [
    "import random\n",
    "\n",
    "import numpy as np\n",
    "from sklearn.metrics import mean_squared_error\n",
    "import matplotlib.pyplot as plt\n",
    "import seaborn as sns\n",
    "\n",
    "import tengp\n",
    "from gpbenchmarks import get_data\n"
   ]
  },
  {
   "cell_type": "code",
   "execution_count": 2,
   "metadata": {},
   "outputs": [],
   "source": [
    "def pdivide(x, y):\n",
    "    return np.divide(x, y, out=np.copy(x), where=x!=0)\n",
    "\n",
    "def plog(x):\n",
    "    return np.log(x, out=np.copy(x), where=x>0)\n",
    "\n",
    "def pow2(x):\n",
    "    return x**2\n",
    "\n",
    "def pow3(x):\n",
    "    return x**3\n",
    "\n",
    "\n",
    "funset = tengp.FunctionSet()\n",
    "funset.add(np.add, 2)\n",
    "funset.add(np.subtract, 2)\n",
    "funset.add(np.multiply, 2)\n",
    "funset.add(pdivide, 2)\n",
    "funset.add(plog, 1)\n",
    "funset.add(np.sin, 1)\n",
    "funset.add(np.cos, 1)\n",
    "\n",
    "#     function set: +, -, *, /, sin, cos, tan, tanh, sqrt, exp, log, **2, **3\n",
    "ext_funset = tengp.FunctionSet()\n",
    "ext_funset.add(np.add, 2)\n",
    "ext_funset.add(np.subtract, 2)\n",
    "ext_funset.add(np.multiply, 2)\n",
    "ext_funset.add(pdivide, 2)\n",
    "ext_funset.add(np.sin, 1)\n",
    "ext_funset.add(np.cos, 1)\n",
    "ext_funset.add(np.tan, 1)\n",
    "ext_funset.add(np.tanh, 1)\n",
    "ext_funset.add(np.sqrt, 1)\n",
    "ext_funset.add(np.exp, 1)\n",
    "ext_funset.add(plog, 1)\n",
    "ext_funset.add(pow2, 1)\n",
    "ext_funset.add(pow3, 1)\n",
    "\n",
    "params1d = tengp.Parameters(2, 1, 1, 100, funset)\n",
    "params2d = tengp.Parameters(3, 1, 1, 100, funset)\n",
    "params5d = tengp.Parameters(6, 1, 1, 100, ext_funset)\n",
    "\n",
    "functions = [('nguyenf4', params1d, [20, -1, 1]), ('nguyenf7', params1d, [20, 0, 2]), ('nguyenf10', params2d, [100, -1, 1]), ('korns12', params5d, [10000, -50, 50])]"
   ]
  },
  {
   "cell_type": "code",
   "execution_count": 3,
   "metadata": {},
   "outputs": [],
   "source": [
    "trials = 100"
   ]
  },
  {
   "cell_type": "markdown",
   "metadata": {},
   "source": [
    "# Single mutation, without tabu memory"
   ]
  },
  {
   "cell_type": "code",
   "execution_count": 5,
   "metadata": {},
   "outputs": [],
   "source": [
    "# basically the same as previous, so just load results from pickle\n",
    "import pickle\n",
    "\n",
    "with open('../tabu_search_1/baseline', 'rb') as f:\n",
    "    results = pickle.load(f)"
   ]
  },
  {
   "cell_type": "markdown",
   "metadata": {},
   "source": [
    "# Single mutation, with tabu memory"
   ]
  },
  {
   "cell_type": "code",
   "execution_count": 7,
   "metadata": {},
   "outputs": [
    {
     "name": "stdout",
     "output_type": "stream",
     "text": [
      "nguyenf4\n",
      "0,"
     ]
    },
    {
     "name": "stderr",
     "output_type": "stream",
     "text": [
      "/home/jarino/anaconda3/lib/python3.6/site-packages/ipykernel_launcher.py:2: RuntimeWarning: divide by zero encountered in true_divide\n",
      "  \n",
      "/mnt/c/Users/jarinov-notas/dev/tengp/tengp/individual.py:116: RuntimeWarning: invalid value encountered in multiply\n",
      "  current_node.value = current_node.fun(*values)\n",
      "/home/jarino/anaconda3/lib/python3.6/site-packages/numpy/core/_methods.py:32: RuntimeWarning: invalid value encountered in reduce\n",
      "  return umr_sum(a, axis, dtype, out, keepdims)\n",
      "/mnt/c/Users/jarinov-notas/dev/tengp/tengp/individual.py:116: RuntimeWarning: invalid value encountered in sin\n",
      "  current_node.value = current_node.fun(*values)\n",
      "/mnt/c/Users/jarinov-notas/dev/tengp/tengp/individual.py:116: RuntimeWarning: invalid value encountered in cos\n",
      "  current_node.value = current_node.fun(*values)\n",
      "/home/jarino/anaconda3/lib/python3.6/site-packages/ipykernel_launcher.py:5: RuntimeWarning: invalid value encountered in greater\n",
      "  \"\"\"\n",
      "/mnt/c/Users/jarinov-notas/dev/tengp/tengp/individual.py:116: RuntimeWarning: invalid value encountered in subtract\n",
      "  current_node.value = current_node.fun(*values)\n"
     ]
    },
    {
     "name": "stdout",
     "output_type": "stream",
     "text": [
      "1,2,3,"
     ]
    },
    {
     "name": "stderr",
     "output_type": "stream",
     "text": [
      "/mnt/c/Users/jarinov-notas/dev/tengp/tengp/individual.py:116: RuntimeWarning: invalid value encountered in add\n",
      "  current_node.value = current_node.fun(*values)\n",
      "/home/jarino/anaconda3/lib/python3.6/site-packages/ipykernel_launcher.py:2: RuntimeWarning: invalid value encountered in true_divide\n",
      "  \n"
     ]
    },
    {
     "name": "stdout",
     "output_type": "stream",
     "text": [
      "4,5,6,7,8,9,10,11,12,13,14,15,16,17,18,19,20,21,22,23,24,25,26,27,28,29,30,31,32,33,34,35,36,37,38,39,40,41,42,43,44,45,46,47,48,49,50,51,52,53,54,55,56,57,58,59,60,61,62,63,64,65,66,67,68,69,70,71,72,73,74,75,76,77,78,79,80,81,82,83,84,85,86,87,88,89,90,91,92,93,94,95,96,97,98,99,\n",
      "nguyenf7\n",
      "0,1,2,3,4,5,6,7,8,9,10,11,12,13,14,15,16,17,18,19,20,21,22,23,24,25,26,27,28,29,30,31,32,33,34,35,36,37,38,39,40,41,42,43,44,45,46,47,48,49,50,51,52,53,54,55,56,57,58,59,60,61,62,63,64,65,66,67,68,69,70,71,72,73,74,75,76,77,78,79,80,81,82,83,84,85,86,87,88,89,90,91,92,93,94,95,96,97,98,99,\n",
      "nguyenf10\n",
      "0,1,2,3,4,5,6,7,8,9,10,11,12,13,14,15,16,17,18,19,20,21,22,23,24,25,26,27,28,29,30,31,32,33,34,35,36,37,38,39,40,41,42,43,44,45,46,47,48,49,50,51,52,53,54,55,56,57,58,59,60,61,62,63,64,65,66,67,68,69,70,71,72,73,74,75,76,77,78,79,80,81,82,83,84,85,86,87,88,89,90,91,92,93,94,95,96,97,98,99,\n",
      "korns12\n",
      "0,"
     ]
    },
    {
     "name": "stderr",
     "output_type": "stream",
     "text": [
      "/mnt/c/Users/jarinov-notas/dev/tengp/tengp/individual.py:116: RuntimeWarning: invalid value encountered in sqrt\n",
      "  current_node.value = current_node.fun(*values)\n",
      "/mnt/c/Users/jarinov-notas/dev/tengp/tengp/individual.py:116: RuntimeWarning: overflow encountered in exp\n",
      "  current_node.value = current_node.fun(*values)\n",
      "/home/jarino/anaconda3/lib/python3.6/site-packages/sklearn/metrics/regression.py:239: RuntimeWarning: overflow encountered in square\n",
      "  output_errors = np.average((y_true - y_pred) ** 2, axis=0,\n",
      "/home/jarino/anaconda3/lib/python3.6/site-packages/ipykernel_launcher.py:11: RuntimeWarning: overflow encountered in power\n",
      "  # This is added back by InteractiveShellApp.init_path()\n",
      "/mnt/c/Users/jarinov-notas/dev/tengp/tengp/individual.py:116: RuntimeWarning: invalid value encountered in tan\n",
      "  current_node.value = current_node.fun(*values)\n"
     ]
    },
    {
     "name": "stdout",
     "output_type": "stream",
     "text": [
      "1,2,"
     ]
    },
    {
     "name": "stderr",
     "output_type": "stream",
     "text": [
      "/home/jarino/anaconda3/lib/python3.6/site-packages/ipykernel_launcher.py:8: RuntimeWarning: overflow encountered in square\n",
      "  \n"
     ]
    },
    {
     "name": "stdout",
     "output_type": "stream",
     "text": [
      "3,4,"
     ]
    },
    {
     "name": "stderr",
     "output_type": "stream",
     "text": [
      "/mnt/c/Users/jarinov-notas/dev/tengp/tengp/individual.py:116: RuntimeWarning: overflow encountered in multiply\n",
      "  current_node.value = current_node.fun(*values)\n"
     ]
    },
    {
     "name": "stdout",
     "output_type": "stream",
     "text": [
      "5,6,7,8,9,10,"
     ]
    },
    {
     "name": "stderr",
     "output_type": "stream",
     "text": [
      "/home/jarino/anaconda3/lib/python3.6/site-packages/numpy/core/_methods.py:32: RuntimeWarning: overflow encountered in reduce\n",
      "  return umr_sum(a, axis, dtype, out, keepdims)\n"
     ]
    },
    {
     "name": "stdout",
     "output_type": "stream",
     "text": [
      "11,12,13,14,15,16,17,18,19,20,21,22,23,"
     ]
    },
    {
     "name": "stderr",
     "output_type": "stream",
     "text": [
      "/home/jarino/anaconda3/lib/python3.6/site-packages/numpy/core/_methods.py:70: RuntimeWarning: overflow encountered in reduce\n",
      "  ret = umr_sum(arr, axis, dtype, out, keepdims)\n"
     ]
    },
    {
     "name": "stdout",
     "output_type": "stream",
     "text": [
      "24,25,26,27,28,29,30,31,32,33,34,35,36,37,38,"
     ]
    },
    {
     "name": "stderr",
     "output_type": "stream",
     "text": [
      "/home/jarino/anaconda3/lib/python3.6/site-packages/ipykernel_launcher.py:2: RuntimeWarning: overflow encountered in true_divide\n",
      "  \n"
     ]
    },
    {
     "name": "stdout",
     "output_type": "stream",
     "text": [
      "39,40,41,42,43,44,45,46,47,48,49,50,51,52,53,54,55,56,57,58,59,60,61,62,63,64,65,66,67,68,69,70,71,72,73,74,75,76,77,78,79,80,81,82,83,84,85,86,87,88,89,90,91,92,93,94,95,96,97,98,99,\n",
      "CPU times: user 37min 47s, sys: 3.83 s, total: 37min 50s\n",
      "Wall time: 38min 12s\n"
     ]
    }
   ],
   "source": [
    "%%time\n",
    "\n",
    "random.seed(0)\n",
    "\n",
    "ts_results = []\n",
    "\n",
    "for function in functions:\n",
    "    print(function[0])\n",
    "    trial_results = []\n",
    "    for trial in range(trials):\n",
    "        print(trial, end=',')\n",
    "        X, y = get_data(function[0], *function[2])\n",
    "        X = np.c_[np.ones(len(X)), X]\n",
    "        population = tengp.search.tabu_es(X, y, mean_squared_error, function[1], mutation='single', memory_size=1000)\n",
    "        trial_results.append(population[0].fitness)\n",
    "    ts_results.append(trial_results)\n",
    "    print()\n",
    "    "
   ]
  },
  {
   "cell_type": "markdown",
   "metadata": {},
   "source": [
    "# Results"
   ]
  },
  {
   "cell_type": "markdown",
   "metadata": {},
   "source": [
    "Overall statistics:"
   ]
  },
  {
   "cell_type": "code",
   "execution_count": 8,
   "metadata": {},
   "outputs": [
    {
     "name": "stdout",
     "output_type": "stream",
     "text": [
      "basic version, mean: 0.2518620143135209, median: 0.010339049666977455\n",
      "ts version,    mean: 0.22818239036336485, median: 0.011745249672253051\n"
     ]
    }
   ],
   "source": [
    "print(f'basic version, mean: {np.mean(results)}, median: {np.median(results)}')\n",
    "print(f'ts version,    mean: {np.mean(ts_results)}, median: {np.median(ts_results)}')"
   ]
  },
  {
   "cell_type": "markdown",
   "metadata": {},
   "source": [
    "Performance per functions:"
   ]
  },
  {
   "cell_type": "code",
   "execution_count": 9,
   "metadata": {},
   "outputs": [
    {
     "name": "stdout",
     "output_type": "stream",
     "text": [
      "function\tbasic minimum\t\tbasic mean\t\tbasic median\t\ttabu search minimum\ttabu search mean\ttabu search median\n",
      "--------------------------------------------------------------------------------------------------------------------------------------------------------------\n",
      "nguyenf4\t1.6221144956601493e-32\t0.08429064180411236\t0.024172592894567156\t1.1095763892100962e-32\t0.05563121474806537\t0.01769006375046512\n",
      "nguyenf7\t7.972663992315195e-05\t0.006769250334646217\t0.0015171674469303294\t2.585560950339864e-32\t0.012389990327919084\t0.0015046948718136378\n",
      "nguyenf10\t0.0\t0.028432839252535244\t0.004680859429411596\t9.39853812860971e-33\t0.012463230823724677\t0.005686035000458372\n",
      "korns12\t0.13705089014982166\t0.8879553258627898\t0.8435707105014949\t0.19516162894855846\t0.8322451255537502\t0.8251415639123749\n"
     ]
    }
   ],
   "source": [
    "print('function\\tbasic minimum\\t\\tbasic mean\\t\\tbasic median\\t\\ttabu search minimum\\ttabu search mean\\ttabu search median')\n",
    "print('-'*158)\n",
    "for res, ts_res, funs in zip(results, ts_results, functions):\n",
    "    print(f'{funs[0]}\\t{np.min(res)}\\t{np.mean(res)}\\t{np.median(res)}\\t{np.min(ts_res)}\\t{np.mean(ts_res)}\\t{np.median(ts_res)}')"
   ]
  },
  {
   "cell_type": "markdown",
   "metadata": {},
   "source": [
    "Hit counts (at least close to zero):"
   ]
  },
  {
   "cell_type": "code",
   "execution_count": 10,
   "metadata": {},
   "outputs": [
    {
     "name": "stdout",
     "output_type": "stream",
     "text": [
      "Hit count for basic single mutation 21\n",
      "Hit count for ts single mutation 21\n"
     ]
    }
   ],
   "source": [
    "print('Hit count for basic single mutation {}'.format((np.array(results).flatten() <= 0.0001).sum()))\n",
    "print('Hit count for ts single mutation {}'.format((np.array(ts_results).flatten() <= 0.0001).sum()))"
   ]
  },
  {
   "cell_type": "markdown",
   "metadata": {},
   "source": [
    "Hit counts (equals to zero):"
   ]
  },
  {
   "cell_type": "code",
   "execution_count": 11,
   "metadata": {},
   "outputs": [
    {
     "name": "stdout",
     "output_type": "stream",
     "text": [
      "Hit count for basic single mutation 4\n",
      "Hit count for ts single mutation 0\n"
     ]
    }
   ],
   "source": [
    "print('Hit count for basic single mutation {}'.format((np.array(results).flatten() == 0).sum()))\n",
    "print('Hit count for ts single mutation {}'.format((np.array(ts_results).flatten() == 0).sum()))"
   ]
  },
  {
   "cell_type": "markdown",
   "metadata": {},
   "source": [
    "Boxplots of results over all functions:"
   ]
  },
  {
   "cell_type": "code",
   "execution_count": 12,
   "metadata": {},
   "outputs": [
    {
     "data": {
      "text/plain": [
       "Text(0.5,1,'tabe search single mutation')"
      ]
     },
     "execution_count": 12,
     "metadata": {},
     "output_type": "execute_result"
    },
    {
     "data": {
      "image/png": "[encoded data removed]",
      "text/plain": [
       "<matplotlib.figure.Figure at 0x7fda6a439b00>"
      ]
     },
     "metadata": {},
     "output_type": "display_data"
    }
   ],
   "source": [
    "_, axs = plt.subplots(1, 2, figsize=(10, 5))\n",
    "\n",
    "sns.boxplot(np.array(results).flatten(), ax=axs[0])\n",
    "sns.boxplot(np.array(ts_results).flatten(), ax=axs[1])\n",
    "axs[0].set_title('basic single mutation')\n",
    "axs[1].set_title('tabe search single mutation')"
   ]
  },
  {
   "cell_type": "markdown",
   "metadata": {},
   "source": [
    "Distributions of results over all functions"
   ]
  },
  {
   "cell_type": "code",
   "execution_count": 13,
   "metadata": {},
   "outputs": [
    {
     "data": {
      "image/png": "[encoded data removed]",
      "text/plain": [
       "<matplotlib.figure.Figure at 0x7fda6a4eb908>"
      ]
     },
     "metadata": {},
     "output_type": "display_data"
    }
   ],
   "source": [
    "_, axs = plt.subplots(1, 2, figsize=(10, 5))\n",
    "\n",
    "#sns.distplot(np.array(pr_results).flatten(), ax=axs[0]); axs[0].set_xlim(0,1); axs[0].set_title('basic probabilistic mutation');\n",
    "sns.distplot(np.array(results).flatten(), ax=axs[0]);\n",
    "axs[0].set_title('basic single mutation');\n",
    "axs[0].set_ylim(0,9)\n",
    "axs[0].set_xlim(0,2)\n",
    "sns.distplot(np.array(ts_results).flatten(), ax=axs[1]); \n",
    "axs[1].set_title('tabu search single mutation');\n",
    "axs[1].set_xlim(0,2)\n",
    "axs[1].set_ylim(0,9);"
   ]
  },
  {
   "cell_type": "code",
   "execution_count": null,
   "metadata": {},
   "outputs": [],
   "source": []
  }
 ],
 "metadata": {
  "kernelspec": {
   "display_name": "Python 3",
   "language": "python",
   "name": "python3"
  },
  "language_info": {
   "codemirror_mode": {
    "name": "ipython",
    "version": 3
   },
   "file_extension": ".py",
   "mimetype": "text/x-python",
   "name": "python",
   "nbconvert_exporter": "python",
   "pygments_lexer": "ipython3",
   "version": "3.6.4"
  }
 },
 "nbformat": 4,
 "nbformat_minor": 2
}
