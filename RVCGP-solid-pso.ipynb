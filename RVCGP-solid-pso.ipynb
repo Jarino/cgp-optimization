{
 "cells": [
  {
   "cell_type": "code",
   "execution_count": 2,
   "metadata": {},
   "outputs": [],
   "source": [
    "from Solid.ParticleSwarm import ParticleSwarm\n",
    "from sklearn.metrics import mean_squared_error\n",
    "from tengp.individual import IndividualBuilder, NPIndividual\n",
    "from tengp import Parameters, FunctionSet\n",
    "import numpy as np"
   ]
  },
  {
   "cell_type": "code",
   "execution_count": 56,
   "metadata": {},
   "outputs": [],
   "source": [
    "class Algorithm(ParticleSwarm):\n",
    "    \"\"\"\n",
    "    Optimize the CCGP individual\n",
    "    \"\"\"\n",
    "    def custom_init(self, params, bounds):\n",
    "        self.cache = {}\n",
    "        self.params = params\n",
    "        self.bounds = bounds\n",
    "    \n",
    "    def _objective(self, member):\n",
    "        member = np.clip(member, self.lower_bound, self.upper_bound)\n",
    "        \n",
    "        key = hash(member.tostring())\n",
    "        \n",
    "        if key in self.cache:\n",
    "            return self.cache[key]\n",
    "        \n",
    "        \n",
    "     \n",
    "        individual = NPIndividual(member.tolist(), self.bounds, self.params)\n",
    "        \n",
    "        output = individual.transform(x_train)\n",
    "        try:\n",
    "            fitness = mean_squared_error(output, y_train)\n",
    "        except ValueError:\n",
    "            fitness = 10e10\n",
    "        \n",
    "        self.cache[key] = fitness\n",
    "        \n",
    "        return fitness"
   ]
  },
  {
   "cell_type": "code",
   "execution_count": 61,
   "metadata": {},
   "outputs": [],
   "source": [
    "# define CCGP system\n",
    "from experiment_settings import nguyen7_funset\n",
    "import symreg\n",
    "import random\n",
    "\n",
    "params = Parameters(2, 1, 1, 50, nguyen7_funset, real_valued=True, max_back=20)\n",
    "\n",
    "ib = IndividualBuilder(params)"
   ]
  },
  {
   "cell_type": "code",
   "execution_count": 58,
   "metadata": {},
   "outputs": [],
   "source": [
    "x_train, y_train, _, _ = symreg.get_benchmark_nguyen7(random, None)\n",
    "x_train = np.c_[np.ones(len(x_train)), x_train]"
   ]
  },
  {
   "cell_type": "code",
   "execution_count": 68,
   "metadata": {},
   "outputs": [],
   "source": [
    "initial_individual = ib.create()\n",
    "\n",
    "output = initial_individual.transform(x_train)\n",
    "initial_individual.fitness = -mean_squared_error(output, y_train)\n",
    "bounds = initial_individual.bounds\n",
    "\n",
    "algo = Algorithm(swarm_size=50,\n",
    "                member_size=len(initial_individual.genes),\n",
    "                lower_bound=initial_individual.bounds[0],\n",
    "                upper_bound=initial_individual.bounds[1],\n",
    "                c1=1,\n",
    "                c2=1,\n",
    "                c3=1,\n",
    "                max_steps=1000)\n",
    "\n",
    "algo.custom_init(params, bounds)"
   ]
  },
  {
   "cell_type": "code",
   "execution_count": 69,
   "metadata": {},
   "outputs": [],
   "source": [
    "np.warnings.filterwarnings('ignore')"
   ]
  },
  {
   "cell_type": "code",
   "execution_count": 70,
   "metadata": {},
   "outputs": [
    {
     "name": "stdout",
     "output_type": "stream",
     "text": [
      "TERMINATING - REACHED MAXIMUM STEPS\n",
      "CPU times: user 2min 7s, sys: 3min 13s, total: 5min 21s\n",
      "Wall time: 1min 23s\n"
     ]
    },
    {
     "data": {
      "text/plain": [
       "(array([-2.99468105e-01, -1.39530470e+00,  2.55369408e+00, -3.08881432e+01,\n",
       "         5.06016302e+00,  2.62740817e+00,  1.35683038e+01, -1.32911713e-01,\n",
       "        -6.92403156e+00,  1.79465475e+01, -1.18574688e+01,  7.40260392e+00,\n",
       "        -3.90354868e+01, -5.38926905e+00,  7.30119022e+00, -1.28306369e-01,\n",
       "        -1.72171789e+00, -2.58527037e+01, -4.53120204e+00,  7.33357327e+00,\n",
       "         2.03705738e+00,  2.40212295e+01,  4.78382065e+01,  1.02941464e+02,\n",
       "        -3.02400134e+01,  5.09430682e+01, -4.48741495e+00,  5.27118318e+01,\n",
       "         7.70914165e+01, -7.95373405e+00, -9.08483996e+00,  6.81255982e+00,\n",
       "         2.78898225e+00,  2.01523988e+00, -3.98606177e+01,  1.20503888e+02,\n",
       "         3.92465138e+01,  6.66779261e+01, -5.22107213e+00,  1.03771157e+00,\n",
       "        -1.08153135e+02,  6.30587628e+01, -1.06534687e+01, -7.96458260e+01,\n",
       "         1.06263702e+02, -3.57284652e+00,  6.46813088e+01,  5.92092145e+01,\n",
       "         2.35333195e+01,  2.78454452e+00, -1.60355136e+01, -1.56972067e+01,\n",
       "        -6.56570920e+01,  1.88757023e+01,  3.16218362e+01,  1.20404529e+01,\n",
       "         1.14329642e+01, -1.96701168e+01,  5.27961403e+01,  2.34632705e+01,\n",
       "        -2.63915073e+01,  7.43432341e+01,  8.37212575e+01, -1.01357145e+00,\n",
       "         4.05055147e+01,  1.08286786e+02,  2.51479530e+01, -7.31448000e+01,\n",
       "         5.58528660e+01, -4.98943233e+00,  9.22945764e+01, -5.46223987e+01,\n",
       "         1.29683367e-01,  3.42213676e+00, -6.10237887e+01,  2.62575901e+01,\n",
       "         7.66440627e+01, -2.06769933e+01,  3.53733250e+01,  7.07534315e+01,\n",
       "         9.07202855e+01, -2.27495672e+01,  9.38725745e+00,  5.70735198e+00,\n",
       "        -1.69807252e+01,  8.47312493e+01, -1.32241297e+01, -6.08673735e+00,\n",
       "        -8.98863101e+01,  4.33692219e+01,  3.07007175e+01,  5.36640527e+01,\n",
       "         1.04561325e+02, -3.95987717e-01, -7.99032037e+00,  1.08556681e+02,\n",
       "        -4.60375223e+01, -8.48829432e+01,  9.22792566e+01, -2.43383202e+01,\n",
       "         7.36908764e+01,  2.87339392e+01,  2.75036833e+01, -5.16352654e+01,\n",
       "        -1.38866062e+01, -2.73064691e+01,  3.48238305e+01,  1.87837546e+02,\n",
       "        -8.86105189e+00, -7.62963704e+01, -2.03568218e+01, -2.23178695e+01,\n",
       "        -6.85382581e+01,  1.60941614e+02, -5.66222773e+00,  1.39558697e+02,\n",
       "         8.24460934e+01,  2.50187605e+01,  7.75255765e-02,  6.71337340e+01,\n",
       "         6.13300557e+01,  1.93343865e+02,  6.74066350e+01,  1.49679972e+01,\n",
       "         9.69667512e+01, -4.34557211e+01,  1.44935342e+01,  2.29693831e+01,\n",
       "         1.40497103e+02, -2.09016119e+01,  1.17997526e+02,  1.27405466e+02,\n",
       "         4.55991438e+01,  3.72417454e+01, -7.10628249e+01,  3.98241668e+01,\n",
       "        -7.85535405e+01,  7.07441066e+01, -4.49257000e+01,  9.14256201e+01,\n",
       "         3.17608328e+01, -8.24397947e-01,  1.03580870e+02, -4.07874862e+01,\n",
       "         3.38770067e+01,  9.07062180e+01,  7.88141913e+01, -6.01318244e+01,\n",
       "         1.12199033e+02, -3.13464784e+01,  1.08179602e+02]),\n",
       " 0.004404888924403866)"
      ]
     },
     "execution_count": 70,
     "metadata": {},
     "output_type": "execute_result"
    }
   ],
   "source": [
    "%%time\n",
    "\n",
    "algo.run(verbose=False)"
   ]
  },
  {
   "cell_type": "code",
   "execution_count": null,
   "metadata": {},
   "outputs": [],
   "source": []
  }
 ],
 "metadata": {
  "kernelspec": {
   "display_name": "Python [conda env:tengp]",
   "language": "python",
   "name": "conda-env-tengp-py"
  },
  "language_info": {
   "codemirror_mode": {
    "name": "ipython",
    "version": 3
   },
   "file_extension": ".py",
   "mimetype": "text/x-python",
   "name": "python",
   "nbconvert_exporter": "python",
   "pygments_lexer": "ipython3",
   "version": "3.7.2"
  }
 },
 "nbformat": 4,
 "nbformat_minor": 2
}
