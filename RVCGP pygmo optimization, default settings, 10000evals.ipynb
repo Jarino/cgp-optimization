{
 "cells": [
  {
   "cell_type": "code",
   "execution_count": 1,
   "metadata": {},
   "outputs": [],
   "source": [
    "import random\n",
    "\n",
    "import numpy as np\n",
    "from sklearn.metrics import mean_squared_error\n",
    "import matplotlib.pyplot as plt\n",
    "import seaborn as sns\n",
    "\n",
    "import tengp\n",
    "from gpbenchmarks import get_data\n",
    "\n",
    "\n",
    "def pdivide(x, y):\n",
    "    return np.divide(x, y, out=np.copy(x), where=x!=0)\n",
    "\n",
    "def plog(x, y):\n",
    "    return np.log(x, out=np.copy(x), where=x>0)\n",
    "\n",
    "def psin(x, y):\n",
    "    return np.sin(x)\n",
    "\n",
    "def pcos(x, y):\n",
    "    return np.cos(x)\n",
    "\n",
    "def pow2(x, y):\n",
    "    return x**2\n",
    "\n",
    "def pow3(x, y):\n",
    "    return x**3\n",
    "\n",
    "def ptan(x, y):\n",
    "    return np.tan(x)\n",
    "\n",
    "def ptanh(x, y):\n",
    "    return np.tanh(x)\n",
    "\n",
    "def psqrt(x, y):\n",
    "    return  np.sqrt(x)\n",
    "\n",
    "def pexp(x, y):\n",
    "    return np.exp(x)\n",
    "\n",
    "\n",
    "funset = tengp.FunctionSet()\n",
    "funset.add(np.add, 2)\n",
    "funset.add(np.subtract, 2)\n",
    "funset.add(np.multiply, 2)\n",
    "funset.add(pdivide, 2)\n",
    "funset.add(plog, 2)\n",
    "funset.add(psin, 2)\n",
    "funset.add(pcos, 2)\n",
    "\n",
    "#     function set: +, -, *, /, sin, cos, tan, tanh, sqrt, exp, log, **2, **3\n",
    "ext_funset = tengp.FunctionSet()\n",
    "ext_funset.add(np.add, 2)\n",
    "ext_funset.add(np.subtract, 2)\n",
    "ext_funset.add(np.multiply, 2)\n",
    "ext_funset.add(pdivide, 2)\n",
    "ext_funset.add(psin, 2)\n",
    "ext_funset.add(pcos, 2)\n",
    "ext_funset.add(ptan, 2)\n",
    "ext_funset.add(ptanh, 2)\n",
    "ext_funset.add(psqrt, 2)\n",
    "ext_funset.add(pexp, 2)\n",
    "ext_funset.add(plog, 2)\n",
    "ext_funset.add(pow2, 2)\n",
    "ext_funset.add(pow3, 2)\n",
    "\n",
    "params1d = tengp.Parameters(2, 1, 1, 50, funset, real_valued=True)\n",
    "params2d = tengp.Parameters(3, 1, 1, 50, funset, real_valued=True)\n",
    "params5d = tengp.Parameters(6, 1, 1, 50, ext_funset, real_valued=True)\n",
    "\n",
    "functions = [('nguyenf4', params1d, [20, -1, 1]), ('nguyenf7', params1d, [20, 0, 2]), ('nguyenf10', params2d, [100, -1, 1]), ('korns12', params5d, [10000, -50, 50])]"
   ]
  },
  {
   "cell_type": "code",
   "execution_count": 2,
   "metadata": {},
   "outputs": [],
   "source": [
    "import pygmo as pg"
   ]
  },
  {
   "cell_type": "code",
   "execution_count": 63,
   "metadata": {},
   "outputs": [],
   "source": [
    "vectors = []\n",
    "n_actives = []\n",
    "\n",
    "class cost_function:\n",
    "    def __init__(self, X, Y, params, bounds):\n",
    "        self.params = params\n",
    "        self.bounds = bounds\n",
    "        self.X = X\n",
    "        self.Y = Y\n",
    "    \n",
    "    def fitness(self, x):\n",
    "        #vectors.append(x)\n",
    "        #x[-1] = round(x[-1])\n",
    "        \n",
    "        individual = tengp.individual.NPIndividual(\n",
    "            list(x), self.bounds, self.params\n",
    "        )\n",
    "        \n",
    "        pred = individual.transform(self.X)\n",
    "        \n",
    "        #n_actives.append(len(individual.active_nodes))\n",
    "        \n",
    "        try:\n",
    "            return [mean_squared_error(pred, self.Y)]\n",
    "        except ValueError:\n",
    "            return [10000000000]\n",
    "        \n",
    "    def get_bounds(self):\n",
    "        lower = [0]*len(self.bounds)\n",
    "        for i in range(len(lower)):\n",
    "            if i % 3 == 0:\n",
    "                lower[i] = self.bounds[i]\n",
    "                continue\n",
    "            if self.bounds[i] >= 5:\n",
    "                lower[i] = self.bounds[i] - 5\n",
    "            else:\n",
    "                lower[i] = self.bounds[i]\n",
    "                \n",
    "        lower[-1] -= 5\n",
    "        print(self.bounds)\n",
    "        print(lower)\n",
    "        return (lower, [b for b in self.bounds])"
   ]
  },
  {
   "cell_type": "code",
   "execution_count": 64,
   "metadata": {
    "scrolled": true
   },
   "outputs": [
    {
     "name": "stdout",
     "output_type": "stream",
     "text": [
      "nguyenf4\n",
      "[6, 1, 1, 6, 2, 2, 6, 3, 3, 6, 4, 4, 6, 5, 5, 6, 6, 6, 6, 7, 7, 6, 8, 8, 6, 9, 9, 6, 10, 10, 6, 11, 11, 6, 12, 12, 6, 13, 13, 6, 14, 14, 6, 15, 15, 6, 16, 16, 6, 17, 17, 6, 18, 18, 6, 19, 19, 6, 20, 20, 6, 21, 21, 6, 22, 22, 6, 23, 23, 6, 24, 24, 6, 25, 25, 6, 26, 26, 6, 27, 27, 6, 28, 28, 6, 29, 29, 6, 30, 30, 6, 31, 31, 6, 32, 32, 6, 33, 33, 6, 34, 34, 6, 35, 35, 6, 36, 36, 6, 37, 37, 6, 38, 38, 6, 39, 39, 6, 40, 40, 6, 41, 41, 6, 42, 42, 6, 43, 43, 6, 44, 44, 6, 45, 45, 6, 46, 46, 6, 47, 47, 6, 48, 48, 6, 49, 49, 6, 50, 50, 51]\n",
      "[6, 1, 1, 6, 2, 2, 6, 3, 3, 6, 4, 4, 6, 0, 0, 6, 1, 1, 6, 2, 2, 6, 3, 3, 6, 4, 4, 6, 5, 5, 6, 6, 6, 6, 7, 7, 6, 8, 8, 6, 9, 9, 6, 10, 10, 6, 11, 11, 6, 12, 12, 6, 13, 13, 6, 14, 14, 6, 15, 15, 6, 16, 16, 6, 17, 17, 6, 18, 18, 6, 19, 19, 6, 20, 20, 6, 21, 21, 6, 22, 22, 6, 23, 23, 6, 24, 24, 6, 25, 25, 6, 26, 26, 6, 27, 27, 6, 28, 28, 6, 29, 29, 6, 30, 30, 6, 31, 31, 6, 32, 32, 6, 33, 33, 6, 34, 34, 6, 35, 35, 6, 36, 36, 6, 37, 37, 6, 38, 38, 6, 39, 39, 6, 40, 40, 6, 41, 41, 6, 42, 42, 6, 43, 43, 6, 44, 44, 6, 45, 45, 46]\n",
      "[6, 1, 1, 6, 2, 2, 6, 3, 3, 6, 4, 4, 6, 5, 5, 6, 6, 6, 6, 7, 7, 6, 8, 8, 6, 9, 9, 6, 10, 10, 6, 11, 11, 6, 12, 12, 6, 13, 13, 6, 14, 14, 6, 15, 15, 6, 16, 16, 6, 17, 17, 6, 18, 18, 6, 19, 19, 6, 20, 20, 6, 21, 21, 6, 22, 22, 6, 23, 23, 6, 24, 24, 6, 25, 25, 6, 26, 26, 6, 27, 27, 6, 28, 28, 6, 29, 29, 6, 30, 30, 6, 31, 31, 6, 32, 32, 6, 33, 33, 6, 34, 34, 6, 35, 35, 6, 36, 36, 6, 37, 37, 6, 38, 38, 6, 39, 39, 6, 40, 40, 6, 41, 41, 6, 42, 42, 6, 43, 43, 6, 44, 44, 6, 45, 45, 6, 46, 46, 6, 47, 47, 6, 48, 48, 6, 49, 49, 6, 50, 50, 51]\n",
      "[6, 1, 1, 6, 2, 2, 6, 3, 3, 6, 4, 4, 6, 0, 0, 6, 1, 1, 6, 2, 2, 6, 3, 3, 6, 4, 4, 6, 5, 5, 6, 6, 6, 6, 7, 7, 6, 8, 8, 6, 9, 9, 6, 10, 10, 6, 11, 11, 6, 12, 12, 6, 13, 13, 6, 14, 14, 6, 15, 15, 6, 16, 16, 6, 17, 17, 6, 18, 18, 6, 19, 19, 6, 20, 20, 6, 21, 21, 6, 22, 22, 6, 23, 23, 6, 24, 24, 6, 25, 25, 6, 26, 26, 6, 27, 27, 6, 28, 28, 6, 29, 29, 6, 30, 30, 6, 31, 31, 6, 32, 32, 6, 33, 33, 6, 34, 34, 6, 35, 35, 6, 36, 36, 6, 37, 37, 6, 38, 38, 6, 39, 39, 6, 40, 40, 6, 41, 41, 6, 42, 42, 6, 43, 43, 6, 44, 44, 6, 45, 45, 46]\n",
      "0, "
     ]
    },
    {
     "ename": "KeyboardInterrupt",
     "evalue": "",
     "output_type": "error",
     "traceback": [
      "\u001b[0;31m---------------------\u001b[0m",
      "\u001b[0;31mKeyboardInterrupt\u001b[0mTraceback (most recent call last)",
      "\u001b[0;32m<timed exec>\u001b[0m in \u001b[0;36m<module>\u001b[0;34m()\u001b[0m\n",
      "\u001b[0;32m~/anaconda3/lib/python3.6/site-packages/pygmo/__init__.py\u001b[0m in \u001b[0;36m_population_init\u001b[0;34m(self, prob, size, seed)\u001b[0m\n\u001b[1;32m    365\u001b[0m         \u001b[0mprob_arg\u001b[0m \u001b[0;34m=\u001b[0m \u001b[0mproblem\u001b[0m\u001b[0;34m(\u001b[0m\u001b[0mprob\u001b[0m\u001b[0;34m)\u001b[0m\u001b[0;34m\u001b[0m\u001b[0m\n\u001b[1;32m    366\u001b[0m     \u001b[0;32mif\u001b[0m \u001b[0mseed\u001b[0m \u001b[0;32mis\u001b[0m \u001b[0;32mNone\u001b[0m\u001b[0;34m:\u001b[0m\u001b[0;34m\u001b[0m\u001b[0m\n\u001b[0;32m--> 367\u001b[0;31m         \u001b[0m__original_population_init\u001b[0m\u001b[0;34m(\u001b[0m\u001b[0mself\u001b[0m\u001b[0;34m,\u001b[0m \u001b[0mprob_arg\u001b[0m\u001b[0;34m,\u001b[0m \u001b[0msize\u001b[0m\u001b[0;34m)\u001b[0m\u001b[0;34m\u001b[0m\u001b[0m\n\u001b[0m\u001b[1;32m    368\u001b[0m     \u001b[0;32melse\u001b[0m\u001b[0;34m:\u001b[0m\u001b[0;34m\u001b[0m\u001b[0m\n\u001b[1;32m    369\u001b[0m         \u001b[0m__original_population_init\u001b[0m\u001b[0;34m(\u001b[0m\u001b[0mself\u001b[0m\u001b[0;34m,\u001b[0m \u001b[0mprob_arg\u001b[0m\u001b[0;34m,\u001b[0m \u001b[0msize\u001b[0m\u001b[0;34m,\u001b[0m \u001b[0mseed\u001b[0m\u001b[0;34m)\u001b[0m\u001b[0;34m\u001b[0m\u001b[0m\n",
      "\u001b[0;32m<ipython-input-63-2442a55d5ddd>\u001b[0m in \u001b[0;36mfitness\u001b[0;34m(self, x)\u001b[0m\n\u001b[1;32m     14\u001b[0m \u001b[0;34m\u001b[0m\u001b[0m\n\u001b[1;32m     15\u001b[0m         individual = tengp.individual.NPIndividual(\n\u001b[0;32m---> 16\u001b[0;31m             \u001b[0mlist\u001b[0m\u001b[0;34m(\u001b[0m\u001b[0mx\u001b[0m\u001b[0;34m)\u001b[0m\u001b[0;34m,\u001b[0m \u001b[0mself\u001b[0m\u001b[0;34m.\u001b[0m\u001b[0mbounds\u001b[0m\u001b[0;34m,\u001b[0m \u001b[0mself\u001b[0m\u001b[0;34m.\u001b[0m\u001b[0mparams\u001b[0m\u001b[0;34m\u001b[0m\u001b[0m\n\u001b[0m\u001b[1;32m     17\u001b[0m         )\n\u001b[1;32m     18\u001b[0m \u001b[0;34m\u001b[0m\u001b[0m\n",
      "\u001b[0;32m/mnt/c/Users/jarinov-notas/dev/tengp/tengp/individual.py\u001b[0m in \u001b[0;36m__init__\u001b[0;34m(self, genes, bounds, params)\u001b[0m\n\u001b[1;32m    106\u001b[0m     \u001b[0;32mdef\u001b[0m \u001b[0m__init__\u001b[0m\u001b[0;34m(\u001b[0m\u001b[0mself\u001b[0m\u001b[0;34m,\u001b[0m \u001b[0mgenes\u001b[0m\u001b[0;34m,\u001b[0m \u001b[0mbounds\u001b[0m\u001b[0;34m,\u001b[0m \u001b[0mparams\u001b[0m\u001b[0;34m)\u001b[0m\u001b[0;34m:\u001b[0m\u001b[0;34m\u001b[0m\u001b[0m\n\u001b[1;32m    107\u001b[0m         \u001b[0mself\u001b[0m\u001b[0;34m.\u001b[0m\u001b[0mnodes\u001b[0m \u001b[0;34m=\u001b[0m \u001b[0mmap_to_np_phenotype\u001b[0m\u001b[0;34m(\u001b[0m\u001b[0mgenes\u001b[0m\u001b[0;34m,\u001b[0m \u001b[0mparams\u001b[0m\u001b[0;34m,\u001b[0m \u001b[0mparams\u001b[0m\u001b[0;34m.\u001b[0m\u001b[0mreal_valued\u001b[0m\u001b[0;34m)\u001b[0m\u001b[0;34m\u001b[0m\u001b[0m\n\u001b[0;32m--> 108\u001b[0;31m         \u001b[0mIndividual\u001b[0m\u001b[0;34m.\u001b[0m\u001b[0m__init__\u001b[0m\u001b[0;34m(\u001b[0m\u001b[0mself\u001b[0m\u001b[0;34m,\u001b[0m \u001b[0mgenes\u001b[0m\u001b[0;34m,\u001b[0m \u001b[0mbounds\u001b[0m\u001b[0;34m,\u001b[0m \u001b[0mparams\u001b[0m\u001b[0;34m)\u001b[0m\u001b[0;34m\u001b[0m\u001b[0m\n\u001b[0m\u001b[1;32m    109\u001b[0m \u001b[0;34m\u001b[0m\u001b[0m\n\u001b[1;32m    110\u001b[0m     \u001b[0;32mdef\u001b[0m \u001b[0mtransform\u001b[0m\u001b[0;34m(\u001b[0m\u001b[0mself\u001b[0m\u001b[0;34m,\u001b[0m \u001b[0mX\u001b[0m\u001b[0;34m)\u001b[0m\u001b[0;34m:\u001b[0m\u001b[0;34m\u001b[0m\u001b[0m\n",
      "\u001b[0;32m/mnt/c/Users/jarinov-notas/dev/tengp/tengp/individual.py\u001b[0m in \u001b[0;36m__init__\u001b[0;34m(self, genes, bounds, params)\u001b[0m\n\u001b[1;32m     16\u001b[0m         \u001b[0mself\u001b[0m\u001b[0;34m.\u001b[0m\u001b[0mgenes\u001b[0m \u001b[0;34m=\u001b[0m \u001b[0mgenes\u001b[0m\u001b[0;34m\u001b[0m\u001b[0m\n\u001b[1;32m     17\u001b[0m         \u001b[0mself\u001b[0m\u001b[0;34m.\u001b[0m\u001b[0mbounds\u001b[0m \u001b[0;34m=\u001b[0m \u001b[0mbounds\u001b[0m\u001b[0;34m\u001b[0m\u001b[0m\n\u001b[0;32m---> 18\u001b[0;31m         \u001b[0mself\u001b[0m\u001b[0;34m.\u001b[0m\u001b[0mpaths\u001b[0m \u001b[0;34m=\u001b[0m \u001b[0mactive_paths\u001b[0m\u001b[0;34m(\u001b[0m\u001b[0mself\u001b[0m\u001b[0;34m.\u001b[0m\u001b[0mnodes\u001b[0m\u001b[0;34m,\u001b[0m \u001b[0mparams\u001b[0m\u001b[0;34m.\u001b[0m\u001b[0mreal_valued\u001b[0m\u001b[0;34m)\u001b[0m\u001b[0;34m\u001b[0m\u001b[0m\n\u001b[0m\u001b[1;32m     19\u001b[0m         \u001b[0mself\u001b[0m\u001b[0;34m.\u001b[0m\u001b[0mactive_nodes\u001b[0m \u001b[0;34m=\u001b[0m \u001b[0mset\u001b[0m\u001b[0;34m(\u001b[0m\u001b[0mreduce\u001b[0m\u001b[0;34m(\u001b[0m\u001b[0mjoin_lists\u001b[0m\u001b[0;34m,\u001b[0m \u001b[0mself\u001b[0m\u001b[0;34m.\u001b[0m\u001b[0mpaths\u001b[0m\u001b[0;34m)\u001b[0m\u001b[0;34m)\u001b[0m\u001b[0;34m\u001b[0m\u001b[0m\n\u001b[1;32m     20\u001b[0m         \u001b[0mself\u001b[0m\u001b[0;34m.\u001b[0m\u001b[0mparams\u001b[0m \u001b[0;34m=\u001b[0m \u001b[0mparams\u001b[0m\u001b[0;34m\u001b[0m\u001b[0m\n",
      "\u001b[0;32m/mnt/c/Users/jarinov-notas/dev/tengp/tengp/utils.py\u001b[0m in \u001b[0;36mactive_paths\u001b[0;34m(nodes, real_valued)\u001b[0m\n\u001b[1;32m     77\u001b[0m         \u001b[0;32mif\u001b[0m \u001b[0;32mnot\u001b[0m \u001b[0mcurrent_node\u001b[0m\u001b[0;34m.\u001b[0m\u001b[0mis_output\u001b[0m \u001b[0;32mand\u001b[0m \u001b[0;32mnot\u001b[0m \u001b[0mcurrent_node\u001b[0m\u001b[0;34m.\u001b[0m\u001b[0mis_input\u001b[0m\u001b[0;34m:\u001b[0m\u001b[0;34m\u001b[0m\u001b[0m\n\u001b[1;32m     78\u001b[0m             \u001b[0;32mif\u001b[0m \u001b[0mreal_valued\u001b[0m\u001b[0;34m:\u001b[0m\u001b[0;34m\u001b[0m\u001b[0m\n\u001b[0;32m---> 79\u001b[0;31m                 \u001b[0mnested\u001b[0m \u001b[0;34m=\u001b[0m \u001b[0;34m[\u001b[0m\u001b[0;34m[\u001b[0m\u001b[0mmath\u001b[0m\u001b[0;34m.\u001b[0m\u001b[0mfloor\u001b[0m\u001b[0;34m(\u001b[0m\u001b[0mi\u001b[0m\u001b[0;34m)\u001b[0m\u001b[0;34m,\u001b[0m \u001b[0mmath\u001b[0m\u001b[0;34m.\u001b[0m\u001b[0mceil\u001b[0m\u001b[0;34m(\u001b[0m\u001b[0mi\u001b[0m\u001b[0;34m)\u001b[0m\u001b[0;34m]\u001b[0m \u001b[0;32mfor\u001b[0m \u001b[0mi\u001b[0m \u001b[0;32min\u001b[0m \u001b[0mcurrent_node\u001b[0m\u001b[0;34m.\u001b[0m\u001b[0minputs\u001b[0m\u001b[0;34m[\u001b[0m\u001b[0;34m:\u001b[0m\u001b[0mcurrent_node\u001b[0m\u001b[0;34m.\u001b[0m\u001b[0marity\u001b[0m\u001b[0;34m]\u001b[0m\u001b[0;34m]\u001b[0m\u001b[0;34m\u001b[0m\u001b[0m\n\u001b[0m\u001b[1;32m     80\u001b[0m                 \u001b[0minputs\u001b[0m \u001b[0;34m=\u001b[0m \u001b[0;34m[\u001b[0m\u001b[0mx\u001b[0m \u001b[0;32mfor\u001b[0m \u001b[0my\u001b[0m \u001b[0;32min\u001b[0m \u001b[0mnested\u001b[0m \u001b[0;32mfor\u001b[0m \u001b[0mx\u001b[0m \u001b[0;32min\u001b[0m \u001b[0my\u001b[0m\u001b[0;34m]\u001b[0m\u001b[0;34m\u001b[0m\u001b[0m\n\u001b[1;32m     81\u001b[0m             \u001b[0;32melse\u001b[0m\u001b[0;34m:\u001b[0m\u001b[0;34m\u001b[0m\u001b[0m\n",
      "\u001b[0;31mKeyboardInterrupt\u001b[0m: "
     ]
    }
   ],
   "source": [
    "%%time\n",
    "results = []\n",
    "champions = []\n",
    "\n",
    "for f in functions:\n",
    "    print(f[0])\n",
    "    x, y = get_data(f[0], *f[2])\n",
    "    x = np.c_[np.ones(len(x)), x]\n",
    "    bounds = tengp.individual.IndividualBuilder(f[1]).create().bounds[:]\n",
    "\n",
    "    prob = pg.problem(cost_function(x, y, f[1], bounds))\n",
    "    \n",
    "    problem_results = []\n",
    "    pg.set_global_rng_seed(42)\n",
    "    for i in range(100):\n",
    "        print(i, end=', ')\n",
    "        algo = pg.algorithm(pg.pso(\n",
    "            gen=200,\n",
    "            eta1=0.1,\n",
    "            eta2=4\n",
    "#             omega=0.4,\n",
    "#             max_vel=1\n",
    "#             variant=1,\n",
    "#             neighb_type=4\n",
    "        ))\n",
    "        algo.set_verbosity(1)\n",
    "        pop = pg.population(prob, 50)\n",
    "        pop = algo.evolve(pop)\n",
    "        problem_results.append(pop.champion_f[0])\n",
    "        champions.append(pop.champion_x)\n",
    "    results.append(problem_results)\n",
    "    "
   ]
  },
  {
   "cell_type": "code",
   "execution_count": 55,
   "metadata": {},
   "outputs": [],
   "source": [
    "def plot_results(outs):\n",
    "    costs = np.array(outs)\n",
    "    print('min:', np.min(costs))\n",
    "    print('mean:', np.mean(costs))\n",
    "    print('median:', np.median(costs))\n",
    "    print('variance:',np.var(costs))\n",
    "    sns.distplot(costs, kde=False);"
   ]
  },
  {
   "cell_type": "code",
   "execution_count": 56,
   "metadata": {},
   "outputs": [
    {
     "name": "stdout",
     "output_type": "stream",
     "text": [
      "Nguyen4\n",
      "min: 0.009734379046742476\n",
      "mean: 0.27177508163335007\n",
      "median: 0.20430736576923253\n",
      "variance: 0.055370133609695574\n"
     ]
    },
    {
     "data": {
      "image/png": "[encoded data removed]",
      "text/plain": [
       "<matplotlib.figure.Figure at 0x7f9498e4bd68>"
      ]
     },
     "metadata": {},
     "output_type": "display_data"
    }
   ],
   "source": [
    "print('Nguyen4')\n",
    "plot_results(results[0])"
   ]
  },
  {
   "cell_type": "code",
   "execution_count": 57,
   "metadata": {},
   "outputs": [
    {
     "name": "stdout",
     "output_type": "stream",
     "text": [
      "Nguyen7\n",
      "min: 3.930932516333013e-05\n",
      "mean: 0.00087633895052264\n",
      "median: 0.0008649412731800418\n",
      "variance: 1.5909907009250844e-07\n"
     ]
    },
    {
     "data": {
      "image/png": "[encoded data removed]",
      "text/plain": [
       "<matplotlib.figure.Figure at 0x7f9498d8d048>"
      ]
     },
     "metadata": {},
     "output_type": "display_data"
    }
   ],
   "source": [
    "print('Nguyen7')\n",
    "plot_results(results[1])"
   ]
  },
  {
   "cell_type": "code",
   "execution_count": 58,
   "metadata": {},
   "outputs": [
    {
     "name": "stdout",
     "output_type": "stream",
     "text": [
      "Nguyen10\n",
      "min: 0.010118786835625613\n",
      "mean: 0.04199458431152686\n",
      "median: 0.03886650132533244\n",
      "variance: 0.00013415301723684002\n"
     ]
    },
    {
     "data": {
      "image/png": "[encoded data removed]",
      "text/plain": [
       "<matplotlib.figure.Figure at 0x7f9498d85860>"
      ]
     },
     "metadata": {},
     "output_type": "display_data"
    }
   ],
   "source": [
    "print('Nguyen10')\n",
    "plot_results(results[2])"
   ]
  },
  {
   "cell_type": "code",
   "execution_count": 59,
   "metadata": {},
   "outputs": [
    {
     "name": "stdout",
     "output_type": "stream",
     "text": [
      "Korns12\n",
      "min: 1.1126115244374697\n",
      "mean: 2.1481580420293453\n",
      "median: 2.321134298274283\n",
      "variance: 0.1384027207588319\n"
     ]
    },
    {
     "data": {
      "image/png": "[encoded data removed]",
      "text/plain": [
       "<matplotlib.figure.Figure at 0x7f9498f8b630>"
      ]
     },
     "metadata": {},
     "output_type": "display_data"
    }
   ],
   "source": [
    "print('Korns12')\n",
    "plot_results(results[3])"
   ]
  },
  {
   "cell_type": "code",
   "execution_count": null,
   "metadata": {},
   "outputs": [],
   "source": []
  }
 ],
 "metadata": {
  "kernelspec": {
   "display_name": "Python 3",
   "language": "python",
   "name": "python3"
  },
  "language_info": {
   "codemirror_mode": {
    "name": "ipython",
    "version": 3
   },
   "file_extension": ".py",
   "mimetype": "text/x-python",
   "name": "python",
   "nbconvert_exporter": "python",
   "pygments_lexer": "ipython3",
   "version": "3.6.4"
  }
 },
 "nbformat": 4,
 "nbformat_minor": 2
}
