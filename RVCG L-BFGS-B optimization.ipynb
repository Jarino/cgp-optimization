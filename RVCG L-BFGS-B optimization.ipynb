{
 "cells": [
  {
   "cell_type": "code",
   "execution_count": 2,
   "metadata": {},
   "outputs": [],
   "source": [
    "import random\n",
    "\n",
    "import numpy as np\n",
    "from sklearn.metrics import mean_squared_error\n",
    "import matplotlib.pyplot as plt\n",
    "import seaborn as sns\n",
    "\n",
    "import tengp\n",
    "from gpbenchmarks import get_data\n",
    "\n",
    "\n",
    "def pdivide(x, y):\n",
    "    return np.divide(x, y, out=np.copy(x), where=x!=0)\n",
    "\n",
    "def plog(x, y):\n",
    "    return np.log(x, out=np.copy(x), where=x>0)\n",
    "\n",
    "def psin(x, y):\n",
    "    return np.sin(x)\n",
    "\n",
    "def pcos(x, y):\n",
    "    return np.cos(x)\n",
    "\n",
    "def pow2(x, y):\n",
    "    return x**2\n",
    "\n",
    "def pow3(x, y):\n",
    "    return x**3\n",
    "\n",
    "def ptan(x, y):\n",
    "    return np.tan(x)\n",
    "\n",
    "def ptanh(x, y):\n",
    "    return np.tanh(x)\n",
    "\n",
    "def psqrt(x, y):\n",
    "    return  np.sqrt(x)\n",
    "\n",
    "def pexp(x, y):\n",
    "    return np.exp(x)\n",
    "\n",
    "\n",
    "funset = tengp.FunctionSet()\n",
    "funset.add(np.add, 2)\n",
    "funset.add(np.subtract, 2)\n",
    "funset.add(np.multiply, 2)\n",
    "funset.add(pdivide, 2)\n",
    "funset.add(plog, 2)\n",
    "funset.add(psin, 2)\n",
    "funset.add(pcos, 2)\n",
    "\n",
    "#     function set: +, -, *, /, sin, cos, tan, tanh, sqrt, exp, log, **2, **3\n",
    "ext_funset = tengp.FunctionSet()\n",
    "ext_funset.add(np.add, 2)\n",
    "ext_funset.add(np.subtract, 2)\n",
    "ext_funset.add(np.multiply, 2)\n",
    "ext_funset.add(pdivide, 2)\n",
    "ext_funset.add(psin, 2)\n",
    "ext_funset.add(pcos, 2)\n",
    "ext_funset.add(ptan, 2)\n",
    "ext_funset.add(ptanh, 2)\n",
    "ext_funset.add(psqrt, 2)\n",
    "ext_funset.add(pexp, 2)\n",
    "ext_funset.add(plog, 2)\n",
    "ext_funset.add(pow2, 2)\n",
    "ext_funset.add(pow3, 2)\n",
    "\n",
    "params1d = tengp.Parameters(2, 1, 1, 20, funset, real_valued=True)\n",
    "params2d = tengp.Parameters(3, 1, 1, 20, funset, real_valued=True)\n",
    "params5d = tengp.Parameters(6, 1, 1, 20, ext_funset, real_valued=True)\n",
    "\n",
    "functions = [('nguyenf4', params1d, [20, -1, 1]), ('nguyenf7', params1d, [20, 0, 2]), ('nguyenf10', params2d, [100, -1, 1]), ('korns12', params5d, [10000, -50, 50])]"
   ]
  },
  {
   "cell_type": "code",
   "execution_count": 3,
   "metadata": {},
   "outputs": [],
   "source": [
    "trials = 10"
   ]
  },
  {
   "cell_type": "code",
   "execution_count": 7,
   "metadata": {},
   "outputs": [],
   "source": [
    "def cost_function(G):\n",
    "    clipped = []\n",
    "    for gene, bound in zip(G, bounds):\n",
    "        if gene < 0:\n",
    "            clipped.append(0)\n",
    "        elif gene > bound:\n",
    "            clipped.append(bound)\n",
    "        else:\n",
    "            clipped.append(gene)\n",
    "            \n",
    "    individual = tengp.individual.NPIndividual(clipped, bounds, params)\n",
    "    pred = individual.transform(X)\n",
    "    \n",
    "    try:\n",
    "        out = mean_squared_error(pred, y)\n",
    "    except ValueError:\n",
    "        out = 1000000000\n",
    "    #print(out)\n",
    "    return out"
   ]
  },
  {
   "cell_type": "code",
   "execution_count": 8,
   "metadata": {},
   "outputs": [],
   "source": [
    "import random\n",
    "\n",
    "from scipy.optimize import minimize"
   ]
  },
  {
   "cell_type": "code",
   "execution_count": 10,
   "metadata": {},
   "outputs": [
    {
     "name": "stderr",
     "output_type": "stream",
     "text": [
      "/home/jarino/anaconda3/lib/python3.6/site-packages/ipykernel_launcher.py:13: RuntimeWarning: divide by zero encountered in true_divide\n",
      "  del sys.path[0]\n",
      "/mnt/c/Users/jarinov-notas/dev/tengp/tengp/individual.py:150: RuntimeWarning: invalid value encountered in subtract\n",
      "  upper_function = sfn(a)*(fun_upper(*upper_inputs))# + sfn(1-a)*fun_upper(*lower_inputs)\n"
     ]
    },
    {
     "data": {
      "text/plain": [
       "      fun: 0.7938646130197762\n",
       " hess_inv: <61x61 LbfgsInvHessProduct with dtype=float64>\n",
       "      jac: array([-8.45128879e+00,  1.24532861e+01,  0.00000000e+00, -2.83112211e-01,\n",
       "        4.82621854e-01,  0.00000000e+00,  1.00264952e-01,  2.27017105e-01,\n",
       "        3.45760448e+00,  6.17785378e-02, -3.39417716e-02,  7.52643503e-03,\n",
       "        0.00000000e+00,  0.00000000e+00,  0.00000000e+00,  0.00000000e+00,\n",
       "        0.00000000e+00,  0.00000000e+00,  0.00000000e+00,  0.00000000e+00,\n",
       "        0.00000000e+00,  0.00000000e+00,  0.00000000e+00,  0.00000000e+00,\n",
       "        0.00000000e+00,  0.00000000e+00,  0.00000000e+00,  0.00000000e+00,\n",
       "        0.00000000e+00,  0.00000000e+00,  1.85692410e+01, -3.68210351e-02,\n",
       "        0.00000000e+00,  8.48312987e-01,  6.93022895e-01,  0.00000000e+00,\n",
       "        0.00000000e+00,  0.00000000e+00,  0.00000000e+00,  0.00000000e+00,\n",
       "        0.00000000e+00,  0.00000000e+00,  0.00000000e+00,  0.00000000e+00,\n",
       "        0.00000000e+00,  0.00000000e+00,  0.00000000e+00,  0.00000000e+00,\n",
       "        0.00000000e+00,  0.00000000e+00,  0.00000000e+00,  0.00000000e+00,\n",
       "        0.00000000e+00,  0.00000000e+00,  0.00000000e+00,  0.00000000e+00,\n",
       "        0.00000000e+00,  0.00000000e+00,  0.00000000e+00,  0.00000000e+00,\n",
       "       -1.23795640e-02])\n",
       "  message: b'ABNORMAL_TERMINATION_IN_LNSRCH'\n",
       "     nfev: 10912\n",
       "      nit: 62\n",
       "   status: 2\n",
       "  success: False\n",
       "        x: array([ 4.72532866,  0.72484004,  0.9636868 ,  5.49519414,  0.60809194,\n",
       "        0.7655708 ,  0.32804485,  0.55559234,  0.12669416,  2.86944916,\n",
       "        3.21309742,  2.40406496,  2.12282284,  0.28593806,  2.11722564,\n",
       "        4.48019644,  0.70702148,  0.98587649,  2.38016952,  6.41212657,\n",
       "        6.48792162,  3.7591331 ,  3.31909327,  4.39140552,  2.29221589,\n",
       "        0.34078991,  2.2165418 ,  0.23711246,  8.82563656,  0.23617233,\n",
       "        5.22132442,  4.58168292,  3.42739003,  4.51516247,  2.52481119,\n",
       "        5.43623736,  0.92542236,  8.1069712 ,  6.11659092,  1.98096289,\n",
       "       13.80879445,  6.89680612,  5.20308158,  1.91236143,  2.2169198 ,\n",
       "        0.29305315,  7.77844653,  8.74218459,  1.26051757,  1.72477731,\n",
       "        7.14538811,  3.04164075,  5.85727715, 16.52068394,  3.66531782,\n",
       "        0.97202853,  2.67686527,  1.20298445,  3.38341945, 18.10348707,\n",
       "       12.97307337])"
      ]
     },
     "execution_count": 10,
     "metadata": {},
     "output_type": "execute_result"
    }
   ],
   "source": [
    "def sfn(c):\n",
    "    return (np.sin(2 * np.pi * (c - 1/4)) + 1)/2\n",
    "\n",
    "params = tengp.Parameters(2, 1, 1, 20, funset, real_valued=True,\n",
    "                          smoothing_fn=sfn)\n",
    "\n",
    "X, y = get_data('nguyenf4', 20, -1, 1)\n",
    "X = np.c_[np.ones(len(X)), X]\n",
    "bounds = tengp.individual.IndividualBuilder(params).create().bounds[:]\n",
    "x0 = [random.uniform(0, b) for b in bounds]\n",
    "lb_bounds = [(0, b) for b in bounds]\n",
    "res = minimize(cost_function, x0, method='L-BFGS-B')\n",
    "res"
   ]
  },
  {
   "cell_type": "code",
   "execution_count": null,
   "metadata": {
    "scrolled": false
   },
   "outputs": [],
   "source": [
    "%%time\n",
    "\n",
    "rv_results = []\n",
    "\n",
    "for function in functions:\n",
    "    print(function[0])\n",
    "    trial_results = []\n",
    "    for trial in range(trials):\n",
    "        print(trial, end=',')\n",
    "        params = function[1]\n",
    "        X, y = get_data(function[0], *function[2])\n",
    "        X = np.c_[np.ones(len(X)), X]\n",
    "        bounds = tengp.individual.IndividualBuilder(params).create().bounds[:]\n",
    "\n",
    "        \n",
    "        trial_results.append(toolbox.evaluate(hof[0]))\n",
    "    rv_results.append(trial_results)\n",
    "    print()\n",
    "\n",
    "random.seed(42)\n",
    "\n",
    "x0 = [random.uniform(0, b) for b in bounds]\n",
    "\n",
    "lb_bounds = [(0, b) for b in bounds]\n",
    "\n",
    "res = minimize(cost_function, x0, method='L-BFGS-B')"
   ]
  },
  {
   "cell_type": "code",
   "execution_count": null,
   "metadata": {},
   "outputs": [],
   "source": [
    "def plot_results(outs):\n",
    "    costs = np.array(outs)\n",
    "    print('mean:', np.mean(costs))\n",
    "    print('median:', np.median(costs))\n",
    "    print('variance:',np.var(costs))\n",
    "    print('min:', np.min(costs))\n",
    "    sns.distplot(costs);"
   ]
  },
  {
   "cell_type": "code",
   "execution_count": null,
   "metadata": {},
   "outputs": [],
   "source": [
    "print('Nguyen4')\n",
    "plot_results([x[0] for x in rv_results[0]])"
   ]
  },
  {
   "cell_type": "code",
   "execution_count": null,
   "metadata": {},
   "outputs": [],
   "source": [
    "print('Nguyen7')\n",
    "plot_results([x[0] for x in rv_results[1]])"
   ]
  },
  {
   "cell_type": "code",
   "execution_count": null,
   "metadata": {},
   "outputs": [],
   "source": [
    "print('Nguyen10')\n",
    "plot_results([x[0] for x in rv_results[2]])"
   ]
  },
  {
   "cell_type": "code",
   "execution_count": null,
   "metadata": {},
   "outputs": [],
   "source": [
    "print('Korns12')\n",
    "plot_results([x[0] for x in rv_results[3]])"
   ]
  },
  {
   "cell_type": "code",
   "execution_count": null,
   "metadata": {},
   "outputs": [],
   "source": []
  }
 ],
 "metadata": {
  "kernelspec": {
   "display_name": "Python 3",
   "language": "python",
   "name": "python3"
  },
  "language_info": {
   "codemirror_mode": {
    "name": "ipython",
    "version": 3
   },
   "file_extension": ".py",
   "mimetype": "text/x-python",
   "name": "python",
   "nbconvert_exporter": "python",
   "pygments_lexer": "ipython3",
   "version": "3.6.4"
  }
 },
 "nbformat": 4,
 "nbformat_minor": 2
}
