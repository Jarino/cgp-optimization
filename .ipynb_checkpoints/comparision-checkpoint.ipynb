{
 "cells": [
  {
   "cell_type": "markdown",
   "metadata": {},
   "source": [
    "# Comparison of simple $(1+4)$-ES and CMA-ES for CGP optimization"
   ]
  },
  {
   "cell_type": "code",
   "execution_count": 1,
   "metadata": {},
   "outputs": [],
   "source": [
    "import random\n",
    "\n",
    "import gpbenchmarks as bench\n",
    "import matplotlib.pyplot as plt\n",
    "from sklearn.metrics import mean_squared_error\n",
    "import numpy as np\n",
    "import tengp"
   ]
  },
  {
   "cell_type": "code",
   "execution_count": 2,
   "metadata": {},
   "outputs": [],
   "source": [
    "funset = tengp.FunctionSet()\n",
    "funset.add(np.add, 2)\n",
    "funset.add(np.subtract, 2)\n",
    "funset.add(np.multiply, 2)\n",
    "funset.add(np.divide, 2)\n",
    "funset.add(np.log, 1)\n",
    "funset.add(np.sin, 1)\n",
    "funset.add(np.cos, 1)\n",
    "\n",
    "functions = [f'nguyenf{i}' for i in range(1,9)]"
   ]
  },
  {
   "cell_type": "markdown",
   "metadata": {},
   "source": [
    "# (1+4)-ES, point mutation"
   ]
  },
  {
   "cell_type": "code",
   "execution_count": 9,
   "metadata": {},
   "outputs": [
    {
     "name": "stdout",
     "output_type": "stream",
     "text": [
      "Trial: 0\n"
     ]
    },
    {
     "name": "stderr",
     "output_type": "stream",
     "text": [
      "/mnt/c/Users/jarinov-notas/dev/tengp/tengp/individual.py:73: RuntimeWarning: divide by zero encountered in log\n",
      "  current_node.value = current_node.fun(*values)\n",
      "/mnt/c/Users/jarinov-notas/dev/tengp/tengp/individual.py:73: RuntimeWarning: invalid value encountered in true_divide\n",
      "  current_node.value = current_node.fun(*values)\n",
      "/mnt/c/Users/jarinov-notas/dev/tengp/tengp/individual.py:73: RuntimeWarning: invalid value encountered in log\n",
      "  current_node.value = current_node.fun(*values)\n",
      "/mnt/c/Users/jarinov-notas/dev/tengp/tengp/individual.py:73: RuntimeWarning: invalid value encountered in cos\n",
      "  current_node.value = current_node.fun(*values)\n",
      "/mnt/c/Users/jarinov-notas/dev/tengp/tengp/individual.py:73: RuntimeWarning: divide by zero encountered in true_divide\n",
      "  current_node.value = current_node.fun(*values)\n",
      "/mnt/c/Users/jarinov-notas/dev/tengp/tengp/individual.py:73: RuntimeWarning: invalid value encountered in add\n",
      "  current_node.value = current_node.fun(*values)\n",
      "/mnt/c/Users/jarinov-notas/dev/tengp/tengp/individual.py:73: RuntimeWarning: invalid value encountered in sin\n",
      "  current_node.value = current_node.fun(*values)\n",
      "/mnt/c/Users/jarinov-notas/dev/tengp/tengp/individual.py:73: RuntimeWarning: invalid value encountered in multiply\n",
      "  current_node.value = current_node.fun(*values)\n"
     ]
    },
    {
     "name": "stdout",
     "output_type": "stream",
     "text": [
      "run for nguyenf1 finished, best fitness 0.9420754888832619\n"
     ]
    },
    {
     "name": "stderr",
     "output_type": "stream",
     "text": [
      "/mnt/c/Users/jarinov-notas/dev/tengp/tengp/individual.py:73: RuntimeWarning: invalid value encountered in subtract\n",
      "  current_node.value = current_node.fun(*values)\n"
     ]
    },
    {
     "name": "stdout",
     "output_type": "stream",
     "text": [
      "run for nguyenf2 finished, best fitness 3.4519474573106237\n",
      "run for nguyenf3 finished, best fitness 0.49503538206517883\n",
      "run for nguyenf4 finished, best fitness 69.70455281625178\n",
      "run for nguyenf5 finished, best fitness 0.6700440630267702\n",
      "run for nguyenf6 finished, best fitness 0.1934444651148272\n"
     ]
    },
    {
     "name": "stderr",
     "output_type": "stream",
     "text": [
      "/home/jarino/anaconda3/lib/python3.6/site-packages/numpy/core/_methods.py:32: RuntimeWarning: invalid value encountered in reduce\n",
      "  return umr_sum(a, axis, dtype, out, keepdims)\n"
     ]
    },
    {
     "name": "stdout",
     "output_type": "stream",
     "text": [
      "run for nguyenf7 finished, best fitness 0.125232129224396\n",
      "run for nguyenf8 finished, best fitness 0.06491894927367026\n",
      "Trial: 1\n",
      "run for nguyenf1 finished, best fitness 30.452441688451536\n",
      "run for nguyenf2 finished, best fitness 120.56452373011382\n",
      "run for nguyenf3 finished, best fitness 12.467465394915441\n",
      "run for nguyenf4 finished, best fitness 1772.4975969771447\n",
      "run for nguyenf5 finished, best fitness 0.872003451788815\n",
      "run for nguyenf6 finished, best fitness 0.27370349547732364\n",
      "run for nguyenf7 finished, best fitness 0.08040360829575059\n",
      "run for nguyenf8 finished, best fitness 0.9007324563922324\n",
      "Trial: 2\n",
      "run for nguyenf1 finished, best fitness 11.706282541322622\n",
      "run for nguyenf2 finished, best fitness 127.48038820156212\n",
      "run for nguyenf3 finished, best fitness 2.12005611416935\n",
      "run for nguyenf4 finished, best fitness 1405.1970467354506\n",
      "run for nguyenf5 finished, best fitness 0.141677413453853\n",
      "run for nguyenf6 finished, best fitness 0.2318237780732552\n",
      "run for nguyenf7 finished, best fitness 0.0803299514967076\n",
      "run for nguyenf8 finished, best fitness 0.06023323449410437\n",
      "Trial: 3\n",
      "run for nguyenf1 finished, best fitness 1.6906227093504735\n",
      "run for nguyenf2 finished, best fitness 0.8848728711930827\n",
      "run for nguyenf3 finished, best fitness inf\n",
      "run for nguyenf4 finished, best fitness 1280.7801231589017\n",
      "run for nguyenf5 finished, best fitness 0.02908888789971002\n",
      "run for nguyenf6 finished, best fitness 0.270989741377664\n",
      "run for nguyenf7 finished, best fitness 0.24692303363745838\n",
      "run for nguyenf8 finished, best fitness 0.0652201343623753\n",
      "Trial: 4\n",
      "run for nguyenf1 finished, best fitness 8.772355589474461\n",
      "run for nguyenf2 finished, best fitness 117.42995624386774\n",
      "run for nguyenf3 finished, best fitness 72.13987948010103\n",
      "run for nguyenf4 finished, best fitness 1737.6735794398817\n",
      "run for nguyenf5 finished, best fitness 0.16204651117734264\n",
      "run for nguyenf6 finished, best fitness 0.2551293586226361\n",
      "run for nguyenf7 finished, best fitness 0.050420355140840936\n",
      "run for nguyenf8 finished, best fitness 0.0652201343623753\n",
      "Trial: 5\n",
      "run for nguyenf1 finished, best fitness 0.6912933610489723\n",
      "run for nguyenf2 finished, best fitness 0.40465257441033337\n",
      "run for nguyenf3 finished, best fitness 381.6838954721109\n",
      "run for nguyenf4 finished, best fitness 1473.8354838855153\n",
      "run for nguyenf5 finished, best fitness 0.36680104170185396\n",
      "run for nguyenf6 finished, best fitness 0.21340694395517484\n",
      "run for nguyenf7 finished, best fitness 0.12701457133693497\n",
      "run for nguyenf8 finished, best fitness 0.06491894927367024\n",
      "Trial: 6\n",
      "run for nguyenf1 finished, best fitness 0.32266364173332757\n",
      "run for nguyenf2 finished, best fitness 1.063329061352055\n",
      "run for nguyenf3 finished, best fitness 53.517258516157334\n",
      "run for nguyenf4 finished, best fitness 1658.187809121328\n",
      "run for nguyenf5 finished, best fitness 0.01499320262776956\n",
      "run for nguyenf6 finished, best fitness 0.2551293586226361\n",
      "run for nguyenf7 finished, best fitness 0.19372183085602096\n",
      "run for nguyenf8 finished, best fitness 0.06491894927367026\n",
      "Trial: 7\n",
      "run for nguyenf1 finished, best fitness 1.3100697583879075\n",
      "run for nguyenf2 finished, best fitness 95.87631868737263\n",
      "run for nguyenf3 finished, best fitness 464.98701141464926\n",
      "run for nguyenf4 finished, best fitness 1737.6735794398817\n",
      "run for nguyenf5 finished, best fitness 0.17076438075146155\n",
      "run for nguyenf6 finished, best fitness 0.29719031007713304\n",
      "run for nguyenf7 finished, best fitness 0.125232129224396\n",
      "run for nguyenf8 finished, best fitness 0.03639479221524785\n",
      "Trial: 8\n",
      "run for nguyenf1 finished, best fitness 0.043233837744286706\n",
      "run for nguyenf2 finished, best fitness 60.97956989017189\n",
      "run for nguyenf3 finished, best fitness 421.2403850955064\n",
      "run for nguyenf4 finished, best fitness 16.970121655393392\n",
      "run for nguyenf5 finished, best fitness 0.02908888789971001\n",
      "run for nguyenf6 finished, best fitness 0.32586854769476076\n",
      "run for nguyenf7 finished, best fitness 0.0572233216094115\n",
      "run for nguyenf8 finished, best fitness 0.04238930225675877\n",
      "Trial: 9\n",
      "run for nguyenf1 finished, best fitness inf\n",
      "run for nguyenf2 finished, best fitness 10.178017286661298\n",
      "run for nguyenf3 finished, best fitness 16.825270319558985\n",
      "run for nguyenf4 finished, best fitness 1737.6735794398817\n",
      "run for nguyenf5 finished, best fitness 0.018731586995794736\n",
      "run for nguyenf6 finished, best fitness 0.2601567955372827\n",
      "run for nguyenf7 finished, best fitness 0.1258621980978127\n",
      "run for nguyenf8 finished, best fitness 0.07643997267379193\n",
      "CPU times: user 3min 40s, sys: 1.11 s, total: 3min 41s\n",
      "Wall time: 3min 52s\n"
     ]
    }
   ],
   "source": [
    "%%time\n",
    "random.seed(42)\n",
    "results = []\n",
    "\n",
    "for trial in range(0,10):\n",
    "    print(f'Trial: {trial}')\n",
    "    trial_results = []\n",
    "    for function in functions:\n",
    "        X, y = bench.get_data(function, 20, 0, 2)\n",
    "        if not isinstance(X, list):\n",
    "            # is one dimensional\n",
    "            params = tengp.Parameters(1, 1, 1, 100, funset)\n",
    "            X = X.reshape(-1,1)\n",
    "        else:\n",
    "            params = tengp.Parameters(len(X), 1, 1, 100, funset)\n",
    "        res = tengp.simple_es(X, y, mean_squared_error, params, mutation='point')\n",
    "        print(f'run for {function} finished, best fitness {res[0].fitness}')\n",
    "        trial_results.append(res[0].fitness)\n",
    "    results.append(trial_results)"
   ]
  },
  {
   "cell_type": "code",
   "execution_count": 10,
   "metadata": {},
   "outputs": [
    {
     "name": "stdout",
     "output_type": "stream",
     "text": [
      "191.25154072698268\n",
      "0.4498439782377561\n"
     ]
    }
   ],
   "source": [
    "results = np.array(results)\n",
    "print(np.ma.masked_invalid(results).mean())\n",
    "print(np.median(results))"
   ]
  },
  {
   "cell_type": "markdown",
   "metadata": {},
   "source": [
    "# (1+4)-ES, single mutation"
   ]
  },
  {
   "cell_type": "code",
   "execution_count": 3,
   "metadata": {},
   "outputs": [
    {
     "name": "stdout",
     "output_type": "stream",
     "text": [
      "Trial: 0\n"
     ]
    },
    {
     "name": "stderr",
     "output_type": "stream",
     "text": [
      "/mnt/c/Users/jarinov-notas/dev/tengp/tengp/individual.py:73: RuntimeWarning: divide by zero encountered in log\n",
      "  current_node.value = current_node.fun(*values)\n",
      "/mnt/c/Users/jarinov-notas/dev/tengp/tengp/individual.py:73: RuntimeWarning: invalid value encountered in true_divide\n",
      "  current_node.value = current_node.fun(*values)\n",
      "/mnt/c/Users/jarinov-notas/dev/tengp/tengp/individual.py:73: RuntimeWarning: invalid value encountered in log\n",
      "  current_node.value = current_node.fun(*values)\n",
      "/mnt/c/Users/jarinov-notas/dev/tengp/tengp/individual.py:73: RuntimeWarning: invalid value encountered in cos\n",
      "  current_node.value = current_node.fun(*values)\n",
      "/mnt/c/Users/jarinov-notas/dev/tengp/tengp/individual.py:73: RuntimeWarning: divide by zero encountered in true_divide\n",
      "  current_node.value = current_node.fun(*values)\n",
      "/mnt/c/Users/jarinov-notas/dev/tengp/tengp/individual.py:73: RuntimeWarning: invalid value encountered in add\n",
      "  current_node.value = current_node.fun(*values)\n",
      "/mnt/c/Users/jarinov-notas/dev/tengp/tengp/individual.py:73: RuntimeWarning: invalid value encountered in sin\n",
      "  current_node.value = current_node.fun(*values)\n",
      "/home/jarino/anaconda3/lib/python3.6/site-packages/numpy/core/_methods.py:32: RuntimeWarning: invalid value encountered in reduce\n",
      "  return umr_sum(a, axis, dtype, out, keepdims)\n",
      "/mnt/c/Users/jarinov-notas/dev/tengp/tengp/individual.py:73: RuntimeWarning: invalid value encountered in multiply\n",
      "  current_node.value = current_node.fun(*values)\n",
      "/mnt/c/Users/jarinov-notas/dev/tengp/tengp/individual.py:73: RuntimeWarning: invalid value encountered in subtract\n",
      "  current_node.value = current_node.fun(*values)\n"
     ]
    },
    {
     "name": "stdout",
     "output_type": "stream",
     "text": [
      "run for nguyenf1 finished, best fitness 0.026587221550991642\n",
      "run for nguyenf2 finished, best fitness 0.015856982053869838\n",
      "run for nguyenf3 finished, best fitness 9.743996969355534\n",
      "run for nguyenf4 finished, best fitness 1.7909201792886633\n",
      "run for nguyenf5 finished, best fitness 0.009388757382415252\n",
      "run for nguyenf6 finished, best fitness 0.016574896868508274\n",
      "run for nguyenf7 finished, best fitness 0.027039408724680858\n",
      "run for nguyenf8 finished, best fitness 0.009449174354058058\n",
      "Trial: 1\n",
      "run for nguyenf1 finished, best fitness 0.15248960749425367\n",
      "run for nguyenf2 finished, best fitness 0.7565143754797126\n",
      "run for nguyenf3 finished, best fitness 7.426048504202841\n",
      "run for nguyenf4 finished, best fitness 6.8239955453781125\n",
      "run for nguyenf5 finished, best fitness 0.02892640120239633\n",
      "run for nguyenf6 finished, best fitness 0.025264575621819958\n",
      "run for nguyenf7 finished, best fitness 0.0092330240467238\n",
      "run for nguyenf8 finished, best fitness 0.05315127932905671\n",
      "Trial: 2\n",
      "run for nguyenf1 finished, best fitness 0.11225846043872231\n",
      "run for nguyenf2 finished, best fitness 0.3207526134798187\n",
      "run for nguyenf3 finished, best fitness 7.426048504202841\n",
      "run for nguyenf4 finished, best fitness 5.989107140485419\n",
      "run for nguyenf5 finished, best fitness 0.006341893987795509\n",
      "run for nguyenf6 finished, best fitness 0.20433691359730616\n",
      "run for nguyenf7 finished, best fitness 0.0693230132596028\n",
      "run for nguyenf8 finished, best fitness 0.004816685366864315\n",
      "Trial: 3\n",
      "run for nguyenf1 finished, best fitness 0.07236931964351981\n",
      "run for nguyenf2 finished, best fitness 0.216026850663406\n",
      "run for nguyenf3 finished, best fitness 5.409981544762243\n",
      "run for nguyenf4 finished, best fitness 2.0071181769168223\n",
      "run for nguyenf5 finished, best fitness 0.02777560835253707\n",
      "run for nguyenf6 finished, best fitness 0.08309564009875277\n",
      "run for nguyenf7 finished, best fitness 0.10997029413715811\n",
      "run for nguyenf8 finished, best fitness 0.03794087634706306\n",
      "Trial: 4\n",
      "run for nguyenf1 finished, best fitness 0.14247705164824076\n",
      "run for nguyenf2 finished, best fitness 52.20518421247395\n",
      "run for nguyenf3 finished, best fitness 6.015538764066105\n",
      "run for nguyenf4 finished, best fitness 1.7909201792886633\n",
      "run for nguyenf5 finished, best fitness 0.012740125369130991\n",
      "run for nguyenf6 finished, best fitness 0.1934444651148272\n",
      "run for nguyenf7 finished, best fitness 0.014341700041886656\n",
      "run for nguyenf8 finished, best fitness 0.0652201343623753\n",
      "Trial: 5\n",
      "run for nguyenf1 finished, best fitness 0.008400904147287898\n",
      "run for nguyenf2 finished, best fitness 0.18603964915567667\n",
      "run for nguyenf3 finished, best fitness 1.6723005293956756\n",
      "run for nguyenf4 finished, best fitness 6.6170004109125795\n",
      "run for nguyenf5 finished, best fitness 0.008492433186236248\n",
      "run for nguyenf6 finished, best fitness 0.22435811002109066\n",
      "run for nguyenf7 finished, best fitness 0.007577254876658689\n",
      "run for nguyenf8 finished, best fitness 0.0013943289311292109\n",
      "Trial: 6\n",
      "run for nguyenf1 finished, best fitness 0.004885821111071339\n",
      "run for nguyenf2 finished, best fitness 0.021823612685247993\n",
      "run for nguyenf3 finished, best fitness 0.22697709028215582\n",
      "run for nguyenf4 finished, best fitness 0.845552430350151\n",
      "run for nguyenf5 finished, best fitness 0.025820640459776743\n",
      "run for nguyenf6 finished, best fitness 0.038001488336936194\n",
      "run for nguyenf7 finished, best fitness 0.029275902878808945\n",
      "run for nguyenf8 finished, best fitness 0.004575916386886961\n",
      "Trial: 7\n",
      "run for nguyenf1 finished, best fitness 0.07938273925913583\n",
      "run for nguyenf2 finished, best fitness 0.38059300620262315\n",
      "run for nguyenf3 finished, best fitness 261.28294708698485\n",
      "run for nguyenf4 finished, best fitness 6.852858940100212\n",
      "run for nguyenf5 finished, best fitness 0.018518180180797175\n",
      "run for nguyenf6 finished, best fitness 0.006191904935023477\n",
      "run for nguyenf7 finished, best fitness 0.004400131498409028\n",
      "run for nguyenf8 finished, best fitness 0.03498789046272367\n",
      "Trial: 8\n",
      "run for nguyenf1 finished, best fitness 0.06501263063522568\n",
      "run for nguyenf2 finished, best fitness 0.06777268811124404\n",
      "run for nguyenf3 finished, best fitness 1.8303803149639868\n",
      "run for nguyenf4 finished, best fitness 1.3428536909175381\n",
      "run for nguyenf5 finished, best fitness 0.024515119186333045\n",
      "run for nguyenf6 finished, best fitness 0.003064335564405287\n",
      "run for nguyenf7 finished, best fitness 5.323134603489984e-05\n",
      "run for nguyenf8 finished, best fitness 0.0027883693403059693\n",
      "Trial: 9\n",
      "run for nguyenf1 finished, best fitness 0.6912933610489727\n",
      "run for nguyenf2 finished, best fitness 0.16078371826263133\n",
      "run for nguyenf3 finished, best fitness 10.739464720009343\n",
      "run for nguyenf4 finished, best fitness 1.7989341605434084\n",
      "run for nguyenf5 finished, best fitness 0.01251647115017256\n",
      "run for nguyenf6 finished, best fitness 0.005195765933916088\n",
      "run for nguyenf7 finished, best fitness 0.002891562331319366\n",
      "run for nguyenf8 finished, best fitness 0.0652201343623753\n",
      "CPU times: user 4min 51s, sys: 1.06 s, total: 4min 52s\n",
      "Wall time: 4min 59s\n"
     ]
    }
   ],
   "source": [
    "%%time\n",
    "random.seed(42)\n",
    "results = []\n",
    "\n",
    "for trial in range(0,10):\n",
    "    print(f'Trial: {trial}')\n",
    "    trial_results = []\n",
    "    for function in functions:\n",
    "        X, y = bench.get_data(function, 20, 0, 2)\n",
    "        if not isinstance(X, list):\n",
    "            # is one dimensional\n",
    "            params = tengp.Parameters(1, 1, 1, 100, funset)\n",
    "            X = X.reshape(-1,1)\n",
    "        else:\n",
    "            params = tengp.Parameters(len(X), 1, 1, 100, funset)\n",
    "        res = tengp.simple_es(X, y, mean_squared_error, params, mutation='single')\n",
    "        print(f'run for {function} finished, best fitness {res[0].fitness}')\n",
    "        trial_results.append(res[0].fitness)\n",
    "    results.append(trial_results)"
   ]
  },
  {
   "cell_type": "code",
   "execution_count": 4,
   "metadata": {},
   "outputs": [
    {
     "name": "stdout",
     "output_type": "stream",
     "text": [
      "5.060595796836088\n",
      "0.06649641123680966\n"
     ]
    }
   ],
   "source": [
    "results = np.array(results)\n",
    "print(np.ma.masked_invalid(results).mean())\n",
    "print(np.median(results))"
   ]
  },
  {
   "cell_type": "markdown",
   "metadata": {},
   "source": [
    "# CMA-ES"
   ]
  },
  {
   "cell_type": "code",
   "execution_count": 7,
   "metadata": {},
   "outputs": [
    {
     "name": "stdout",
     "output_type": "stream",
     "text": [
      "Trial: 0\n"
     ]
    },
    {
     "name": "stderr",
     "output_type": "stream",
     "text": [
      "/home/jarino/anaconda3/lib/python3.6/site-packages/deap/creator.py:141: RuntimeWarning: A class named 'FitnessMin' has already been created and it will be overwritten. Consider deleting previous creation of that class or rename it.\n",
      "  RuntimeWarning)\n",
      "/home/jarino/anaconda3/lib/python3.6/site-packages/deap/creator.py:141: RuntimeWarning: A class named 'Individual' has already been created and it will be overwritten. Consider deleting previous creation of that class or rename it.\n",
      "  RuntimeWarning)\n",
      "/mnt/c/Users/jarinov-notas/dev/tengp/tengp/individual.py:64: RuntimeWarning: invalid value encountered in true_divide\n",
      "  current_node.value = current_node.fun(*values)\n",
      "/mnt/c/Users/jarinov-notas/dev/tengp/tengp/individual.py:64: RuntimeWarning: invalid value encountered in log\n",
      "  current_node.value = current_node.fun(*values)\n",
      "/mnt/c/Users/jarinov-notas/dev/tengp/tengp/individual.py:64: RuntimeWarning: divide by zero encountered in log\n",
      "  current_node.value = current_node.fun(*values)\n",
      "/mnt/c/Users/jarinov-notas/dev/tengp/tengp/individual.py:64: RuntimeWarning: invalid value encountered in sin\n",
      "  current_node.value = current_node.fun(*values)\n",
      "/mnt/c/Users/jarinov-notas/dev/tengp/tengp/individual.py:64: RuntimeWarning: invalid value encountered in cos\n",
      "  current_node.value = current_node.fun(*values)\n",
      "/mnt/c/Users/jarinov-notas/dev/tengp/tengp/individual.py:64: RuntimeWarning: invalid value encountered in multiply\n",
      "  current_node.value = current_node.fun(*values)\n",
      "/mnt/c/Users/jarinov-notas/dev/tengp/tengp/individual.py:64: RuntimeWarning: divide by zero encountered in true_divide\n",
      "  current_node.value = current_node.fun(*values)\n",
      "/mnt/c/Users/jarinov-notas/dev/tengp/tengp/individual.py:64: RuntimeWarning: invalid value encountered in subtract\n",
      "  current_node.value = current_node.fun(*values)\n",
      "/mnt/c/Users/jarinov-notas/dev/tengp/tengp/individual.py:64: RuntimeWarning: invalid value encountered in add\n",
      "  current_node.value = current_node.fun(*values)\n",
      "/home/jarino/anaconda3/lib/python3.6/site-packages/numpy/core/_methods.py:32: RuntimeWarning: invalid value encountered in reduce\n",
      "  return umr_sum(a, axis, dtype, out, keepdims)\n"
     ]
    },
    {
     "name": "stdout",
     "output_type": "stream",
     "text": [
      "run for nguyenf1 finished, best fitness 0.003938372553338373\n",
      "run for nguyenf2 finished, best fitness 0.6119259367254701\n",
      "run for nguyenf3 finished, best fitness 0.5781463368233177\n",
      "run for nguyenf4 finished, best fitness 5.555019937031403\n",
      "run for nguyenf5 finished, best fitness 0.006341893987795516\n",
      "run for nguyenf6 finished, best fitness 0.1062171206938273\n",
      "run for nguyenf7 finished, best fitness 0.027533652312628488\n",
      "run for nguyenf8 finished, best fitness 0.013784814254502781\n",
      "Trial: 1\n",
      "run for nguyenf1 finished, best fitness 0.07831467702019757\n",
      "run for nguyenf2 finished, best fitness 0.28057230278156925\n",
      "run for nguyenf3 finished, best fitness 3.6296176241600038\n",
      "run for nguyenf4 finished, best fitness 6.740868977639744\n",
      "run for nguyenf5 finished, best fitness 0.0071862018595405365\n",
      "run for nguyenf6 finished, best fitness 0.04295982443716701\n",
      "run for nguyenf7 finished, best fitness 0.01675381043565336\n",
      "run for nguyenf8 finished, best fitness 0.01423461801375756\n",
      "Trial: 2\n",
      "run for nguyenf1 finished, best fitness 0.14834394221625835\n",
      "run for nguyenf2 finished, best fitness 0.5167789538224252\n",
      "run for nguyenf3 finished, best fitness 0.7163066088980322\n",
      "run for nguyenf4 finished, best fitness 5.800758813162291\n",
      "run for nguyenf5 finished, best fitness 0.0037364558723515266\n",
      "run for nguyenf6 finished, best fitness 0.10000778627042235\n",
      "run for nguyenf7 finished, best fitness 0.008709542721700119\n",
      "run for nguyenf8 finished, best fitness 0.04183786106365722\n",
      "Trial: 3\n",
      "run for nguyenf1 finished, best fitness 0.006981134244955521\n",
      "run for nguyenf2 finished, best fitness 0.22748018596654865\n",
      "run for nguyenf3 finished, best fitness 5.442670739583256\n",
      "run for nguyenf4 finished, best fitness 1038.6751950564365\n",
      "run for nguyenf5 finished, best fitness 0.009138542708712774\n",
      "run for nguyenf6 finished, best fitness 0.09195545979535003\n",
      "run for nguyenf7 finished, best fitness 0.009551750999047459\n",
      "run for nguyenf8 finished, best fitness 0.016747214275362663\n",
      "Trial: 4\n",
      "run for nguyenf1 finished, best fitness 0.04448075498991508\n",
      "run for nguyenf2 finished, best fitness 1.0633290613520536\n",
      "run for nguyenf3 finished, best fitness 1.034673460612963\n",
      "run for nguyenf4 finished, best fitness 31.64288294040906\n",
      "run for nguyenf5 finished, best fitness 0.019217625410006406\n",
      "run for nguyenf6 finished, best fitness 0.1934444651148272\n",
      "run for nguyenf7 finished, best fitness 0.013259178451462869\n",
      "run for nguyenf8 finished, best fitness 0.009449174354058055\n",
      "Trial: 5\n",
      "run for nguyenf1 finished, best fitness 0.015211206455928333\n",
      "run for nguyenf2 finished, best fitness 0.6412677822889268\n",
      "run for nguyenf3 finished, best fitness 0.6831328075044791\n",
      "run for nguyenf4 finished, best fitness 24.74211351380635\n",
      "run for nguyenf5 finished, best fitness 0.019141150012774208\n",
      "run for nguyenf6 finished, best fitness 0.1664122671492067\n",
      "run for nguyenf7 finished, best fitness 0.0031690069048126374\n",
      "run for nguyenf8 finished, best fitness 0.036631323694407865\n",
      "Trial: 6\n",
      "run for nguyenf1 finished, best fitness 0.6612583515531723\n",
      "run for nguyenf2 finished, best fitness 0.24553261588287528\n",
      "run for nguyenf3 finished, best fitness 4.100961389320895\n",
      "run for nguyenf4 finished, best fitness 58.86470420656442\n",
      "run for nguyenf5 finished, best fitness 0.015290113104690684\n",
      "run for nguyenf6 finished, best fitness 0.08284159111832687\n",
      "run for nguyenf7 finished, best fitness 0.25898528657889786\n",
      "run for nguyenf8 finished, best fitness 0.012498482030232416\n",
      "Trial: 7\n",
      "run for nguyenf1 finished, best fitness 0.17699518690495009\n",
      "run for nguyenf2 finished, best fitness 91.20150152501772\n",
      "run for nguyenf3 finished, best fitness 19.926341621203974\n",
      "run for nguyenf4 finished, best fitness 69.68870290686039\n",
      "run for nguyenf5 finished, best fitness 0.05114132892849549\n",
      "run for nguyenf6 finished, best fitness 0.12322556496730999\n",
      "run for nguyenf7 finished, best fitness 0.09915357645803283\n",
      "run for nguyenf8 finished, best fitness 0.004977619472601547\n",
      "Trial: 8\n",
      "run for nguyenf1 finished, best fitness 0.07236931964351986\n",
      "run for nguyenf2 finished, best fitness 23.816441865806592\n",
      "run for nguyenf3 finished, best fitness 0.48393339928888696\n",
      "run for nguyenf4 finished, best fitness 38.04913997611921\n",
      "run for nguyenf5 finished, best fitness 0.01651694042820747\n",
      "run for nguyenf6 finished, best fitness 0.09188892928847017\n",
      "run for nguyenf7 finished, best fitness 0.001786978042399609\n",
      "run for nguyenf8 finished, best fitness 0.04173591947057258\n",
      "Trial: 9\n",
      "run for nguyenf1 finished, best fitness 0.17737305988438795\n",
      "run for nguyenf2 finished, best fitness 0.040970978227338854\n",
      "run for nguyenf3 finished, best fitness 0.4157688391616651\n",
      "run for nguyenf4 finished, best fitness 23.050379540713628\n",
      "run for nguyenf5 finished, best fitness 0.015949647218151473\n",
      "run for nguyenf6 finished, best fitness 0.1988644978458353\n",
      "run for nguyenf7 finished, best fitness 0.05217886582649504\n",
      "run for nguyenf8 finished, best fitness 0.02365331409155609\n",
      "CPU times: user 22min 23s, sys: 22.2 s, total: 22min 46s\n",
      "Wall time: 12min 3s\n"
     ]
    }
   ],
   "source": [
    "%%time\n",
    "\n",
    "results = []\n",
    "\n",
    "for trial in range(0,10):\n",
    "    print(f'Trial: {trial}')\n",
    "    trial_results = []\n",
    "    for function in functions:\n",
    "        X, y = bench.get_data(function, 20, 0, 2)\n",
    "        if not isinstance(X, list):\n",
    "            # is one dimensional\n",
    "            params = tengp.Parameters(1, 1, 1, 100, funset)\n",
    "            X = X.reshape(-1,1)\n",
    "        else:\n",
    "            params = tengp.Parameters(len(X), 1, 1, 100, funset)\n",
    "        hof, res = tengp.cma_es(X, y, mean_squared_error, params, random_state=42, sigma=0.5)\n",
    "        trial_results.append(hof.fitness)\n",
    "        print(f'run for {function} finished, best fitness {hof.fitness}')\n",
    "    results.append(trial_results)"
   ]
  },
  {
   "cell_type": "code",
   "execution_count": 10,
   "metadata": {},
   "outputs": [
    {
     "name": "stdout",
     "output_type": "stream",
     "text": [
      "18.274006191303773\n",
      "0.0995806813642276\n"
     ]
    }
   ],
   "source": [
    "results = np.array(results)\n",
    "print(np.mean(results))\n",
    "print(np.median(results))"
   ]
  },
  {
   "cell_type": "code",
   "execution_count": null,
   "metadata": {},
   "outputs": [],
   "source": []
  }
 ],
 "metadata": {
  "kernelspec": {
   "display_name": "Python 3",
   "language": "python",
   "name": "python3"
  },
  "language_info": {
   "codemirror_mode": {
    "name": "ipython",
    "version": 3
   },
   "file_extension": ".py",
   "mimetype": "text/x-python",
   "name": "python",
   "nbconvert_exporter": "python",
   "pygments_lexer": "ipython3",
   "version": "3.6.4"
  }
 },
 "nbformat": 4,
 "nbformat_minor": 2
}
