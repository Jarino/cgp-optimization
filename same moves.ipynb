{
 "cells": [
  {
   "cell_type": "markdown",
   "metadata": {},
   "source": [
    "# Number of same moves within CGP evolution"
   ]
  },
  {
   "cell_type": "code",
   "execution_count": 19,
   "metadata": {},
   "outputs": [],
   "source": [
    "import tengp\n",
    "import numpy as np\n",
    "from sklearn.metrics import mean_squared_error"
   ]
  },
  {
   "cell_type": "code",
   "execution_count": 42,
   "metadata": {},
   "outputs": [],
   "source": [
    "from functools import partial\n",
    "\n",
    "@tengp.utils.handle_invalid_decorator\n",
    "def simple_es_moves(X, y, cost_function, params,\n",
    "              target_fitness=0,\n",
    "              population_size=5,\n",
    "              evaluations=5000,\n",
    "              random_state=None,\n",
    "              mutation='point',\n",
    "              mutation_probability=0.25,\n",
    "              verbose=False):\n",
    "\n",
    "    if mutation not in tengp.mutations.MUTATIONS:\n",
    "        raise tengp.utils.UnknownMutationException(\"Provided type of mutation is not implemented.\")\n",
    "\n",
    "    move = tengp.mutations.MUTATIONS[mutation]\n",
    "    if mutation == 'probabilistic':\n",
    "        move = partial(move, probability=mutation_probability)\n",
    "\n",
    "    if random_state:\n",
    "        random.seed(random_state)\n",
    "\n",
    "    # initial generation\n",
    "    ib = tengp.individual.IndividualBuilder(params)\n",
    "\n",
    "    population = [ib.create() for _ in range(population_size)]\n",
    "\n",
    "    n_evals = 0\n",
    "\n",
    "    generation = 0\n",
    "\n",
    "    for individual in population:\n",
    "        output = individual.transform(X)\n",
    "        individual.fitness = cost_function(y, output)\n",
    "        n_evals += 1\n",
    "\n",
    "\n",
    "    all_moves = []\n",
    "    while n_evals < evaluations:\n",
    "        generation += 1\n",
    "\n",
    "        parent = min(population, key=lambda x: x.fitness)\n",
    "\n",
    "        if parent.fitness <= target_fitness:\n",
    "            return population\n",
    "\n",
    "        population = []\n",
    "        for _ in range(population_size - 1):\n",
    "            new_move = move(parent)\n",
    "            all_moves.append(new_move)\n",
    "            population.append(parent.apply(new_move))\n",
    "            \n",
    "        population = [parent.apply(move(parent)) for _ in range(population_size - 1)]\n",
    "\n",
    "        population += [parent]\n",
    "\n",
    "        for individual in population:\n",
    "            output = individual.transform(X)\n",
    "            individual.fitness = cost_function(y, output)\n",
    "            n_evals += 1\n",
    "\n",
    "        if verbose and generation % 100 == 0:\n",
    "            print(f'Gen: {generation}, population: {sorted([x.fitness for x in population])}')\n",
    "\n",
    "    population.sort(key=lambda x: x.fitness)\n",
    "    return population, all_moves\n"
   ]
  },
  {
   "cell_type": "code",
   "execution_count": 11,
   "metadata": {},
   "outputs": [],
   "source": [
    "from gpbenchmarks import get_data"
   ]
  },
  {
   "cell_type": "code",
   "execution_count": 7,
   "metadata": {},
   "outputs": [],
   "source": [
    "X, y = get_data('nguyenf10', 20, -1, 1)"
   ]
  },
  {
   "cell_type": "code",
   "execution_count": 14,
   "metadata": {},
   "outputs": [],
   "source": [
    "X = np.c_[np.ones(len(X)), X]"
   ]
  },
  {
   "cell_type": "markdown",
   "metadata": {},
   "source": [
    "Define the function set and CGP parameters"
   ]
  },
  {
   "cell_type": "code",
   "execution_count": 51,
   "metadata": {},
   "outputs": [],
   "source": [
    "funset = tengp.FunctionSet()\n",
    "funset.add(np.add, 2)\n",
    "funset.add(np.subtract, 2)\n",
    "funset.add(np.multiply, 2)\n",
    "funset.add(np.divide, 2)\n",
    "funset.add(np.sin, 1)\n",
    "funset.add(np.cos, 1)\n",
    "\n",
    "params = tengp.Parameters(3, 1, 1, 10, funset)"
   ]
  },
  {
   "cell_type": "code",
   "execution_count": 45,
   "metadata": {},
   "outputs": [],
   "source": [
    "def same_moves(moves):\n",
    "    hits = 0\n",
    "    for move in moves:\n",
    "        for m in moves:\n",
    "            if id(m) == id(move):\n",
    "                continue\n",
    "            if move == m:\n",
    "                hits += 1\n",
    "    return hits"
   ]
  },
  {
   "cell_type": "markdown",
   "metadata": {},
   "source": [
    "Same moves for **point mutation**:"
   ]
  },
  {
   "cell_type": "code",
   "execution_count": 52,
   "metadata": {},
   "outputs": [
    {
     "name": "stderr",
     "output_type": "stream",
     "text": [
      "/mnt/c/Users/jarinov-notas/dev/tengp/tengp/individual.py:113: RuntimeWarning: divide by zero encountered in true_divide\n",
      "  current_node.value = current_node.fun(*values)\n",
      "/home/jarino/anaconda3/lib/python3.6/site-packages/numpy/core/_methods.py:32: RuntimeWarning: invalid value encountered in reduce\n",
      "  return umr_sum(a, axis, dtype, out, keepdims)\n"
     ]
    },
    {
     "name": "stdout",
     "output_type": "stream",
     "text": [
      "3996 87594\n"
     ]
    }
   ],
   "source": [
    "population, moves = simple_es_moves(X, y, mean_squared_error, params, mutation='point')\n",
    "\n",
    "print(len(moves), same_moves(moves))"
   ]
  },
  {
   "cell_type": "markdown",
   "metadata": {},
   "source": [
    "Same moves for single mutation"
   ]
  },
  {
   "cell_type": "code",
   "execution_count": 53,
   "metadata": {},
   "outputs": [
    {
     "name": "stderr",
     "output_type": "stream",
     "text": [
      "/mnt/c/Users/jarinov-notas/dev/tengp/tengp/individual.py:113: RuntimeWarning: divide by zero encountered in true_divide\n",
      "  current_node.value = current_node.fun(*values)\n",
      "/mnt/c/Users/jarinov-notas/dev/tengp/tengp/individual.py:113: RuntimeWarning: invalid value encountered in true_divide\n",
      "  current_node.value = current_node.fun(*values)\n",
      "/home/jarino/anaconda3/lib/python3.6/site-packages/numpy/core/_methods.py:32: RuntimeWarning: invalid value encountered in reduce\n",
      "  return umr_sum(a, axis, dtype, out, keepdims)\n",
      "/mnt/c/Users/jarinov-notas/dev/tengp/tengp/individual.py:113: RuntimeWarning: invalid value encountered in sin\n",
      "  current_node.value = current_node.fun(*values)\n",
      "/mnt/c/Users/jarinov-notas/dev/tengp/tengp/individual.py:113: RuntimeWarning: invalid value encountered in cos\n",
      "  current_node.value = current_node.fun(*values)\n"
     ]
    },
    {
     "name": "stdout",
     "output_type": "stream",
     "text": [
      "3996 27178\n"
     ]
    }
   ],
   "source": [
    "population, moves = simple_es_moves(X, y, mean_squared_error, params, mutation='single')\n",
    "\n",
    "print(len(moves), same_moves(moves))"
   ]
  },
  {
   "cell_type": "markdown",
   "metadata": {},
   "source": [
    "Same moves for **probabilistic mutation**:"
   ]
  },
  {
   "cell_type": "code",
   "execution_count": 54,
   "metadata": {},
   "outputs": [
    {
     "name": "stderr",
     "output_type": "stream",
     "text": [
      "/mnt/c/Users/jarinov-notas/dev/tengp/tengp/individual.py:113: RuntimeWarning: divide by zero encountered in true_divide\n",
      "  current_node.value = current_node.fun(*values)\n",
      "/mnt/c/Users/jarinov-notas/dev/tengp/tengp/individual.py:113: RuntimeWarning: invalid value encountered in true_divide\n",
      "  current_node.value = current_node.fun(*values)\n",
      "/mnt/c/Users/jarinov-notas/dev/tengp/tengp/individual.py:113: RuntimeWarning: invalid value encountered in cos\n",
      "  current_node.value = current_node.fun(*values)\n",
      "/home/jarino/anaconda3/lib/python3.6/site-packages/numpy/core/_methods.py:32: RuntimeWarning: invalid value encountered in reduce\n",
      "  return umr_sum(a, axis, dtype, out, keepdims)\n"
     ]
    },
    {
     "name": "stdout",
     "output_type": "stream",
     "text": [
      "3996 0\n"
     ]
    }
   ],
   "source": [
    "population, moves = simple_es_moves(X, y, mean_squared_error, params, mutation='probabilistic')\n",
    "\n",
    "print(len(moves), same_moves(moves))"
   ]
  },
  {
   "cell_type": "code",
   "execution_count": null,
   "metadata": {},
   "outputs": [],
   "source": []
  }
 ],
 "metadata": {
  "kernelspec": {
   "display_name": "Python 3",
   "language": "python",
   "name": "python3"
  },
  "language_info": {
   "codemirror_mode": {
    "name": "ipython",
    "version": 3
   },
   "file_extension": ".py",
   "mimetype": "text/x-python",
   "name": "python",
   "nbconvert_exporter": "python",
   "pygments_lexer": "ipython3",
   "version": "3.6.4"
  }
 },
 "nbformat": 4,
 "nbformat_minor": 2
}
