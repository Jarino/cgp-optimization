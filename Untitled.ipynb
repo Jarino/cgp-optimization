{
 "cells": [
  {
   "cell_type": "code",
   "execution_count": 12,
   "metadata": {},
   "outputs": [
    {
     "name": "stdout",
     "output_type": "stream",
     "text": [
      "Accuracy on test: 0.37\n"
     ]
    }
   ],
   "source": [
    "import numpy as np\n",
    "from sklearn.metrics import accuracy_score\n",
    "from sklearn.datasets import load_iris\n",
    "from sklearn.model_selection import train_test_split\n",
    "\n",
    "import tengp\n",
    "\n",
    "# load data\n",
    "X, y = load_iris(return_X_y=True)\n",
    "\n",
    "X_train, X_test, y_train, y_test = train_test_split(X, y, test_size=0.2, random_state=42)\n",
    "\n",
    "# define function set\n",
    "def pdivide(a, b):\n",
    "    return np.divide(a, b, out=np.zeros_like(a), where=b!=0)\n",
    "\n",
    "def plog(a):\n",
    "    return np.log(a, out=np.zeros_like(a), where=a>0)\n",
    "\n",
    "funset = tengp.FunctionSet()\n",
    "funset.add(np.add, 2)\n",
    "funset.add(np.multiply, 2)\n",
    "funset.add(pdivide, 2)\n",
    "funset.add(plog, 1)\n",
    "\n",
    "# define cost function\n",
    "def cost_function(y, y_pred):\n",
    "    labels = np.array(y_pred).argmax(axis=0)\n",
    "    return -accuracy_score(y, labels)\n",
    "\n",
    "# tie everything together\n",
    "params = tengp.Parameters(4, 3, n_columns=25, n_rows=1, function_set=funset, use_tensorflow=False)\n",
    "\n",
    "res = tengp.simple_es(X_train, y_train, cost_function, params, target_fitness=-1, random_state=42)\n",
    "# or one can use CMA-ES:\n",
    "# hof, res = tengp.cma_es(...)\n",
    "\n",
    "# evaluate the best individual\n",
    "y_pred = res[0].transform(X_test)\n",
    "labels = np.array(y_pred).argmax(axis=1)\n",
    "print('Accuracy on test: {:.2}'.format(accuracy_score(y_test, labels)))"
   ]
  },
  {
   "cell_type": "code",
   "execution_count": 13,
   "metadata": {},
   "outputs": [
    {
     "data": {
      "text/plain": [
       "array([[ 1.18476194, -0.52360532,  3.26990828],\n",
       "       [ 1.10830599, -0.59031447,  3.02922251],\n",
       "       [ 1.42709566, -0.33750581,  4.16658043],\n",
       "       [ 1.16639616, -0.53922839,  3.210402  ],\n",
       "       [ 1.30144219, -0.42967416,  3.6745923 ],\n",
       "       [ 1.04519092, -0.64894762,  2.84394143],\n",
       "       [ 1.08786297, -0.60893199,  2.96792475],\n",
       "       [ 1.31661598, -0.41808239,  3.73077496],\n",
       "       [ 1.20266599, -0.50860643,  3.32898012],\n",
       "       [ 1.12819195, -0.57253087,  3.09006446],\n",
       "       [ 1.2538034 , -0.46696553,  3.50364339],\n",
       "       [ 0.9003873 , -0.79807746,  2.4605559 ],\n",
       "       [ 1.06683471, -0.62845113,  2.90616606],\n",
       "       [ 0.92650579, -0.76948216,  2.52566854],\n",
       "       [ 0.97622796, -0.71720634,  2.65442474],\n",
       "       [ 1.22012848, -0.49419101,  3.38762295],\n",
       "       [ 1.2538034 , -0.46696553,  3.50364339],\n",
       "       [ 1.08786297, -0.60893199,  2.96792475],\n",
       "       [ 1.10830599, -0.59031447,  3.02922251],\n",
       "       [ 1.23716835, -0.480322  ,  3.44584223],\n",
       "       [ 0.87336224, -0.82855206,  2.39494972],\n",
       "       [ 1.18476194, -0.52360532,  3.26990828],\n",
       "       [ 0.95176999, -0.74257906,  2.59029039],\n",
       "       [ 1.23716835, -0.480322  ,  3.44584223],\n",
       "       [ 1.45206376, -0.32016135,  4.27192167],\n",
       "       [ 1.28592499, -0.44166888,  3.61801304],\n",
       "       [ 1.28592499, -0.44166888,  3.61801304],\n",
       "       [ 1.30144219, -0.42967416,  3.6745923 ],\n",
       "       [ 0.9003873 , -0.79807746,  2.4605559 ],\n",
       "       [ 0.9003873 , -0.79807746,  2.4605559 ]])"
      ]
     },
     "execution_count": 13,
     "metadata": {},
     "output_type": "execute_result"
    }
   ],
   "source": [
    "y_pred"
   ]
  },
  {
   "cell_type": "code",
   "execution_count": null,
   "metadata": {},
   "outputs": [],
   "source": []
  }
 ],
 "metadata": {
  "kernelspec": {
   "display_name": "Python 3",
   "language": "python",
   "name": "python3"
  }
 },
 "nbformat": 4,
 "nbformat_minor": 2
}
