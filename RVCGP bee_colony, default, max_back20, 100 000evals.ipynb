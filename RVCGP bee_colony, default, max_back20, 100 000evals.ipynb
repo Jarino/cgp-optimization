{
 "cells": [
  {
   "cell_type": "code",
   "execution_count": 3,
   "metadata": {},
   "outputs": [],
   "source": [
    "import random\n",
    "import pickle\n",
    "\n",
    "import numpy as np\n",
    "from sklearn.metrics import mean_squared_error\n",
    "import matplotlib.pyplot as plt\n",
    "import pygmo as pg\n",
    "\n",
    "import tengp\n",
    "import symreg\n",
    "from experiment_settings import nguyen7_funset, pagie_funset, keijzer_funset, korns12_funset, vlad_funset"
   ]
  },
  {
   "cell_type": "code",
   "execution_count": 4,
   "metadata": {},
   "outputs": [],
   "source": [
    "TRIALS = 50\n",
    "OUTPUT_FOLDER  = 'results/abc/'\n",
    "PARALLEL = False"
   ]
  },
  {
   "cell_type": "code",
   "execution_count": 5,
   "metadata": {},
   "outputs": [],
   "source": [
    "def run_parallel(current_data):\n",
    "    if not PARALLEL:\n",
    "        logs = run_experiment(current_data, cost_function)\n",
    "    else:\n",
    "        name, (x_train, y_train, x_test, y_test), params = current_data\n",
    "        print(name)\n",
    "\n",
    "        bounds = tengp.individual.IndividualBuilder(params).create().bounds[:]\n",
    "\n",
    "        logs = Parallel(n_jobs=num_cores)(delayed(run_experiment_instance)(_, cost_function, x_train, y_train, params, bounds)\n",
    "                                            for _ in range(TRIALS))\n",
    "    return logs\n",
    "\n",
    "def run_experiment(data_item, cost_function):\n",
    "    logs = []\n",
    "    \n",
    "    name, (x_train, y_train, x_test, y_test), params = data_item\n",
    "    print(name)\n",
    "    \n",
    "    bounds = tengp.individual.IndividualBuilder(params).create().bounds[:]\n",
    "    \n",
    "    for i in range(TRIALS):\n",
    "        log = run_experiment_instance(i, cost_function, x_train, y_train, params, bounds)\n",
    "        logs.append(log)\n",
    "    \n",
    "    return logs\n",
    "\n",
    "\n",
    "def run_experiment_instance(i, cost_function, x_train, y_train, params, bounds):\n",
    "    print(i, end=',')\n",
    "    prob = pg.problem(cost_function(np.c_[np.ones(len(x_train)), x_train], y_train, params, bounds))\n",
    "    algo = pg.algorithm(pg.bee_colony(gen=2000))\n",
    "    algo.set_verbosity(1)\n",
    "    pop = pg.population(prob, 25)\n",
    "    pop = algo.evolve(pop)\n",
    "    uda = algo.extract(pg.bee_colony)\n",
    "        \n",
    "    return [x[2] for x in uda.get_log()]\n",
    "\n",
    "class cost_function:\n",
    "    def __init__(self, X, Y, params, bounds):\n",
    "        self.params = params\n",
    "        self.bounds = bounds\n",
    "        self.X = X\n",
    "        self.Y = Y\n",
    "    \n",
    "    def fitness(self, x):      \n",
    "        individual = tengp.individual.NPIndividual(list(x), self.bounds, self.params)\n",
    "        \n",
    "        pred = individual.transform(self.X)\n",
    "        \n",
    "        try:\n",
    "            return [mean_squared_error(pred, self.Y)]\n",
    "        except ValueError:\n",
    "            return [10000000000]\n",
    "        \n",
    "    def get_bounds(self):\n",
    "        return self.bounds"
   ]
  },
  {
   "cell_type": "code",
   "execution_count": 7,
   "metadata": {},
   "outputs": [],
   "source": [
    "kw_params = {'real_valued': True, 'max_back': 20}\n",
    "\n",
    "params_nguyen4 = tengp.Parameters(2, 1, 1, 50, nguyen7_funset, **kw_params)\n",
    "params_nguyen7 = tengp.Parameters(2, 1, 1, 50, nguyen7_funset, **kw_params)\n",
    "params_nguyen10 = tengp.Parameters(3, 1, 1, 50, nguyen7_funset, **kw_params)\n",
    "params_pagie1  = tengp.Parameters(3, 1, 1, 50, pagie_funset, **kw_params)\n",
    "params_keijzer6 = tengp.Parameters(2, 1, 1, 50, keijzer_funset, **kw_params)\n",
    "params_korns = tengp.Parameters(6, 1, 1, 50, korns12_funset, **kw_params)\n",
    "params_vlad = tengp.Parameters(6, 1, 1, 50, vlad_funset, **kw_params)\n",
    "\n",
    "all_params = [params_nguyen7, params_pagie1, params_keijzer6, params_korns, params_vlad]\n",
    "\n",
    "random.seed(42)\n",
    "\n",
    "data = [\n",
    "    ('nguyen4', symreg.get_benchmark_poly(random, 6), params_nguyen4),\n",
    "    ('nguyen7', symreg.get_benchmark_nguyen7(random, None), params_nguyen7),\n",
    "    ('nguyen10', symreg.get_benchmark_nguyen10(random, None), params_nguyen10),\n",
    "    ('pagie1', symreg.get_benchmark_pagie1(random, None), params_pagie1),\n",
    "    ('keijzer6', symreg.get_benchmark_keijzer(random, 6), params_keijzer6),\n",
    "    ('korns12', symreg.get_benchmark_korns(random, 12), params_korns),\n",
    "    ('vladislasleva4', symreg.get_benchmark_vladislasleva4(random, None), params_vlad)\n",
    "]"
   ]
  },
  {
   "cell_type": "markdown",
   "metadata": {},
   "source": [
    "# Nguyen 4"
   ]
  },
  {
   "cell_type": "code",
   "execution_count": null,
   "metadata": {
    "scrolled": true
   },
   "outputs": [],
   "source": [
    "%%time\n",
    "\n",
    "pg.set_global_rng_seed(seed = 42)\n",
    "logs = run_parallel(data[0])\n",
    "pickle.dump(logs, open(f'{OUTPUT_FOLDER}ng4_log', 'wb'))"
   ]
  },
  {
   "cell_type": "markdown",
   "metadata": {},
   "source": [
    "# Nguyen 7\n"
   ]
  },
  {
   "cell_type": "code",
   "execution_count": null,
   "metadata": {
    "scrolled": false
   },
   "outputs": [],
   "source": [
    "%%time\n",
    "\n",
    "pg.set_global_rng_seed(seed = 42)\n",
    "logs = run_parallel(data[1])\n",
    "pickle.dump(logs, open(f'{OUTPUT_FOLDER}ng7_log', 'wb'))"
   ]
  },
  {
   "cell_type": "code",
   "execution_count": 9,
   "metadata": {},
   "outputs": [],
   "source": [
    "np.warnings.filterwarnings('ignore')"
   ]
  },
  {
   "cell_type": "markdown",
   "metadata": {},
   "source": [
    "# Pagie"
   ]
  },
  {
   "cell_type": "code",
   "execution_count": 10,
   "metadata": {
    "scrolled": true
   },
   "outputs": [
    {
     "name": "stdout",
     "output_type": "stream",
     "text": [
      "pagie1\n",
      "0,1,2,3,4,5,6,7,8,9,10,11,12,13,14,15,16,17,18,19,20,21,22,23,24,25,26,27,28,29,30,31,32,33,34,35,36,37,38,39,40,41,42,43,44,45,46,47,48,49,CPU times: user 3h 18min 26s, sys: 1.77 s, total: 3h 18min 28s\n",
      "Wall time: 4h 24min 32s\n"
     ]
    }
   ],
   "source": [
    "%%time\n",
    "\n",
    "pg.set_global_rng_seed(seed = 42)\n",
    "logs = run_parallel(data[3])\n",
    "pickle.dump(logs, open(f'{OUTPUT_FOLDER}pag1_log', 'wb'))"
   ]
  },
  {
   "cell_type": "markdown",
   "metadata": {},
   "source": [
    "# Keijzer 6"
   ]
  },
  {
   "cell_type": "code",
   "execution_count": 11,
   "metadata": {},
   "outputs": [
    {
     "name": "stdout",
     "output_type": "stream",
     "text": [
      "keijzer6\n",
      "0,1,2,3,4,5,6,7,8,9,10,11,12,13,14,15,16,17,18,19,20,21,22,23,24,25,26,27,28,29,30,31,32,33,34,35,36,37,38,39,40,41,42,43,44,45,46,47,48,49,CPU times: user 2h 12min 54s, sys: 1.81 s, total: 2h 12min 56s\n",
      "Wall time: 7h 16min 54s\n"
     ]
    }
   ],
   "source": [
    "%%time\n",
    "\n",
    "pg.set_global_rng_seed(seed = 42)\n",
    "logs = run_parallel(data[4])\n",
    "pickle.dump(logs, open(f'{OUTPUT_FOLDER}kei6_log', 'wb'))"
   ]
  },
  {
   "cell_type": "markdown",
   "metadata": {},
   "source": [
    "# Korns 12"
   ]
  },
  {
   "cell_type": "code",
   "execution_count": 8,
   "metadata": {},
   "outputs": [
    {
     "name": "stdout",
     "output_type": "stream",
     "text": [
      "korns12\n"
     ]
    },
    {
     "name": "stderr",
     "output_type": "stream",
     "text": [
      "/mnt/c/Users/jarinov-notas/dev/cgp-optimization-experiment/experiment_settings.py:35: RuntimeWarning: invalid value encountered in sqrt\n",
      "  return  np.sqrt(x)\n",
      "/mnt/c/Users/jarinov-notas/dev/cgp-optimization-experiment/experiment_settings.py:35: RuntimeWarning: invalid value encountered in sqrt\n",
      "  return  np.sqrt(x)\n",
      "/mnt/c/Users/jarinov-notas/dev/cgp-optimization-experiment/experiment_settings.py:38: RuntimeWarning: overflow encountered in exp\n",
      "  return np.exp(x)\n",
      "/mnt/c/Users/jarinov-notas/dev/cgp-optimization-experiment/experiment_settings.py:38: RuntimeWarning: overflow encountered in exp\n",
      "  return np.exp(x)\n",
      "/mnt/c/Users/jarinov-notas/dev/cgp-optimization-experiment/experiment_settings.py:11: RuntimeWarning: invalid value encountered in greater\n",
      "  return np.log(x, out=np.copy(x), where=x>0)\n",
      "/mnt/c/Users/jarinov-notas/dev/cgp-optimization-experiment/experiment_settings.py:35: RuntimeWarning: invalid value encountered in sqrt\n",
      "  return  np.sqrt(x)\n",
      "/mnt/c/Users/jarinov-notas/dev/cgp-optimization-experiment/experiment_settings.py:23: RuntimeWarning: overflow encountered in square\n",
      "  return x**2\n",
      "/mnt/c/Users/jarinov-notas/dev/cgp-optimization-experiment/experiment_settings.py:11: RuntimeWarning: invalid value encountered in greater\n",
      "  return np.log(x, out=np.copy(x), where=x>0)\n",
      "/mnt/c/Users/jarinov-notas/dev/cgp-optimization-experiment/experiment_settings.py:26: RuntimeWarning: overflow encountered in power\n",
      "  return x**3\n",
      "/mnt/c/Users/jarinov-notas/dev/cgp-optimization-experiment/experiment_settings.py:38: RuntimeWarning: overflow encountered in exp\n",
      "  return np.exp(x)\n",
      "/mnt/c/Users/jarinov-notas/dev/tengp/tengp/individual.py:108: RuntimeWarning: invalid value encountered in add\n",
      "  return l + u\n",
      "/mnt/c/Users/jarinov-notas/dev/cgp-optimization-experiment/experiment_settings.py:23: RuntimeWarning: overflow encountered in square\n",
      "  return x**2\n",
      "/mnt/c/Users/jarinov-notas/dev/tengp/tengp/individual.py:107: RuntimeWarning: overflow encountered in multiply\n",
      "  u = a*f_u(L, U)\n",
      "/mnt/c/Users/jarinov-notas/dev/cgp-optimization-experiment/experiment_settings.py:11: RuntimeWarning: invalid value encountered in greater\n",
      "  return np.log(x, out=np.copy(x), where=x>0)\n",
      "/mnt/c/Users/jarinov-notas/dev/cgp-optimization-experiment/experiment_settings.py:26: RuntimeWarning: overflow encountered in power\n",
      "  return x**3\n",
      "/mnt/c/Users/jarinov-notas/dev/tengp/tengp/individual.py:141: RuntimeWarning: overflow encountered in multiply\n",
      "  value = (1-coeff)*self.nodes[lower].value + coeff*self.nodes[upper].value\n",
      "/mnt/c/Users/jarinov-notas/dev/cgp-optimization-experiment/experiment_settings.py:23: RuntimeWarning: overflow encountered in square\n",
      "  return x**2\n",
      "/mnt/c/Users/jarinov-notas/dev/tengp/tengp/individual.py:108: RuntimeWarning: invalid value encountered in add\n",
      "  return l + u\n",
      "/mnt/c/Users/jarinov-notas/dev/cgp-optimization-experiment/experiment_settings.py:26: RuntimeWarning: overflow encountered in power\n",
      "  return x**3\n",
      "/mnt/c/Users/jarinov-notas/dev/tengp/tengp/individual.py:107: RuntimeWarning: overflow encountered in multiply\n",
      "  u = a*f_u(L, U)\n",
      "/mnt/c/Users/jarinov-notas/dev/tengp/tengp/individual.py:141: RuntimeWarning: overflow encountered in multiply\n",
      "  value = (1-coeff)*self.nodes[lower].value + coeff*self.nodes[upper].value\n",
      "/mnt/c/Users/jarinov-notas/dev/cgp-optimization-experiment/experiment_settings.py:14: RuntimeWarning: invalid value encountered in sin\n",
      "  return np.sin(x)\n",
      "/mnt/c/Users/jarinov-notas/dev/tengp/tengp/individual.py:108: RuntimeWarning: invalid value encountered in add\n",
      "  return l + u\n",
      "/mnt/c/Users/jarinov-notas/dev/tengp/tengp/individual.py:106: RuntimeWarning: overflow encountered in multiply\n",
      "  l = (1-a)*f_l(L, U)\n",
      "/mnt/c/Users/jarinov-notas/dev/tengp/tengp/individual.py:107: RuntimeWarning: overflow encountered in multiply\n",
      "  u = a*f_u(L, U)\n",
      "/mnt/c/Users/jarinov-notas/dev/cgp-optimization-experiment/experiment_settings.py:14: RuntimeWarning: invalid value encountered in sin\n",
      "  return np.sin(x)\n",
      "/mnt/c/Users/jarinov-notas/dev/cgp-optimization-experiment/experiment_settings.py:8: RuntimeWarning: invalid value encountered in true_divide\n",
      "  return np.divide(x, y, out=np.copy(x), where=y!=0)\n",
      "/mnt/c/Users/jarinov-notas/dev/tengp/tengp/individual.py:141: RuntimeWarning: overflow encountered in multiply\n",
      "  value = (1-coeff)*self.nodes[lower].value + coeff*self.nodes[upper].value\n",
      "/mnt/c/Users/jarinov-notas/dev/tengp/tengp/individual.py:106: RuntimeWarning: overflow encountered in multiply\n",
      "  l = (1-a)*f_l(L, U)\n",
      "/mnt/c/Users/jarinov-notas/dev/cgp-optimization-experiment/experiment_settings.py:8: RuntimeWarning: invalid value encountered in true_divide\n",
      "  return np.divide(x, y, out=np.copy(x), where=y!=0)\n",
      "/mnt/c/Users/jarinov-notas/dev/cgp-optimization-experiment/experiment_settings.py:17: RuntimeWarning: invalid value encountered in cos\n",
      "  return np.cos(x)\n",
      "/mnt/c/Users/jarinov-notas/dev/cgp-optimization-experiment/experiment_settings.py:14: RuntimeWarning: invalid value encountered in sin\n",
      "  return np.sin(x)\n",
      "/mnt/c/Users/jarinov-notas/dev/cgp-optimization-experiment/experiment_settings.py:29: RuntimeWarning: invalid value encountered in tan\n",
      "  return np.tan(x)\n",
      "/mnt/c/Users/jarinov-notas/dev/cgp-optimization-experiment/experiment_settings.py:17: RuntimeWarning: invalid value encountered in cos\n",
      "  return np.cos(x)\n",
      "/mnt/c/Users/jarinov-notas/dev/tengp/tengp/individual.py:106: RuntimeWarning: overflow encountered in multiply\n",
      "  l = (1-a)*f_l(L, U)\n",
      "/mnt/c/Users/jarinov-notas/dev/cgp-optimization-experiment/experiment_settings.py:29: RuntimeWarning: invalid value encountered in tan\n",
      "  return np.tan(x)\n",
      "/mnt/c/Users/jarinov-notas/dev/cgp-optimization-experiment/experiment_settings.py:8: RuntimeWarning: invalid value encountered in true_divide\n",
      "  return np.divide(x, y, out=np.copy(x), where=y!=0)\n",
      "/mnt/c/Users/jarinov-notas/dev/tengp/tengp/individual.py:107: RuntimeWarning: invalid value encountered in subtract\n",
      "  u = a*f_u(L, U)\n",
      "/mnt/c/Users/jarinov-notas/dev/tengp/tengp/individual.py:107: RuntimeWarning: invalid value encountered in subtract\n",
      "  u = a*f_u(L, U)\n",
      "/mnt/c/Users/jarinov-notas/dev/cgp-optimization-experiment/experiment_settings.py:17: RuntimeWarning: invalid value encountered in cos\n",
      "  return np.cos(x)\n",
      "/mnt/c/Users/jarinov-notas/dev/cgp-optimization-experiment/experiment_settings.py:29: RuntimeWarning: invalid value encountered in tan\n",
      "  return np.tan(x)\n",
      "/mnt/c/Users/jarinov-notas/dev/tengp/tengp/individual.py:106: RuntimeWarning: invalid value encountered in subtract\n",
      "  l = (1-a)*f_l(L, U)\n",
      "/mnt/c/Users/jarinov-notas/dev/tengp/tengp/individual.py:107: RuntimeWarning: invalid value encountered in subtract\n",
      "  u = a*f_u(L, U)\n",
      "/mnt/c/Users/jarinov-notas/dev/tengp/tengp/individual.py:105: RuntimeWarning: invalid value encountered in add\n",
      "  U = (1-c)*x_l2 + c*x_u2\n",
      "/mnt/c/Users/jarinov-notas/dev/tengp/tengp/individual.py:106: RuntimeWarning: invalid value encountered in subtract\n",
      "  l = (1-a)*f_l(L, U)\n",
      "/mnt/c/Users/jarinov-notas/dev/tengp/tengp/individual.py:105: RuntimeWarning: invalid value encountered in add\n",
      "  U = (1-c)*x_l2 + c*x_u2\n",
      "/mnt/c/Users/jarinov-notas/dev/tengp/tengp/individual.py:104: RuntimeWarning: invalid value encountered in add\n",
      "  L = (1-b)*x_l1 + b*x_u1\n",
      "/mnt/c/Users/jarinov-notas/dev/tengp/tengp/individual.py:104: RuntimeWarning: invalid value encountered in add\n",
      "  L = (1-b)*x_l1 + b*x_u1\n",
      "/mnt/c/Users/jarinov-notas/dev/tengp/tengp/individual.py:106: RuntimeWarning: invalid value encountered in subtract\n",
      "  l = (1-a)*f_l(L, U)\n",
      "/mnt/c/Users/jarinov-notas/dev/tengp/tengp/individual.py:105: RuntimeWarning: invalid value encountered in add\n",
      "  U = (1-c)*x_l2 + c*x_u2\n",
      "/mnt/c/Users/jarinov-notas/dev/tengp/tengp/individual.py:104: RuntimeWarning: invalid value encountered in add\n",
      "  L = (1-b)*x_l1 + b*x_u1\n",
      "/mnt/c/Users/jarinov-notas/dev/tengp/tengp/individual.py:141: RuntimeWarning: invalid value encountered in add\n",
      "  value = (1-coeff)*self.nodes[lower].value + coeff*self.nodes[upper].value\n",
      "/mnt/c/Users/jarinov-notas/dev/tengp/tengp/individual.py:141: RuntimeWarning: invalid value encountered in add\n",
      "  value = (1-coeff)*self.nodes[lower].value + coeff*self.nodes[upper].value\n",
      "/mnt/c/Users/jarinov-notas/dev/tengp/tengp/individual.py:106: RuntimeWarning: invalid value encountered in add\n",
      "  l = (1-a)*f_l(L, U)\n"
     ]
    },
    {
     "name": "stderr",
     "output_type": "stream",
     "text": [
      "/mnt/c/Users/jarinov-notas/dev/tengp/tengp/individual.py:106: RuntimeWarning: invalid value encountered in add\n",
      "  l = (1-a)*f_l(L, U)\n",
      "/mnt/c/Users/jarinov-notas/dev/tengp/tengp/individual.py:141: RuntimeWarning: invalid value encountered in add\n",
      "  value = (1-coeff)*self.nodes[lower].value + coeff*self.nodes[upper].value\n",
      "/mnt/c/Users/jarinov-notas/dev/tengp/tengp/individual.py:106: RuntimeWarning: invalid value encountered in add\n",
      "  l = (1-a)*f_l(L, U)\n",
      "/mnt/c/Users/jarinov-notas/dev/tengp/tengp/individual.py:104: RuntimeWarning: invalid value encountered in multiply\n",
      "  L = (1-b)*x_l1 + b*x_u1\n",
      "/mnt/c/Users/jarinov-notas/dev/tengp/tengp/individual.py:104: RuntimeWarning: invalid value encountered in multiply\n",
      "  L = (1-b)*x_l1 + b*x_u1\n",
      "/mnt/c/Users/jarinov-notas/dev/tengp/tengp/individual.py:107: RuntimeWarning: invalid value encountered in multiply\n",
      "  u = a*f_u(L, U)\n",
      "/mnt/c/Users/jarinov-notas/dev/tengp/tengp/individual.py:107: RuntimeWarning: invalid value encountered in multiply\n",
      "  u = a*f_u(L, U)\n",
      "/mnt/c/Users/jarinov-notas/dev/tengp/tengp/individual.py:104: RuntimeWarning: invalid value encountered in multiply\n",
      "  L = (1-b)*x_l1 + b*x_u1\n",
      "/mnt/c/Users/jarinov-notas/dev/tengp/tengp/individual.py:107: RuntimeWarning: invalid value encountered in multiply\n",
      "  u = a*f_u(L, U)\n",
      "/mnt/c/Users/jarinov-notas/dev/tengp/tengp/individual.py:105: RuntimeWarning: invalid value encountered in multiply\n",
      "  U = (1-c)*x_l2 + c*x_u2\n",
      "/mnt/c/Users/jarinov-notas/dev/tengp/tengp/individual.py:105: RuntimeWarning: invalid value encountered in multiply\n",
      "  U = (1-c)*x_l2 + c*x_u2\n",
      "/mnt/c/Users/jarinov-notas/dev/tengp/tengp/individual.py:105: RuntimeWarning: invalid value encountered in multiply\n",
      "  U = (1-c)*x_l2 + c*x_u2\n",
      "/mnt/c/Users/jarinov-notas/dev/tengp/tengp/individual.py:107: RuntimeWarning: invalid value encountered in add\n",
      "  u = a*f_u(L, U)\n",
      "/mnt/c/Users/jarinov-notas/dev/tengp/tengp/individual.py:107: RuntimeWarning: invalid value encountered in add\n",
      "  u = a*f_u(L, U)\n",
      "/mnt/c/Users/jarinov-notas/dev/tengp/tengp/individual.py:107: RuntimeWarning: invalid value encountered in add\n",
      "  u = a*f_u(L, U)\n",
      "/home/jarino/anaconda3/lib/python3.6/site-packages/numpy/core/_methods.py:32: RuntimeWarning: invalid value encountered in reduce\n",
      "  return umr_sum(a, axis, dtype, out, keepdims)\n",
      "/home/jarino/anaconda3/lib/python3.6/site-packages/numpy/core/_methods.py:32: RuntimeWarning: invalid value encountered in reduce\n",
      "  return umr_sum(a, axis, dtype, out, keepdims)\n",
      "/home/jarino/anaconda3/lib/python3.6/site-packages/numpy/core/_methods.py:32: RuntimeWarning: invalid value encountered in reduce\n",
      "  return umr_sum(a, axis, dtype, out, keepdims)\n",
      "/home/jarino/anaconda3/lib/python3.6/site-packages/sklearn/metrics/regression.py:239: RuntimeWarning: overflow encountered in square\n",
      "  output_errors = np.average((y_true - y_pred) ** 2, axis=0,\n",
      "/home/jarino/anaconda3/lib/python3.6/site-packages/sklearn/metrics/regression.py:239: RuntimeWarning: overflow encountered in square\n",
      "  output_errors = np.average((y_true - y_pred) ** 2, axis=0,\n",
      "/home/jarino/anaconda3/lib/python3.6/site-packages/sklearn/metrics/regression.py:239: RuntimeWarning: overflow encountered in square\n",
      "  output_errors = np.average((y_true - y_pred) ** 2, axis=0,\n",
      "/mnt/c/Users/jarinov-notas/dev/cgp-optimization-experiment/experiment_settings.py:8: RuntimeWarning: overflow encountered in true_divide\n",
      "  return np.divide(x, y, out=np.copy(x), where=y!=0)\n",
      "/mnt/c/Users/jarinov-notas/dev/cgp-optimization-experiment/experiment_settings.py:8: RuntimeWarning: overflow encountered in true_divide\n",
      "  return np.divide(x, y, out=np.copy(x), where=y!=0)\n",
      "/mnt/c/Users/jarinov-notas/dev/cgp-optimization-experiment/experiment_settings.py:8: RuntimeWarning: overflow encountered in true_divide\n",
      "  return np.divide(x, y, out=np.copy(x), where=y!=0)\n",
      "/home/jarino/anaconda3/lib/python3.6/site-packages/numpy/core/_methods.py:70: RuntimeWarning: overflow encountered in reduce\n",
      "  ret = umr_sum(arr, axis, dtype, out, keepdims)\n",
      "/home/jarino/anaconda3/lib/python3.6/site-packages/numpy/core/_methods.py:70: RuntimeWarning: overflow encountered in reduce\n",
      "  ret = umr_sum(arr, axis, dtype, out, keepdims)\n",
      "/home/jarino/anaconda3/lib/python3.6/site-packages/numpy/core/_methods.py:70: RuntimeWarning: overflow encountered in reduce\n",
      "  ret = umr_sum(arr, axis, dtype, out, keepdims)\n",
      "/mnt/c/Users/jarinov-notas/dev/tengp/tengp/individual.py:106: RuntimeWarning: overflow encountered in add\n",
      "  l = (1-a)*f_l(L, U)\n",
      "/mnt/c/Users/jarinov-notas/dev/tengp/tengp/individual.py:106: RuntimeWarning: overflow encountered in add\n",
      "  l = (1-a)*f_l(L, U)\n",
      "/mnt/c/Users/jarinov-notas/dev/tengp/tengp/individual.py:106: RuntimeWarning: overflow encountered in add\n",
      "  l = (1-a)*f_l(L, U)\n",
      "/mnt/c/Users/jarinov-notas/dev/tengp/tengp/individual.py:107: RuntimeWarning: overflow encountered in subtract\n",
      "  u = a*f_u(L, U)\n",
      "/mnt/c/Users/jarinov-notas/dev/tengp/tengp/individual.py:107: RuntimeWarning: overflow encountered in subtract\n",
      "  u = a*f_u(L, U)\n",
      "/mnt/c/Users/jarinov-notas/dev/tengp/tengp/individual.py:107: RuntimeWarning: overflow encountered in subtract\n",
      "  u = a*f_u(L, U)\n",
      "/mnt/c/Users/jarinov-notas/dev/tengp/tengp/individual.py:107: RuntimeWarning: overflow encountered in add\n",
      "  u = a*f_u(L, U)\n",
      "/mnt/c/Users/jarinov-notas/dev/tengp/tengp/individual.py:107: RuntimeWarning: overflow encountered in add\n",
      "  u = a*f_u(L, U)\n",
      "/mnt/c/Users/jarinov-notas/dev/tengp/tengp/individual.py:107: RuntimeWarning: overflow encountered in add\n",
      "  u = a*f_u(L, U)\n",
      "/mnt/c/Users/jarinov-notas/dev/tengp/tengp/individual.py:141: RuntimeWarning: overflow encountered in add\n",
      "  value = (1-coeff)*self.nodes[lower].value + coeff*self.nodes[upper].value\n",
      "/mnt/c/Users/jarinov-notas/dev/tengp/tengp/individual.py:141: RuntimeWarning: overflow encountered in add\n",
      "  value = (1-coeff)*self.nodes[lower].value + coeff*self.nodes[upper].value\n",
      "/mnt/c/Users/jarinov-notas/dev/tengp/tengp/individual.py:141: RuntimeWarning: overflow encountered in add\n",
      "  value = (1-coeff)*self.nodes[lower].value + coeff*self.nodes[upper].value\n",
      "/mnt/c/Users/jarinov-notas/dev/tengp/tengp/individual.py:106: RuntimeWarning: overflow encountered in subtract\n",
      "  l = (1-a)*f_l(L, U)\n",
      "/mnt/c/Users/jarinov-notas/dev/tengp/tengp/individual.py:106: RuntimeWarning: overflow encountered in subtract\n",
      "  l = (1-a)*f_l(L, U)\n",
      "/mnt/c/Users/jarinov-notas/dev/tengp/tengp/individual.py:106: RuntimeWarning: overflow encountered in subtract\n",
      "  l = (1-a)*f_l(L, U)\n",
      "/home/jarino/anaconda3/lib/python3.6/site-packages/numpy/core/_methods.py:32: RuntimeWarning: overflow encountered in reduce\n",
      "  return umr_sum(a, axis, dtype, out, keepdims)\n",
      "/home/jarino/anaconda3/lib/python3.6/site-packages/numpy/core/_methods.py:32: RuntimeWarning: overflow encountered in reduce\n",
      "  return umr_sum(a, axis, dtype, out, keepdims)\n",
      "/home/jarino/anaconda3/lib/python3.6/site-packages/numpy/core/_methods.py:32: RuntimeWarning: overflow encountered in reduce\n",
      "  return umr_sum(a, axis, dtype, out, keepdims)\n"
     ]
    },
    {
     "name": "stdout",
     "output_type": "stream",
     "text": [
      "CPU times: user 8.27 s, sys: 4.19 s, total: 12.5 s\n",
      "Wall time: 16h 50min 17s\n"
     ]
    }
   ],
   "source": [
    "%%time\n",
    "\n",
    "pg.set_global_rng_seed(seed = 42)\n",
    "logs = run_parallel(data[5])\n",
    "pickle.dump(logs, open(f'{OUTPUT_FOLDER}korns12_log', 'wb'))"
   ]
  },
  {
   "cell_type": "markdown",
   "metadata": {},
   "source": [
    "# Vladislasleva 4"
   ]
  },
  {
   "cell_type": "code",
   "execution_count": null,
   "metadata": {},
   "outputs": [],
   "source": [
    "%%time\n",
    "\n",
    "pg.set_global_rng_seed(seed = 42)\n",
    "logs = run_parallel(data[6])\n",
    "pickle.dump(logs, open(f'{OUTPUT_FOLDER}vlad4_log', 'wb'))"
   ]
  },
  {
   "cell_type": "code",
   "execution_count": null,
   "metadata": {},
   "outputs": [],
   "source": []
  }
 ],
 "metadata": {
  "kernelspec": {
   "display_name": "Python [conda env:tengp]",
   "language": "python",
   "name": "conda-env-tengp-py"
  },
  "language_info": {
   "codemirror_mode": {
    "name": "ipython",
    "version": 3
   },
   "file_extension": ".py",
   "mimetype": "text/x-python",
   "name": "python",
   "nbconvert_exporter": "python",
   "pygments_lexer": "ipython3",
   "version": "3.7.2"
  }
 },
 "nbformat": 4,
 "nbformat_minor": 2
}
