{
 "cells": [
  {
   "cell_type": "code",
   "execution_count": 1,
   "metadata": {},
   "outputs": [],
   "source": [
    "import random\n",
    "\n",
    "import numpy as np\n",
    "from sklearn.metrics import mean_squared_error\n",
    "import matplotlib.pyplot as plt\n",
    "import seaborn as sns\n",
    "\n",
    "import tengp\n",
    "import symreg\n",
    "from gpbenchmarks import get_data\n",
    "\n",
    "from experiment_settings import nguyen7_funset, pagie_funset, keijzer_funset, korns12_funset, vlad_funset\n"
   ]
  },
  {
   "cell_type": "code",
   "execution_count": 2,
   "metadata": {},
   "outputs": [],
   "source": [
    "import pygmo as pg"
   ]
  },
  {
   "cell_type": "code",
   "execution_count": 3,
   "metadata": {},
   "outputs": [],
   "source": [
    "vectors = []\n",
    "n_actives = []\n",
    "\n",
    "class cost_function:\n",
    "    def __init__(self, X, Y, params, bounds):\n",
    "        self.params = params\n",
    "        self.bounds = bounds\n",
    "        self.X = X\n",
    "        self.Y = Y\n",
    "    \n",
    "    def fitness(self, x):\n",
    "        #vectors.append(x)\n",
    "        \n",
    "        individual = tengp.individual.NPIndividual(list(x), self.bounds, self.params)\n",
    "        pred = individual.transform(self.X)\n",
    "        \n",
    "        #n_actives.append(len(individual.active_nodes))\n",
    "        \n",
    "        try:\n",
    "            return [mean_squared_error(pred, self.Y)]\n",
    "        except ValueError:\n",
    "            return [10000000000]\n",
    "        \n",
    "    def get_bounds(self):\n",
    "        return self.bounds"
   ]
  },
  {
   "cell_type": "code",
   "execution_count": 4,
   "metadata": {},
   "outputs": [],
   "source": [
    "kw_params = {'real_valued': True, 'max_back': 20}\n",
    "\n",
    "params_nguyen7 = tengp.Parameters(2, 1, 1, 50, nguyen7_funset, **kw_params)\n",
    "params_pagie1  = tengp.Parameters(2, 1, 1, 50, pagie_funset, **kw_params)\n",
    "params_keijzer6 = tengp.Parameters(2, 1, 1, 50, keijzer_funset, **kw_params)\n",
    "params_korns = tengp.Parameters(6, 1, 1, 50, korns12_funset, **kw_params)\n",
    "params_vlad = tengp.Parameters(6, 1, 1, 50, vlad_funset, **kw_params)\n",
    "\n",
    "all_params = [params_nguyen7, params_pagie1, params_keijzer6, params_korns, params_vlad]"
   ]
  },
  {
   "cell_type": "code",
   "execution_count": 5,
   "metadata": {},
   "outputs": [],
   "source": [
    "import random \n",
    "\n",
    "data = [\n",
    "    ('nguyen7', symreg.get_benchmark_nguyen7(random, None), params_nguyen7),\n",
    "    ('pagie1', symreg.get_benchmark_pagie1(random, None), params_pagie1),\n",
    "    ('keijzer6', symreg.get_benchmark_keijzer(random, 6), params_keijzer6),\n",
    "    ('korns12', symreg.get_benchmark_korns(random, 12), params_korns),\n",
    "    ('vladislasleva4', symreg.get_benchmark_vladislasleva4(random, None), params_vlad)\n",
    "]"
   ]
  },
  {
   "cell_type": "code",
   "execution_count": null,
   "metadata": {
    "scrolled": false
   },
   "outputs": [
    {
     "name": "stdout",
     "output_type": "stream",
     "text": [
      "nguyen7\n",
      "0,1,2,3,4,5,6,7,8,9,10,11,12,13,14,15,16,17,18,19,20,21,22,23,24,25,26,27,28,29,30,31,32,33,34,35,36,37,38,39,40,41,42,43,44,45,46,47,48,49,50,51,52,53,54,55,56,57,58,59,60,61,62,63,64,65,66,"
     ]
    }
   ],
   "source": [
    "%%time\n",
    "results = []\n",
    "champions = []\n",
    "\n",
    "\n",
    "for name, (x_train, y_train, x_test, y_test), params in data[0:1]:\n",
    "    print(name)\n",
    "    bounds = tengp.individual.IndividualBuilder(params).create().bounds[:]\n",
    "    \n",
    "    prob = pg.problem(cost_function(np.c_[x_train, np.ones(len(x_train))], y_train, params, bounds))\n",
    "    \n",
    "    problem_results = []\n",
    "    pg.set_global_rng_seed(42)\n",
    "    for i in range(100):\n",
    "        print(i, end=',')\n",
    "        algo = pg.algorithm(pg.pso(gen=2000))\n",
    "        algo.set_verbosity(1)\n",
    "        pop = pg.population(prob, 50)\n",
    "        pop = algo.evolve(pop)\n",
    "        problem_results.append(pop.champion_f[0])\n",
    "        #champions.append(pop.champion_x)\n",
    "    results.append(problem_results)"
   ]
  },
  {
   "cell_type": "code",
   "execution_count": 32,
   "metadata": {},
   "outputs": [],
   "source": [
    "def plot_results(name, outs):\n",
    "    print(name)\n",
    "    costs = np.array(outs)\n",
    "    print('min:', np.min(costs))\n",
    "    print('mean:', np.mean(costs))\n",
    "    print('median:', np.median(costs))\n",
    "    print('variance:',np.var(costs))\n",
    "    plt.figure()\n",
    "    plt.title(name)\n",
    "    sns.distplot(costs, kde=False);\n",
    "    "
   ]
  },
  {
   "cell_type": "code",
   "execution_count": 33,
   "metadata": {
    "scrolled": false
   },
   "outputs": [
    {
     "name": "stdout",
     "output_type": "stream",
     "text": [
      "nguyen7\n",
      "min: 3.687058440425671e-07\n",
      "mean: 0.0003688849233447746\n",
      "median: 0.00022024742476646454\n",
      "variance: 2.348194722262772e-07\n",
      "pagie1\n",
      "min: 0.036153357729544866\n",
      "mean: 0.17441345194404145\n",
      "median: 0.1295189001069494\n",
      "variance: 0.08134362984535157\n",
      "keijzer6\n",
      "min: 8.758404617778535e-06\n",
      "mean: 0.0019940797964859997\n",
      "median: 0.0007865876958723029\n",
      "variance: 1.192920826135666e-05\n",
      "korns12\n",
      "min: 1.1366637483723863\n",
      "mean: 1.1965712302623628\n",
      "median: 1.137756531592336\n",
      "variance: 0.05148164292699149\n",
      "vladislasleva4\n",
      "min: 0.02259591609651704\n",
      "mean: 0.030103856746275904\n",
      "median: 0.03043241516372662\n",
      "variance: 7.059585163627808e-06\n"
     ]
    },
    {
     "data": {
      "image/png": "[encoded data removed]",
      "text/plain": [
       "<matplotlib.figure.Figure at 0x7f600bc41e48>"
      ]
     },
     "metadata": {},
     "output_type": "display_data"
    },
    {
     "data": {
      "image/png": "[encoded data removed]",
      "text/plain": [
       "<matplotlib.figure.Figure at 0x7f600bcb4f98>"
      ]
     },
     "metadata": {},
     "output_type": "display_data"
    },
    {
     "data": {
      "image/png": "[encoded data removed]",
      "text/plain": [
       "<matplotlib.figure.Figure at 0x7f600bba8f98>"
      ]
     },
     "metadata": {},
     "output_type": "display_data"
    },
    {
     "data": {
      "image/png": "[encoded data removed]",
      "text/plain": [
       "<matplotlib.figure.Figure at 0x7f600bbcde10>"
      ]
     },
     "metadata": {},
     "output_type": "display_data"
    },
    {
     "data": {
      "image/png": "[encoded data removed]",
      "text/plain": [
       "<matplotlib.figure.Figure at 0x7f600bbd42e8>"
      ]
     },
     "metadata": {},
     "output_type": "display_data"
    }
   ],
   "source": [
    "for d, result in zip(data, results):\n",
    "    plot_results(d[0], result)"
   ]
  },
  {
   "cell_type": "markdown",
   "metadata": {},
   "source": [
    "# Rounding of results"
   ]
  },
  {
   "cell_type": "code",
   "execution_count": 56,
   "metadata": {},
   "outputs": [
    {
     "name": "stdout",
     "output_type": "stream",
     "text": [
      "nguyen7\n",
      "value error\n",
      "pagie1\n",
      "value error\n",
      "value error\n",
      "value error\n",
      "value error\n",
      "value error\n",
      "value error\n",
      "value error\n",
      "value error\n",
      "value error\n",
      "value error\n",
      "value error\n",
      "value error\n",
      "value error\n",
      "value error\n",
      "keijzer6\n",
      "value error"
     ]
    },
    {
     "name": "stderr",
     "output_type": "stream",
     "text": [
      "/mnt/c/Users/jarinov-notas/dev/cgp-optimization-experiment/experiment_settings.py:8: RuntimeWarning: divide by zero encountered in true_divide\n",
      "  return np.divide(x, y, out=np.copy(x), where=x!=0)\n",
      "/mnt/c/Users/jarinov-notas/dev/tengp/tengp/individual.py:103: RuntimeWarning: invalid value encountered in multiply\n",
      "  u = a*f_u(L, U)\n",
      "/mnt/c/Users/jarinov-notas/dev/cgp-optimization-experiment/experiment_settings.py:11: RuntimeWarning: invalid value encountered in greater\n",
      "  return np.log(x, out=np.copy(x), where=x>0)\n",
      "/mnt/c/Users/jarinov-notas/dev/tengp/tengp/individual.py:102: RuntimeWarning: invalid value encountered in power\n",
      "  l = (1-a)*f_l(L, U)\n",
      "/mnt/c/Users/jarinov-notas/dev/tengp/tengp/individual.py:103: RuntimeWarning: invalid value encountered in power\n",
      "  u = a*f_u(L, U)\n",
      "/mnt/c/Users/jarinov-notas/dev/cgp-optimization-experiment/experiment_settings.py:35: RuntimeWarning: invalid value encountered in sqrt\n",
      "  return  np.sqrt(x)\n",
      "/mnt/c/Users/jarinov-notas/dev/cgp-optimization-experiment/experiment_settings.py:41: RuntimeWarning: divide by zero encountered in reciprocal\n",
      "  return x**(-1)\n",
      "/mnt/c/Users/jarinov-notas/dev/tengp/tengp/individual.py:102: RuntimeWarning: divide by zero encountered in power\n",
      "  l = (1-a)*f_l(L, U)\n",
      "/mnt/c/Users/jarinov-notas/dev/tengp/tengp/individual.py:103: RuntimeWarning: divide by zero encountered in power\n",
      "  u = a*f_u(L, U)\n",
      "/mnt/c/Users/jarinov-notas/dev/tengp/tengp/individual.py:102: RuntimeWarning: overflow encountered in power\n",
      "  l = (1-a)*f_l(L, U)\n",
      "/mnt/c/Users/jarinov-notas/dev/tengp/tengp/individual.py:103: RuntimeWarning: overflow encountered in power\n",
      "  u = a*f_u(L, U)\n"
     ]
    },
    {
     "name": "stdout",
     "output_type": "stream",
     "text": [
      "\n",
      "value error\n",
      "value error\n",
      "value error\n",
      "value error\n",
      "value error\n",
      "value error\n",
      "value error\n",
      "value error\n",
      "value error\n",
      "value error\n",
      "value error\n",
      "korns12\n"
     ]
    },
    {
     "name": "stderr",
     "output_type": "stream",
     "text": [
      "/mnt/c/Users/jarinov-notas/dev/cgp-optimization-experiment/experiment_settings.py:38: RuntimeWarning: overflow encountered in exp\n",
      "  return np.exp(x)\n",
      "/mnt/c/Users/jarinov-notas/dev/cgp-optimization-experiment/experiment_settings.py:26: RuntimeWarning: overflow encountered in power\n",
      "  return x**3\n"
     ]
    },
    {
     "name": "stdout",
     "output_type": "stream",
     "text": [
      "value error\n",
      "vladislasleva4\n",
      "value error\n",
      "value error\n",
      "value error\n",
      "value error\n",
      "value error\n",
      "value error\n",
      "value error\n",
      "value error\n"
     ]
    }
   ],
   "source": [
    "rounded_results = []\n",
    "\n",
    "chunk = 100\n",
    "for i, (name, (x_train, y_train, x_test, y_test), params) in zip(range(5), data):\n",
    "    problem_results = []\n",
    "    \n",
    "    x_train = np.c_[x_train, np.ones(len(x_train))]\n",
    "        \n",
    "    bounds = tengp.individual.IndividualBuilder(params).create().bounds\n",
    "    \n",
    "    print(name)\n",
    "    \n",
    "    for genes in champions[chunk*i:chunk*i + chunk]:\n",
    "        \n",
    "        individual = params.individual_class(np.round(genes), bounds, params)\n",
    "        \n",
    "        output = individual.transform(x_train)\n",
    "        \n",
    "        try:\n",
    "            problem_results.append(mean_squared_error(output, y_train))\n",
    "        except ValueError:\n",
    "            print('value error')\n",
    "    \n",
    "    rounded_results.append(problem_results)\n",
    "        \n",
    "        "
   ]
  },
  {
   "cell_type": "code",
   "execution_count": 63,
   "metadata": {},
   "outputs": [
    {
     "data": {
      "text/plain": [
       "0.042740078693692674"
      ]
     },
     "execution_count": 63,
     "metadata": {},
     "output_type": "execute_result"
    }
   ],
   "source": [
    "np.min(rounded_results[4])"
   ]
  },
  {
   "cell_type": "code",
   "execution_count": null,
   "metadata": {},
   "outputs": [],
   "source": []
  }
 ],
 "metadata": {
  "kernelspec": {
   "display_name": "Python 3",
   "language": "python",
   "name": "python3"
  },
  "language_info": {
   "codemirror_mode": {
    "name": "ipython",
    "version": 3
   },
   "file_extension": ".py",
   "mimetype": "text/x-python",
   "name": "python",
   "nbconvert_exporter": "python",
   "pygments_lexer": "ipython3",
   "version": "3.6.4"
  }
 },
 "nbformat": 4,
 "nbformat_minor": 2
}
