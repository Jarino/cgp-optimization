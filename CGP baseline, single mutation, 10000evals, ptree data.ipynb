{
 "cells": [
  {
   "cell_type": "code",
   "execution_count": 2,
   "metadata": {},
   "outputs": [],
   "source": [
    "import random\n",
    "\n",
    "import numpy as np\n",
    "from sklearn.metrics import mean_squared_error\n",
    "import matplotlib.pyplot as plt\n",
    "import seaborn as sns\n",
    "\n",
    "import tengp\n",
    "import symreg\n",
    "from gpbenchmarks import get_data\n",
    "\n",
    "from experiment_settings import nguyen7_funset, pagie_funset, keijzer_funset, korns12_funset, vlad_funset\n"
   ]
  },
  {
   "cell_type": "code",
   "execution_count": 3,
   "metadata": {},
   "outputs": [],
   "source": [
    "kw_params = {'real_valued': True, 'max_back': 20}\n",
    "\n",
    "params_nguyen7 = tengp.Parameters(2, 1, 1, 50, nguyen7_funset, **kw_params)\n",
    "params_pagie1  = tengp.Parameters(2, 1, 1, 50, pagie_funset, **kw_params)\n",
    "params_keijzer6 = tengp.Parameters(2, 1, 1, 50, keijzer_funset, **kw_params)\n",
    "params_korns = tengp.Parameters(6, 1, 1, 50, korns12_funset, **kw_params)\n",
    "params_vlad = tengp.Parameters(6, 1, 1, 50, vlad_funset, **kw_params)"
   ]
  },
  {
   "cell_type": "code",
   "execution_count": 4,
   "metadata": {},
   "outputs": [],
   "source": [
    "import random \n",
    "\n",
    "data = [\n",
    "    ('nguyen7', symreg.get_benchmark_nguyen7(random, None), params_nguyen7),\n",
    "    ('pagie1', symreg.get_benchmark_pagie1(random, None), params_pagie1),\n",
    "    ('keijzer6', symreg.get_benchmark_keijzer(random, 6), params_keijzer6),\n",
    "    ('korns12', symreg.get_benchmark_korns(random, 12), params_korns),\n",
    "    ('vladislasleva4', symreg.get_benchmark_vladislasleva4(random, None), params_vlad)\n",
    "]"
   ]
  },
  {
   "cell_type": "code",
   "execution_count": 7,
   "metadata": {
    "scrolled": false
   },
   "outputs": [
    {
     "name": "stdout",
     "output_type": "stream",
     "text": [
      "0,"
     ]
    },
    {
     "name": "stderr",
     "output_type": "stream",
     "text": [
      "/mnt/c/Users/jarinov-notas/dev/cgp-optimization-experiment/experiment_settings.py:8: RuntimeWarning: divide by zero encountered in true_divide\n",
      "  return np.divide(x, y, out=np.copy(x), where=x!=0)\n",
      "/mnt/c/Users/jarinov-notas/dev/tengp/tengp/individual.py:103: RuntimeWarning: invalid value encountered in multiply\n",
      "  u = a*f_u(L, U)\n",
      "/mnt/c/Users/jarinov-notas/dev/cgp-optimization-experiment/experiment_settings.py:11: RuntimeWarning: invalid value encountered in greater\n",
      "  return np.log(x, out=np.copy(x), where=x>0)\n"
     ]
    },
    {
     "name": "stdout",
     "output_type": "stream",
     "text": [
      "0,"
     ]
    },
    {
     "name": "stderr",
     "output_type": "stream",
     "text": [
      "/mnt/c/Users/jarinov-notas/dev/cgp-optimization-experiment/experiment_settings.py:35: RuntimeWarning: invalid value encountered in sqrt\n",
      "  return  np.sqrt(x)\n",
      "/mnt/c/Users/jarinov-notas/dev/tengp/tengp/individual.py:102: RuntimeWarning: invalid value encountered in power\n",
      "  l = (1-a)*f_l(L, U)\n",
      "/mnt/c/Users/jarinov-notas/dev/tengp/tengp/individual.py:103: RuntimeWarning: invalid value encountered in power\n",
      "  u = a*f_u(L, U)\n",
      "/mnt/c/Users/jarinov-notas/dev/cgp-optimization-experiment/experiment_settings.py:41: RuntimeWarning: divide by zero encountered in reciprocal\n",
      "  return x**(-1)\n",
      "/mnt/c/Users/jarinov-notas/dev/tengp/tengp/individual.py:102: RuntimeWarning: overflow encountered in power\n",
      "  l = (1-a)*f_l(L, U)\n",
      "/mnt/c/Users/jarinov-notas/dev/tengp/tengp/individual.py:103: RuntimeWarning: overflow encountered in power\n",
      "  u = a*f_u(L, U)\n",
      "/mnt/c/Users/jarinov-notas/dev/tengp/tengp/individual.py:102: RuntimeWarning: divide by zero encountered in power\n",
      "  l = (1-a)*f_l(L, U)\n",
      "/mnt/c/Users/jarinov-notas/dev/tengp/tengp/individual.py:103: RuntimeWarning: divide by zero encountered in power\n",
      "  u = a*f_u(L, U)\n",
      "/mnt/c/Users/jarinov-notas/dev/cgp-optimization-experiment/experiment_settings.py:8: RuntimeWarning: overflow encountered in true_divide\n",
      "  return np.divide(x, y, out=np.copy(x), where=x!=0)\n",
      "/mnt/c/Users/jarinov-notas/dev/tengp/tengp/individual.py:126: RuntimeWarning: overflow encountered in multiply\n",
      "  value = (1-coeff)*self.nodes[lower].value + coeff*self.nodes[upper].value\n",
      "/mnt/c/Users/jarinov-notas/dev/tengp/tengp/individual.py:126: RuntimeWarning: invalid value encountered in add\n",
      "  value = (1-coeff)*self.nodes[lower].value + coeff*self.nodes[upper].value\n",
      "/mnt/c/Users/jarinov-notas/dev/tengp/tengp/individual.py:102: RuntimeWarning: overflow encountered in multiply\n",
      "  l = (1-a)*f_l(L, U)\n",
      "/mnt/c/Users/jarinov-notas/dev/tengp/tengp/individual.py:103: RuntimeWarning: overflow encountered in multiply\n",
      "  u = a*f_u(L, U)\n",
      "/mnt/c/Users/jarinov-notas/dev/cgp-optimization-experiment/experiment_settings.py:41: RuntimeWarning: overflow encountered in reciprocal\n",
      "  return x**(-1)\n"
     ]
    },
    {
     "name": "stdout",
     "output_type": "stream",
     "text": [
      "0,0,"
     ]
    },
    {
     "name": "stderr",
     "output_type": "stream",
     "text": [
      "/mnt/c/Users/jarinov-notas/dev/cgp-optimization-experiment/experiment_settings.py:23: RuntimeWarning: overflow encountered in square\n",
      "  return x**2\n",
      "/mnt/c/Users/jarinov-notas/dev/cgp-optimization-experiment/experiment_settings.py:38: RuntimeWarning: overflow encountered in exp\n",
      "  return np.exp(x)\n",
      "/home/jarino/anaconda3/lib/python3.6/site-packages/sklearn/metrics/regression.py:239: RuntimeWarning: overflow encountered in square\n",
      "  output_errors = np.average((y_true - y_pred) ** 2, axis=0,\n",
      "/mnt/c/Users/jarinov-notas/dev/cgp-optimization-experiment/experiment_settings.py:26: RuntimeWarning: overflow encountered in power\n",
      "  return x**3\n"
     ]
    },
    {
     "name": "stdout",
     "output_type": "stream",
     "text": [
      "0,CPU times: user 2min 16s, sys: 6.48 s, total: 2min 23s\n",
      "Wall time: 2min 28s\n"
     ]
    }
   ],
   "source": [
    "%%time\n",
    "results = []\n",
    "champions = []\n",
    "\n",
    "\n",
    "for name, (x_train, y_train, x_test, y_test), params in data:\n",
    "    bounds = tengp.individual.IndividualBuilder(params).create().bounds[:]\n",
    "    \n",
    "    x_train = np.c_[x_train, np.ones(len(x_train))]\n",
    "    \n",
    "    problem_results = []\n",
    "    random.seed(42)\n",
    "    for i in range(1):\n",
    "        print(i, end=',')\n",
    "        \n",
    "        res = tengp.simple_es(x_train, y_train, mean_squared_error, params, mutation='single', evaluations=10000)\n",
    "               \n",
    "        problem_results.append(res[0].fitness)\n",
    "    results.append(problem_results)"
   ]
  },
  {
   "cell_type": "code",
   "execution_count": 10,
   "metadata": {},
   "outputs": [],
   "source": [
    "def plot_results(name, outs):\n",
    "    print(name)\n",
    "    costs = np.array(outs)\n",
    "    print('min:', np.min(costs))\n",
    "    print('mean:', np.mean(costs))\n",
    "    print('median:', np.median(costs))\n",
    "    print('variance:',np.var(costs))\n",
    "    plt.figure()\n",
    "    plt.title(name)\n",
    "    sns.distplot(costs, kde=False);\n",
    "    "
   ]
  },
  {
   "cell_type": "code",
   "execution_count": 11,
   "metadata": {
    "scrolled": false
   },
   "outputs": [
    {
     "name": "stdout",
     "output_type": "stream",
     "text": [
      "nguyen7\n",
      "min: 0.0010066254108717504\n",
      "mean: 0.0010066254108717504\n",
      "median: 0.0010066254108717504\n",
      "variance: 0.0\n",
      "pagie1\n",
      "min: 0.15457785699682083\n",
      "mean: 0.15457785699682083\n",
      "median: 0.15457785699682083\n",
      "variance: 0.0\n",
      "keijzer6\n",
      "min: 0.12298672115448732\n",
      "mean: 0.12298672115448732\n",
      "median: 0.12298672115448732\n",
      "variance: 0.0\n",
      "korns12\n",
      "min: 1.0902493472290868\n",
      "mean: 1.0902493472290868\n",
      "median: 1.0902493472290868\n",
      "variance: 0.0\n",
      "vladislasleva4\n",
      "min: 0.03777032477786703\n",
      "mean: 0.03777032477786703\n",
      "median: 0.03777032477786703\n",
      "variance: 0.0\n"
     ]
    },
    {
     "data": {
      "image/png": "[encoded data removed]",
      "text/plain": [
       "<matplotlib.figure.Figure at 0x7f63e7b1ad68>"
      ]
     },
     "metadata": {},
     "output_type": "display_data"
    },
    {
     "data": {
      "image/png": "[encoded data removed]",
      "text/plain": [
       "<matplotlib.figure.Figure at 0x7f63e78a5c50>"
      ]
     },
     "metadata": {},
     "output_type": "display_data"
    },
    {
     "data": {
      "image/png": "[encoded data removed]",
      "text/plain": [
       "<matplotlib.figure.Figure at 0x7f63e79e59e8>"
      ]
     },
     "metadata": {},
     "output_type": "display_data"
    },
    {
     "data": {
      "image/png": "[encoded data removed]",
      "text/plain": [
       "<matplotlib.figure.Figure at 0x7f63e79a9630>"
      ]
     },
     "metadata": {},
     "output_type": "display_data"
    },
    {
     "data": {
      "image/png": "[encoded data removed]",
      "text/plain": [
       "<matplotlib.figure.Figure at 0x7f63e79bf978>"
      ]
     },
     "metadata": {},
     "output_type": "display_data"
    }
   ],
   "source": [
    "for d, result in zip(data, results):\n",
    "    plot_results(d[0], result)"
   ]
  },
  {
   "cell_type": "code",
   "execution_count": null,
   "metadata": {},
   "outputs": [],
   "source": [
    "print('Nguyen7')\n",
    "plot_results(results[1])"
   ]
  },
  {
   "cell_type": "code",
   "execution_count": null,
   "metadata": {},
   "outputs": [],
   "source": [
    "print('Nguyen10')\n",
    "plot_results(results[2])"
   ]
  },
  {
   "cell_type": "code",
   "execution_count": null,
   "metadata": {},
   "outputs": [],
   "source": [
    "print('Korns12')\n",
    "plot_results(results[3])"
   ]
  },
  {
   "cell_type": "code",
   "execution_count": null,
   "metadata": {},
   "outputs": [],
   "source": [
    "return 10 / ( 5 + np.sum([(x - 3)**2 for x in [x1, x2, x3, x4, x5]]))"
   ]
  }
 ],
 "metadata": {
  "kernelspec": {
   "display_name": "Python 3",
   "language": "python",
   "name": "python3"
  },
  "language_info": {
   "codemirror_mode": {
    "name": "ipython",
    "version": 3
   },
   "file_extension": ".py",
   "mimetype": "text/x-python",
   "name": "python",
   "nbconvert_exporter": "python",
   "pygments_lexer": "ipython3",
   "version": "3.6.4"
  }
 },
 "nbformat": 4,
 "nbformat_minor": 2
}
