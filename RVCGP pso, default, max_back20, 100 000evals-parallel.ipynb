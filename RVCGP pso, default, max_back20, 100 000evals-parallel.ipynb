{
 "cells": [
  {
   "cell_type": "markdown",
   "metadata": {},
   "source": [
    "- Default PSO parameters\n",
    "- max_back=20"
   ]
  },
  {
   "cell_type": "code",
   "execution_count": 1,
   "metadata": {},
   "outputs": [],
   "source": [
    "from joblib import Parallel, delayed\n",
    "import multiprocessing"
   ]
  },
  {
   "cell_type": "code",
   "execution_count": 9,
   "metadata": {},
   "outputs": [],
   "source": [
    "import random\n",
    "\n",
    "import numpy as np\n",
    "from sklearn.metrics import mean_squared_error\n",
    "import matplotlib.pyplot as plt\n",
    "import seaborn as sns\n",
    "\n",
    "import tengp\n",
    "import symreg\n",
    "from gpbenchmarks import get_data\n",
    "\n",
    "from experiment_settings import nguyen7_funset, pagie_funset, keijzer_funset, korns12_funset, vlad_funset\n",
    "\n",
    "def plot_results(name, outs):\n",
    "    print(name)\n",
    "    costs = np.array(outs)\n",
    "    print('min:', np.min(costs))\n",
    "    print('mean:', np.mean(costs))\n",
    "    print('median:', np.median(costs))\n",
    "    print('variance:',np.var(costs))\n",
    "    plt.figure()\n",
    "    plt.title(name)\n",
    "    sns.distplot(costs, kde=False);\n",
    "    \n",
    "\n",
    "def run_experiment(data_item, cost_function):\n",
    "    results = []\n",
    "    genes = []\n",
    "    \n",
    "    name, (x_train, y_train, x_test, y_test), params = data_item\n",
    "    print(name)\n",
    "    \n",
    "    bounds = tengp.individual.IndividualBuilder(params).create().bounds[:]\n",
    "    \n",
    "    pg.set_global_rng_seed(42)\n",
    "    \n",
    "    for i in range(10):\n",
    "        fit, gs = run_experiment_instance(cost_function, x_train, y_train, params, bounds)\n",
    "        results.append(fit)\n",
    "        genes.append(gs)\n",
    "    \n",
    "    return results, genes\n",
    "\n",
    "\n",
    "def run_experiment_instance(i, cost_function, x_train, y_train, params, bounds):\n",
    "    print(i)\n",
    "    prob = pg.problem(cost_function(np.c_[x_train, np.ones(len(x_train))], y_train, params, bounds))\n",
    "    algo = pg.algorithm(pg.pso(gen=2000))\n",
    "   # algo.set_verbosity(1)\n",
    "    pop = pg.population(prob, 50)\n",
    "    pop = algo.evolve(pop)\n",
    "    return pop.champion_f[0], pop.champion_x\n",
    "    "
   ]
  },
  {
   "cell_type": "code",
   "execution_count": 3,
   "metadata": {},
   "outputs": [],
   "source": [
    "import pygmo as pg\n",
    "\n",
    "class cost_function:\n",
    "    def __init__(self, X, Y, params, bounds):\n",
    "        self.params = params\n",
    "        self.bounds = bounds\n",
    "        self.X = X\n",
    "        self.Y = Y\n",
    "    \n",
    "    def fitness(self, x):      \n",
    "        individual = tengp.individual.NPIndividual(list(x), self.bounds, self.params)\n",
    "        \n",
    "        pred = individual.transform(self.X)\n",
    "        \n",
    "        try:\n",
    "            return [mean_squared_error(pred, self.Y)]\n",
    "        except ValueError:\n",
    "            return [10000000000]\n",
    "        \n",
    "    def get_bounds(self):\n",
    "        return self.bounds"
   ]
  },
  {
   "cell_type": "code",
   "execution_count": 5,
   "metadata": {},
   "outputs": [],
   "source": [
    "kw_params = {'real_valued': True, 'max_back': 20}\n",
    "\n",
    "params_nguyen4 = tengp.Parameters(2, 1, 1, 50, nguyen7_funset, **kw_params)\n",
    "params_nguyen7 = tengp.Parameters(2, 1, 1, 50, nguyen7_funset, **kw_params)\n",
    "params_nguyen10 = tengp.Parameters(3, 1, 1, 50, nguyen7_funset, **kw_params)\n",
    "params_pagie1  = tengp.Parameters(2, 1, 1, 50, pagie_funset, **kw_params)\n",
    "params_keijzer6 = tengp.Parameters(2, 1, 1, 50, keijzer_funset, **kw_params)\n",
    "params_korns = tengp.Parameters(6, 1, 1, 50, korns12_funset, **kw_params)\n",
    "params_vlad = tengp.Parameters(6, 1, 1, 50, vlad_funset, **kw_params)\n",
    "\n",
    "all_params = [params_nguyen7, params_pagie1, params_keijzer6, params_korns, params_vlad]"
   ]
  },
  {
   "cell_type": "code",
   "execution_count": 6,
   "metadata": {},
   "outputs": [],
   "source": [
    "import random \n",
    "\n",
    "data = [\n",
    "    ('nguyen4', symreg.get_benchmark_poly(random, 6), params_nguyen4),\n",
    "    ('nguyen7', symreg.get_benchmark_nguyen7(random, None), params_nguyen7),\n",
    "    ('nguyen10', symreg.get_benchmark_nguyen10(random, None), params_nguyen10),\n",
    "    ('pagie1', symreg.get_benchmark_pagie1(random, None), params_pagie1),\n",
    "    ('keijzer6', symreg.get_benchmark_keijzer(random, 6), params_keijzer6),\n",
    "    ('korns12', symreg.get_benchmark_korns(random, 12), params_korns),\n",
    "    ('vladislasleva4', symreg.get_benchmark_vladislasleva4(random, None), params_vlad)\n",
    "]"
   ]
  },
  {
   "cell_type": "code",
   "execution_count": 7,
   "metadata": {},
   "outputs": [
    {
     "data": {
      "text/plain": [
       "3"
      ]
     },
     "execution_count": 7,
     "metadata": {},
     "output_type": "execute_result"
    }
   ],
   "source": [
    "num_cores = multiprocessing.cpu_count() - 1\n",
    "num_cores"
   ]
  },
  {
   "cell_type": "code",
   "execution_count": null,
   "metadata": {},
   "outputs": [],
   "source": []
  },
  {
   "cell_type": "markdown",
   "metadata": {},
   "source": [
    "# Nguyen 4"
   ]
  },
  {
   "cell_type": "code",
   "execution_count": null,
   "metadata": {},
   "outputs": [],
   "source": [
    "%%time\n",
    "\n",
    "ng4_res, ng4_genes = run_experiment(data[0], cost_function)"
   ]
  },
  {
   "cell_type": "code",
   "execution_count": null,
   "metadata": {},
   "outputs": [],
   "source": [
    "%%time\n",
    "\n",
    "name, (x_train, y_train, x_test, y_test), params = data[0]\n",
    "print(name)\n",
    "\n",
    "bounds = tengp.individual.IndividualBuilder(params).create().bounds[:]\n",
    "\n",
    "results = Parallel(n_jobs=num_cores)(delayed(run_experiment_instance)(_, cost_function, x_train, y_train, params, bounds)\n",
    "                                    for _ in range(10))\n",
    "\n"
   ]
  },
  {
   "cell_type": "code",
   "execution_count": null,
   "metadata": {},
   "outputs": [],
   "source": []
  },
  {
   "cell_type": "code",
   "execution_count": null,
   "metadata": {},
   "outputs": [],
   "source": [
    "import pickle\n",
    "\n",
    "pickle.dump(ng4_res, open('ng4_res_100_000evals', 'wb'))\n",
    "pickle.dump(ng4_genes, open('ng4_genes_100_000evals', 'wb'))"
   ]
  },
  {
   "cell_type": "code",
   "execution_count": null,
   "metadata": {},
   "outputs": [],
   "source": [
    "plot_results('nguyen4', ng4_res)"
   ]
  },
  {
   "cell_type": "markdown",
   "metadata": {},
   "source": [
    "# Nguyen 7\n"
   ]
  },
  {
   "cell_type": "code",
   "execution_count": null,
   "metadata": {
    "scrolled": false
   },
   "outputs": [],
   "source": [
    "%%time\n",
    "\n",
    "ng7_res, ng7_genes = run_experiment(data[1], cost_function)"
   ]
  },
  {
   "cell_type": "code",
   "execution_count": 12,
   "metadata": {},
   "outputs": [
    {
     "name": "stdout",
     "output_type": "stream",
     "text": [
      "nguyen7\n",
      "0\n",
      "1\n",
      "2\n",
      "3\n",
      "4\n",
      "5\n",
      "6\n",
      "7\n",
      "8\n",
      "9\n",
      "10\n",
      "11\n",
      "12\n",
      "13\n",
      "14\n",
      "15\n",
      "16\n",
      "17\n",
      "18\n",
      "19\n",
      "20\n",
      "21\n",
      "22\n",
      "23\n",
      "24\n",
      "25\n",
      "26\n",
      "27\n",
      "28\n",
      "29\n",
      "30\n",
      "31\n",
      "32\n",
      "33\n",
      "34\n",
      "35\n",
      "36\n",
      "37\n",
      "38\n",
      "39\n",
      "40\n",
      "41\n",
      "42\n",
      "43\n",
      "44\n",
      "45\n",
      "46\n",
      "47\n",
      "48\n",
      "49\n",
      "50\n",
      "51\n",
      "52\n",
      "53\n",
      "54\n",
      "55\n",
      "56\n",
      "57\n",
      "58\n",
      "59\n",
      "60\n",
      "61\n",
      "62\n",
      "63\n",
      "64\n",
      "65\n",
      "66\n",
      "67\n",
      "68\n",
      "69\n",
      "70\n",
      "71\n",
      "72\n",
      "73\n",
      "74\n",
      "75\n",
      "76\n",
      "77\n",
      "78\n",
      "79\n",
      "80\n",
      "81\n",
      "82\n",
      "83\n",
      "84\n",
      "85\n",
      "86\n",
      "87\n",
      "88\n",
      "89\n",
      "90\n",
      "91\n",
      "92\n",
      "93\n",
      "94\n",
      "95\n",
      "96\n",
      "97\n",
      "98\n",
      "99\n",
      "CPU times: user 4.47 s, sys: 1.19 s, total: 5.66 s\n",
      "Wall time: 2h 4min 3s\n"
     ]
    }
   ],
   "source": [
    "%%time\n",
    "\n",
    "name, (x_train, y_train, x_test, y_test), params = data[1]\n",
    "print(name)\n",
    "\n",
    "bounds = tengp.individual.IndividualBuilder(params).create().bounds[:]\n",
    "\n",
    "results = Parallel(n_jobs=num_cores)(delayed(run_experiment_instance)(_, cost_function, x_train, y_train, params, bounds)\n",
    "                                    for _ in range(100))"
   ]
  },
  {
   "cell_type": "code",
   "execution_count": 16,
   "metadata": {},
   "outputs": [],
   "source": [
    "import pickle\n",
    "\n",
    "pickle.dump([x[0] for x in results], open('ng7_res_100_000evals', 'wb'))\n",
    "pickle.dump([x[1] for x in results], open('ng7_genes_100_000evals', 'wb'))"
   ]
  },
  {
   "cell_type": "code",
   "execution_count": null,
   "metadata": {
    "scrolled": false
   },
   "outputs": [],
   "source": [
    "plot_results('nguyen7', ng7_res)"
   ]
  },
  {
   "cell_type": "markdown",
   "metadata": {},
   "source": [
    "# Nguyen 10"
   ]
  },
  {
   "cell_type": "code",
   "execution_count": null,
   "metadata": {},
   "outputs": [],
   "source": [
    "%%time\n",
    "\n",
    "ng10_res, ng10_genes = run_experiment(data[2], cost_function)"
   ]
  },
  {
   "cell_type": "code",
   "execution_count": null,
   "metadata": {},
   "outputs": [],
   "source": [
    "pickle.dump(ng10_res, open('ng10_res_100_000evals', 'wb'))\n",
    "pickle.dump(ng10_genes, open('ng10_genes_100_000evals', 'wb'))"
   ]
  },
  {
   "cell_type": "code",
   "execution_count": null,
   "metadata": {},
   "outputs": [],
   "source": [
    "plot_results(data[2][0], ng10_res)"
   ]
  },
  {
   "cell_type": "markdown",
   "metadata": {},
   "source": [
    "# Pagie"
   ]
  },
  {
   "cell_type": "code",
   "execution_count": null,
   "metadata": {
    "scrolled": true
   },
   "outputs": [],
   "source": [
    "%%time\n",
    "\n",
    "pag1_res, pag1_genes = run_experiment(data[3], cost_function)"
   ]
  },
  {
   "cell_type": "code",
   "execution_count": null,
   "metadata": {},
   "outputs": [],
   "source": [
    "pickle.dump(pag1_res, open('pag1_res_100_000evals', 'wb'))\n",
    "pickle.dump(pag1_genes, open('pag1_genes_100_000evals', 'wb'))"
   ]
  },
  {
   "cell_type": "code",
   "execution_count": null,
   "metadata": {},
   "outputs": [],
   "source": [
    "plot_results(data[3][0], pag1_res)"
   ]
  },
  {
   "cell_type": "markdown",
   "metadata": {},
   "source": [
    "# Keijzer 6"
   ]
  },
  {
   "cell_type": "code",
   "execution_count": null,
   "metadata": {},
   "outputs": [],
   "source": [
    "%%time\n",
    "\n",
    "kei6_res, kei6_genes = run_experiment(data[4], cost_function)\n",
    "\n",
    "pickle.dump(kei6_res, open('kei6_res_100_000evals', 'wb'))\n",
    "pickle.dump(kei6_genes, open('kei6_genes_100_000evals', 'wb'))\n",
    "\n",
    "plot_results(data[4][0], kei6_res)"
   ]
  },
  {
   "cell_type": "markdown",
   "metadata": {},
   "source": [
    "# Korns 12"
   ]
  },
  {
   "cell_type": "code",
   "execution_count": null,
   "metadata": {},
   "outputs": [],
   "source": [
    "%%time\n",
    "\n",
    "korns12_res, korns12_genes = run_experiment(data[5], cost_function)\n",
    "\n",
    "pickle.dump(korns12_res, open('korns12_res_100_000evals', 'wb'))\n",
    "pickle.dump(korns12_genes, open('korns12_genes_100_000evals', 'wb'))"
   ]
  },
  {
   "cell_type": "code",
   "execution_count": null,
   "metadata": {},
   "outputs": [],
   "source": [
    "plot_results(data[5][0], korns12_res)"
   ]
  },
  {
   "cell_type": "markdown",
   "metadata": {},
   "source": [
    "# Vladislasleva 4"
   ]
  },
  {
   "cell_type": "code",
   "execution_count": null,
   "metadata": {},
   "outputs": [],
   "source": [
    "%%time\n",
    "\n",
    "vlad4_res, vlad4_genes = run_experiment(data[6], cost_function)\n",
    "\n",
    "pickle.dump(vlad4_res, open('vlad4_res_100_000evals', 'wb'))\n",
    "pickle.dump(vlad4_genes, open('vlad4_genes_100_000evals', 'wb'))"
   ]
  },
  {
   "cell_type": "code",
   "execution_count": null,
   "metadata": {},
   "outputs": [],
   "source": [
    "plot_results(data[6][0], vlad4_res)"
   ]
  },
  {
   "cell_type": "code",
   "execution_count": null,
   "metadata": {},
   "outputs": [],
   "source": []
  },
  {
   "cell_type": "code",
   "execution_count": null,
   "metadata": {},
   "outputs": [],
   "source": []
  },
  {
   "cell_type": "code",
   "execution_count": null,
   "metadata": {},
   "outputs": [],
   "source": []
  },
  {
   "cell_type": "code",
   "execution_count": null,
   "metadata": {},
   "outputs": [],
   "source": []
  },
  {
   "cell_type": "code",
   "execution_count": null,
   "metadata": {},
   "outputs": [],
   "source": []
  },
  {
   "cell_type": "markdown",
   "metadata": {},
   "source": [
    "# Rounding of results"
   ]
  },
  {
   "cell_type": "code",
   "execution_count": null,
   "metadata": {},
   "outputs": [],
   "source": [
    "rounded_results = []\n",
    "\n",
    "chunk = 100\n",
    "for i, (name, (x_train, y_train, x_test, y_test), params) in zip(range(5), data):\n",
    "    problem_results = []\n",
    "    \n",
    "    x_train = np.c_[x_train, np.ones(len(x_train))]\n",
    "        \n",
    "    bounds = tengp.individual.IndividualBuilder(params).create().bounds\n",
    "    \n",
    "    print(name)\n",
    "    \n",
    "    for genes in champions[chunk*i:chunk*i + chunk]:\n",
    "        \n",
    "        individual = params.individual_class(np.round(genes), bounds, params)\n",
    "        \n",
    "        output = individual.transform(x_train)\n",
    "        \n",
    "        try:\n",
    "            problem_results.append(mean_squared_error(output, y_train))\n",
    "        except ValueError:\n",
    "            print('value error')\n",
    "    \n",
    "    rounded_results.append(problem_results)\n",
    "        \n",
    "        "
   ]
  },
  {
   "cell_type": "code",
   "execution_count": null,
   "metadata": {},
   "outputs": [],
   "source": [
    "np.min(rounded_results[4])"
   ]
  },
  {
   "cell_type": "code",
   "execution_count": null,
   "metadata": {},
   "outputs": [],
   "source": []
  }
 ],
 "metadata": {
  "kernelspec": {
   "display_name": "Python 3",
   "language": "python",
   "name": "python3"
  },
  "language_info": {
   "codemirror_mode": {
    "name": "ipython",
    "version": 3
   },
   "file_extension": ".py",
   "mimetype": "text/x-python",
   "name": "python",
   "nbconvert_exporter": "python",
   "pygments_lexer": "ipython3",
   "version": "3.6.4"
  }
 },
 "nbformat": 4,
 "nbformat_minor": 2
}
