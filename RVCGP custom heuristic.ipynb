{
 "cells": [
  {
   "cell_type": "markdown",
   "metadata": {},
   "source": [
    "# Custom ES for optimizing RVCGP\n",
    "\n",
    "- [Tournament selection](https://deap.readthedocs.io/en/master/api/tools.html#deap.tools.mutGaussian)\n",
    "- [Arithmetic (blend) crossover](https://deap.readthedocs.io/en/master/api/tools.html#deap.tools.mutGaussian)\n",
    "- [Gaussian mutation](https://deap.readthedocs.io/en/master/api/tools.html#deap.tools.mutGaussian)\n",
    "\n",
    "First let's define environment"
   ]
  },
  {
   "cell_type": "code",
   "execution_count": 151,
   "metadata": {},
   "outputs": [],
   "source": [
    "import matplotlib.pyplot as plt\n",
    "import seaborn as sns\n",
    "%matplotlib inline\n",
    "\n",
    "import tengp\n",
    "import numpy as np\n",
    "from gpbenchmarks import get_data\n",
    "from sklearn.metrics import mean_squared_error\n",
    "import random\n",
    "\n",
    "\n",
    "def pdivide(x, y):\n",
    "    return np.divide(x, y, out=np.copy(x), where=x!=0)\n",
    "\n",
    "def plog(x, _):\n",
    "    return np.log(x, out=np.copy(x), where=x>0)\n",
    "\n",
    "def psin(x, _):\n",
    "    return np.sin(x)\n",
    "\n",
    "def pcos(x, _):\n",
    "    return np.cos(x)\n",
    "\n",
    "def pow2(x):\n",
    "    return x**2\n",
    "\n",
    "def pow3(x):\n",
    "    return x**3\n",
    "\n",
    "\n",
    "funset = tengp.FunctionSet()\n",
    "funset.add(np.add, 2)\n",
    "funset.add(np.subtract, 2)\n",
    "funset.add(np.multiply, 2)\n",
    "funset.add(pdivide, 2)\n",
    "\n",
    "X, y = get_data('nguyenf4', 20, -1, 1)\n",
    "X = np.c_[np.ones(len(X)), X]\n",
    "\n",
    "rv_params = tengp.Parameters(2, 1, 1, 10, funset, real_valued=True)\n",
    "params = tengp.Parameters(2, 1, 1, 10, funset, real_valued=False)\n",
    "\n",
    "builder = tengp.individual.IndividualBuilder(rv_params)\n",
    "bounds = builder.create().bounds[:]\n",
    "genotypes = []"
   ]
  },
  {
   "cell_type": "code",
   "execution_count": 87,
   "metadata": {},
   "outputs": [],
   "source": [
    "def clip(rv_genes, bounds):\n",
    "    clipped = []\n",
    "    for gene, bound in zip(rv_genes, bounds):\n",
    "        if gene < 0:\n",
    "            clipped.append(0)\n",
    "        elif gene > bound:\n",
    "            clipped.append(bound)\n",
    "        else:\n",
    "            clipped.append(gene)\n",
    "    return clipped\n",
    "\n",
    "def cost_function(rv_genes):\n",
    "    individual = tengp.individual.NPIndividual(clip(rv_genes, bounds), bounds, rv_params)\n",
    "    \n",
    "    pred = individual.transform(X)\n",
    "    \n",
    "    try:\n",
    "        out = mean_squared_error(pred, y)\n",
    "    except ValueError:\n",
    "        out = np.inf\n",
    "        \n",
    " #   genotypes.append((scaled, out))\n",
    "    return out"
   ]
  },
  {
   "cell_type": "code",
   "execution_count": 158,
   "metadata": {},
   "outputs": [],
   "source": [
    "def plot_results(outs):\n",
    "    costs = np.array(outs)\n",
    "    print('mean:', np.mean(costs))\n",
    "    print('median:', np.median(costs))\n",
    "    print('variance:',np.var(costs))\n",
    "    print('min:', np.min(costs))\n",
    "    sns.distplot(costs);"
   ]
  },
  {
   "cell_type": "markdown",
   "metadata": {},
   "source": [
    "Set up a simple base line. Classic CGP, simple ES, point mutation"
   ]
  },
  {
   "cell_type": "code",
   "execution_count": 160,
   "metadata": {},
   "outputs": [
    {
     "name": "stdout",
     "output_type": "stream",
     "text": [
      "0, "
     ]
    },
    {
     "name": "stderr",
     "output_type": "stream",
     "text": [
      "/home/jarino/anaconda3/lib/python3.6/site-packages/ipykernel_launcher.py:13: RuntimeWarning: divide by zero encountered in true_divide\n",
      "  del sys.path[0]\n",
      "/home/jarino/dev/tensor-cgp/tengp/individual.py:152: RuntimeWarning: invalid value encountered in multiply\n",
      "  current_node.value = current_node.fun(*values)\n"
     ]
    },
    {
     "name": "stdout",
     "output_type": "stream",
     "text": [
      "1, 2, "
     ]
    },
    {
     "name": "stderr",
     "output_type": "stream",
     "text": [
      "/home/jarino/dev/tensor-cgp/tengp/individual.py:152: RuntimeWarning: invalid value encountered in add\n",
      "  current_node.value = current_node.fun(*values)\n",
      "/home/jarino/dev/tensor-cgp/tengp/individual.py:152: RuntimeWarning: invalid value encountered in subtract\n",
      "  current_node.value = current_node.fun(*values)\n"
     ]
    },
    {
     "name": "stdout",
     "output_type": "stream",
     "text": [
      "3, 4, 5, 6, "
     ]
    },
    {
     "name": "stderr",
     "output_type": "stream",
     "text": [
      "/home/jarino/anaconda3/lib/python3.6/site-packages/ipykernel_launcher.py:13: RuntimeWarning: invalid value encountered in true_divide\n",
      "  del sys.path[0]\n"
     ]
    },
    {
     "name": "stdout",
     "output_type": "stream",
     "text": [
      "7, 8, 9, 10, 11, 12, 13, 14, 15, 16, 17, 18, 19, 20, 21, 22, 23, 24, 25, 26, 27, 28, 29, 30, 31, 32, 33, 34, 35, 36, 37, 38, 39, 40, 41, 42, 43, 44, 45, 46, 47, 48, 49, 50, 51, 52, 53, 54, 55, 56, 57, 58, 59, 60, 61, 62, 63, 64, 65, 66, 67, 68, 69, 70, 71, 72, 73, 74, 75, 76, 77, 78, 79, 80, 81, 82, 83, 84, 85, 86, 87, 88, 89, 90, 91, 92, 93, 94, 95, 96, 97, 98, 99, "
     ]
    }
   ],
   "source": [
    "random.seed(42)\n",
    "simple_es_results = []\n",
    "for i in range(100):\n",
    "    print(i, end=', ')\n",
    "    out = tengp.simple_es(X, y, mean_squared_error, params, mutation='point')\n",
    "    simple_es_results.append(out)"
   ]
  },
  {
   "cell_type": "code",
   "execution_count": 161,
   "metadata": {},
   "outputs": [
    {
     "name": "stdout",
     "output_type": "stream",
     "text": [
      "mean: 0.0900826103326\n",
      "median: 0.0409660644493\n",
      "variance: 0.0189638168103\n",
      "min: 4.16482350474e-33\n"
     ]
    },
    {
     "data": {
      "image/png": "[encoded data removed]",
      "text/plain": [
       "<matplotlib.figure.Figure at 0x7f616c190160>"
      ]
     },
     "metadata": {},
     "output_type": "display_data"
    }
   ],
   "source": [
    "plot_results([x[0].fitness for x in simple_es_results])"
   ]
  },
  {
   "cell_type": "markdown",
   "metadata": {},
   "source": [
    "First of all, let's try a really dumb hillclimber. It just randomly picks a gene and randomly changes its value."
   ]
  },
  {
   "cell_type": "code",
   "execution_count": 147,
   "metadata": {},
   "outputs": [
    {
     "name": "stdout",
     "output_type": "stream",
     "text": [
      "0, 1, 2, 3, 4, 5, 6, 7, 8, 9, 10, 11, 12, 13, 14, 15, 16, 17, 18, 19, 20, 21, 22, 23, 24, 25, 26, 27, 28, 29, 30, 31, 32, 33, 34, 35, 36, 37, 38, 39, 40, 41, 42, 43, 44, 45, 46, 47, 48, 49, 50, 51, 52, 53, 54, 55, 56, 57, 58, 59, 60, 61, 62, 63, 64, 65, 66, 67, 68, 69, 70, 71, 72, 73, 74, 75, 76, 77, 78, 79, 80, 81, 82, 83, 84, 85, 86, 87, 88, 89, 90, 91, 92, 93, 94, 95, 96, 97, 98, 99, "
     ]
    }
   ],
   "source": [
    "random.seed(42)\n",
    "\n",
    "indices = list(range(len(bounds)))\n",
    "res = []\n",
    "\n",
    "for trial in range(100):\n",
    "    print(trial, end=', ')\n",
    "    \n",
    "    population = [Individual([random.uniform(0, b) for b in bounds]) for _ in range(5)]\n",
    "\n",
    "    # evaluated the first population\n",
    "    for individual in population:\n",
    "        individual.fitness = cost_function(individual.genes)\n",
    "\n",
    "    #print('first best individual', min(population, key=lambda x: x.fitness))\n",
    "\n",
    "    n_evals = 0\n",
    "\n",
    "    while n_evals < 5000:\n",
    "        parent = min(population, key=lambda x: x.fitness)\n",
    "\n",
    "        population = []\n",
    "\n",
    "        # generate new population by randomly changing gene:\n",
    "        for _ in range(4):\n",
    "            index = random.choice(indices)\n",
    "\n",
    "            new_genes = parent.genes[:]\n",
    "\n",
    "            new_genes[index] = random.uniform(0, bounds[index])\n",
    "\n",
    "            individual = Individual(new_genes)\n",
    "            individual.fitness = cost_function(new_genes)\n",
    "            n_evals += 1\n",
    "\n",
    "            population.append(individual)\n",
    "\n",
    "        population += [parent]\n",
    "    res.append(sorted(population, key=lambda x: x.fitness)[0])"
   ]
  },
  {
   "cell_type": "code",
   "execution_count": 148,
   "metadata": {},
   "outputs": [],
   "source": [
    "costs = np.array([x.fitness for x in res])"
   ]
  },
  {
   "cell_type": "code",
   "execution_count": 149,
   "metadata": {},
   "outputs": [
    {
     "name": "stdout",
     "output_type": "stream",
     "text": [
      "0.50452705612\n",
      "0.203870773618\n",
      "0.163916031454\n",
      "0.0524146342587\n"
     ]
    }
   ],
   "source": [
    "print(np.mean(costs))\n",
    "print(np.median(costs))\n",
    "print(np.var(costs))\n",
    "print(np.min(costs))"
   ]
  },
  {
   "cell_type": "code",
   "execution_count": 150,
   "metadata": {},
   "outputs": [
    {
     "data": {
      "text/plain": [
       "<matplotlib.axes._subplots.AxesSubplot at 0x7f616c0806a0>"
      ]
     },
     "execution_count": 150,
     "metadata": {},
     "output_type": "execute_result"
    },
    {
     "data": {
      "image/png": "[encoded data removed]",
      "text/plain": [
       "<matplotlib.figure.Figure at 0x7f616c03f940>"
      ]
     },
     "metadata": {},
     "output_type": "display_data"
    }
   ],
   "source": [
    "sns.distplot(costs)"
   ]
  },
  {
   "cell_type": "markdown",
   "metadata": {},
   "source": [
    "Since we are working in real-valued domain, we can use method like L-BFGS-B for fine tuning the results. Let's apply L-BFGS-B algorithm to final individuals of previous run and see, whether we can achieve improvement."
   ]
  },
  {
   "cell_type": "code",
   "execution_count": 145,
   "metadata": {},
   "outputs": [
    {
     "name": "stdout",
     "output_type": "stream",
     "text": [
      "0, 1, 2, 3, 4, 5, 6, 7, 8, 9, 10, 11, 12, 13, 14, 15, 16, 17, 18, 19, 20, 21, 22, 23, 24, 25, 26, 27, 28, 29, 30, 31, 32, 33, 34, 35, 36, 37, 38, 39, 40, 41, 42, 43, 44, 45, 46, 47, 48, 49, 50, 51, 52, 53, 54, 55, 56, 57, 58, 59, 60, 61, 62, 63, 64, 65, 66, 67, 68, 69, 70, 71, 72, 73, 74, 75, 76, 77, 78, 79, 80, 81, 82, 83, 84, 85, 86, 87, 88, 89, 90, 91, 92, 93, 94, 95, 96, 97, 98, 99, "
     ]
    }
   ],
   "source": [
    "from scipy.optimize import minimize\n",
    "\n",
    "opt_results = []\n",
    "for index, individual in enumerate(res):\n",
    "    print(index, end=', ')\n",
    "    opt_res = minimize(cost_function, individual.genes, method='L-BFGS-B', bounds=[(0, b) for b in bounds])#, options={'eps': 1})\n",
    "    opt_results.append(opt_res.fun)"
   ]
  },
  {
   "cell_type": "code",
   "execution_count": 146,
   "metadata": {},
   "outputs": [
    {
     "name": "stdout",
     "output_type": "stream",
     "text": [
      "0.67837079052\n",
      "1.04046198617\n",
      "0.252886379842\n",
      "0.0235467799774\n"
     ]
    },
    {
     "data": {
      "image/png": "[encoded data removed]",
      "text/plain": [
       "<matplotlib.figure.Figure at 0x7f616c08deb8>"
      ]
     },
     "metadata": {},
     "output_type": "display_data"
    }
   ],
   "source": []
  },
  {
   "cell_type": "markdown",
   "metadata": {},
   "source": [
    "Well shit, no actuall improvement was achieved."
   ]
  },
  {
   "cell_type": "code",
   "execution_count": 113,
   "metadata": {},
   "outputs": [],
   "source": [
    "class Individual():\n",
    "    def __init__(self, genes):\n",
    "        self.genes = genes\n",
    "        self.fitness = None\n",
    "        \n",
    "    def __repr__(self):\n",
    "        return f'Ind: {self.fitness}'"
   ]
  },
  {
   "cell_type": "markdown",
   "metadata": {},
   "source": [
    "Hyperparameters"
   ]
  },
  {
   "cell_type": "code",
   "execution_count": 34,
   "metadata": {},
   "outputs": [],
   "source": [
    "POPULATION_SIZE = 50"
   ]
  },
  {
   "cell_type": "markdown",
   "metadata": {},
   "source": [
    "Create the initial population and evaluate it"
   ]
  },
  {
   "cell_type": "code",
   "execution_count": 164,
   "metadata": {},
   "outputs": [],
   "source": [
    "from array import array\n",
    "from deap import creator, base, tools, cma, algorithms\n",
    "\n",
    "creator.create('FitnessMin', base.Fitness, weights=(-1.0,))\n",
    "creator.create('Individual', array, typecode='f', fitness=creator.FitnessMin)"
   ]
  },
  {
   "cell_type": "code",
   "execution_count": 182,
   "metadata": {},
   "outputs": [
    {
     "name": "stdout",
     "output_type": "stream",
     "text": [
      "gen\tnevals\tavg    \tmin    \n",
      "0  \t40    \t11.4372\t1.19187\n",
      "1  \t40    \t6.94479\t1.8164 \n",
      "2  \t40    \t10.1675\t1.69753\n",
      "3  \t40    \t22.5333\t1.47089\n",
      "4  \t40    \t15.8023\t2.09826\n",
      "5  \t40    \t9.92981\t1.69846\n",
      "6  \t40    \t14.0733\t2.11034\n",
      "7  \t40    \t12.0282\t2.12345\n",
      "8  \t40    \t7.56131\t1.35628\n",
      "9  \t40    \t11.242 \t2.101  \n",
      "10 \t40    \t5.77338\t1.85864\n",
      "11 \t40    \t5.36174\t1.35783\n",
      "12 \t40    \t8.893  \t2.09985\n",
      "13 \t40    \t8.26236\t1.11981\n",
      "14 \t40    \t5.44339\t1.74102\n",
      "15 \t40    \t3.90598\t1.80442\n",
      "16 \t40    \t5.29632\t2.09917\n",
      "17 \t40    \t4.59506\t1.69591\n",
      "18 \t40    \t3.7562 \t1.30342\n",
      "19 \t40    \t3.44428\t1.71726\n",
      "20 \t40    \t3.69995\t1.24742\n",
      "21 \t40    \t4.68887\t1.24269\n",
      "22 \t40    \t3.73307\t1.15222\n",
      "23 \t40    \t4.18993\t1.18462\n",
      "24 \t40    \t4.01135\t1.04333\n",
      "25 \t40    \t4.21436\t1.04725\n",
      "26 \t40    \t4.43642\t1.08026\n",
      "27 \t40    \t3.53551\t1.0955 \n",
      "28 \t40    \t4.02509\t1.04602\n",
      "29 \t40    \t4.24059\t1.07625\n",
      "30 \t40    \t3.42858\t1.05745\n",
      "31 \t40    \t3.03931\t1.05982\n",
      "32 \t40    \t2.44304\t1.04861\n",
      "33 \t40    \t2.9998 \t1.04109\n",
      "34 \t40    \t3.12176\t1.0487 \n",
      "35 \t40    \t2.11638\t1.04244\n",
      "36 \t40    \t2.07071\t1.04279\n",
      "37 \t40    \t1.95773\t1.04076\n",
      "38 \t40    \t1.99555\t1.04506\n",
      "39 \t40    \t1.58705\t1.04869\n",
      "40 \t40    \t1.96474\t1.04047\n",
      "41 \t40    \t1.9797 \t1.04193\n",
      "42 \t40    \t1.80094\t1.04237\n",
      "43 \t40    \t2.41546\t1.04056\n",
      "44 \t40    \t1.61409\t1.04126\n",
      "45 \t40    \t1.82738\t1.04081\n",
      "46 \t40    \t1.75626\t1.04058\n",
      "47 \t40    \t1.35887\t1.04062\n",
      "48 \t40    \t1.26045\t1.04116\n",
      "49 \t40    \t1.23722\t1.041  \n",
      "50 \t40    \t1.44441\t1.04054\n",
      "51 \t40    \t1.04797\t1.04077\n",
      "52 \t40    \t1.0467 \t1.04095\n",
      "53 \t40    \t1.04663\t1.04064\n",
      "54 \t40    \t1.14541\t1.04049\n",
      "55 \t40    \t1.04362\t1.0405 \n",
      "56 \t40    \t1.04362\t1.04052\n",
      "57 \t40    \t1.04321\t1.04048\n",
      "58 \t40    \t1.04357\t1.04051\n",
      "59 \t40    \t1.04217\t1.04047\n",
      "60 \t40    \t1.04228\t1.04053\n",
      "61 \t40    \t1.04147\t1.04049\n",
      "62 \t40    \t1.04118\t1.04047\n",
      "63 \t40    \t1.04152\t1.04048\n",
      "64 \t40    \t1.04101\t1.0405 \n",
      "65 \t40    \t1.04106\t1.04047\n",
      "66 \t40    \t1.04082\t1.04047\n",
      "67 \t40    \t1.04081\t1.04046\n",
      "68 \t40    \t1.04099\t1.04046\n",
      "69 \t40    \t1.04077\t1.04047\n",
      "70 \t40    \t1.04065\t1.04047\n",
      "71 \t40    \t1.04071\t1.04046\n",
      "72 \t40    \t1.04057\t1.04046\n",
      "73 \t40    \t1.04056\t1.04046\n",
      "74 \t40    \t1.04056\t1.04046\n",
      "75 \t40    \t1.04055\t1.04046\n",
      "76 \t40    \t1.04053\t1.04047\n",
      "77 \t40    \t1.04052\t1.04046\n",
      "78 \t40    \t1.0405 \t1.04046\n",
      "79 \t40    \t1.04049\t1.04046\n",
      "80 \t40    \t1.04049\t1.04046\n",
      "81 \t40    \t1.04048\t1.04046\n",
      "82 \t40    \t1.04049\t1.04046\n",
      "83 \t40    \t1.04048\t1.04046\n",
      "84 \t40    \t1.04048\t1.04046\n",
      "85 \t40    \t1.04048\t1.04046\n",
      "86 \t40    \t1.04047\t1.04046\n",
      "87 \t40    \t1.04047\t1.04046\n",
      "88 \t40    \t1.04047\t1.04046\n",
      "89 \t40    \t1.04047\t1.04046\n",
      "90 \t40    \t1.04047\t1.04046\n",
      "91 \t40    \t1.04047\t1.04046\n",
      "92 \t40    \t1.04046\t1.04046\n",
      "93 \t40    \t1.04046\t1.04046\n",
      "94 \t40    \t1.04046\t1.04046\n",
      "95 \t40    \t1.04046\t1.04046\n",
      "96 \t40    \t1.04046\t1.04046\n",
      "97 \t40    \t1.04046\t1.04046\n",
      "98 \t40    \t1.04046\t1.04046\n",
      "99 \t40    \t1.04046\t1.04046\n",
      "100\t40    \t1.04046\t1.04046\n",
      "101\t40    \t1.04046\t1.04046\n",
      "102\t40    \t1.04046\t1.04046\n",
      "103\t40    \t1.04046\t1.04046\n",
      "104\t40    \t1.04046\t1.04046\n",
      "105\t40    \t1.04046\t1.04046\n",
      "106\t40    \t1.04046\t1.04046\n",
      "107\t40    \t1.04046\t1.04046\n",
      "108\t40    \t1.04046\t1.04046\n",
      "109\t40    \t1.04046\t1.04046\n",
      "110\t40    \t1.04046\t1.04046\n",
      "111\t40    \t1.04046\t1.04046\n",
      "112\t40    \t1.04046\t1.04046\n",
      "113\t40    \t1.04046\t1.04046\n",
      "114\t40    \t1.04046\t1.04046\n",
      "115\t40    \t1.04046\t1.04046\n",
      "116\t40    \t1.04046\t1.04046\n",
      "117\t40    \t1.04046\t1.04046\n",
      "118\t40    \t1.04046\t1.04046\n",
      "119\t40    \t1.04046\t1.04046\n",
      "120\t40    \t1.04046\t1.04046\n",
      "121\t40    \t1.04046\t1.04046\n",
      "122\t40    \t1.04046\t1.04046\n",
      "123\t40    \t1.04046\t1.04046\n",
      "124\t40    \t1.04046\t1.04046\n",
      "125\t40    \t1.04046\t1.04046\n",
      "126\t40    \t1.04046\t1.04046\n",
      "127\t40    \t1.04046\t1.04046\n",
      "128\t40    \t1.04046\t1.04046\n",
      "129\t40    \t1.04046\t1.04046\n",
      "130\t40    \t1.04046\t1.04046\n",
      "131\t40    \t1.04046\t1.04046\n",
      "132\t40    \t1.04046\t1.04046\n",
      "133\t40    \t1.04046\t1.04046\n",
      "134\t40    \t1.04046\t1.04046\n",
      "135\t40    \t1.04046\t1.04046\n",
      "136\t40    \t1.04046\t1.04046\n",
      "137\t40    \t1.04046\t1.04046\n",
      "138\t40    \t1.04046\t1.04046\n",
      "139\t40    \t1.04046\t1.04046\n",
      "140\t40    \t1.04046\t1.04046\n",
      "141\t40    \t1.04046\t1.04046\n",
      "142\t40    \t1.04046\t1.04046\n",
      "143\t40    \t1.04046\t1.04046\n",
      "144\t40    \t1.04046\t1.04046\n",
      "145\t40    \t1.04046\t1.04046\n",
      "146\t40    \t1.04046\t1.04046\n",
      "147\t40    \t1.04046\t1.04046\n",
      "148\t40    \t1.04046\t1.04046\n",
      "149\t40    \t1.04046\t1.04046\n",
      "150\t40    \t1.04046\t1.04046\n",
      "151\t40    \t1.04046\t1.04046\n",
      "152\t40    \t1.04046\t1.04046\n",
      "153\t40    \t1.04046\t1.04046\n",
      "154\t40    \t1.04046\t1.04046\n",
      "155\t40    \t1.04046\t1.04046\n",
      "156\t40    \t1.04046\t1.04046\n",
      "157\t40    \t1.04046\t1.04046\n",
      "158\t40    \t1.04046\t1.04046\n",
      "159\t40    \t1.04046\t1.04046\n",
      "160\t40    \t1.04046\t1.04046\n",
      "161\t40    \t1.04046\t1.04046\n",
      "162\t40    \t1.04046\t1.04046\n",
      "163\t40    \t1.04046\t1.04046\n",
      "164\t40    \t1.04046\t1.04046\n",
      "165\t40    \t1.04046\t1.04046\n",
      "166\t40    \t1.04046\t1.04046\n",
      "167\t40    \t1.04046\t1.04046\n",
      "168\t40    \t1.04046\t1.04046\n",
      "169\t40    \t1.04046\t1.04046\n",
      "170\t40    \t1.04046\t1.04046\n",
      "171\t40    \t1.04046\t1.04046\n",
      "172\t40    \t1.04046\t1.04046\n",
      "173\t40    \t1.04046\t1.04046\n",
      "174\t40    \t1.04046\t1.04046\n",
      "175\t40    \t1.04046\t1.04046\n",
      "176\t40    \t1.04046\t1.04046\n",
      "177\t40    \t1.04046\t1.04046\n",
      "178\t40    \t1.04046\t1.04046\n",
      "179\t40    \t1.04046\t1.04046\n",
      "180\t40    \t1.04046\t1.04046\n",
      "181\t40    \t1.04046\t1.04046\n",
      "182\t40    \t1.04046\t1.04046\n",
      "183\t40    \t1.04046\t1.04046\n",
      "184\t40    \t1.04046\t1.04046\n",
      "185\t40    \t1.04046\t1.04046\n",
      "186\t40    \t1.04046\t1.04046\n",
      "187\t40    \t1.04046\t1.04046\n",
      "188\t40    \t1.04046\t1.04046\n",
      "189\t40    \t1.04046\t1.04046\n",
      "190\t40    \t1.04046\t1.04046\n",
      "191\t40    \t1.04046\t1.04046\n",
      "192\t40    \t1.04046\t1.04046\n",
      "193\t40    \t1.04046\t1.04046\n",
      "194\t40    \t1.04046\t1.04046\n",
      "195\t40    \t1.04046\t1.04046\n",
      "196\t40    \t1.04046\t1.04046\n",
      "197\t40    \t1.04046\t1.04046\n",
      "198\t40    \t1.04046\t1.04046\n",
      "199\t40    \t1.04046\t1.04046\n",
      "200\t40    \t1.04046\t1.04046\n",
      "201\t40    \t1.04046\t1.04046\n",
      "202\t40    \t1.04046\t1.04046\n",
      "203\t40    \t1.04046\t1.04046\n",
      "204\t40    \t1.04046\t1.04046\n",
      "205\t40    \t1.04046\t1.04046\n",
      "206\t40    \t1.04046\t1.04046\n",
      "207\t40    \t1.04046\t1.04046\n",
      "208\t40    \t1.04046\t1.04046\n",
      "209\t40    \t1.04046\t1.04046\n",
      "210\t40    \t1.04046\t1.04046\n",
      "211\t40    \t1.04046\t1.04046\n",
      "212\t40    \t1.04046\t1.04046\n",
      "213\t40    \t1.04046\t1.04046\n",
      "214\t40    \t1.04046\t1.04046\n",
      "215\t40    \t1.04046\t1.04046\n",
      "216\t40    \t1.04046\t1.04046\n",
      "217\t40    \t1.04046\t1.04046\n",
      "218\t40    \t1.04046\t1.04046\n",
      "219\t40    \t1.04046\t1.04046\n",
      "220\t40    \t1.04046\t1.04046\n",
      "221\t40    \t1.04046\t1.04046\n",
      "222\t40    \t1.04046\t1.04046\n",
      "223\t40    \t1.04046\t1.04046\n",
      "224\t40    \t1.04046\t1.04046\n",
      "225\t40    \t1.04046\t1.04046\n",
      "226\t40    \t1.04046\t1.04046\n",
      "227\t40    \t1.04046\t1.04046\n",
      "228\t40    \t1.04046\t1.04046\n",
      "229\t40    \t1.04046\t1.04046\n",
      "230\t40    \t1.04046\t1.04046\n",
      "231\t40    \t1.04046\t1.04046\n",
      "232\t40    \t1.04046\t1.04046\n",
      "233\t40    \t1.04046\t1.04046\n",
      "234\t40    \t1.04046\t1.04046\n",
      "235\t40    \t1.04046\t1.04046\n",
      "236\t40    \t1.04046\t1.04046\n",
      "237\t40    \t1.04046\t1.04046\n",
      "238\t40    \t1.04046\t1.04046\n",
      "239\t40    \t1.04046\t1.04046\n",
      "240\t40    \t1.04046\t1.04046\n",
      "241\t40    \t1.04046\t1.04046\n",
      "242\t40    \t1.04046\t1.04046\n",
      "243\t40    \t1.04046\t1.04046\n",
      "244\t40    \t1.04046\t1.04046\n",
      "245\t40    \t1.04046\t1.04046\n",
      "246\t40    \t1.04046\t1.04046\n",
      "247\t40    \t1.04046\t1.04046\n",
      "248\t40    \t1.04046\t1.04046\n",
      "249\t40    \t1.04046\t1.04046\n"
     ]
    }
   ],
   "source": [
    "import math\n",
    "\n",
    "def bound(x, a, b):\n",
    "    return a + (b - a) * ( 1 - np.cos(np.pi * x/10))/2\n",
    "\n",
    "def scale_a(x, a, b):\n",
    "    return a + (b - a) * x / 10\n",
    "\n",
    "def scale_b(x, a, b):\n",
    "    return a + (b - a) * (x/10)**2\n",
    "\n",
    "def scale_c(x, a, b):\n",
    "    return a *(b/a)**(x/10)\n",
    "\n",
    "def cost_function_cma(rv_genes):\n",
    "    bounded = bound(np.array(rv_genes), 0, 10)   \n",
    "    scaled = [scale_a(x, 0, b) for x, b in zip(bounded, bounds)]\n",
    "    individual = tengp.individual.NPIndividual(scaled, bounds, rv_params)\n",
    "    \n",
    "    pred = individual.transform(X)\n",
    "    \n",
    "    try:\n",
    "        out = mean_squared_error(pred, y)\n",
    "    except ValueError:\n",
    "        out = np.inf\n",
    "        \n",
    " #   genotypes.append((scaled, out))\n",
    "    return (out, )\n",
    "\n",
    "random.seed(42)\n",
    "\n",
    "parent = creator.Individual([random.uniform(0, 10) for _ in bounds])\n",
    "parent.fitness.values = toolbox.evaluate(parent)\n",
    "\n",
    "strategy = cma.StrategyOnePlusLambda(parent=parent, sigma=5, lambda_=40)\n",
    "\n",
    "\n",
    "toolbox = base.Toolbox()\n",
    "toolbox.register('evaluate', cost_function_cma)\n",
    "toolbox.register(\"generate\", strategy.generate, creator.Individual)\n",
    "toolbox.register(\"update\", strategy.update)\n",
    "hof = tools.HallOfFame(1)\n",
    "stats = tools.Statistics(lambda ind: ind.fitness.values)\n",
    "stats.register(\"avg\", np.mean)\n",
    "stats.register(\"min\", np.min)\n",
    "\n",
    "pop, log = algorithms.eaGenerateUpdate(toolbox, ngen=250, stats=stats, halloffame=hof, verbose=True)"
   ]
  },
  {
   "cell_type": "code",
   "execution_count": 178,
   "metadata": {},
   "outputs": [
    {
     "data": {
      "text/plain": [
       "(1.0404619516475269,)"
      ]
     },
     "execution_count": 178,
     "metadata": {},
     "output_type": "execute_result"
    }
   ],
   "source": [
    "cost_function_cma(hof[0])"
   ]
  },
  {
   "cell_type": "code",
   "execution_count": null,
   "metadata": {},
   "outputs": [],
   "source": []
  }
 ],
 "metadata": {
  "kernelspec": {
   "display_name": "Python 3",
   "language": "python",
   "name": "python3"
  },
  "language_info": {
   "codemirror_mode": {
    "name": "ipython",
    "version": 3
   },
   "file_extension": ".py",
   "mimetype": "text/x-python",
   "name": "python",
   "nbconvert_exporter": "python",
   "pygments_lexer": "ipython3",
   "version": "3.6.3"
  }
 },
 "nbformat": 4,
 "nbformat_minor": 2
}
