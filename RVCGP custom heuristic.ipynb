{
 "cells": [
  {
   "cell_type": "markdown",
   "metadata": {},
   "source": [
    "# Custom ES for optimizing RVCGP\n",
    "\n",
    "- [Tournament selection](https://deap.readthedocs.io/en/master/api/tools.html#deap.tools.mutGaussian)\n",
    "- [Arithmetic (blend) crossover](https://deap.readthedocs.io/en/master/api/tools.html#deap.tools.mutGaussian)\n",
    "- [Gaussian mutation](https://deap.readthedocs.io/en/master/api/tools.html#deap.tools.mutGaussian)\n",
    "\n",
    "First let's define environment"
   ]
  },
  {
   "cell_type": "code",
   "execution_count": 1,
   "metadata": {
    "collapsed": true
   },
   "outputs": [],
   "source": [
    "import matplotlib.pyplot as plt\n",
    "import seaborn as sns\n",
    "%matplotlib inline\n",
    "\n",
    "import tengp\n",
    "import numpy as np\n",
    "from gpbenchmarks import get_data\n",
    "from sklearn.metrics import mean_squared_error\n",
    "import random\n",
    "\n",
    "\n",
    "def pdivide(x, y):\n",
    "    return np.divide(x, y, out=np.copy(x), where=x!=0)\n",
    "\n",
    "def plog(x, _):\n",
    "    return np.log(x, out=np.copy(x), where=x>0)\n",
    "\n",
    "def psin(x, _):\n",
    "    return np.sin(x)\n",
    "\n",
    "def pcos(x, _):\n",
    "    return np.cos(x)\n",
    "\n",
    "def pow2(x):\n",
    "    return x**2\n",
    "\n",
    "def pow3(x):\n",
    "    return x**3\n",
    "\n",
    "\n",
    "funset = tengp.FunctionSet()\n",
    "funset.add(np.add, 2)\n",
    "funset.add(np.subtract, 2)\n",
    "funset.add(np.multiply, 2)\n",
    "funset.add(pdivide, 2)\n",
    "\n",
    "X, y = get_data('nguyenf4', 20, -1, 1)\n",
    "X = np.c_[np.ones(len(X)), X]\n",
    "\n",
    "rv_params = tengp.Parameters(2, 1, 1, 10, funset, real_valued=True)\n",
    "params = tengp.Parameters(2, 1, 1, 10, funset, real_valued=False)\n",
    "\n",
    "builder = tengp.individual.IndividualBuilder(rv_params)\n",
    "bounds = builder.create().bounds[:]\n",
    "genotypes = []"
   ]
  },
  {
   "cell_type": "code",
   "execution_count": 2,
   "metadata": {
    "collapsed": true
   },
   "outputs": [],
   "source": [
    "def clip(rv_genes, bounds):\n",
    "    clipped = []\n",
    "    for gene, bound in zip(rv_genes, bounds):\n",
    "        if gene < 0:\n",
    "            clipped.append(0)\n",
    "        elif gene > bound:\n",
    "            clipped.append(bound)\n",
    "        else:\n",
    "            clipped.append(gene)\n",
    "    return clipped\n",
    "\n",
    "def cost_function(individual):\n",
    "    #individual = tengp.individual.NPIndividual(clip(rv_genes, bounds), bounds, rv_params)\n",
    "    \n",
    "    pred = individual.transform(X)\n",
    "    \n",
    "    try:\n",
    "        out = mean_squared_error(pred, y)\n",
    "    except ValueError:\n",
    "        out = np.inf\n",
    "        \n",
    " #   genotypes.append((scaled, out))\n",
    "    return out"
   ]
  },
  {
   "cell_type": "code",
   "execution_count": 19,
   "metadata": {
    "collapsed": true
   },
   "outputs": [],
   "source": [
    "import math\n",
    "\n",
    "def bound(x, a, b):\n",
    "    return a + (b - a) * ( 1 - np.cos(np.pi * x/10))/2\n",
    "\n",
    "def scale_a(x, a, b):\n",
    "    return a + (b - a) * x / 10\n",
    "\n",
    "def scale_b(x, a, b):\n",
    "    return a + (b - a) * (x/10)**2\n",
    "\n",
    "def scale_c(x, a, b):\n",
    "    return a *(b/a)**(x/10)\n",
    "\n",
    "def cost_function_cma(rv_genes):\n",
    "    bounded = bound(np.array(rv_genes), 0, 10)   \n",
    "    scaled = [scale_a(x, 0, b) for x, b in zip(bounded, bounds)]\n",
    "    individual = tengp.individual.NPIndividual(scaled, bounds, rv_params)\n",
    "    \n",
    "    pred = individual.transform(X)\n",
    "    \n",
    "    try:\n",
    "        out = mean_squared_error(pred, y)\n",
    "    except ValueError:\n",
    "        out = np.inf\n",
    "        \n",
    " #   genotypes.append((scaled, out))\n",
    "    return out"
   ]
  },
  {
   "cell_type": "code",
   "execution_count": 20,
   "metadata": {
    "collapsed": true
   },
   "outputs": [],
   "source": [
    "def plot_results(outs):\n",
    "    costs = np.array(outs)\n",
    "    print('mean:', np.mean(costs))\n",
    "    print('median:', np.median(costs))\n",
    "    print('variance:',np.var(costs))\n",
    "    print('min:', np.min(costs))\n",
    "    sns.distplot(costs);"
   ]
  },
  {
   "cell_type": "markdown",
   "metadata": {},
   "source": [
    "Optimization with L-BFGS-B, only the parameters are scaled."
   ]
  },
  {
   "cell_type": "code",
   "execution_count": 21,
   "metadata": {},
   "outputs": [
    {
     "data": {
      "text/plain": [
       "      fun: 3.4374309936883081\n",
       " hess_inv: <31x31 LbfgsInvHessProduct with dtype=float64>\n",
       "      jac: array([ 0.        ,  0.        ,  0.        ,  0.        ,  0.        ,\n",
       "        0.        ,  0.        ,  0.        ,  0.        ,  0.        ,\n",
       "        0.        ,  0.        ,  0.        ,  0.        ,  0.        ,\n",
       "        0.        ,  0.        ,  0.        ,  0.        ,  0.        ,\n",
       "        0.        ,  0.        ,  0.        ,  0.        ,  0.02907274,\n",
       "        0.01038732, -0.00159615,  0.00022597,  0.00011176,  0.00011176,\n",
       "        0.00010491])\n",
       "  message: b'ABNORMAL_TERMINATION_IN_LNSRCH'\n",
       "     nfev: 1376\n",
       "      nit: 2\n",
       "   status: 2\n",
       "  success: False\n",
       "        x: array([  8.69745526,   0.45859927,   3.64375865,   2.54033899,\n",
       "         7.65324414,   7.10188473,   8.92179568,   0.86938833,\n",
       "         4.2192182 ,   0.29758217,   2.18407142,   5.05313883,\n",
       "         1.81949598,   7.57311652,   6.76361285,   5.4507768 ,\n",
       "         2.22226166,   5.89694545,   9.64273767,   0.50160644,\n",
       "         9.59013348,   9.75143075,   8.53735303,   6.9646366 ,\n",
       "         9.77562711,   3.07650211,   0.72904228,   3.83801025,\n",
       "        10.        ,  10.        ,   8.79790806])"
      ]
     },
     "execution_count": 21,
     "metadata": {},
     "output_type": "execute_result"
    }
   ],
   "source": [
    "from scipy.optimize import minimize\n",
    "\n",
    "random.seed(42)\n",
    "\n",
    "minimize(cost_function_cma, [random.uniform(0, 10) for _ in bounds], method='L-BFGS-B', bounds=[(0, 10) for b in bounds], options={'eps': 1})"
   ]
  },
  {
   "cell_type": "markdown",
   "metadata": {},
   "source": [
    "Set up a simple base line. Classic CGP, simple ES, point mutation"
   ]
  },
  {
   "cell_type": "code",
   "execution_count": 4,
   "metadata": {},
   "outputs": [
    {
     "name": "stdout",
     "output_type": "stream",
     "text": [
      "0, "
     ]
    },
    {
     "name": "stderr",
     "output_type": "stream",
     "text": [
      "/home/jarino/anaconda3/lib/python3.6/site-packages/ipykernel_launcher.py:13: RuntimeWarning: divide by zero encountered in true_divide\n",
      "  del sys.path[0]\n",
      "/mnt/c/Users/jarinov-notas/dev/tengp/tengp/individual.py:164: RuntimeWarning: invalid value encountered in multiply\n",
      "  current_node.value = current_node.fun(*values)\n",
      "/home/jarino/anaconda3/lib/python3.6/site-packages/numpy/core/_methods.py:32: RuntimeWarning: invalid value encountered in reduce\n",
      "  return umr_sum(a, axis, dtype, out, keepdims)\n"
     ]
    },
    {
     "name": "stdout",
     "output_type": "stream",
     "text": [
      "1, 2, "
     ]
    },
    {
     "name": "stderr",
     "output_type": "stream",
     "text": [
      "/mnt/c/Users/jarinov-notas/dev/tengp/tengp/individual.py:164: RuntimeWarning: invalid value encountered in add\n",
      "  current_node.value = current_node.fun(*values)\n",
      "/mnt/c/Users/jarinov-notas/dev/tengp/tengp/individual.py:164: RuntimeWarning: invalid value encountered in subtract\n",
      "  current_node.value = current_node.fun(*values)\n"
     ]
    },
    {
     "name": "stdout",
     "output_type": "stream",
     "text": [
      "3, 4, 5, 6, "
     ]
    },
    {
     "name": "stderr",
     "output_type": "stream",
     "text": [
      "/home/jarino/anaconda3/lib/python3.6/site-packages/ipykernel_launcher.py:13: RuntimeWarning: invalid value encountered in true_divide\n",
      "  del sys.path[0]\n"
     ]
    },
    {
     "name": "stdout",
     "output_type": "stream",
     "text": [
      "7, 8, 9, 10, 11, 12, 13, 14, 15, 16, 17, 18, 19, 20, 21, 22, 23, 24, 25, 26, 27, 28, 29, 30, 31, 32, 33, 34, 35, 36, 37, 38, 39, 40, 41, 42, 43, 44, 45, 46, 47, 48, 49, 50, 51, 52, 53, 54, 55, 56, 57, 58, 59, 60, 61, 62, 63, 64, 65, 66, 67, 68, 69, 70, 71, 72, 73, 74, 75, 76, 77, 78, 79, 80, 81, 82, 83, 84, 85, 86, 87, 88, 89, 90, 91, 92, 93, 94, 95, 96, 97, 98, 99, "
     ]
    }
   ],
   "source": [
    "random.seed(42)\n",
    "simple_es_results = []\n",
    "for i in range(100):\n",
    "    print(i, end=', ')\n",
    "    out = tengp.simple_es(X, y, mean_squared_error, params, mutation='point')\n",
    "    simple_es_results.append(out)"
   ]
  },
  {
   "cell_type": "code",
   "execution_count": 5,
   "metadata": {},
   "outputs": [
    {
     "name": "stdout",
     "output_type": "stream",
     "text": [
      "mean: 0.0900826103325606\n",
      "median: 0.040966064449306165\n",
      "variance: 0.01896381681025809\n",
      "min: 4.1648235047373975e-33\n"
     ]
    },
    {
     "data": {
      "image/png": "[encoded data removed]",
      "text/plain": [
       "<matplotlib.figure.Figure at 0x7f26d4460668>"
      ]
     },
     "metadata": {},
     "output_type": "display_data"
    }
   ],
   "source": [
    "plot_results([x[0].fitness for x in simple_es_results])"
   ]
  },
  {
   "cell_type": "code",
   "execution_count": 12,
   "metadata": {},
   "outputs": [],
   "source": []
  },
  {
   "cell_type": "markdown",
   "metadata": {},
   "source": [
    "First of all, let's try a really dumb hillclimber. It just randomly picks a gene and randomly changes its value."
   ]
  },
  {
   "cell_type": "code",
   "execution_count": 6,
   "metadata": {},
   "outputs": [],
   "source": [
    "class Individual():\n",
    "    def __init__(self, genes):\n",
    "        self.genes = genes\n",
    "        self.fitness = None\n",
    "        \n",
    "    def __repr__(self):\n",
    "        return f'Ind: {self.fitness}'"
   ]
  },
  {
   "cell_type": "code",
   "execution_count": 7,
   "metadata": {},
   "outputs": [
    {
     "name": "stdout",
     "output_type": "stream",
     "text": [
      "0, "
     ]
    },
    {
     "ename": "AttributeError",
     "evalue": "'Individual' object has no attribute 'transform'",
     "output_type": "error",
     "traceback": [
      "\u001b[0;31m---------------------------------------------------------------------------\u001b[0m",
      "\u001b[0;31mAttributeError\u001b[0m                            Traceback (most recent call last)",
      "\u001b[0;32m<ipython-input-7-5072e056fe68>\u001b[0m in \u001b[0;36m<module>\u001b[0;34m()\u001b[0m\n\u001b[1;32m     11\u001b[0m     \u001b[0;31m# evaluated the first population\u001b[0m\u001b[0;34m\u001b[0m\u001b[0;34m\u001b[0m\u001b[0m\n\u001b[1;32m     12\u001b[0m     \u001b[0;32mfor\u001b[0m \u001b[0mindividual\u001b[0m \u001b[0;32min\u001b[0m \u001b[0mpopulation\u001b[0m\u001b[0;34m:\u001b[0m\u001b[0;34m\u001b[0m\u001b[0m\n\u001b[0;32m---> 13\u001b[0;31m         \u001b[0mindividual\u001b[0m\u001b[0;34m.\u001b[0m\u001b[0mfitness\u001b[0m \u001b[0;34m=\u001b[0m \u001b[0mcost_function\u001b[0m\u001b[0;34m(\u001b[0m\u001b[0mindividual\u001b[0m\u001b[0;34m)\u001b[0m\u001b[0;34m\u001b[0m\u001b[0m\n\u001b[0m\u001b[1;32m     14\u001b[0m \u001b[0;34m\u001b[0m\u001b[0m\n\u001b[1;32m     15\u001b[0m     \u001b[0;31m#print('first best individual', min(population, key=lambda x: x.fitness))\u001b[0m\u001b[0;34m\u001b[0m\u001b[0;34m\u001b[0m\u001b[0m\n",
      "\u001b[0;32m<ipython-input-2-35c4a982db89>\u001b[0m in \u001b[0;36mcost_function\u001b[0;34m(individual)\u001b[0m\n\u001b[1;32m     13\u001b[0m     \u001b[0;31m#individual = tengp.individual.NPIndividual(clip(rv_genes, bounds), bounds, rv_params)\u001b[0m\u001b[0;34m\u001b[0m\u001b[0;34m\u001b[0m\u001b[0m\n\u001b[1;32m     14\u001b[0m \u001b[0;34m\u001b[0m\u001b[0m\n\u001b[0;32m---> 15\u001b[0;31m     \u001b[0mpred\u001b[0m \u001b[0;34m=\u001b[0m \u001b[0mindividual\u001b[0m\u001b[0;34m.\u001b[0m\u001b[0mtransform\u001b[0m\u001b[0;34m(\u001b[0m\u001b[0mX\u001b[0m\u001b[0;34m)\u001b[0m\u001b[0;34m\u001b[0m\u001b[0m\n\u001b[0m\u001b[1;32m     16\u001b[0m \u001b[0;34m\u001b[0m\u001b[0m\n\u001b[1;32m     17\u001b[0m     \u001b[0;32mtry\u001b[0m\u001b[0;34m:\u001b[0m\u001b[0;34m\u001b[0m\u001b[0m\n",
      "\u001b[0;31mAttributeError\u001b[0m: 'Individual' object has no attribute 'transform'"
     ]
    }
   ],
   "source": [
    "random.seed(42)\n",
    "\n",
    "indices = list(range(len(bounds)))\n",
    "res = []\n",
    "\n",
    "for trial in range(100):\n",
    "    print(trial, end=', ')\n",
    "    \n",
    "    population = [Individual([random.uniform(0, b) for b in bounds]) for _ in range(5)]\n",
    "\n",
    "    # evaluated the first population\n",
    "    for individual in population:\n",
    "        individual.fitness = cost_function(individual)\n",
    "\n",
    "    #print('first best individual', min(population, key=lambda x: x.fitness))\n",
    "\n",
    "    n_evals = 0\n",
    "\n",
    "    while n_evals < 5000:\n",
    "        parent = min(population, key=lambda x: x.fitness)\n",
    "\n",
    "        population = []\n",
    "\n",
    "        # generate new population by randomly changing gene:\n",
    "        for _ in range(4):\n",
    "            index = random.choice(indices)\n",
    "\n",
    "            new_genes = parent.genes[:]\n",
    "\n",
    "            new_genes[index] = random.uniform(0, bounds[index])\n",
    "\n",
    "            individual = Individual(new_genes)\n",
    "            individual.fitness = cost_function(individual)\n",
    "            n_evals += 1\n",
    "\n",
    "            population.append(individual)\n",
    "\n",
    "        population += [parent]\n",
    "    res.append(sorted(population, key=lambda x: x.fitness)[0])"
   ]
  },
  {
   "cell_type": "code",
   "execution_count": 9,
   "metadata": {},
   "outputs": [
    {
     "name": "stdout",
     "output_type": "stream",
     "text": [
      "mean: 0.6263620600146471\n",
      "median: 1.0404619546218645\n",
      "variance: 0.17931410928262012\n",
      "min: 0.023546779977414223\n"
     ]
    },
    {
     "data": {
      "image/png": "[encoded data removed]",
      "text/plain": [
       "<matplotlib.figure.Figure at 0x7f130c589dd8>"
      ]
     },
     "metadata": {},
     "output_type": "display_data"
    }
   ],
   "source": [
    "plot_results([x.fitness for x in res])"
   ]
  },
  {
   "cell_type": "markdown",
   "metadata": {},
   "source": [
    "Since we are working in real-valued domain, we can use method like L-BFGS-B for fine tuning the results. Let's apply L-BFGS-B algorithm to final individuals of previous run and see, whether we can achieve improvement."
   ]
  },
  {
   "cell_type": "code",
   "execution_count": 10,
   "metadata": {},
   "outputs": [
    {
     "name": "stdout",
     "output_type": "stream",
     "text": [
      "0, 1, 2, 3, 4, 5, 6, 7, 8, 9, 10, 11, 12, 13, 14, 15, 16, 17, 18, 19, 20, 21, 22, 23, 24, 25, 26, 27, 28, 29, 30, 31, 32, 33, 34, 35, 36, 37, 38, 39, 40, 41, 42, 43, 44, 45, 46, 47, 48, 49, 50, 51, 52, 53, 54, 55, 56, 57, 58, 59, 60, 61, 62, 63, 64, 65, 66, 67, 68, 69, 70, 71, 72, 73, 74, 75, 76, "
     ]
    },
    {
     "name": "stderr",
     "output_type": "stream",
     "text": [
      "/home/jarino/anaconda3/lib/python3.6/site-packages/ipykernel_launcher.py:13: RuntimeWarning: divide by zero encountered in true_divide\n",
      "  del sys.path[0]\n"
     ]
    },
    {
     "name": "stdout",
     "output_type": "stream",
     "text": [
      "77, 78, 79, 80, 81, 82, 83, 84, 85, 86, 87, 88, 89, 90, 91, 92, 93, 94, 95, 96, 97, 98, 99, "
     ]
    }
   ],
   "source": [
    "from scipy.optimize import minimize\n",
    "\n",
    "opt_results = []\n",
    "for index, individual in enumerate(res):\n",
    "    print(index, end=', ')\n",
    "    opt_res = minimize(cost_function, individual.genes, method='L-BFGS-B', bounds=[(0, b) for b in bounds])#, options={'eps': 1})\n",
    "    opt_results.append(opt_res.fun)"
   ]
  },
  {
   "cell_type": "code",
   "execution_count": 11,
   "metadata": {},
   "outputs": [
    {
     "name": "stdout",
     "output_type": "stream",
     "text": [
      "mean: 0.6625615182034497\n",
      "median: 1.040461951472441\n",
      "variance: 0.21300912491435373\n",
      "min: 0.022010233340289852\n"
     ]
    },
    {
     "data": {
      "image/png": "[encoded data removed]",
      "text/plain": [
       "<matplotlib.figure.Figure at 0x7f130c50a4a8>"
      ]
     },
     "metadata": {},
     "output_type": "display_data"
    }
   ],
   "source": [
    "plot_results(opt_results)"
   ]
  },
  {
   "cell_type": "markdown",
   "metadata": {},
   "source": [
    "Slight improvement was achieved.However it is clear, that we get stuck in local optima quite frequently. Also, since minimum value of this run is actually higher, than minimum value of simple_es run, it seems that we are stuck at local optima here too.\n",
    "\n",
    "In order to prefer exploration, we need to add more perturbation to the search process. Few options there:\n",
    "\n",
    "- use variant of single mutation for RVCGP - this will increase the number of changed genes, therefore hopefully increase the exploration\n",
    "- add blend crossover to current fucking hillclimber heuristic"
   ]
  },
  {
   "cell_type": "markdown",
   "metadata": {},
   "source": [
    "## Blend crossover within dumb hillclimber"
   ]
  },
  {
   "cell_type": "code",
   "execution_count": 78,
   "metadata": {},
   "outputs": [
    {
     "name": "stdout",
     "output_type": "stream",
     "text": [
      "0, 1, 2, 3, 4, 5, 6, 7, 8, 9, 10, 11, 12, 13, 14, 15, 16, 17, 18, 19, 20, 21, 22, 23, 24, 25, 26, 27, 28, 29, 30, 31, 32, 33, 34, 35, 36, 37, 38, 39, 40, 41, 42, 43, 44, 45, 46, 47, 48, 49, 50, 51, 52, 53, 54, 55, 56, 57, 58, 59, 60, 61, 62, 63, 64, 65, 66, 67, 68, 69, 70, 71, 72, 73, 74, 75, 76, 77, 78, 79, 80, 81, 82, 83, 84, 85, 86, 87, 88, 89, 90, 91, 92, 93, 94, 95, 96, 97, 98, 99, "
     ]
    }
   ],
   "source": [
    "random.seed(42)\n",
    "\n",
    "Individual = rv_params.individual_class\n",
    "\n",
    "indices = list(range(len(bounds)))\n",
    "res = []\n",
    "\n",
    "for trial in range(100):\n",
    "    print(trial, end=', ')\n",
    "    \n",
    "    population = [Individual([random.uniform(0, b) for b in bounds], bounds, rv_params) for _ in range(20)]\n",
    "\n",
    "    # evaluated the first population\n",
    "    for individual in population:\n",
    "        individual.fitness = cost_function(individual)\n",
    "\n",
    "    #print('first best individual', min(population, key=lambda x: x.fitness))\n",
    "\n",
    "    n_evals = 0\n",
    "\n",
    "    while n_evals < 5000:\n",
    "        parent = min(population, key=lambda x: x.fitness)\n",
    "\n",
    "        new_population = []\n",
    "\n",
    "        # generate new population by means of crossover\n",
    "        for _ in range(10):\n",
    "            # tournament selection and blending\n",
    "            parent_a, parent_b = tools.selTournament(population, 2, 5)\n",
    "            a, b = tools.cxBlend(parent_a.genes[:], parent_b.genes[:], 1)\n",
    "            for genes in [a, b]:\n",
    "                if random.random() > 0.2:\n",
    "                    index = random.choice(indices)\n",
    "                    genes[index] = random.uniform(0, bounds[index])\n",
    "                    \n",
    "            child_a = Individual(clip(a, bounds), bounds, rv_params)\n",
    "            child_b = Individual(clip(b, bounds), bounds, rv_params)\n",
    "            for ind in [child_a, child_b]:\n",
    "                ind.fitness = cost_function(individual)\n",
    "                n_evals += 1\n",
    "                new_population += [child_a, child_b]\n",
    "\n",
    "        new_population += [parent]\n",
    "        population = new_population\n",
    "    res.append(sorted(population, key=lambda x: x.fitness)[0])"
   ]
  },
  {
   "cell_type": "code",
   "execution_count": 79,
   "metadata": {},
   "outputs": [
    {
     "name": "stdout",
     "output_type": "stream",
     "text": [
      "mean: 1.8420536903623685\n",
      "median: 1.9495804286633966\n",
      "variance: 0.18934613458834643\n",
      "min: 0.33131569387455995\n"
     ]
    },
    {
     "data": {
      "image/png": "[encoded data removed]",
      "text/plain": [
       "<matplotlib.figure.Figure at 0x7f130c01e400>"
      ]
     },
     "metadata": {},
     "output_type": "display_data"
    }
   ],
   "source": [
    "plot_results([x.fitness for x in res])"
   ]
  },
  {
   "cell_type": "code",
   "execution_count": 70,
   "metadata": {},
   "outputs": [
    {
     "name": "stdout",
     "output_type": "stream",
     "text": [
      "mean: 1.8614395842283462\n",
      "median: 1.8551453540824347\n",
      "variance: 0.1119554693384722\n",
      "min: 1.0598822309812563\n"
     ]
    },
    {
     "data": {
      "image/png": "[encoded data removed]",
      "text/plain": [
       "<matplotlib.figure.Figure at 0x7f130c0e15f8>"
      ]
     },
     "metadata": {},
     "output_type": "display_data"
    }
   ],
   "source": [
    "plot_results([x.fitness for x in res])"
   ]
  },
  {
   "cell_type": "code",
   "execution_count": 73,
   "metadata": {},
   "outputs": [
    {
     "name": "stdout",
     "output_type": "stream",
     "text": [
      "mean: 1.8144941426725207\n",
      "median: 1.8079117129550342\n",
      "variance: 0.10768616752438186\n",
      "min: 1.1232321422611318\n"
     ]
    },
    {
     "data": {
      "image/png": "[encoded data removed]",
      "text/plain": [
       "<matplotlib.figure.Figure at 0x7f130c3c5be0>"
      ]
     },
     "metadata": {},
     "output_type": "display_data"
    }
   ],
   "source": [
    "plot_results([x.fitness for x in res])"
   ]
  },
  {
   "cell_type": "code",
   "execution_count": 75,
   "metadata": {},
   "outputs": [
    {
     "name": "stdout",
     "output_type": "stream",
     "text": [
      "mean: 1.889244964613217\n",
      "median: 1.9919616489718273\n",
      "variance: 0.1365559784091294\n",
      "min: 0.8018762828078548\n"
     ]
    },
    {
     "data": {
      "image/png": "[encoded data removed]",
      "text/plain": [
       "<matplotlib.figure.Figure at 0x7f130bf66630>"
      ]
     },
     "metadata": {},
     "output_type": "display_data"
    }
   ],
   "source": [
    "plot_results([x.fitness for x in res])"
   ]
  },
  {
   "cell_type": "code",
   "execution_count": 77,
   "metadata": {},
   "outputs": [
    {
     "name": "stdout",
     "output_type": "stream",
     "text": [
      "mean: 1.8138053251976987\n",
      "median: 1.8067956165444325\n",
      "variance: 0.1502584257917639\n",
      "min: 1.0411720283538108\n"
     ]
    },
    {
     "data": {
      "image/png": "[encoded data removed]",
      "text/plain": [
       "<matplotlib.figure.Figure at 0x7f130c08bc18>"
      ]
     },
     "metadata": {},
     "output_type": "display_data"
    }
   ],
   "source": [
    "plot_results([x.fitness for x in res])"
   ]
  },
  {
   "cell_type": "code",
   "execution_count": 22,
   "metadata": {},
   "outputs": [],
   "source": [
    "from deap import tools"
   ]
  },
  {
   "cell_type": "code",
   "execution_count": 60,
   "metadata": {},
   "outputs": [],
   "source": [
    "population = [Individual([random.uniform(0, b) for b in bounds], bounds, rv_params) for _ in range(5)]\n",
    "\n",
    "# evaluated the first population\n",
    "for individual in population:\n",
    "    individual.fitness = cost_function(individual)"
   ]
  },
  {
   "cell_type": "code",
   "execution_count": 61,
   "metadata": {},
   "outputs": [
    {
     "name": "stdout",
     "output_type": "stream",
     "text": [
      "Program, f:4.873612866736562 Program, f:3.4998468170044914\n"
     ]
    }
   ],
   "source": [
    "parent_a, parent_b = tools.selTournament(population, 2, 5)\n",
    "print(parent_a, parent_b)"
   ]
  },
  {
   "cell_type": "code",
   "execution_count": 62,
   "metadata": {},
   "outputs": [
    {
     "name": "stdout",
     "output_type": "stream",
     "text": [
      "Program, f:4.873612866736562 Program, f:4.873612866736562\n"
     ]
    }
   ],
   "source": [
    "a, b = tools.cxBlend(parent_a.genes[:], parent_b.genes[:], 1)\n",
    "child_a = Individual(clip(a, bounds), bounds, rv_params)\n",
    "child_b = Individual(clip(b, bounds), bounds, rv_params)\n",
    "for ind in [child_a, child_b]:\n",
    "    ind.fitness = cost_function(individual)\n",
    "print(child_a, child_b)"
   ]
  },
  {
   "cell_type": "code",
   "execution_count": 39,
   "metadata": {},
   "outputs": [
    {
     "data": {
      "text/plain": [
       "[Program, f:4.861871666706664, Program, f:4.861871666706664]"
      ]
     },
     "execution_count": 39,
     "metadata": {},
     "output_type": "execute_result"
    }
   ],
   "source": []
  },
  {
   "cell_type": "markdown",
   "metadata": {},
   "source": [
    "Hyperparameters"
   ]
  },
  {
   "cell_type": "code",
   "execution_count": 34,
   "metadata": {},
   "outputs": [],
   "source": [
    "POPULATION_SIZE = 50"
   ]
  },
  {
   "cell_type": "markdown",
   "metadata": {},
   "source": [
    "Create the initial population and evaluate it"
   ]
  },
  {
   "cell_type": "code",
   "execution_count": 164,
   "metadata": {},
   "outputs": [],
   "source": [
    "from array import array\n",
    "from deap import creator, base, tools, cma, algorithms\n",
    "\n",
    "creator.create('FitnessMin', base.Fitness, weights=(-1.0,))\n",
    "creator.create('Individual', array, typecode='f', fitness=creator.FitnessMin)"
   ]
  },
  {
   "cell_type": "code",
   "execution_count": 178,
   "metadata": {},
   "outputs": [
    {
     "data": {
      "text/plain": [
       "(1.0404619516475269,)"
      ]
     },
     "execution_count": 178,
     "metadata": {},
     "output_type": "execute_result"
    }
   ],
   "source": [
    "cost_function_cma(hof[0])"
   ]
  },
  {
   "cell_type": "code",
   "execution_count": null,
   "metadata": {
    "collapsed": true
   },
   "outputs": [],
   "source": []
  }
 ],
 "metadata": {
  "kernelspec": {
   "display_name": "Python 3",
   "language": "python",
   "name": "python3"
  },
  "language_info": {
   "codemirror_mode": {
    "name": "ipython",
    "version": 3
   },
   "file_extension": ".py",
   "mimetype": "text/x-python",
   "name": "python",
   "nbconvert_exporter": "python",
   "pygments_lexer": "ipython3",
   "version": "3.6.4"
  }
 },
 "nbformat": 4,
 "nbformat_minor": 2
}
