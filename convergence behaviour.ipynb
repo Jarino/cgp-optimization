{
 "cells": [
  {
   "cell_type": "markdown",
   "metadata": {},
   "source": [
    "# Analysis of RV-CGP behaviour\n",
    "\n",
    "Goal of this notebook is to analyze how many possible values the CMA-ES go through."
   ]
  },
  {
   "cell_type": "code",
   "execution_count": 42,
   "metadata": {},
   "outputs": [],
   "source": [
    "import seaborn as sns\n",
    "import matplotlib.pyplot as plt\n",
    "\n",
    "import tengp\n",
    "import numpy as np\n",
    "from gpbenchmarks import get_data\n",
    "from sklearn.metrics import mean_squared_error\n",
    "import random\n",
    "\n",
    "def pdivide(x, y):\n",
    "    return np.divide(x, y, out=np.copy(x), where=x!=0)\n",
    "\n",
    "def plog(x, _):\n",
    "    return np.log(x, out=np.copy(x), where=x>0)\n",
    "\n",
    "def psin(x, _):\n",
    "    return np.sin(x)\n",
    "\n",
    "def pcos(x, _):\n",
    "    return np.cos(x)\n",
    "\n",
    "def pow2(x):\n",
    "    return x**2\n",
    "\n",
    "def pow3(x):\n",
    "    return x**3\n",
    "\n",
    "\n",
    "funset = tengp.FunctionSet()\n",
    "funset.add(np.add, 2)\n",
    "funset.add(np.subtract, 2)\n",
    "funset.add(np.multiply, 2)\n",
    "funset.add(pdivide, 2)\n",
    "\n",
    "X, y = get_data('nguyenf4', 20, -1, 1)\n",
    "X = np.c_[np.ones(len(X)), X]\n",
    "\n",
    "params = tengp.Parameters(2, 1, 1, 10, funset, real_valued=True)\n",
    "\n",
    "builder = tengp.individual.IndividualBuilder(params)\n",
    "bounds = builder.create().bounds[:]\n",
    "individuals = []"
   ]
  },
  {
   "cell_type": "code",
   "execution_count": 16,
   "metadata": {},
   "outputs": [],
   "source": [
    "def cost_function_no_log(G):\n",
    "    #scaled = [linscale(x, 0, b) for x, b in zip(G, bounds)]\n",
    "    clipped = []\n",
    "    for gene, bound in zip(G, bounds):\n",
    "        if gene < 0:\n",
    "            clipped.append(0)\n",
    "        elif gene > bound:\n",
    "            clipped.append(bound)\n",
    "        else:\n",
    "            clipped.append(gene)\n",
    "    individuals.append(clipped)    \n",
    "    individual = tengp.individual.NPIndividual(clipped, bounds, params)\n",
    "    pred = individual.transform(X)\n",
    "    \n",
    "    try:\n",
    "        out = mean_squared_error(pred, y)\n",
    "    except ValueError:\n",
    "        out = np.inf\n",
    "    return (out, )\n",
    "\n",
    "def cost_function(G):\n",
    "    #scaled = [linscale(x, 0, b) for x, b in zip(G, bounds)]\n",
    "    clipped = []\n",
    "    for gene, bound in zip(G, bounds):\n",
    "        if gene < 0:\n",
    "            clipped.append(0)\n",
    "        elif gene > bound:\n",
    "            clipped.append(bound)\n",
    "        else:\n",
    "            clipped.append(gene)\n",
    "    individuals.append(clipped)    \n",
    "    individual = tengp.individual.NPIndividual(clipped, bounds, params)\n",
    "    pred = individual.transform(X)\n",
    "    \n",
    "    try:\n",
    "        out = mean_squared_error(pred, y)\n",
    "    except ValueError:\n",
    "        out = np.inf\n",
    "    return (out, )"
   ]
  },
  {
   "cell_type": "code",
   "execution_count": 17,
   "metadata": {},
   "outputs": [
    {
     "name": "stderr",
     "output_type": "stream",
     "text": [
      "/home/jarino/anaconda3/lib/python3.6/site-packages/deap/creator.py:141: RuntimeWarning: A class named 'FitnessMin' has already been created and it will be overwritten. Consider deleting previous creation of that class or rename it.\n",
      "  RuntimeWarning)\n",
      "/home/jarino/anaconda3/lib/python3.6/site-packages/deap/creator.py:141: RuntimeWarning: A class named 'Individual' has already been created and it will be overwritten. Consider deleting previous creation of that class or rename it.\n",
      "  RuntimeWarning)\n"
     ]
    }
   ],
   "source": [
    "from array import array\n",
    "from deap import creator, base, tools, cma, algorithms\n",
    "\n",
    "sigma = 0.05\n",
    "\n",
    "creator.create('FitnessMin', base.Fitness, weights=(-1.0,))\n",
    "creator.create('Individual', array, typecode='f', fitness=creator.FitnessMin)\n",
    "\n",
    "def run_strategy(sigma):\n",
    "    global individuals\n",
    "    individuals = []\n",
    "    \n",
    "    strategy = cma.Strategy(centroid=[np.random.uniform(0, b) for b in bounds], sigma=sigma)\n",
    "\n",
    "    toolbox = base.Toolbox()\n",
    "    toolbox.register('evaluate', cost_function)\n",
    "    toolbox.register(\"generate\", strategy.generate, creator.Individual)\n",
    "    toolbox.register(\"update\", strategy.update)\n",
    "    hof = tools.HallOfFame(1)\n",
    "    stats = tools.Statistics(lambda ind: ind.fitness.values)\n",
    "    stats.register(\"avg\", np.mean)\n",
    "    stats.register(\"min\", np.min)\n",
    "\n",
    "    pop, log = algorithms.eaGenerateUpdate(toolbox, ngen=250, stats=stats, halloffame=hof, verbose=False)\n",
    "    \n",
    "    \n",
    "    \n",
    "    return hof[0], individuals"
   ]
  },
  {
   "cell_type": "markdown",
   "metadata": {},
   "source": [
    "# Sigma 0.05"
   ]
  },
  {
   "cell_type": "code",
   "execution_count": 23,
   "metadata": {},
   "outputs": [],
   "source": [
    "best, all_individuals = run_strategy(0.05)"
   ]
  },
  {
   "cell_type": "code",
   "execution_count": 24,
   "metadata": {},
   "outputs": [
    {
     "name": "stdout",
     "output_type": "stream",
     "text": [
      "bounds min max diff\n",
      "[[ 3.  0.  2.  2.]\n",
      " [ 1.  0.  1.  1.]\n",
      " [ 1.  0.  1.  1.]\n",
      " [ 3.  1.  3.  2.]\n",
      " [ 2.  0.  1.  1.]\n",
      " [ 2.  0.  1.  1.]\n",
      " [ 3.  1.  3.  2.]\n",
      " [ 3.  1.  3.  2.]\n",
      " [ 3.  1.  3.  2.]\n",
      " [ 3.  2.  3.  1.]\n",
      " [ 4.  0.  2.  2.]\n",
      " [ 4.  2.  4.  2.]\n",
      " [ 3.  0.  3.  3.]\n",
      " [ 5.  2.  4.  2.]\n",
      " [ 5.  4.  5.  1.]\n",
      " [ 3.  0.  1.  1.]\n",
      " [ 6.  2.  5.  3.]\n",
      " [ 6.  2.  5.  3.]\n",
      " [ 3.  0.  2.  2.]\n",
      " [ 7.  4.  7.  3.]\n",
      " [ 7.  0.  3.  3.]\n",
      " [ 3.  0.  1.  1.]\n",
      " [ 8.  2.  4.  2.]\n",
      " [ 8.  4.  6.  2.]\n",
      " [ 3.  1.  3.  2.]\n",
      " [ 9.  3.  5.  2.]\n",
      " [ 9.  0.  2.  2.]\n",
      " [ 3.  0.  1.  1.]\n",
      " [10.  0.  3.  3.]\n",
      " [10.  8. 10.  2.]\n",
      " [11.  5.  8.  3.]]\n",
      "average range searched 1.935483870967742, sigma=0.05\n"
     ]
    }
   ],
   "source": [
    "all_individuals = np.array(all_individuals)\n",
    "print('bounds min max diff')\n",
    "mins = np.floor(all_individuals.min(axis=0))\n",
    "maxs = np.ceil(all_individuals.max(axis=0))\n",
    "print(np.c_[np.array(bounds), mins, maxs, maxs - mins])\n",
    "print(f'average range searched {np.mean(maxs - mins)}, sigma={sigma}')"
   ]
  },
  {
   "cell_type": "code",
   "execution_count": 46,
   "metadata": {},
   "outputs": [
    {
     "name": "stdout",
     "output_type": "stream",
     "text": [
      "0 1 "
     ]
    },
    {
     "name": "stderr",
     "output_type": "stream",
     "text": [
      "/home/jarino/anaconda3/lib/python3.6/site-packages/ipykernel_launcher.py:11: RuntimeWarning: divide by zero encountered in true_divide\n",
      "  # This is added back by InteractiveShellApp.init_path()\n",
      "/mnt/c/Users/jarinov-notas/dev/tengp/tengp/individual.py:148: RuntimeWarning: invalid value encountered in add\n",
      "  current_node.value = lower_function + upper_function\n",
      "/home/jarino/anaconda3/lib/python3.6/site-packages/ipykernel_launcher.py:11: RuntimeWarning: invalid value encountered in true_divide\n",
      "  # This is added back by InteractiveShellApp.init_path()\n",
      "/mnt/c/Users/jarinov-notas/dev/tengp/tengp/individual.py:146: RuntimeWarning: invalid value encountered in multiply\n",
      "  upper_function = a*( fun_upper((1-c) * self.nodes[c_lower].value, c * self.nodes[c_upper].value))\n",
      "/mnt/c/Users/jarinov-notas/dev/tengp/tengp/individual.py:144: RuntimeWarning: invalid value encountered in subtract\n",
      "  lower_function = (1-a)*( fun_lower((1-b) * self.nodes[b_lower].value, b*self.nodes[b_upper].value))\n"
     ]
    },
    {
     "name": "stdout",
     "output_type": "stream",
     "text": [
      "2 3 "
     ]
    },
    {
     "name": "stderr",
     "output_type": "stream",
     "text": [
      "/home/jarino/anaconda3/lib/python3.6/site-packages/numpy/core/_methods.py:32: RuntimeWarning: invalid value encountered in reduce\n",
      "  return umr_sum(a, axis, dtype, out, keepdims)\n"
     ]
    },
    {
     "name": "stdout",
     "output_type": "stream",
     "text": [
      "4 5 6 7 8 9 "
     ]
    }
   ],
   "source": [
    "res = []\n",
    "for _ in range(10):\n",
    "    print(_, end=' ')\n",
    "    best, _ = run_strategy(0.05)\n",
    "    res.append(cost_function_no_log(best))"
   ]
  },
  {
   "cell_type": "code",
   "execution_count": 47,
   "metadata": {},
   "outputs": [
    {
     "name": "stdout",
     "output_type": "stream",
     "text": [
      "1.1505771008376697 0.9598153214425751 0.5281686650678531\n"
     ]
    },
    {
     "data": {
      "text/plain": [
       "(0, 3)"
      ]
     },
     "execution_count": 47,
     "metadata": {},
     "output_type": "execute_result"
    },
    {
     "data": {
      "image/png": "[encoded data removed]",
      "text/plain": [
       "<matplotlib.figure.Figure at 0x7fdf7e939668>"
      ]
     },
     "metadata": {},
     "output_type": "display_data"
    }
   ],
   "source": [
    "_, ax = plt.subplots()\n",
    "print(np.mean(res), np.median(res), np.var(res))\n",
    "sns.distplot(res, ax=ax);\n",
    "ax.set_xlim(0, 3)"
   ]
  },
  {
   "cell_type": "markdown",
   "metadata": {},
   "source": [
    "## Sigma 0.5"
   ]
  },
  {
   "cell_type": "code",
   "execution_count": 32,
   "metadata": {},
   "outputs": [
    {
     "name": "stderr",
     "output_type": "stream",
     "text": [
      "/home/jarino/anaconda3/lib/python3.6/site-packages/ipykernel_launcher.py:10: RuntimeWarning: divide by zero encountered in true_divide\n",
      "  # Remove the CWD from sys.path while we load stuff.\n",
      "/mnt/c/Users/jarinov-notas/dev/tengp/tengp/individual.py:144: RuntimeWarning: invalid value encountered in multiply\n",
      "  lower_function = (1-a)*( fun_lower((1-b) * self.nodes[b_lower].value, b*self.nodes[b_upper].value))\n",
      "/mnt/c/Users/jarinov-notas/dev/tengp/tengp/individual.py:148: RuntimeWarning: invalid value encountered in add\n",
      "  current_node.value = lower_function + upper_function\n",
      "/mnt/c/Users/jarinov-notas/dev/tengp/tengp/individual.py:146: RuntimeWarning: invalid value encountered in multiply\n",
      "  upper_function = a*( fun_upper((1-c) * self.nodes[c_lower].value, c * self.nodes[c_upper].value))\n",
      "/mnt/c/Users/jarinov-notas/dev/tengp/tengp/individual.py:146: RuntimeWarning: invalid value encountered in subtract\n",
      "  upper_function = a*( fun_upper((1-c) * self.nodes[c_lower].value, c * self.nodes[c_upper].value))\n",
      "/home/jarino/anaconda3/lib/python3.6/site-packages/numpy/core/_methods.py:32: RuntimeWarning: invalid value encountered in reduce\n",
      "  return umr_sum(a, axis, dtype, out, keepdims)\n",
      "/mnt/c/Users/jarinov-notas/dev/tengp/tengp/individual.py:144: RuntimeWarning: invalid value encountered in add\n",
      "  lower_function = (1-a)*( fun_lower((1-b) * self.nodes[b_lower].value, b*self.nodes[b_upper].value))\n",
      "/mnt/c/Users/jarinov-notas/dev/tengp/tengp/individual.py:144: RuntimeWarning: invalid value encountered in subtract\n",
      "  lower_function = (1-a)*( fun_lower((1-b) * self.nodes[b_lower].value, b*self.nodes[b_upper].value))\n"
     ]
    }
   ],
   "source": [
    "best, all_individuals = run_strategy(0.5)"
   ]
  },
  {
   "cell_type": "code",
   "execution_count": 34,
   "metadata": {},
   "outputs": [
    {
     "name": "stdout",
     "output_type": "stream",
     "text": [
      "bounds min max diff\n",
      "[[ 3.  0.  3.  3.]\n",
      " [ 1.  0.  1.  1.]\n",
      " [ 1.  0.  1.  1.]\n",
      " [ 3.  0.  3.  3.]\n",
      " [ 2.  0.  2.  2.]\n",
      " [ 2.  0.  2.  2.]\n",
      " [ 3.  0.  3.  3.]\n",
      " [ 3.  0.  3.  3.]\n",
      " [ 3.  0.  3.  3.]\n",
      " [ 3.  0.  3.  3.]\n",
      " [ 4.  0.  4.  4.]\n",
      " [ 4.  0.  3.  3.]\n",
      " [ 3.  0.  3.  3.]\n",
      " [ 5.  2.  5.  3.]\n",
      " [ 5.  0.  5.  5.]\n",
      " [ 3.  0.  3.  3.]\n",
      " [ 6.  0.  5.  5.]\n",
      " [ 6.  1.  4.  3.]\n",
      " [ 3.  0.  3.  3.]\n",
      " [ 7.  5.  7.  2.]\n",
      " [ 7.  2.  6.  4.]\n",
      " [ 3.  0.  3.  3.]\n",
      " [ 8.  0.  3.  3.]\n",
      " [ 8.  4.  8.  4.]\n",
      " [ 3.  0.  3.  3.]\n",
      " [ 9.  0.  2.  2.]\n",
      " [ 9.  0.  4.  4.]\n",
      " [ 3.  0.  3.  3.]\n",
      " [10.  1.  6.  5.]\n",
      " [10.  7. 10.  3.]\n",
      " [11.  6. 10.  4.]]\n",
      "average range searched 3.096774193548387, sigma=0.5\n"
     ]
    }
   ],
   "source": [
    "all_individuals = np.array(all_individuals)\n",
    "print('bounds min max diff')\n",
    "mins = np.floor(all_individuals.min(axis=0))\n",
    "maxs = np.ceil(all_individuals.max(axis=0))\n",
    "print(np.c_[np.array(bounds), mins, maxs, maxs - mins])\n",
    "print(f'average range searched {np.mean(maxs - mins)}, sigma={0.5}')"
   ]
  },
  {
   "cell_type": "code",
   "execution_count": 48,
   "metadata": {},
   "outputs": [
    {
     "name": "stdout",
     "output_type": "stream",
     "text": [
      "0 "
     ]
    },
    {
     "name": "stderr",
     "output_type": "stream",
     "text": [
      "/home/jarino/anaconda3/lib/python3.6/site-packages/ipykernel_launcher.py:11: RuntimeWarning: divide by zero encountered in true_divide\n",
      "  # This is added back by InteractiveShellApp.init_path()\n",
      "/home/jarino/anaconda3/lib/python3.6/site-packages/numpy/core/_methods.py:32: RuntimeWarning: invalid value encountered in reduce\n",
      "  return umr_sum(a, axis, dtype, out, keepdims)\n",
      "/mnt/c/Users/jarinov-notas/dev/tengp/tengp/individual.py:146: RuntimeWarning: invalid value encountered in multiply\n",
      "  upper_function = a*( fun_upper((1-c) * self.nodes[c_lower].value, c * self.nodes[c_upper].value))\n",
      "/mnt/c/Users/jarinov-notas/dev/tengp/tengp/individual.py:148: RuntimeWarning: invalid value encountered in add\n",
      "  current_node.value = lower_function + upper_function\n",
      "/mnt/c/Users/jarinov-notas/dev/tengp/tengp/individual.py:146: RuntimeWarning: invalid value encountered in subtract\n",
      "  upper_function = a*( fun_upper((1-c) * self.nodes[c_lower].value, c * self.nodes[c_upper].value))\n",
      "/home/jarino/anaconda3/lib/python3.6/site-packages/ipykernel_launcher.py:11: RuntimeWarning: invalid value encountered in true_divide\n",
      "  # This is added back by InteractiveShellApp.init_path()\n",
      "/mnt/c/Users/jarinov-notas/dev/tengp/tengp/individual.py:144: RuntimeWarning: invalid value encountered in multiply\n",
      "  lower_function = (1-a)*( fun_lower((1-b) * self.nodes[b_lower].value, b*self.nodes[b_upper].value))\n",
      "/mnt/c/Users/jarinov-notas/dev/tengp/tengp/individual.py:118: RuntimeWarning: invalid value encountered in add\n",
      "  value = (1-coeff)*self.nodes[lower].value + coeff*self.nodes[upper].value\n",
      "/mnt/c/Users/jarinov-notas/dev/tengp/tengp/individual.py:144: RuntimeWarning: invalid value encountered in add\n",
      "  lower_function = (1-a)*( fun_lower((1-b) * self.nodes[b_lower].value, b*self.nodes[b_upper].value))\n",
      "/mnt/c/Users/jarinov-notas/dev/tengp/tengp/individual.py:144: RuntimeWarning: invalid value encountered in subtract\n",
      "  lower_function = (1-a)*( fun_lower((1-b) * self.nodes[b_lower].value, b*self.nodes[b_upper].value))\n"
     ]
    },
    {
     "name": "stdout",
     "output_type": "stream",
     "text": [
      "1 2 3 4 "
     ]
    },
    {
     "name": "stderr",
     "output_type": "stream",
     "text": [
      "/mnt/c/Users/jarinov-notas/dev/tengp/tengp/individual.py:146: RuntimeWarning: invalid value encountered in add\n",
      "  upper_function = a*( fun_upper((1-c) * self.nodes[c_lower].value, c * self.nodes[c_upper].value))\n"
     ]
    },
    {
     "name": "stdout",
     "output_type": "stream",
     "text": [
      "5 6 7 8 9 "
     ]
    }
   ],
   "source": [
    "res = []\n",
    "for _ in range(10):\n",
    "    print(_, end=' ')\n",
    "    best, _ = run_strategy(0.5)\n",
    "    res.append(cost_function_no_log(best))"
   ]
  },
  {
   "cell_type": "code",
   "execution_count": 49,
   "metadata": {},
   "outputs": [
    {
     "name": "stdout",
     "output_type": "stream",
     "text": [
      "1.2481127082790635 1.0405865666193015 0.5574951462324835\n"
     ]
    },
    {
     "data": {
      "text/plain": [
       "(0, 3)"
      ]
     },
     "execution_count": 49,
     "metadata": {},
     "output_type": "execute_result"
    },
    {
     "data": {
      "image/png": "[encoded data removed]",
      "text/plain": [
       "<matplotlib.figure.Figure at 0x7fdf8afe89b0>"
      ]
     },
     "metadata": {},
     "output_type": "display_data"
    }
   ],
   "source": [
    "_, ax = plt.subplots()\n",
    "print(np.mean(res), np.median(res), np.var(res))\n",
    "sns.distplot(res, ax=ax);\n",
    "ax.set_xlim(0, 3)"
   ]
  },
  {
   "cell_type": "markdown",
   "metadata": {},
   "source": [
    "## Sigma 1"
   ]
  },
  {
   "cell_type": "code",
   "execution_count": 50,
   "metadata": {},
   "outputs": [
    {
     "name": "stderr",
     "output_type": "stream",
     "text": [
      "/home/jarino/anaconda3/lib/python3.6/site-packages/ipykernel_launcher.py:11: RuntimeWarning: divide by zero encountered in true_divide\n",
      "  # This is added back by InteractiveShellApp.init_path()\n",
      "/mnt/c/Users/jarinov-notas/dev/tengp/tengp/individual.py:146: RuntimeWarning: invalid value encountered in multiply\n",
      "  upper_function = a*( fun_upper((1-c) * self.nodes[c_lower].value, c * self.nodes[c_upper].value))\n",
      "/home/jarino/anaconda3/lib/python3.6/site-packages/numpy/core/_methods.py:32: RuntimeWarning: invalid value encountered in reduce\n",
      "  return umr_sum(a, axis, dtype, out, keepdims)\n",
      "/mnt/c/Users/jarinov-notas/dev/tengp/tengp/individual.py:118: RuntimeWarning: invalid value encountered in add\n",
      "  value = (1-coeff)*self.nodes[lower].value + coeff*self.nodes[upper].value\n"
     ]
    }
   ],
   "source": [
    "best, all_individuals = run_strategy(1)"
   ]
  },
  {
   "cell_type": "code",
   "execution_count": 52,
   "metadata": {},
   "outputs": [
    {
     "name": "stdout",
     "output_type": "stream",
     "text": [
      "bounds min max diff\n",
      "[[ 3.  0.  3.  3.]\n",
      " [ 1.  0.  1.  1.]\n",
      " [ 1.  0.  1.  1.]\n",
      " [ 3.  0.  3.  3.]\n",
      " [ 2.  0.  2.  2.]\n",
      " [ 2.  0.  2.  2.]\n",
      " [ 3.  0.  3.  3.]\n",
      " [ 3.  0.  3.  3.]\n",
      " [ 3.  0.  3.  3.]\n",
      " [ 3.  0.  3.  3.]\n",
      " [ 4.  0.  4.  4.]\n",
      " [ 4.  0.  4.  4.]\n",
      " [ 3.  0.  3.  3.]\n",
      " [ 5.  0.  5.  5.]\n",
      " [ 5.  0.  5.  5.]\n",
      " [ 3.  0.  3.  3.]\n",
      " [ 6.  0.  6.  6.]\n",
      " [ 6.  0.  6.  6.]\n",
      " [ 3.  0.  3.  3.]\n",
      " [ 7.  0.  7.  7.]\n",
      " [ 7.  0.  7.  7.]\n",
      " [ 3.  0.  3.  3.]\n",
      " [ 8.  0.  8.  8.]\n",
      " [ 8.  0.  2.  2.]\n",
      " [ 3.  0.  3.  3.]\n",
      " [ 9.  0.  9.  9.]\n",
      " [ 9.  0.  9.  9.]\n",
      " [ 3.  0.  3.  3.]\n",
      " [10.  2. 10.  8.]\n",
      " [10.  6. 10.  4.]\n",
      " [11.  0.  6.  6.]]\n",
      "average range searched 4.258064516129032, sigma=1\n"
     ]
    }
   ],
   "source": [
    "all_individuals = np.array(all_individuals)\n",
    "print('bounds min max diff')\n",
    "mins = np.floor(all_individuals.min(axis=0))\n",
    "maxs = np.ceil(all_individuals.max(axis=0))\n",
    "print(np.c_[np.array(bounds), mins, maxs, maxs - mins])\n",
    "print(f'average range searched {np.mean(maxs - mins)}, sigma={1}')"
   ]
  },
  {
   "cell_type": "code",
   "execution_count": 53,
   "metadata": {},
   "outputs": [
    {
     "name": "stdout",
     "output_type": "stream",
     "text": [
      "0 "
     ]
    },
    {
     "name": "stderr",
     "output_type": "stream",
     "text": [
      "/home/jarino/anaconda3/lib/python3.6/site-packages/ipykernel_launcher.py:11: RuntimeWarning: divide by zero encountered in true_divide\n",
      "  # This is added back by InteractiveShellApp.init_path()\n",
      "/home/jarino/anaconda3/lib/python3.6/site-packages/numpy/core/_methods.py:32: RuntimeWarning: invalid value encountered in reduce\n",
      "  return umr_sum(a, axis, dtype, out, keepdims)\n",
      "/mnt/c/Users/jarinov-notas/dev/tengp/tengp/individual.py:146: RuntimeWarning: invalid value encountered in multiply\n",
      "  upper_function = a*( fun_upper((1-c) * self.nodes[c_lower].value, c * self.nodes[c_upper].value))\n",
      "/mnt/c/Users/jarinov-notas/dev/tengp/tengp/individual.py:118: RuntimeWarning: invalid value encountered in add\n",
      "  value = (1-coeff)*self.nodes[lower].value + coeff*self.nodes[upper].value\n"
     ]
    },
    {
     "name": "stdout",
     "output_type": "stream",
     "text": [
      "1 "
     ]
    },
    {
     "name": "stderr",
     "output_type": "stream",
     "text": [
      "/mnt/c/Users/jarinov-notas/dev/tengp/tengp/individual.py:144: RuntimeWarning: invalid value encountered in multiply\n",
      "  lower_function = (1-a)*( fun_lower((1-b) * self.nodes[b_lower].value, b*self.nodes[b_upper].value))\n"
     ]
    },
    {
     "name": "stdout",
     "output_type": "stream",
     "text": [
      "2 "
     ]
    },
    {
     "name": "stderr",
     "output_type": "stream",
     "text": [
      "/mnt/c/Users/jarinov-notas/dev/tengp/tengp/individual.py:144: RuntimeWarning: invalid value encountered in add\n",
      "  lower_function = (1-a)*( fun_lower((1-b) * self.nodes[b_lower].value, b*self.nodes[b_upper].value))\n",
      "/mnt/c/Users/jarinov-notas/dev/tengp/tengp/individual.py:146: RuntimeWarning: invalid value encountered in subtract\n",
      "  upper_function = a*( fun_upper((1-c) * self.nodes[c_lower].value, c * self.nodes[c_upper].value))\n",
      "/mnt/c/Users/jarinov-notas/dev/tengp/tengp/individual.py:148: RuntimeWarning: invalid value encountered in add\n",
      "  current_node.value = lower_function + upper_function\n",
      "/mnt/c/Users/jarinov-notas/dev/tengp/tengp/individual.py:144: RuntimeWarning: invalid value encountered in subtract\n",
      "  lower_function = (1-a)*( fun_lower((1-b) * self.nodes[b_lower].value, b*self.nodes[b_upper].value))\n",
      "/home/jarino/anaconda3/lib/python3.6/site-packages/ipykernel_launcher.py:11: RuntimeWarning: invalid value encountered in true_divide\n",
      "  # This is added back by InteractiveShellApp.init_path()\n"
     ]
    },
    {
     "name": "stdout",
     "output_type": "stream",
     "text": [
      "3 4 "
     ]
    },
    {
     "name": "stderr",
     "output_type": "stream",
     "text": [
      "/mnt/c/Users/jarinov-notas/dev/tengp/tengp/individual.py:146: RuntimeWarning: invalid value encountered in add\n",
      "  upper_function = a*( fun_upper((1-c) * self.nodes[c_lower].value, c * self.nodes[c_upper].value))\n"
     ]
    },
    {
     "name": "stdout",
     "output_type": "stream",
     "text": [
      "5 6 7 8 9 "
     ]
    }
   ],
   "source": [
    "res = []\n",
    "for _ in range(10):\n",
    "    print(_, end=' ')\n",
    "    best, _ = run_strategy(1)\n",
    "    res.append(cost_function_no_log(best))"
   ]
  },
  {
   "cell_type": "code",
   "execution_count": 54,
   "metadata": {},
   "outputs": [
    {
     "name": "stdout",
     "output_type": "stream",
     "text": [
      "1.2948754227895074 1.154359922423921 0.2006137985645895\n"
     ]
    },
    {
     "data": {
      "text/plain": [
       "(0, 3)"
      ]
     },
     "execution_count": 54,
     "metadata": {},
     "output_type": "execute_result"
    },
    {
     "data": {
      "image/png": "[encoded data removed]",
      "text/plain": [
       "<matplotlib.figure.Figure at 0x7fdf94744e10>"
      ]
     },
     "metadata": {},
     "output_type": "display_data"
    }
   ],
   "source": [
    "_, ax = plt.subplots()\n",
    "print(np.mean(res), np.median(res), np.var(res))\n",
    "sns.distplot(res, ax=ax);\n",
    "ax.set_xlim(0, 3)"
   ]
  },
  {
   "cell_type": "markdown",
   "metadata": {},
   "source": [
    "# Sigma 0.01"
   ]
  },
  {
   "cell_type": "code",
   "execution_count": 60,
   "metadata": {},
   "outputs": [
    {
     "name": "stderr",
     "output_type": "stream",
     "text": [
      "/home/jarino/anaconda3/lib/python3.6/site-packages/ipykernel_launcher.py:11: RuntimeWarning: divide by zero encountered in true_divide\n",
      "  # This is added back by InteractiveShellApp.init_path()\n",
      "/mnt/c/Users/jarinov-notas/dev/tengp/tengp/individual.py:148: RuntimeWarning: invalid value encountered in add\n",
      "  current_node.value = lower_function + upper_function\n"
     ]
    }
   ],
   "source": [
    "best, all_individuals = run_strategy(0.01)"
   ]
  },
  {
   "cell_type": "code",
   "execution_count": 61,
   "metadata": {},
   "outputs": [
    {
     "name": "stdout",
     "output_type": "stream",
     "text": [
      "bounds min max diff\n",
      "[[ 3.  1.  3.  2.]\n",
      " [ 1.  0.  1.  1.]\n",
      " [ 1.  0.  1.  1.]\n",
      " [ 3.  0.  1.  1.]\n",
      " [ 2.  0.  2.  2.]\n",
      " [ 2.  1.  2.  1.]\n",
      " [ 3.  2.  3.  1.]\n",
      " [ 3.  1.  3.  2.]\n",
      " [ 3.  1.  3.  2.]\n",
      " [ 3.  0.  1.  1.]\n",
      " [ 4.  1.  2.  1.]\n",
      " [ 4.  0.  1.  1.]\n",
      " [ 3.  1.  2.  1.]\n",
      " [ 5.  2.  3.  1.]\n",
      " [ 5.  1.  2.  1.]\n",
      " [ 3.  2.  3.  1.]\n",
      " [ 6.  3.  5.  2.]\n",
      " [ 6.  2.  4.  2.]\n",
      " [ 3.  0.  1.  1.]\n",
      " [ 7.  1.  3.  2.]\n",
      " [ 7.  3.  5.  2.]\n",
      " [ 3.  0.  1.  1.]\n",
      " [ 8.  6.  8.  2.]\n",
      " [ 8.  4.  6.  2.]\n",
      " [ 3.  0.  2.  2.]\n",
      " [ 9.  2.  4.  2.]\n",
      " [ 9.  5.  6.  1.]\n",
      " [ 3.  2.  3.  1.]\n",
      " [10.  6.  8.  2.]\n",
      " [10.  6.  8.  2.]\n",
      " [11.  4.  5.  1.]]\n",
      "average range searched 1.4516129032258065, sigma=0.01\n"
     ]
    }
   ],
   "source": [
    "all_individuals = np.array(all_individuals)\n",
    "print('bounds min max diff')\n",
    "mins = np.floor(all_individuals.min(axis=0))\n",
    "maxs = np.ceil(all_individuals.max(axis=0))\n",
    "print(np.c_[np.array(bounds), mins, maxs, maxs - mins])\n",
    "print(f'average range searched {np.mean(maxs - mins)}, sigma={0.01}')"
   ]
  },
  {
   "cell_type": "code",
   "execution_count": 62,
   "metadata": {},
   "outputs": [
    {
     "name": "stdout",
     "output_type": "stream",
     "text": [
      "0 1 2 3 4 "
     ]
    },
    {
     "name": "stderr",
     "output_type": "stream",
     "text": [
      "/home/jarino/anaconda3/lib/python3.6/site-packages/ipykernel_launcher.py:11: RuntimeWarning: divide by zero encountered in true_divide\n",
      "  # This is added back by InteractiveShellApp.init_path()\n",
      "/mnt/c/Users/jarinov-notas/dev/tengp/tengp/individual.py:148: RuntimeWarning: invalid value encountered in add\n",
      "  current_node.value = lower_function + upper_function\n",
      "/mnt/c/Users/jarinov-notas/dev/tengp/tengp/individual.py:146: RuntimeWarning: invalid value encountered in multiply\n",
      "  upper_function = a*( fun_upper((1-c) * self.nodes[c_lower].value, c * self.nodes[c_upper].value))\n",
      "/mnt/c/Users/jarinov-notas/dev/tengp/tengp/individual.py:144: RuntimeWarning: invalid value encountered in add\n",
      "  lower_function = (1-a)*( fun_lower((1-b) * self.nodes[b_lower].value, b*self.nodes[b_upper].value))\n"
     ]
    },
    {
     "name": "stdout",
     "output_type": "stream",
     "text": [
      "5 6 7 "
     ]
    },
    {
     "name": "stderr",
     "output_type": "stream",
     "text": [
      "/home/jarino/anaconda3/lib/python3.6/site-packages/ipykernel_launcher.py:11: RuntimeWarning: invalid value encountered in true_divide\n",
      "  # This is added back by InteractiveShellApp.init_path()\n"
     ]
    },
    {
     "name": "stdout",
     "output_type": "stream",
     "text": [
      "8 9 "
     ]
    },
    {
     "name": "stderr",
     "output_type": "stream",
     "text": [
      "/mnt/c/Users/jarinov-notas/dev/tengp/tengp/individual.py:118: RuntimeWarning: invalid value encountered in add\n",
      "  value = (1-coeff)*self.nodes[lower].value + coeff*self.nodes[upper].value\n"
     ]
    }
   ],
   "source": [
    "res = []\n",
    "for _ in range(10):\n",
    "    print(_, end=' ')\n",
    "    best, _ = run_strategy(0.01)\n",
    "    res.append(cost_function_no_log(best))"
   ]
  },
  {
   "cell_type": "code",
   "execution_count": 63,
   "metadata": {},
   "outputs": [
    {
     "name": "stdout",
     "output_type": "stream",
     "text": [
      "1.077233025314435 0.7348781031799674 0.9024412542695497\n"
     ]
    },
    {
     "data": {
      "text/plain": [
       "(0, 3)"
      ]
     },
     "execution_count": 63,
     "metadata": {},
     "output_type": "execute_result"
    },
    {
     "data": {
      "image/png": "[encoded data removed]",
      "text/plain": [
       "<matplotlib.figure.Figure at 0x7fdf7e591c50>"
      ]
     },
     "metadata": {},
     "output_type": "display_data"
    }
   ],
   "source": [
    "_, ax = plt.subplots()\n",
    "print(np.mean(res), np.median(res), np.var(res))\n",
    "sns.distplot(res, ax=ax);\n",
    "ax.set_xlim(0, 3)"
   ]
  },
  {
   "cell_type": "code",
   "execution_count": null,
   "metadata": {},
   "outputs": [],
   "source": []
  }
 ],
 "metadata": {
  "kernelspec": {
   "display_name": "Python 3",
   "language": "python",
   "name": "python3"
  },
  "language_info": {
   "codemirror_mode": {
    "name": "ipython",
    "version": 3
   },
   "file_extension": ".py",
   "mimetype": "text/x-python",
   "name": "python",
   "nbconvert_exporter": "python",
   "pygments_lexer": "ipython3",
   "version": "3.6.4"
  }
 },
 "nbformat": 4,
 "nbformat_minor": 2
}
