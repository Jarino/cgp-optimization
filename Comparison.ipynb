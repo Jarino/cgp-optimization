{
 "cells": [
  {
   "cell_type": "markdown",
   "metadata": {},
   "source": [
    "# Comparison of results"
   ]
  },
  {
   "cell_type": "code",
   "execution_count": null,
   "metadata": {},
   "outputs": [],
   "source": [
    "import pickle\n",
    "\n",
    "import seaborn as sns\n",
    "import matplotlib.pyplot as plt\n",
    "import matplotlib.patches as mpatches\n",
    "import numpy as np\n",
    "from scipy.stats import wilcoxon"
   ]
  },
  {
   "cell_type": "code",
   "execution_count": null,
   "metadata": {},
   "outputs": [],
   "source": [
    "def plot_fitness_evolution(ax, log):\n",
    "    blue_patch = mpatches.Patch(color='tab:blue', label='CGP')\n",
    "    orange_patch = mpatches.Patch(color='tab:orange', label='RV-CGP')\n",
    "    \n",
    "    cgp, pso = log\n",
    "    ax.plot(np.mean(cgp, axis=0), label='CGP')\n",
    "    \n",
    "    ax1 = ax.twiny()\n",
    "    \n",
    "    ax1.plot(np.mean(pso, axis=0), label='PSO-CGP', color='tab:orange')\n",
    "    ax1.set_yscale('log')\n",
    "    \n",
    "    ax.set_xlabel('Evaluations')\n",
    "    ax.legend(handles=[blue_patch, orange_patch])\n",
    "    \n",
    "    ax.set_xticks([], [])\n",
    "    ax1.set_xticks([], [])\n",
    "    ax.set_xticks([0, 20000], [])\n",
    "    ax.set_xticklabels(['0', '1e5'])\n",
    "    return ax1\n",
    "\n",
    "def get_final_fitnesses(logs):\n",
    "    output = []\n",
    "    for log in logs:\n",
    "        output.append([x[-1] for x in log])\n",
    "    return output\n",
    "\n",
    "def load_log(bench_name):\n",
    "    cgp = pickle.load(open(f'results/baseline_100_000_logs/{bench_name}_log', 'rb'))\n",
    "    pso = pickle.load(open(f'results/pso_default_20_logs/{bench_name}_log', 'rb'))\n",
    "    return cgp, pso\n",
    "\n",
    "def plot_histograms(data1, data2, **kw):\n",
    "    _, ax = plt.subplots(1, 1)\n",
    "    plot_to_axis(ax, data1, data2, **kw)\n",
    "    return ax\n",
    "\n",
    "def plot_to_axis(ax, data1, data2, **kw):\n",
    "    sns.distplot([x[-1] for x in data1], kde=False, label='CGP', ax=ax, **kw)\n",
    "    sns.distplot([x[-1] for x in data2], kde=False, label='PSO-CGP', ax=ax, **kw)\n",
    "    ax.set_xlabel('MSE')\n",
    "    ax.legend()"
   ]
  },
  {
   "cell_type": "markdown",
   "metadata": {},
   "source": [
    "# Distribution of best results"
   ]
  },
  {
   "cell_type": "code",
   "execution_count": null,
   "metadata": {
    "scrolled": false
   },
   "outputs": [],
   "source": [
    "fig, axes = plt.subplots(2,3, figsize=(10, 6));\n",
    "\n",
    "\n",
    "cgp, pso = get_final_fitnesses(load_log('ng4'))\n",
    "axes[0][0].set_title(f'Nguyen-4, p-value={wilcoxon(cgp, pso).pvalue:.2e}')\n",
    "plot_to_axis(axes[0][0], \n",
    "             cgp, \n",
    "             pso, bins=list(np.linspace(0, 0.05, 20)))\n",
    "\n",
    "\n",
    "cgp, pso = get_final_fitnesses(load_log('ng7'))\n",
    "axes[0][1].set_title(f'Nguyen-7, p-value={wilcoxon(cgp, pso).pvalue:.2e}')\n",
    "plot_to_axis(axes[0][1], \n",
    "             load_data('ng7', True), \n",
    "             load_data('ng7', False), bins=list(np.linspace(0, 0.005, 20)))\n",
    "\n",
    "cgp, pso = get_final_fitnesses(load_log('pag1'))\n",
    "axes[0][2].set_title(f'Pagie-1, p-value={wilcoxon(cgp, pso).pvalue:.2e}')\n",
    "plot_to_axis(axes[0][2], \n",
    "             load_data('pag1', True), \n",
    "             load_data('pag1', False), bins=list(np.linspace(0, 0.5, 20)))\n",
    "\n",
    "\n",
    "cgp, pso = get_final_fitnesses(load_log('kei6'))\n",
    "axes[1][0].set_title(f'Keijzer-6, p-value={wilcoxon(cgp, pso).pvalue:.2e}')\n",
    "plot_to_axis(axes[1][0], \n",
    "             load_data('kei6', True), \n",
    "             load_data('kei6', False), bins=list(np.linspace(0, 0.01, 20)))\n",
    "\n",
    "cgp, pso = get_final_fitnesses(load_log('korns12'))\n",
    "axes[1][1].set_title('Korns 12, p-value{wilcoxon(cgp, pso).pvalue:.2e}')\n",
    "plot_to_axis(axes[1][1], \n",
    "             load_data('korns12', True), \n",
    "             load_data('korns12', False), bins=list(np.linspace(1.10, 1.15, 50)))\n",
    "\n",
    "cgp, pso = get_final_fitnesses(load_log('vlad4'))\n",
    "axes[1][2].set_title(f'Vladislasleva-4, p-value={wilcoxon(cgp, pso).pvalue:.2e}')\n",
    "plot_to_axis(axes[1][2], \n",
    "             load_data('vlad4', True), \n",
    "             load_data('vlad4', False), bins=list(np.linspace(0, 0.05, 20)))\n",
    "\n",
    "for row in axes:\n",
    "    for cell in row:\n",
    "        cell.legend()\n",
    "\n",
    "plt.tight_layout()\n",
    "\n",
    "plt.savefig('distplots.pdf', format='pdf', dpi=1000)"
   ]
  },
  {
   "cell_type": "markdown",
   "metadata": {},
   "source": [
    "# Fitness evolution"
   ]
  },
  {
   "cell_type": "code",
   "execution_count": null,
   "metadata": {},
   "outputs": [],
   "source": [
    "fig, axes = plt.subplots(2,3, figsize=(10, 6));\n",
    "\n",
    "log = load_log('ng4')\n",
    "plot_fitness_evolution(axes[0][0], log)\n",
    "axes[0][0].set_title('Nguyen-4')\n",
    "\n",
    "log = load_log('ng7')\n",
    "plot_fitness_evolution(axes[0][1], log)\n",
    "axes[0][1].set_title('Nguyen-7')\n",
    "\n",
    "log = load_log('pag1')\n",
    "plot_fitness_evolution(axes[0][2], log)\n",
    "axes[0][2].set_title('Pagie-1')\n",
    "\n",
    "log = load_log('kei6')\n",
    "plot_fitness_evolution(axes[1][0], log)\n",
    "axes[1][0].set_title('Keijzer-6')\n",
    "\n",
    "log = load_log('korns12')\n",
    "plot_fitness_evolution(axes[1][1], log)\n",
    "axes[1][1].set_title('Korns-12')\n",
    "\n",
    "log = load_log('vlad4')\n",
    "plot_fitness_evolution(axes[1][2], log)\n",
    "axes[1][2].set_title('Vladislasleva-4')\n",
    "\n",
    "\n",
    "plt.tight_layout()\n",
    "\n",
    "plt.savefig('fitness-evolution.pdf', format='pdf', dpi=1000)"
   ]
  }
 ],
 "metadata": {
  "kernelspec": {
   "display_name": "Python 3",
   "language": "python",
   "name": "python3"
  },
  "language_info": {
   "codemirror_mode": {
    "name": "ipython",
    "version": 3
   },
   "file_extension": ".py",
   "mimetype": "text/x-python",
   "name": "python",
   "nbconvert_exporter": "python",
   "pygments_lexer": "ipython3",
   "version": "3.6.4"
  }
 },
 "nbformat": 4,
 "nbformat_minor": 2
}
