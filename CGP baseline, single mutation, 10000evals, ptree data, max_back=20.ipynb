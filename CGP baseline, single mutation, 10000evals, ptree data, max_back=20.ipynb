{
 "cells": [
  {
   "cell_type": "code",
   "execution_count": 1,
   "metadata": {},
   "outputs": [],
   "source": [
    "import random\n",
    "\n",
    "import numpy as np\n",
    "from sklearn.metrics import mean_squared_error\n",
    "import matplotlib.pyplot as plt\n",
    "import seaborn as sns\n",
    "\n",
    "import tengp\n",
    "import symreg\n",
    "from gpbenchmarks import get_data\n",
    "\n",
    "from experiment_settings import nguyen7_funset, pagie_funset, keijzer_funset, korns12_funset, vlad_funset\n"
   ]
  },
  {
   "cell_type": "code",
   "execution_count": 2,
   "metadata": {},
   "outputs": [],
   "source": [
    "kw_params = {'real_valued': True, 'max_back': 20}\n",
    "\n",
    "params_nguyen4 = tengp.Parameters(2, 1, 1, 50, nguyen7_funset, **kw_params)\n",
    "params_nguyen7 = tengp.Parameters(2, 1, 1, 50, nguyen7_funset, **kw_params)\n",
    "params_nguyen10 = tengp.Parameters(3, 1, 1, 50, nguyen7_funset, **kw_params)\n",
    "params_pagie1  = tengp.Parameters(2, 1, 1, 50, pagie_funset, **kw_params)\n",
    "params_keijzer6 = tengp.Parameters(2, 1, 1, 50, keijzer_funset, **kw_params)\n",
    "params_korns = tengp.Parameters(6, 1, 1, 50, korns12_funset, **kw_params)\n",
    "params_vlad = tengp.Parameters(6, 1, 1, 50, vlad_funset, **kw_params)"
   ]
  },
  {
   "cell_type": "code",
   "execution_count": 3,
   "metadata": {},
   "outputs": [],
   "source": [
    "import random \n",
    "\n",
    "data = [\n",
    "    ('nguyen4', symreg.get_benchmark_poly(random, 6), params_nguyen4),\n",
    "    ('nguyen7', symreg.get_benchmark_nguyen7(random, None), params_nguyen7),\n",
    "    ('nguyen10', symreg.get_benchmark_nguyen10(random, None), params_nguyen10),\n",
    "    ('pagie1', symreg.get_benchmark_pagie1(random, None), params_pagie1),\n",
    "    ('keijzer6', symreg.get_benchmark_keijzer(random, 6), params_keijzer6),\n",
    "    ('korns12', symreg.get_benchmark_korns(random, 12), params_korns),\n",
    "    ('vladislasleva4', symreg.get_benchmark_vladislasleva4(random, None), params_vlad)\n",
    "]"
   ]
  },
  {
   "cell_type": "code",
   "execution_count": 4,
   "metadata": {
    "scrolled": false
   },
   "outputs": [
    {
     "name": "stdout",
     "output_type": "stream",
     "text": [
      "korns12\n",
      "0,"
     ]
    },
    {
     "name": "stderr",
     "output_type": "stream",
     "text": [
      "/mnt/c/Users/jarinov-notas/dev/cgp-optimization-experiment/experiment_settings.py:35: RuntimeWarning: invalid value encountered in sqrt\n",
      "  return  np.sqrt(x)\n",
      "/mnt/c/Users/jarinov-notas/dev/cgp-optimization-experiment/experiment_settings.py:11: RuntimeWarning: invalid value encountered in greater\n",
      "  return np.log(x, out=np.copy(x), where=x>0)\n",
      "/mnt/c/Users/jarinov-notas/dev/cgp-optimization-experiment/experiment_settings.py:8: RuntimeWarning: divide by zero encountered in true_divide\n",
      "  return np.divide(x, y, out=np.copy(x), where=x!=0)\n",
      "/mnt/c/Users/jarinov-notas/dev/tengp/tengp/individual.py:110: RuntimeWarning: invalid value encountered in multiply\n",
      "  u = a*f_u(L, U)\n",
      "/mnt/c/Users/jarinov-notas/dev/cgp-optimization-experiment/experiment_settings.py:38: RuntimeWarning: overflow encountered in exp\n",
      "  return np.exp(x)\n",
      "/mnt/c/Users/jarinov-notas/dev/tengp/tengp/individual.py:132: RuntimeWarning: overflow encountered in multiply\n",
      "  value = (1-coeff)*self.nodes[lower].value + coeff*self.nodes[upper].value\n",
      "/mnt/c/Users/jarinov-notas/dev/tengp/tengp/individual.py:132: RuntimeWarning: invalid value encountered in add\n",
      "  value = (1-coeff)*self.nodes[lower].value + coeff*self.nodes[upper].value\n",
      "/mnt/c/Users/jarinov-notas/dev/cgp-optimization-experiment/experiment_settings.py:8: RuntimeWarning: overflow encountered in true_divide\n",
      "  return np.divide(x, y, out=np.copy(x), where=x!=0)\n",
      "/mnt/c/Users/jarinov-notas/dev/tengp/tengp/individual.py:109: RuntimeWarning: overflow encountered in multiply\n",
      "  l = (1-a)*f_l(L, U)\n",
      "/mnt/c/Users/jarinov-notas/dev/tengp/tengp/individual.py:110: RuntimeWarning: overflow encountered in multiply\n",
      "  u = a*f_u(L, U)\n",
      "/mnt/c/Users/jarinov-notas/dev/cgp-optimization-experiment/experiment_settings.py:23: RuntimeWarning: overflow encountered in square\n",
      "  return x**2\n",
      "/mnt/c/Users/jarinov-notas/dev/cgp-optimization-experiment/experiment_settings.py:26: RuntimeWarning: overflow encountered in power\n",
      "  return x**3\n",
      "/home/jarino/anaconda3/lib/python3.6/site-packages/sklearn/metrics/regression.py:239: RuntimeWarning: overflow encountered in square\n",
      "  output_errors = np.average((y_true - y_pred) ** 2, axis=0,\n"
     ]
    },
    {
     "name": "stdout",
     "output_type": "stream",
     "text": [
      "1,"
     ]
    },
    {
     "name": "stderr",
     "output_type": "stream",
     "text": [
      "/mnt/c/Users/jarinov-notas/dev/tengp/tengp/individual.py:109: RuntimeWarning: overflow encountered in add\n",
      "  l = (1-a)*f_l(L, U)\n",
      "/mnt/c/Users/jarinov-notas/dev/tengp/tengp/individual.py:110: RuntimeWarning: overflow encountered in add\n",
      "  u = a*f_u(L, U)\n"
     ]
    },
    {
     "name": "stdout",
     "output_type": "stream",
     "text": [
      "2,3,4,5,6,"
     ]
    },
    {
     "ename": "KeyboardInterrupt",
     "evalue": "",
     "output_type": "error",
     "traceback": [
      "\u001b[0;31m---------------------------------------------------------------------------\u001b[0m",
      "\u001b[0;31mKeyboardInterrupt\u001b[0m                         Traceback (most recent call last)",
      "\u001b[0;32m<timed exec>\u001b[0m in \u001b[0;36m<module>\u001b[0;34m()\u001b[0m\n",
      "\u001b[0;32m/mnt/c/Users/jarinov-notas/dev/tengp/tengp/utils.py\u001b[0m in \u001b[0;36mwrapper\u001b[0;34m(*args, **kwargs)\u001b[0m\n\u001b[1;32m    147\u001b[0m                 \u001b[0;32mreturn\u001b[0m \u001b[0mparams\u001b[0m\u001b[0;34m.\u001b[0m\u001b[0mfitness_of_invalid\u001b[0m\u001b[0;34m\u001b[0m\u001b[0m\n\u001b[1;32m    148\u001b[0m         \u001b[0mnew_args\u001b[0m\u001b[0;34m[\u001b[0m\u001b[0;36m2\u001b[0m\u001b[0;34m]\u001b[0m \u001b[0;34m=\u001b[0m \u001b[0mwrapped_cost_function\u001b[0m\u001b[0;34m\u001b[0m\u001b[0m\n\u001b[0;32m--> 149\u001b[0;31m         \u001b[0;32mreturn\u001b[0m \u001b[0mfun\u001b[0m\u001b[0;34m(\u001b[0m\u001b[0;34m*\u001b[0m\u001b[0mnew_args\u001b[0m\u001b[0;34m,\u001b[0m \u001b[0;34m**\u001b[0m\u001b[0mkwargs\u001b[0m\u001b[0;34m)\u001b[0m\u001b[0;34m\u001b[0m\u001b[0m\n\u001b[0m\u001b[1;32m    150\u001b[0m     \u001b[0;32mreturn\u001b[0m \u001b[0mwrapper\u001b[0m\u001b[0;34m\u001b[0m\u001b[0m\n\u001b[1;32m    151\u001b[0m \u001b[0;34m\u001b[0m\u001b[0m\n",
      "\u001b[0;32m/mnt/c/Users/jarinov-notas/dev/tengp/tengp/search.py\u001b[0m in \u001b[0;36msimple_es\u001b[0;34m(X, y, cost_function, params, target_fitness, population_size, evaluations, random_state, mutation, mutation_probability, verbose)\u001b[0m\n\u001b[1;32m     60\u001b[0m \u001b[0;34m\u001b[0m\u001b[0m\n\u001b[1;32m     61\u001b[0m         \u001b[0;32mfor\u001b[0m \u001b[0mindividual\u001b[0m \u001b[0;32min\u001b[0m \u001b[0mpopulation\u001b[0m\u001b[0;34m:\u001b[0m\u001b[0;34m\u001b[0m\u001b[0m\n\u001b[0;32m---> 62\u001b[0;31m             \u001b[0moutput\u001b[0m \u001b[0;34m=\u001b[0m \u001b[0mindividual\u001b[0m\u001b[0;34m.\u001b[0m\u001b[0mtransform\u001b[0m\u001b[0;34m(\u001b[0m\u001b[0mX\u001b[0m\u001b[0;34m)\u001b[0m\u001b[0;34m\u001b[0m\u001b[0m\n\u001b[0m\u001b[1;32m     63\u001b[0m             \u001b[0mindividual\u001b[0m\u001b[0;34m.\u001b[0m\u001b[0mfitness\u001b[0m \u001b[0;34m=\u001b[0m \u001b[0mcost_function\u001b[0m\u001b[0;34m(\u001b[0m\u001b[0my\u001b[0m\u001b[0;34m,\u001b[0m \u001b[0moutput\u001b[0m\u001b[0;34m)\u001b[0m\u001b[0;34m\u001b[0m\u001b[0m\n\u001b[1;32m     64\u001b[0m             \u001b[0mn_evals\u001b[0m \u001b[0;34m+=\u001b[0m \u001b[0;36m1\u001b[0m\u001b[0;34m\u001b[0m\u001b[0m\n",
      "\u001b[0;32m/mnt/c/Users/jarinov-notas/dev/tengp/tengp/individual.py\u001b[0m in \u001b[0;36mtransform\u001b[0;34m(self, X)\u001b[0m\n\u001b[1;32m    161\u001b[0m                                 \u001b[0mself\u001b[0m\u001b[0;34m.\u001b[0m\u001b[0mnodes\u001b[0m\u001b[0;34m[\u001b[0m\u001b[0mb_lower\u001b[0m\u001b[0;34m]\u001b[0m\u001b[0;34m.\u001b[0m\u001b[0mvalue\u001b[0m\u001b[0;34m,\u001b[0m\u001b[0mself\u001b[0m\u001b[0;34m.\u001b[0m\u001b[0mnodes\u001b[0m\u001b[0;34m[\u001b[0m\u001b[0mc_lower\u001b[0m\u001b[0;34m]\u001b[0m\u001b[0;34m.\u001b[0m\u001b[0mvalue\u001b[0m\u001b[0;34m,\u001b[0m\u001b[0;34m\u001b[0m\u001b[0m\n\u001b[1;32m    162\u001b[0m                                 \u001b[0mself\u001b[0m\u001b[0;34m.\u001b[0m\u001b[0mnodes\u001b[0m\u001b[0;34m[\u001b[0m\u001b[0mb_upper\u001b[0m\u001b[0;34m]\u001b[0m\u001b[0;34m.\u001b[0m\u001b[0mvalue\u001b[0m\u001b[0;34m,\u001b[0m\u001b[0mself\u001b[0m\u001b[0;34m.\u001b[0m\u001b[0mnodes\u001b[0m\u001b[0;34m[\u001b[0m\u001b[0mc_upper\u001b[0m\u001b[0;34m]\u001b[0m\u001b[0;34m.\u001b[0m\u001b[0mvalue\u001b[0m\u001b[0;34m,\u001b[0m\u001b[0;34m\u001b[0m\u001b[0m\n\u001b[0;32m--> 163\u001b[0;31m                                 fun_lower, fun_upper, current_node.constant)\n\u001b[0m\u001b[1;32m    164\u001b[0m \u001b[0;34m\u001b[0m\u001b[0m\n\u001b[1;32m    165\u001b[0m                     \u001b[0;32melse\u001b[0m\u001b[0;34m:\u001b[0m\u001b[0;34m\u001b[0m\u001b[0m\n",
      "\u001b[0;32m/mnt/c/Users/jarinov-notas/dev/tengp/tengp/individual.py\u001b[0m in \u001b[0;36mcompute\u001b[0;34m(a, b, c, x_l1, x_l2, x_u1, x_u2, f_l, f_u, constant)\u001b[0m\n\u001b[1;32m    107\u001b[0m         \u001b[0mU\u001b[0m \u001b[0;34m=\u001b[0m \u001b[0;34m(\u001b[0m\u001b[0;36m1\u001b[0m\u001b[0;34m-\u001b[0m\u001b[0mc\u001b[0m\u001b[0;34m)\u001b[0m\u001b[0;34m*\u001b[0m\u001b[0mx_l2\u001b[0m \u001b[0;34m+\u001b[0m \u001b[0mc\u001b[0m\u001b[0;34m*\u001b[0m\u001b[0mx_u2\u001b[0m\u001b[0;34m\u001b[0m\u001b[0m\n\u001b[1;32m    108\u001b[0m \u001b[0;34m\u001b[0m\u001b[0m\n\u001b[0;32m--> 109\u001b[0;31m     \u001b[0ml\u001b[0m \u001b[0;34m=\u001b[0m \u001b[0;34m(\u001b[0m\u001b[0;36m1\u001b[0m\u001b[0;34m-\u001b[0m\u001b[0ma\u001b[0m\u001b[0;34m)\u001b[0m\u001b[0;34m*\u001b[0m\u001b[0mf_l\u001b[0m\u001b[0;34m(\u001b[0m\u001b[0mL\u001b[0m\u001b[0;34m,\u001b[0m \u001b[0mU\u001b[0m\u001b[0;34m)\u001b[0m\u001b[0;34m\u001b[0m\u001b[0m\n\u001b[0m\u001b[1;32m    110\u001b[0m     \u001b[0mu\u001b[0m \u001b[0;34m=\u001b[0m \u001b[0ma\u001b[0m\u001b[0;34m*\u001b[0m\u001b[0mf_u\u001b[0m\u001b[0;34m(\u001b[0m\u001b[0mL\u001b[0m\u001b[0;34m,\u001b[0m \u001b[0mU\u001b[0m\u001b[0;34m)\u001b[0m\u001b[0;34m\u001b[0m\u001b[0m\n\u001b[1;32m    111\u001b[0m     \u001b[0;32mreturn\u001b[0m \u001b[0ml\u001b[0m \u001b[0;34m+\u001b[0m \u001b[0mu\u001b[0m\u001b[0;34m\u001b[0m\u001b[0m\n",
      "\u001b[0;32m/mnt/c/Users/jarinov-notas/dev/cgp-optimization-experiment/experiment_settings.py\u001b[0m in \u001b[0;36mptan\u001b[0;34m(x, y)\u001b[0m\n\u001b[1;32m     27\u001b[0m \u001b[0;34m\u001b[0m\u001b[0m\n\u001b[1;32m     28\u001b[0m \u001b[0;32mdef\u001b[0m \u001b[0mptan\u001b[0m\u001b[0;34m(\u001b[0m\u001b[0mx\u001b[0m\u001b[0;34m,\u001b[0m \u001b[0my\u001b[0m\u001b[0;34m)\u001b[0m\u001b[0;34m:\u001b[0m\u001b[0;34m\u001b[0m\u001b[0m\n\u001b[0;32m---> 29\u001b[0;31m     \u001b[0;32mreturn\u001b[0m \u001b[0mnp\u001b[0m\u001b[0;34m.\u001b[0m\u001b[0mtan\u001b[0m\u001b[0;34m(\u001b[0m\u001b[0mx\u001b[0m\u001b[0;34m)\u001b[0m\u001b[0;34m\u001b[0m\u001b[0m\n\u001b[0m\u001b[1;32m     30\u001b[0m \u001b[0;34m\u001b[0m\u001b[0m\n\u001b[1;32m     31\u001b[0m \u001b[0;32mdef\u001b[0m \u001b[0mptanh\u001b[0m\u001b[0;34m(\u001b[0m\u001b[0mx\u001b[0m\u001b[0;34m,\u001b[0m \u001b[0my\u001b[0m\u001b[0;34m)\u001b[0m\u001b[0;34m:\u001b[0m\u001b[0;34m\u001b[0m\u001b[0m\n",
      "\u001b[0;31mKeyboardInterrupt\u001b[0m: "
     ]
    }
   ],
   "source": [
    "%%time\n",
    "results = []\n",
    "champions = []\n",
    "\n",
    "\n",
    "for name, (x_train, y_train, x_test, y_test), params in data[5:6]:\n",
    "    print(name)\n",
    "    bounds = tengp.individual.IndividualBuilder(params).create().bounds[:]\n",
    "    \n",
    "    x_train = np.c_[x_train, np.ones(len(x_train))]\n",
    "    \n",
    "    problem_results = []\n",
    "    random.seed(42)\n",
    "    for i in range(100):\n",
    "        print(i, end=',')\n",
    "        \n",
    "        res = tengp.simple_es(x_train, y_train, mean_squared_error, params, mutation='single', evaluations=10000)\n",
    "               \n",
    "        problem_results.append(res[0].fitness)\n",
    "    print(name, np.min(problem_results), np.median(problem_results))\n",
    "    results.append(problem_results)"
   ]
  },
  {
   "cell_type": "code",
   "execution_count": 8,
   "metadata": {},
   "outputs": [],
   "source": [
    "def plot_results(name, outs):\n",
    "    print(name)\n",
    "    costs = np.array(outs)\n",
    "    print('min:', np.min(costs))\n",
    "    print('mean:', np.mean(costs))\n",
    "    print('median:', np.median(costs))\n",
    "    print('variance:',np.var(costs))\n",
    "    plt.figure()\n",
    "    plt.title(name)\n",
    "    sns.distplot(costs, kde=False);\n",
    "    "
   ]
  },
  {
   "cell_type": "code",
   "execution_count": 16,
   "metadata": {
    "scrolled": false
   },
   "outputs": [
    {
     "name": "stdout",
     "output_type": "stream",
     "text": [
      "korns12\n",
      "min: 1.1269675387199125\n",
      "mean: 1.1386075403113827\n",
      "median: 1.1283975121160827\n",
      "variance: 0.009446258572244763\n",
      "vladislasleva4\n",
      "min: 0.022676527566055045\n",
      "mean: 0.03763445802119918\n",
      "median: 0.03788576900681401\n",
      "variance: 1.8416448736671896e-05\n"
     ]
    },
    {
     "name": "stderr",
     "output_type": "stream",
     "text": [
      "/home/jarino/anaconda3/lib/python3.6/site-packages/scipy/stats/stats.py:1633: FutureWarning: Using a non-tuple sequence for multidimensional indexing is deprecated; use `arr[tuple(seq)]` instead of `arr[seq]`. In the future this will be interpreted as an array index, `arr[np.array(seq)]`, which will result either in an error or a different result.\n",
      "  return np.add.reduce(sorted[indexer] * weights, axis=axis) / sumval\n"
     ]
    },
    {
     "data": {
      "image/png": "[encoded data removed]",
      "text/plain": [
       "<matplotlib.figure.Figure at 0x7f7c8ba9abe0>"
      ]
     },
     "metadata": {},
     "output_type": "display_data"
    },
    {
     "data": {
      "image/png": "[encoded data removed]",
      "text/plain": [
       "<matplotlib.figure.Figure at 0x7f7c87bb8d30>"
      ]
     },
     "metadata": {},
     "output_type": "display_data"
    }
   ],
   "source": [
    "%matplotlib inline\n",
    "\n",
    "for d, result in zip(data[5:], results):\n",
    "    plot_results(d[0], result)"
   ]
  },
  {
   "cell_type": "code",
   "execution_count": 14,
   "metadata": {},
   "outputs": [
    {
     "data": {
      "text/plain": [
       "array([[ 0,  7, 12],\n",
       "       [ 0,  3,  5],\n",
       "       [ 0,  5,  5],\n",
       "       [ 0,  1, 12],\n",
       "       [ 0,  4,  6],\n",
       "       [ 0,  2,  6],\n",
       "       [ 0,  5, 12],\n",
       "       [ 0,  6,  7],\n",
       "       [ 0,  1,  7],\n",
       "       [ 0,  4, 12],\n",
       "       [ 0,  2,  8],\n",
       "       [ 0,  5,  8],\n",
       "       [ 0,  1, 12],\n",
       "       [ 0,  0,  9],\n",
       "       [ 0,  9,  9],\n",
       "       [ 0,  1, 12],\n",
       "       [ 0,  6, 10],\n",
       "       [ 0,  0, 10],\n",
       "       [ 0,  2, 12],\n",
       "       [ 0,  7, 11],\n",
       "       [ 0,  2, 11],\n",
       "       [ 0, 12, 12],\n",
       "       [ 0, 12, 12],\n",
       "       [ 0,  6, 12],\n",
       "       [ 0,  6, 12],\n",
       "       [ 0,  0, 13],\n",
       "       [ 0, 13, 13],\n",
       "       [ 0,  5, 12],\n",
       "       [ 0,  3, 14],\n",
       "       [ 0,  2, 14],\n",
       "       [ 0,  0, 12],\n",
       "       [ 0, 14, 15],\n",
       "       [ 0, 11, 15],\n",
       "       [ 0,  8, 12],\n",
       "       [ 0,  7, 16],\n",
       "       [ 0,  2, 16],\n",
       "       [ 0,  3, 12],\n",
       "       [ 0, 12, 17],\n",
       "       [ 0,  9, 17],\n",
       "       [ 0,  8, 12],\n",
       "       [ 0,  8, 18],\n",
       "       [ 0,  2, 18],\n",
       "       [ 0,  6, 12],\n",
       "       [ 0,  5, 19],\n",
       "       [ 0,  1, 19],\n",
       "       [ 0,  4, 12],\n",
       "       [ 1, 20, 20],\n",
       "       [ 1, 19, 20],\n",
       "       [ 0,  4, 12],\n",
       "       [ 2,  7, 21],\n",
       "       [ 2,  2, 21],\n",
       "       [ 0,  2, 12],\n",
       "       [ 3,  7, 22],\n",
       "       [ 3,  6, 22],\n",
       "       [ 0, 10, 12],\n",
       "       [ 4,  5, 23],\n",
       "       [ 4, 13, 23],\n",
       "       [ 0, 10, 12],\n",
       "       [ 5, 10, 24],\n",
       "       [ 5, 21, 24],\n",
       "       [ 0,  2, 12],\n",
       "       [ 6, 21, 25],\n",
       "       [ 6, 12, 25],\n",
       "       [ 0, 12, 12],\n",
       "       [ 7, 20, 26],\n",
       "       [ 7, 24, 26],\n",
       "       [ 0,  4, 12],\n",
       "       [ 8, 21, 27],\n",
       "       [ 8, 25, 27],\n",
       "       [ 0,  6, 12],\n",
       "       [ 9, 20, 28],\n",
       "       [ 9, 17, 28],\n",
       "       [ 0,  9, 12],\n",
       "       [10, 21, 29],\n",
       "       [10, 17, 29],\n",
       "       [ 0,  2, 12],\n",
       "       [11, 24, 30],\n",
       "       [11, 21, 30],\n",
       "       [ 0,  8, 12],\n",
       "       [12, 14, 31],\n",
       "       [12, 24, 31],\n",
       "       [ 0, 11, 12],\n",
       "       [13, 27, 32],\n",
       "       [13, 24, 32],\n",
       "       [ 0,  8, 12],\n",
       "       [14, 29, 33],\n",
       "       [14, 30, 33],\n",
       "       [ 0,  3, 12],\n",
       "       [15, 30, 34],\n",
       "       [15, 24, 34],\n",
       "       [ 0,  9, 12],\n",
       "       [16, 34, 35],\n",
       "       [16, 29, 35],\n",
       "       [ 0,  8, 12],\n",
       "       [17, 27, 36],\n",
       "       [17, 22, 36],\n",
       "       [ 0,  2, 12],\n",
       "       [18, 36, 37],\n",
       "       [18, 35, 37],\n",
       "       [ 0,  5, 12],\n",
       "       [19, 22, 38],\n",
       "       [19, 33, 38],\n",
       "       [ 0,  0, 12],\n",
       "       [20, 39, 39],\n",
       "       [20, 31, 39],\n",
       "       [ 0,  8, 12],\n",
       "       [21, 22, 40],\n",
       "       [21, 40, 40],\n",
       "       [ 0, 12, 12],\n",
       "       [22, 35, 41],\n",
       "       [22, 31, 41],\n",
       "       [ 0,  5, 12],\n",
       "       [23, 41, 42],\n",
       "       [23, 38, 42],\n",
       "       [ 0,  1, 12],\n",
       "       [24, 35, 43],\n",
       "       [24, 35, 43],\n",
       "       [ 0,  0, 12],\n",
       "       [25, 44, 44],\n",
       "       [25, 29, 44],\n",
       "       [ 0, 10, 12],\n",
       "       [26, 35, 45],\n",
       "       [26, 27, 45],\n",
       "       [ 0,  3, 12],\n",
       "       [27, 39, 46],\n",
       "       [27, 31, 46],\n",
       "       [ 0, 12, 12],\n",
       "       [28, 30, 47],\n",
       "       [28, 40, 47],\n",
       "       [ 0,  2, 12],\n",
       "       [29, 30, 48],\n",
       "       [29, 34, 48],\n",
       "       [ 0,  7, 12],\n",
       "       [30, 46, 49],\n",
       "       [30, 30, 49],\n",
       "       [ 0, 12, 12],\n",
       "       [31, 38, 50],\n",
       "       [31, 42, 50],\n",
       "       [ 0,  7, 12],\n",
       "       [32, 51, 51],\n",
       "       [32, 51, 51],\n",
       "       [ 0,  1, 12],\n",
       "       [33, 51, 52],\n",
       "       [33, 44, 52],\n",
       "       [ 0,  1, 12],\n",
       "       [34, 47, 53],\n",
       "       [34, 51, 53],\n",
       "       [ 0,  2, 12],\n",
       "       [35, 49, 54],\n",
       "       [35, 52, 54],\n",
       "       [36, 37, 55]])"
      ]
     },
     "execution_count": 14,
     "metadata": {},
     "output_type": "execute_result"
    }
   ],
   "source": [
    "np.array(list(zip(res[0].bounds[0], res[0].genes, res[0].bounds[1])))"
   ]
  },
  {
   "cell_type": "code",
   "execution_count": null,
   "metadata": {
    "collapsed": true
   },
   "outputs": [],
   "source": []
  }
 ],
 "metadata": {
  "kernelspec": {
   "display_name": "Python 3",
   "language": "python",
   "name": "python3"
  },
  "language_info": {
   "codemirror_mode": {
    "name": "ipython",
    "version": 3
   },
   "file_extension": ".py",
   "mimetype": "text/x-python",
   "name": "python",
   "nbconvert_exporter": "python",
   "pygments_lexer": "ipython3",
   "version": "3.6.4"
  }
 },
 "nbformat": 4,
 "nbformat_minor": 2
}
